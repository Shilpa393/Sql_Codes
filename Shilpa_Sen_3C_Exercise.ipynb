{
  "nbformat": 4,
  "nbformat_minor": 0,
  "metadata": {
    "colab": {
      "provenance": [],
      "toc_visible": true,
      "include_colab_link": true
    },
    "kernelspec": {
      "name": "python3",
      "display_name": "Python 3"
    },
    "language_info": {
      "name": "python"
    }
  },
  "cells": [
    {
      "cell_type": "markdown",
      "metadata": {
        "id": "view-in-github",
        "colab_type": "text"
      },
      "source": [
        "<a href=\"https://colab.research.google.com/github/Shilpa393/Sql_Codes/blob/main/Shilpa_Sen_3C_Exercise.ipynb\" target=\"_parent\"><img src=\"https://colab.research.google.com/assets/colab-badge.svg\" alt=\"Open In Colab\"/></a>"
      ]
    },
    {
      "cell_type": "markdown",
      "source": [
        "![Yantrajaal Banner](https://github.com/Praxis-QR/RDWH/raw/main/images/YantraJaalBanner.png)<br>\n",
        "\n",
        "\n",
        "<hr>\n",
        "\n",
        "[Prithwis Mukerjee](http://www.linkedin.com/in/prithwis)<br>"
      ],
      "metadata": {
        "id": "DBzz-qaN2tKu"
      }
    },
    {
      "cell_type": "markdown",
      "source": [
        "#Postgres Exercises\n",
        "https://pgexercises.com/ <br>\n",
        "https://pgexercises.com/gettingstarted.html"
      ],
      "metadata": {
        "id": "QIfgaOrxZ39z"
      }
    },
    {
      "cell_type": "code",
      "source": [
        "from datetime import datetime\n",
        "import pytz\n",
        "print('ॐ श्री सरस्वत्यै नमः',datetime.now(pytz.timezone('Asia/Calcutta')))\n",
        "!python --version\n",
        "!lsb_release -a"
      ],
      "metadata": {
        "id": "txwvst5Hs5mI",
        "outputId": "51f53a15-b43f-415b-d2ce-812694dfb383",
        "colab": {
          "base_uri": "https://localhost:8080/"
        }
      },
      "execution_count": null,
      "outputs": [
        {
          "output_type": "stream",
          "name": "stdout",
          "text": [
            "ॐ श्री सरस्वत्यै नमः 2024-02-29 12:57:33.389304+05:30\n",
            "Python 3.10.12\n",
            "No LSB modules are available.\n",
            "Distributor ID:\tUbuntu\n",
            "Description:\tUbuntu 22.04.3 LTS\n",
            "Release:\t22.04\n",
            "Codename:\tjammy\n"
          ]
        }
      ]
    },
    {
      "cell_type": "markdown",
      "source": [
        "#Install & Configure Postgres"
      ],
      "metadata": {
        "id": "nD-QawLT6kDr"
      }
    },
    {
      "cell_type": "code",
      "source": [
        "# Install postgresql server\n",
        "\n",
        "!apt update > /dev/null\n",
        "!apt install postgresql > /dev/null\n",
        "#!sudo -u postgres psql -V\n",
        "!psql -V\n",
        "!service postgresql start"
      ],
      "metadata": {
        "colab": {
          "base_uri": "https://localhost:8080/"
        },
        "id": "o_RaqE0OOHP3",
        "outputId": "250c4482-f1c0-4d1b-d8f5-66a2af017ce0"
      },
      "execution_count": null,
      "outputs": [
        {
          "output_type": "stream",
          "name": "stdout",
          "text": [
            "\n",
            "WARNING: apt does not have a stable CLI interface. Use with caution in scripts.\n",
            "\n",
            "\n",
            "WARNING: apt does not have a stable CLI interface. Use with caution in scripts.\n",
            "\n",
            "psql (PostgreSQL) 14.11 (Ubuntu 14.11-0ubuntu0.22.04.1)\n",
            " * Starting PostgreSQL 14 database server\n",
            "   ...done.\n"
          ]
        }
      ]
    },
    {
      "cell_type": "code",
      "source": [
        "#!pip install psycopg2\n",
        "import psycopg2\n",
        "import pandas as pd"
      ],
      "metadata": {
        "id": "Ol-251fprgOZ"
      },
      "execution_count": null,
      "outputs": []
    },
    {
      "cell_type": "markdown",
      "source": [
        "#Create Schema, Tables and Insert Data"
      ],
      "metadata": {
        "id": "JP7hBhEaYzW8"
      }
    },
    {
      "cell_type": "code",
      "source": [
        "# Change the database superuser 'postgres' to a non-default value 'pass'\n",
        "!sudo -u postgres psql -U postgres -c \"ALTER USER postgres PASSWORD 'pass';\""
      ],
      "metadata": {
        "colab": {
          "base_uri": "https://localhost:8080/"
        },
        "id": "NWkT4jeeQXw2",
        "outputId": "57566edc-d3f2-4337-9c89-0fbeb37017de"
      },
      "execution_count": null,
      "outputs": [
        {
          "output_type": "stream",
          "name": "stdout",
          "text": [
            "ALTER ROLE\n"
          ]
        }
      ]
    },
    {
      "cell_type": "code",
      "source": [
        "# Download and execute SQL file to create tables, load data\n",
        "#\n",
        "#!wget https://pgexercises.com/dbfiles/clubdata.sql\n",
        "!wget -q https://raw.githubusercontent.com/Praxis-QR/RDWH/main/data/clubdata.sql\n",
        "#Run the batch file to create tables, load data\n",
        "!psql -h localhost -U postgres -f clubdata.sql -d postgres -x -q\n"
      ],
      "metadata": {
        "id": "01kFB_EbXzKg",
        "colab": {
          "base_uri": "https://localhost:8080/"
        },
        "outputId": "edb4f6ce-cf08-4982-ed80-64ea57fe8104"
      },
      "execution_count": null,
      "outputs": [
        {
          "output_type": "stream",
          "name": "stdout",
          "text": [
            "Password for user postgres: \n",
            "psql:clubdata.sql:4: ERROR:  database \"exercises\" already exists\n",
            "psql:clubdata.sql:6: ERROR:  schema \"cd\" already exists\n",
            "psql:clubdata.sql:41: ERROR:  relation \"bookings\" already exists\n",
            "psql:clubdata.sql:56: ERROR:  relation \"facilities\" already exists\n",
            "psql:clubdata.sql:73: ERROR:  relation \"members\" already exists\n",
            "psql:clubdata.sql:4126: ERROR:  insert or update on table \"bookings\" violates foreign key constraint \"fk_bookings_memid\"\n",
            "DETAIL:  Key (memid)=(1) is not present in table \"members\".\n",
            "psql:clubdata.sql:4144: ERROR:  duplicate key value violates unique constraint \"facilities_pk\"\n",
            "DETAIL:  Key (facid)=(0) already exists.\n",
            "psql:clubdata.sql:4193: ERROR:  multiple primary keys for table \"bookings\" are not allowed\n",
            "psql:clubdata.sql:4202: ERROR:  multiple primary keys for table \"facilities\" are not allowed\n",
            "psql:clubdata.sql:4211: ERROR:  multiple primary keys for table \"members\" are not allowed\n",
            "psql:clubdata.sql:4220: ERROR:  constraint \"fk_bookings_facid\" for relation \"bookings\" already exists\n",
            "psql:clubdata.sql:4229: ERROR:  constraint \"fk_bookings_memid\" for relation \"bookings\" already exists\n",
            "psql:clubdata.sql:4238: ERROR:  constraint \"fk_members_recommendedby\" for relation \"members\" already exists\n",
            "psql:clubdata.sql:4250: ERROR:  relation \"bookings.memid_facid\" already exists\n",
            "psql:clubdata.sql:4255: ERROR:  relation \"bookings.facid_memid\" already exists\n",
            "psql:clubdata.sql:4260: ERROR:  relation \"bookings.facid_starttime\" already exists\n",
            "psql:clubdata.sql:4265: ERROR:  relation \"bookings.memid_starttime\" already exists\n",
            "psql:clubdata.sql:4270: ERROR:  relation \"bookings.starttime\" already exists\n",
            "psql:clubdata.sql:4275: ERROR:  relation \"members.joindate\" already exists\n",
            "psql:clubdata.sql:4280: ERROR:  relation \"members.recommendedby\" already exists\n"
          ]
        }
      ]
    },
    {
      "cell_type": "code",
      "source": [
        "# Create file to store the password. Else will be prompted each time\n",
        "#!echo \"localhost:5432:praxisdb:postgres:pass\" > ~/.pgpass\n",
        "!echo \"localhost:5432:exercises:postgres:pass\" > ~/.pgpass\n",
        "!chmod 0600 ~/.pgpass\n",
        "!cat ~/.pgpass"
      ],
      "metadata": {
        "colab": {
          "base_uri": "https://localhost:8080/"
        },
        "id": "jTtfpsn7P4ak",
        "outputId": "e05616f1-9d25-4df4-cd60-ac3a3b9427ab"
      },
      "execution_count": null,
      "outputs": [
        {
          "output_type": "stream",
          "name": "stdout",
          "text": [
            "localhost:5432:exercises:postgres:pass\n"
          ]
        }
      ]
    },
    {
      "cell_type": "code",
      "source": [
        "#Note new database called exercises\n",
        "!psql -h localhost -p 5432 -Upostgres -c \"\\l\""
      ],
      "metadata": {
        "colab": {
          "base_uri": "https://localhost:8080/"
        },
        "id": "bjHFMAF_QhCD",
        "outputId": "b76f5bf9-3c00-4845-aab8-7df34249ecd5"
      },
      "execution_count": null,
      "outputs": [
        {
          "output_type": "stream",
          "name": "stdout",
          "text": [
            "Password for user postgres: \n",
            "                                  List of databases\n",
            "   Name    |  Owner   | Encoding |   Collate   |    Ctype    |   Access privileges   \n",
            "-----------+----------+----------+-------------+-------------+-----------------------\n",
            " exercises | postgres | UTF8     | en_US.UTF-8 | en_US.UTF-8 | \n",
            " postgres  | postgres | UTF8     | en_US.UTF-8 | en_US.UTF-8 | \n",
            " template0 | postgres | UTF8     | en_US.UTF-8 | en_US.UTF-8 | =c/postgres          +\n",
            "           |          |          |             |             | postgres=CTc/postgres\n",
            " template1 | postgres | UTF8     | en_US.UTF-8 | en_US.UTF-8 | =c/postgres          +\n",
            "           |          |          |             |             | postgres=CTc/postgres\n",
            "(4 rows)\n",
            "\n"
          ]
        }
      ]
    },
    {
      "cell_type": "code",
      "source": [
        "#Note three tables under schema cd\n",
        "!psql -h localhost -p 5432 -Upostgres -d exercises -c \"\\dt+ cd.*\""
      ],
      "metadata": {
        "colab": {
          "base_uri": "https://localhost:8080/"
        },
        "id": "AieaKdT9Qr7Z",
        "outputId": "9ad3e658-6071-4f4d-97eb-445a4368d3cb"
      },
      "execution_count": null,
      "outputs": [
        {
          "output_type": "stream",
          "name": "stdout",
          "text": [
            "                                      List of relations\n",
            " Schema |    Name    | Type  |  Owner   | Persistence | Access method |  Size  | Description \n",
            "--------+------------+-------+----------+-------------+---------------+--------+-------------\n",
            " cd     | bookings   | table | postgres | permanent   | heap          | 264 kB | \n",
            " cd     | facilities | table | postgres | permanent   | heap          | 16 kB  | \n",
            " cd     | members    | table | postgres | permanent   | heap          | 16 kB  | \n",
            "(3 rows)\n",
            "\n"
          ]
        }
      ]
    },
    {
      "cell_type": "markdown",
      "source": [
        "## Python Access\n",
        "https://www.tutorialspoint.com/python_data_access/python_postgresql_database_connection.htm"
      ],
      "metadata": {
        "id": "faZEj8_7CeZ8"
      }
    },
    {
      "cell_type": "code",
      "source": [
        "# Local Colab server\n",
        "\n",
        "conn = psycopg2.connect(database=\"exercises\", user='postgres', password='pass', host='127.0.0.1', port= '5432')\n",
        "#Creating a cursor object using the cursor() method\n",
        "cursor = conn.cursor()\n",
        "#Executing an MYSQL function using the execute() method\n",
        "cursor.execute(\"select version()\")\n",
        "# Fetch a single row using fetchone() method.\n",
        "data = cursor.fetchone()\n",
        "print(\"Connection established to: \",data)\n",
        "#Closing the connection\n",
        "conn.close()"
      ],
      "metadata": {
        "id": "wcE-8UBnC4zV",
        "outputId": "e231f7d2-334e-4800-9f61-a3dc2930f491",
        "colab": {
          "base_uri": "https://localhost:8080/"
        }
      },
      "execution_count": null,
      "outputs": [
        {
          "output_type": "stream",
          "name": "stdout",
          "text": [
            "Connection established to:  ('PostgreSQL 14.11 (Ubuntu 14.11-0ubuntu0.22.04.1) on x86_64-pc-linux-gnu, compiled by gcc (Ubuntu 11.4.0-1ubuntu1~22.04) 11.4.0, 64-bit',)\n"
          ]
        }
      ]
    },
    {
      "cell_type": "code",
      "source": [
        "# function to execute SQL select statements with Postgres\n",
        "#\n",
        "def runSelect(s):\n",
        "    #Set up connection\n",
        "\n",
        "    conn = psycopg2.connect(database=\"exercises\", user='postgres', password='pass', host='127.0.0.1', port= '5432')\n",
        "    #Setting auto commit true\n",
        "    conn.autocommit = True\n",
        "    #Creating a cursor object using the cursor() method\n",
        "    cursor = conn.cursor()\n",
        "    #Retrieving data\n",
        "    cursor.execute(s)\n",
        "    #Fetching all rows from the table\n",
        "    result = cursor.fetchall();\n",
        "    #print(len(result))\n",
        "    if (len(result)) > 0:                                       # result contains at least one row\n",
        "        colnames = [desc[0] for desc in cursor.description]     # get column names\n",
        "        #print(colnames)\n",
        "        resultdf = pd.DataFrame(result)                         # convert list to dataframe\n",
        "        resultdf.columns = colnames                             # add column names\n",
        "        #return resultdf\n",
        "        return resultdf.style.hide()                            # hide the index\n",
        "    else:\n",
        "        print('no records found')\n",
        "        return\n",
        "# function to execute SQL non-select statements with Postgres\n",
        "#\n",
        "def runCmd(s):\n",
        "    #Create Connection\n",
        "    conn = psycopg2.connect(database=\"exercises\", user='postgres', password='pass', host='127.0.0.1', port= '5432')\n",
        "    #Creating a cursor object using the cursor() method\n",
        "    cursor = conn.cursor()\n",
        "    try:\n",
        "        cursor.execute(s)\n",
        "        print('Command executed')\n",
        "        conn.commit()\n",
        "    except:\n",
        "        print('Command failed')\n",
        "    #Closing the connection\n",
        "    conn.close()"
      ],
      "metadata": {
        "id": "ht2k7-3iggNd"
      },
      "execution_count": null,
      "outputs": []
    },
    {
      "cell_type": "markdown",
      "source": [
        "##Check Data"
      ],
      "metadata": {
        "id": "RvTKboYtbSjZ"
      }
    },
    {
      "cell_type": "code",
      "source": [
        "runSelect(\"select * from cd.members limit 3\")"
      ],
      "metadata": {
        "colab": {
          "base_uri": "https://localhost:8080/",
          "height": 143
        },
        "id": "ctq0ULCvVTsO",
        "outputId": "0dda4109-4a54-4085-a04e-66745b833f78"
      },
      "execution_count": null,
      "outputs": [
        {
          "output_type": "execute_result",
          "data": {
            "text/plain": [
              "<pandas.io.formats.style.Styler at 0x7b2bef43fac0>"
            ],
            "text/html": [
              "<style type=\"text/css\">\n",
              "</style>\n",
              "<table id=\"T_5e6e7\" class=\"dataframe\">\n",
              "  <thead>\n",
              "    <tr>\n",
              "      <th id=\"T_5e6e7_level0_col0\" class=\"col_heading level0 col0\" >memid</th>\n",
              "      <th id=\"T_5e6e7_level0_col1\" class=\"col_heading level0 col1\" >surname</th>\n",
              "      <th id=\"T_5e6e7_level0_col2\" class=\"col_heading level0 col2\" >firstname</th>\n",
              "      <th id=\"T_5e6e7_level0_col3\" class=\"col_heading level0 col3\" >address</th>\n",
              "      <th id=\"T_5e6e7_level0_col4\" class=\"col_heading level0 col4\" >zipcode</th>\n",
              "      <th id=\"T_5e6e7_level0_col5\" class=\"col_heading level0 col5\" >telephone</th>\n",
              "      <th id=\"T_5e6e7_level0_col6\" class=\"col_heading level0 col6\" >recommendedby</th>\n",
              "      <th id=\"T_5e6e7_level0_col7\" class=\"col_heading level0 col7\" >joindate</th>\n",
              "    </tr>\n",
              "  </thead>\n",
              "  <tbody>\n",
              "    <tr>\n",
              "      <td id=\"T_5e6e7_row0_col0\" class=\"data row0 col0\" >0</td>\n",
              "      <td id=\"T_5e6e7_row0_col1\" class=\"data row0 col1\" >GUEST</td>\n",
              "      <td id=\"T_5e6e7_row0_col2\" class=\"data row0 col2\" >GUEST</td>\n",
              "      <td id=\"T_5e6e7_row0_col3\" class=\"data row0 col3\" >GUEST</td>\n",
              "      <td id=\"T_5e6e7_row0_col4\" class=\"data row0 col4\" >0</td>\n",
              "      <td id=\"T_5e6e7_row0_col5\" class=\"data row0 col5\" >(000) 000-0000</td>\n",
              "      <td id=\"T_5e6e7_row0_col6\" class=\"data row0 col6\" >None</td>\n",
              "      <td id=\"T_5e6e7_row0_col7\" class=\"data row0 col7\" >2012-07-01 00:00:00</td>\n",
              "    </tr>\n",
              "    <tr>\n",
              "      <td id=\"T_5e6e7_row1_col0\" class=\"data row1 col0\" >1</td>\n",
              "      <td id=\"T_5e6e7_row1_col1\" class=\"data row1 col1\" >Smith</td>\n",
              "      <td id=\"T_5e6e7_row1_col2\" class=\"data row1 col2\" >Darren</td>\n",
              "      <td id=\"T_5e6e7_row1_col3\" class=\"data row1 col3\" >8 Bloomsbury Close, Boston</td>\n",
              "      <td id=\"T_5e6e7_row1_col4\" class=\"data row1 col4\" >4321</td>\n",
              "      <td id=\"T_5e6e7_row1_col5\" class=\"data row1 col5\" >555-555-5555</td>\n",
              "      <td id=\"T_5e6e7_row1_col6\" class=\"data row1 col6\" >None</td>\n",
              "      <td id=\"T_5e6e7_row1_col7\" class=\"data row1 col7\" >2012-07-02 12:02:05</td>\n",
              "    </tr>\n",
              "    <tr>\n",
              "      <td id=\"T_5e6e7_row2_col0\" class=\"data row2 col0\" >2</td>\n",
              "      <td id=\"T_5e6e7_row2_col1\" class=\"data row2 col1\" >Smith</td>\n",
              "      <td id=\"T_5e6e7_row2_col2\" class=\"data row2 col2\" >Tracy</td>\n",
              "      <td id=\"T_5e6e7_row2_col3\" class=\"data row2 col3\" >8 Bloomsbury Close, New York</td>\n",
              "      <td id=\"T_5e6e7_row2_col4\" class=\"data row2 col4\" >4321</td>\n",
              "      <td id=\"T_5e6e7_row2_col5\" class=\"data row2 col5\" >555-555-5555</td>\n",
              "      <td id=\"T_5e6e7_row2_col6\" class=\"data row2 col6\" >None</td>\n",
              "      <td id=\"T_5e6e7_row2_col7\" class=\"data row2 col7\" >2012-07-02 12:08:23</td>\n",
              "    </tr>\n",
              "  </tbody>\n",
              "</table>\n"
            ]
          },
          "metadata": {},
          "execution_count": 11
        }
      ]
    },
    {
      "cell_type": "code",
      "source": [
        "runSelect(\"select * from cd.facilities limit 3\")"
      ],
      "metadata": {
        "colab": {
          "base_uri": "https://localhost:8080/",
          "height": 143
        },
        "id": "Kz0e14SYXGqy",
        "outputId": "75ebb3ca-98b2-4a0f-8d82-c5a4ff2f3085"
      },
      "execution_count": null,
      "outputs": [
        {
          "output_type": "execute_result",
          "data": {
            "text/plain": [
              "<pandas.io.formats.style.Styler at 0x7b2bef387820>"
            ],
            "text/html": [
              "<style type=\"text/css\">\n",
              "</style>\n",
              "<table id=\"T_575f0\" class=\"dataframe\">\n",
              "  <thead>\n",
              "    <tr>\n",
              "      <th id=\"T_575f0_level0_col0\" class=\"col_heading level0 col0\" >facid</th>\n",
              "      <th id=\"T_575f0_level0_col1\" class=\"col_heading level0 col1\" >name</th>\n",
              "      <th id=\"T_575f0_level0_col2\" class=\"col_heading level0 col2\" >membercost</th>\n",
              "      <th id=\"T_575f0_level0_col3\" class=\"col_heading level0 col3\" >guestcost</th>\n",
              "      <th id=\"T_575f0_level0_col4\" class=\"col_heading level0 col4\" >initialoutlay</th>\n",
              "      <th id=\"T_575f0_level0_col5\" class=\"col_heading level0 col5\" >monthlymaintenance</th>\n",
              "    </tr>\n",
              "  </thead>\n",
              "  <tbody>\n",
              "    <tr>\n",
              "      <td id=\"T_575f0_row0_col0\" class=\"data row0 col0\" >0</td>\n",
              "      <td id=\"T_575f0_row0_col1\" class=\"data row0 col1\" >Tennis Court 1</td>\n",
              "      <td id=\"T_575f0_row0_col2\" class=\"data row0 col2\" >5</td>\n",
              "      <td id=\"T_575f0_row0_col3\" class=\"data row0 col3\" >25</td>\n",
              "      <td id=\"T_575f0_row0_col4\" class=\"data row0 col4\" >10000</td>\n",
              "      <td id=\"T_575f0_row0_col5\" class=\"data row0 col5\" >200</td>\n",
              "    </tr>\n",
              "    <tr>\n",
              "      <td id=\"T_575f0_row1_col0\" class=\"data row1 col0\" >1</td>\n",
              "      <td id=\"T_575f0_row1_col1\" class=\"data row1 col1\" >Tennis Court 2</td>\n",
              "      <td id=\"T_575f0_row1_col2\" class=\"data row1 col2\" >5</td>\n",
              "      <td id=\"T_575f0_row1_col3\" class=\"data row1 col3\" >25</td>\n",
              "      <td id=\"T_575f0_row1_col4\" class=\"data row1 col4\" >8000</td>\n",
              "      <td id=\"T_575f0_row1_col5\" class=\"data row1 col5\" >200</td>\n",
              "    </tr>\n",
              "    <tr>\n",
              "      <td id=\"T_575f0_row2_col0\" class=\"data row2 col0\" >2</td>\n",
              "      <td id=\"T_575f0_row2_col1\" class=\"data row2 col1\" >Badminton Court</td>\n",
              "      <td id=\"T_575f0_row2_col2\" class=\"data row2 col2\" >0</td>\n",
              "      <td id=\"T_575f0_row2_col3\" class=\"data row2 col3\" >15.5</td>\n",
              "      <td id=\"T_575f0_row2_col4\" class=\"data row2 col4\" >4000</td>\n",
              "      <td id=\"T_575f0_row2_col5\" class=\"data row2 col5\" >50</td>\n",
              "    </tr>\n",
              "  </tbody>\n",
              "</table>\n"
            ]
          },
          "metadata": {},
          "execution_count": 12
        }
      ]
    },
    {
      "cell_type": "code",
      "source": [
        "runSelect(\"select * from cd.bookings limit 3\")"
      ],
      "metadata": {
        "colab": {
          "base_uri": "https://localhost:8080/",
          "height": 143
        },
        "id": "ZFliVHZwYn_P",
        "outputId": "88bf07fc-1b2d-4bfe-e993-c419f8835c70"
      },
      "execution_count": null,
      "outputs": [
        {
          "output_type": "execute_result",
          "data": {
            "text/plain": [
              "<pandas.io.formats.style.Styler at 0x7b2bef3867d0>"
            ],
            "text/html": [
              "<style type=\"text/css\">\n",
              "</style>\n",
              "<table id=\"T_6f7b5\" class=\"dataframe\">\n",
              "  <thead>\n",
              "    <tr>\n",
              "      <th id=\"T_6f7b5_level0_col0\" class=\"col_heading level0 col0\" >bookid</th>\n",
              "      <th id=\"T_6f7b5_level0_col1\" class=\"col_heading level0 col1\" >facid</th>\n",
              "      <th id=\"T_6f7b5_level0_col2\" class=\"col_heading level0 col2\" >memid</th>\n",
              "      <th id=\"T_6f7b5_level0_col3\" class=\"col_heading level0 col3\" >starttime</th>\n",
              "      <th id=\"T_6f7b5_level0_col4\" class=\"col_heading level0 col4\" >slots</th>\n",
              "    </tr>\n",
              "  </thead>\n",
              "  <tbody>\n",
              "    <tr>\n",
              "      <td id=\"T_6f7b5_row0_col0\" class=\"data row0 col0\" >0</td>\n",
              "      <td id=\"T_6f7b5_row0_col1\" class=\"data row0 col1\" >3</td>\n",
              "      <td id=\"T_6f7b5_row0_col2\" class=\"data row0 col2\" >1</td>\n",
              "      <td id=\"T_6f7b5_row0_col3\" class=\"data row0 col3\" >2012-07-03 11:00:00</td>\n",
              "      <td id=\"T_6f7b5_row0_col4\" class=\"data row0 col4\" >2</td>\n",
              "    </tr>\n",
              "    <tr>\n",
              "      <td id=\"T_6f7b5_row1_col0\" class=\"data row1 col0\" >1</td>\n",
              "      <td id=\"T_6f7b5_row1_col1\" class=\"data row1 col1\" >4</td>\n",
              "      <td id=\"T_6f7b5_row1_col2\" class=\"data row1 col2\" >1</td>\n",
              "      <td id=\"T_6f7b5_row1_col3\" class=\"data row1 col3\" >2012-07-03 08:00:00</td>\n",
              "      <td id=\"T_6f7b5_row1_col4\" class=\"data row1 col4\" >2</td>\n",
              "    </tr>\n",
              "    <tr>\n",
              "      <td id=\"T_6f7b5_row2_col0\" class=\"data row2 col0\" >2</td>\n",
              "      <td id=\"T_6f7b5_row2_col1\" class=\"data row2 col1\" >6</td>\n",
              "      <td id=\"T_6f7b5_row2_col2\" class=\"data row2 col2\" >0</td>\n",
              "      <td id=\"T_6f7b5_row2_col3\" class=\"data row2 col3\" >2012-07-03 18:00:00</td>\n",
              "      <td id=\"T_6f7b5_row2_col4\" class=\"data row2 col4\" >2</td>\n",
              "    </tr>\n",
              "  </tbody>\n",
              "</table>\n"
            ]
          },
          "metadata": {},
          "execution_count": 13
        }
      ]
    },
    {
      "cell_type": "markdown",
      "source": [
        "# 1) Basic Query"
      ],
      "metadata": {
        "id": "3dMZXZe8dhHl"
      }
    },
    {
      "cell_type": "markdown",
      "source": [
        "## 1.1 Retrieve everything form a table"
      ],
      "metadata": {
        "id": "ZpjwpuUlDPNp"
      }
    },
    {
      "cell_type": "code",
      "source": [
        "# How can you retrieve all the information from the cd.facilities table?"
      ],
      "metadata": {
        "id": "nXCtrJZvDejx"
      },
      "execution_count": null,
      "outputs": []
    },
    {
      "cell_type": "code",
      "source": [
        "runSelect(\"select * from cd.facilities\")"
      ],
      "metadata": {
        "colab": {
          "base_uri": "https://localhost:8080/",
          "height": 331
        },
        "id": "sarO23w0C8DH",
        "outputId": "6ebcc86a-ed20-4c21-b293-1eeb7242e697"
      },
      "execution_count": null,
      "outputs": [
        {
          "output_type": "execute_result",
          "data": {
            "text/plain": [
              "<pandas.io.formats.style.Styler at 0x7b2bef387220>"
            ],
            "text/html": [
              "<style type=\"text/css\">\n",
              "</style>\n",
              "<table id=\"T_c3b02\" class=\"dataframe\">\n",
              "  <thead>\n",
              "    <tr>\n",
              "      <th id=\"T_c3b02_level0_col0\" class=\"col_heading level0 col0\" >facid</th>\n",
              "      <th id=\"T_c3b02_level0_col1\" class=\"col_heading level0 col1\" >name</th>\n",
              "      <th id=\"T_c3b02_level0_col2\" class=\"col_heading level0 col2\" >membercost</th>\n",
              "      <th id=\"T_c3b02_level0_col3\" class=\"col_heading level0 col3\" >guestcost</th>\n",
              "      <th id=\"T_c3b02_level0_col4\" class=\"col_heading level0 col4\" >initialoutlay</th>\n",
              "      <th id=\"T_c3b02_level0_col5\" class=\"col_heading level0 col5\" >monthlymaintenance</th>\n",
              "    </tr>\n",
              "  </thead>\n",
              "  <tbody>\n",
              "    <tr>\n",
              "      <td id=\"T_c3b02_row0_col0\" class=\"data row0 col0\" >0</td>\n",
              "      <td id=\"T_c3b02_row0_col1\" class=\"data row0 col1\" >Tennis Court 1</td>\n",
              "      <td id=\"T_c3b02_row0_col2\" class=\"data row0 col2\" >5</td>\n",
              "      <td id=\"T_c3b02_row0_col3\" class=\"data row0 col3\" >25</td>\n",
              "      <td id=\"T_c3b02_row0_col4\" class=\"data row0 col4\" >10000</td>\n",
              "      <td id=\"T_c3b02_row0_col5\" class=\"data row0 col5\" >200</td>\n",
              "    </tr>\n",
              "    <tr>\n",
              "      <td id=\"T_c3b02_row1_col0\" class=\"data row1 col0\" >1</td>\n",
              "      <td id=\"T_c3b02_row1_col1\" class=\"data row1 col1\" >Tennis Court 2</td>\n",
              "      <td id=\"T_c3b02_row1_col2\" class=\"data row1 col2\" >5</td>\n",
              "      <td id=\"T_c3b02_row1_col3\" class=\"data row1 col3\" >25</td>\n",
              "      <td id=\"T_c3b02_row1_col4\" class=\"data row1 col4\" >8000</td>\n",
              "      <td id=\"T_c3b02_row1_col5\" class=\"data row1 col5\" >200</td>\n",
              "    </tr>\n",
              "    <tr>\n",
              "      <td id=\"T_c3b02_row2_col0\" class=\"data row2 col0\" >2</td>\n",
              "      <td id=\"T_c3b02_row2_col1\" class=\"data row2 col1\" >Badminton Court</td>\n",
              "      <td id=\"T_c3b02_row2_col2\" class=\"data row2 col2\" >0</td>\n",
              "      <td id=\"T_c3b02_row2_col3\" class=\"data row2 col3\" >15.5</td>\n",
              "      <td id=\"T_c3b02_row2_col4\" class=\"data row2 col4\" >4000</td>\n",
              "      <td id=\"T_c3b02_row2_col5\" class=\"data row2 col5\" >50</td>\n",
              "    </tr>\n",
              "    <tr>\n",
              "      <td id=\"T_c3b02_row3_col0\" class=\"data row3 col0\" >3</td>\n",
              "      <td id=\"T_c3b02_row3_col1\" class=\"data row3 col1\" >Table Tennis</td>\n",
              "      <td id=\"T_c3b02_row3_col2\" class=\"data row3 col2\" >0</td>\n",
              "      <td id=\"T_c3b02_row3_col3\" class=\"data row3 col3\" >5</td>\n",
              "      <td id=\"T_c3b02_row3_col4\" class=\"data row3 col4\" >320</td>\n",
              "      <td id=\"T_c3b02_row3_col5\" class=\"data row3 col5\" >10</td>\n",
              "    </tr>\n",
              "    <tr>\n",
              "      <td id=\"T_c3b02_row4_col0\" class=\"data row4 col0\" >4</td>\n",
              "      <td id=\"T_c3b02_row4_col1\" class=\"data row4 col1\" >Massage Room 1</td>\n",
              "      <td id=\"T_c3b02_row4_col2\" class=\"data row4 col2\" >35</td>\n",
              "      <td id=\"T_c3b02_row4_col3\" class=\"data row4 col3\" >80</td>\n",
              "      <td id=\"T_c3b02_row4_col4\" class=\"data row4 col4\" >4000</td>\n",
              "      <td id=\"T_c3b02_row4_col5\" class=\"data row4 col5\" >3000</td>\n",
              "    </tr>\n",
              "    <tr>\n",
              "      <td id=\"T_c3b02_row5_col0\" class=\"data row5 col0\" >5</td>\n",
              "      <td id=\"T_c3b02_row5_col1\" class=\"data row5 col1\" >Massage Room 2</td>\n",
              "      <td id=\"T_c3b02_row5_col2\" class=\"data row5 col2\" >35</td>\n",
              "      <td id=\"T_c3b02_row5_col3\" class=\"data row5 col3\" >80</td>\n",
              "      <td id=\"T_c3b02_row5_col4\" class=\"data row5 col4\" >4000</td>\n",
              "      <td id=\"T_c3b02_row5_col5\" class=\"data row5 col5\" >3000</td>\n",
              "    </tr>\n",
              "    <tr>\n",
              "      <td id=\"T_c3b02_row6_col0\" class=\"data row6 col0\" >6</td>\n",
              "      <td id=\"T_c3b02_row6_col1\" class=\"data row6 col1\" >Squash Court</td>\n",
              "      <td id=\"T_c3b02_row6_col2\" class=\"data row6 col2\" >3.5</td>\n",
              "      <td id=\"T_c3b02_row6_col3\" class=\"data row6 col3\" >17.5</td>\n",
              "      <td id=\"T_c3b02_row6_col4\" class=\"data row6 col4\" >5000</td>\n",
              "      <td id=\"T_c3b02_row6_col5\" class=\"data row6 col5\" >80</td>\n",
              "    </tr>\n",
              "    <tr>\n",
              "      <td id=\"T_c3b02_row7_col0\" class=\"data row7 col0\" >7</td>\n",
              "      <td id=\"T_c3b02_row7_col1\" class=\"data row7 col1\" >Snooker Table</td>\n",
              "      <td id=\"T_c3b02_row7_col2\" class=\"data row7 col2\" >0</td>\n",
              "      <td id=\"T_c3b02_row7_col3\" class=\"data row7 col3\" >5</td>\n",
              "      <td id=\"T_c3b02_row7_col4\" class=\"data row7 col4\" >450</td>\n",
              "      <td id=\"T_c3b02_row7_col5\" class=\"data row7 col5\" >15</td>\n",
              "    </tr>\n",
              "    <tr>\n",
              "      <td id=\"T_c3b02_row8_col0\" class=\"data row8 col0\" >8</td>\n",
              "      <td id=\"T_c3b02_row8_col1\" class=\"data row8 col1\" >Pool Table</td>\n",
              "      <td id=\"T_c3b02_row8_col2\" class=\"data row8 col2\" >0</td>\n",
              "      <td id=\"T_c3b02_row8_col3\" class=\"data row8 col3\" >5</td>\n",
              "      <td id=\"T_c3b02_row8_col4\" class=\"data row8 col4\" >400</td>\n",
              "      <td id=\"T_c3b02_row8_col5\" class=\"data row8 col5\" >15</td>\n",
              "    </tr>\n",
              "  </tbody>\n",
              "</table>\n"
            ]
          },
          "metadata": {},
          "execution_count": 15
        }
      ]
    },
    {
      "cell_type": "markdown",
      "source": [
        "## 1.2 Retrieve specific columns from a table"
      ],
      "metadata": {
        "id": "BwRywlsLEKIU"
      }
    },
    {
      "cell_type": "code",
      "source": [
        "# You want to print out a list of all of the facilities and their cost to members. How would you retrieve a list of only facility names and costs?"
      ],
      "metadata": {
        "id": "BWkNVQi7D305"
      },
      "execution_count": null,
      "outputs": []
    },
    {
      "cell_type": "code",
      "source": [
        "runSelect(\"select name, membercost from cd.facilities\")"
      ],
      "metadata": {
        "colab": {
          "base_uri": "https://localhost:8080/",
          "height": 331
        },
        "id": "AbYeFoBiET5m",
        "outputId": "562e75b6-90dc-4e53-b147-8b03e784012a"
      },
      "execution_count": null,
      "outputs": [
        {
          "output_type": "execute_result",
          "data": {
            "text/plain": [
              "<pandas.io.formats.style.Styler at 0x7b2bef3b8e20>"
            ],
            "text/html": [
              "<style type=\"text/css\">\n",
              "</style>\n",
              "<table id=\"T_d57c5\" class=\"dataframe\">\n",
              "  <thead>\n",
              "    <tr>\n",
              "      <th id=\"T_d57c5_level0_col0\" class=\"col_heading level0 col0\" >name</th>\n",
              "      <th id=\"T_d57c5_level0_col1\" class=\"col_heading level0 col1\" >membercost</th>\n",
              "    </tr>\n",
              "  </thead>\n",
              "  <tbody>\n",
              "    <tr>\n",
              "      <td id=\"T_d57c5_row0_col0\" class=\"data row0 col0\" >Tennis Court 1</td>\n",
              "      <td id=\"T_d57c5_row0_col1\" class=\"data row0 col1\" >5</td>\n",
              "    </tr>\n",
              "    <tr>\n",
              "      <td id=\"T_d57c5_row1_col0\" class=\"data row1 col0\" >Tennis Court 2</td>\n",
              "      <td id=\"T_d57c5_row1_col1\" class=\"data row1 col1\" >5</td>\n",
              "    </tr>\n",
              "    <tr>\n",
              "      <td id=\"T_d57c5_row2_col0\" class=\"data row2 col0\" >Badminton Court</td>\n",
              "      <td id=\"T_d57c5_row2_col1\" class=\"data row2 col1\" >0</td>\n",
              "    </tr>\n",
              "    <tr>\n",
              "      <td id=\"T_d57c5_row3_col0\" class=\"data row3 col0\" >Table Tennis</td>\n",
              "      <td id=\"T_d57c5_row3_col1\" class=\"data row3 col1\" >0</td>\n",
              "    </tr>\n",
              "    <tr>\n",
              "      <td id=\"T_d57c5_row4_col0\" class=\"data row4 col0\" >Massage Room 1</td>\n",
              "      <td id=\"T_d57c5_row4_col1\" class=\"data row4 col1\" >35</td>\n",
              "    </tr>\n",
              "    <tr>\n",
              "      <td id=\"T_d57c5_row5_col0\" class=\"data row5 col0\" >Massage Room 2</td>\n",
              "      <td id=\"T_d57c5_row5_col1\" class=\"data row5 col1\" >35</td>\n",
              "    </tr>\n",
              "    <tr>\n",
              "      <td id=\"T_d57c5_row6_col0\" class=\"data row6 col0\" >Squash Court</td>\n",
              "      <td id=\"T_d57c5_row6_col1\" class=\"data row6 col1\" >3.5</td>\n",
              "    </tr>\n",
              "    <tr>\n",
              "      <td id=\"T_d57c5_row7_col0\" class=\"data row7 col0\" >Snooker Table</td>\n",
              "      <td id=\"T_d57c5_row7_col1\" class=\"data row7 col1\" >0</td>\n",
              "    </tr>\n",
              "    <tr>\n",
              "      <td id=\"T_d57c5_row8_col0\" class=\"data row8 col0\" >Pool Table</td>\n",
              "      <td id=\"T_d57c5_row8_col1\" class=\"data row8 col1\" >0</td>\n",
              "    </tr>\n",
              "  </tbody>\n",
              "</table>\n"
            ]
          },
          "metadata": {},
          "execution_count": 17
        }
      ]
    },
    {
      "cell_type": "markdown",
      "source": [
        "## 1.3 Control which rows are retrieved"
      ],
      "metadata": {
        "id": "etptmF_rEira"
      }
    },
    {
      "cell_type": "code",
      "source": [
        "# 3.1 How can you produce a list of facilities that charge a fee to members?\n",
        "runSelect(\"select name, membercost, guestcost, initialoutlay, monthlymaintenance from cd.facilities where membercost > 0\")"
      ],
      "metadata": {
        "colab": {
          "base_uri": "https://localhost:8080/",
          "height": 206
        },
        "id": "amE7Mr54EoU5",
        "outputId": "e0d3a94f-6689-43fe-b3d0-5d09877c7e48"
      },
      "execution_count": null,
      "outputs": [
        {
          "output_type": "execute_result",
          "data": {
            "text/plain": [
              "<pandas.io.formats.style.Styler at 0x7b2bef3865f0>"
            ],
            "text/html": [
              "<style type=\"text/css\">\n",
              "</style>\n",
              "<table id=\"T_11e33\" class=\"dataframe\">\n",
              "  <thead>\n",
              "    <tr>\n",
              "      <th id=\"T_11e33_level0_col0\" class=\"col_heading level0 col0\" >name</th>\n",
              "      <th id=\"T_11e33_level0_col1\" class=\"col_heading level0 col1\" >membercost</th>\n",
              "      <th id=\"T_11e33_level0_col2\" class=\"col_heading level0 col2\" >guestcost</th>\n",
              "      <th id=\"T_11e33_level0_col3\" class=\"col_heading level0 col3\" >initialoutlay</th>\n",
              "      <th id=\"T_11e33_level0_col4\" class=\"col_heading level0 col4\" >monthlymaintenance</th>\n",
              "    </tr>\n",
              "  </thead>\n",
              "  <tbody>\n",
              "    <tr>\n",
              "      <td id=\"T_11e33_row0_col0\" class=\"data row0 col0\" >Tennis Court 1</td>\n",
              "      <td id=\"T_11e33_row0_col1\" class=\"data row0 col1\" >5</td>\n",
              "      <td id=\"T_11e33_row0_col2\" class=\"data row0 col2\" >25</td>\n",
              "      <td id=\"T_11e33_row0_col3\" class=\"data row0 col3\" >10000</td>\n",
              "      <td id=\"T_11e33_row0_col4\" class=\"data row0 col4\" >200</td>\n",
              "    </tr>\n",
              "    <tr>\n",
              "      <td id=\"T_11e33_row1_col0\" class=\"data row1 col0\" >Tennis Court 2</td>\n",
              "      <td id=\"T_11e33_row1_col1\" class=\"data row1 col1\" >5</td>\n",
              "      <td id=\"T_11e33_row1_col2\" class=\"data row1 col2\" >25</td>\n",
              "      <td id=\"T_11e33_row1_col3\" class=\"data row1 col3\" >8000</td>\n",
              "      <td id=\"T_11e33_row1_col4\" class=\"data row1 col4\" >200</td>\n",
              "    </tr>\n",
              "    <tr>\n",
              "      <td id=\"T_11e33_row2_col0\" class=\"data row2 col0\" >Massage Room 1</td>\n",
              "      <td id=\"T_11e33_row2_col1\" class=\"data row2 col1\" >35</td>\n",
              "      <td id=\"T_11e33_row2_col2\" class=\"data row2 col2\" >80</td>\n",
              "      <td id=\"T_11e33_row2_col3\" class=\"data row2 col3\" >4000</td>\n",
              "      <td id=\"T_11e33_row2_col4\" class=\"data row2 col4\" >3000</td>\n",
              "    </tr>\n",
              "    <tr>\n",
              "      <td id=\"T_11e33_row3_col0\" class=\"data row3 col0\" >Massage Room 2</td>\n",
              "      <td id=\"T_11e33_row3_col1\" class=\"data row3 col1\" >35</td>\n",
              "      <td id=\"T_11e33_row3_col2\" class=\"data row3 col2\" >80</td>\n",
              "      <td id=\"T_11e33_row3_col3\" class=\"data row3 col3\" >4000</td>\n",
              "      <td id=\"T_11e33_row3_col4\" class=\"data row3 col4\" >3000</td>\n",
              "    </tr>\n",
              "    <tr>\n",
              "      <td id=\"T_11e33_row4_col0\" class=\"data row4 col0\" >Squash Court</td>\n",
              "      <td id=\"T_11e33_row4_col1\" class=\"data row4 col1\" >3.5</td>\n",
              "      <td id=\"T_11e33_row4_col2\" class=\"data row4 col2\" >17.5</td>\n",
              "      <td id=\"T_11e33_row4_col3\" class=\"data row4 col3\" >5000</td>\n",
              "      <td id=\"T_11e33_row4_col4\" class=\"data row4 col4\" >80</td>\n",
              "    </tr>\n",
              "  </tbody>\n",
              "</table>\n"
            ]
          },
          "metadata": {},
          "execution_count": 18
        }
      ]
    },
    {
      "cell_type": "markdown",
      "source": [
        "## 1.4 Control which rows are retrieved - part 2"
      ],
      "metadata": {
        "id": "0Q24i7upHQQr"
      }
    },
    {
      "cell_type": "code",
      "source": [
        "# 4.1 How can you produce a list of facilities that charge a fee to members, and that fee is less than 1/50th of the monthly maintenance cost? Return the facid, facility name, member cost, and monthly maintenance of the facilities in question."
      ],
      "metadata": {
        "id": "Qize4RIQHaaW"
      },
      "execution_count": null,
      "outputs": []
    },
    {
      "cell_type": "code",
      "source": [
        "runSelect(\"select name, membercost, monthlymaintenance from cd.facilities where membercost < monthlymaintenance/50 and membercost > 0\")"
      ],
      "metadata": {
        "colab": {
          "base_uri": "https://localhost:8080/",
          "height": 112
        },
        "id": "fvbfUbLhHoRS",
        "outputId": "ab126be3-9739-41ca-b4a5-3f1b267865a4"
      },
      "execution_count": null,
      "outputs": [
        {
          "output_type": "execute_result",
          "data": {
            "text/plain": [
              "<pandas.io.formats.style.Styler at 0x7b2bef3b83a0>"
            ],
            "text/html": [
              "<style type=\"text/css\">\n",
              "</style>\n",
              "<table id=\"T_71609\" class=\"dataframe\">\n",
              "  <thead>\n",
              "    <tr>\n",
              "      <th id=\"T_71609_level0_col0\" class=\"col_heading level0 col0\" >name</th>\n",
              "      <th id=\"T_71609_level0_col1\" class=\"col_heading level0 col1\" >membercost</th>\n",
              "      <th id=\"T_71609_level0_col2\" class=\"col_heading level0 col2\" >monthlymaintenance</th>\n",
              "    </tr>\n",
              "  </thead>\n",
              "  <tbody>\n",
              "    <tr>\n",
              "      <td id=\"T_71609_row0_col0\" class=\"data row0 col0\" >Massage Room 1</td>\n",
              "      <td id=\"T_71609_row0_col1\" class=\"data row0 col1\" >35</td>\n",
              "      <td id=\"T_71609_row0_col2\" class=\"data row0 col2\" >3000</td>\n",
              "    </tr>\n",
              "    <tr>\n",
              "      <td id=\"T_71609_row1_col0\" class=\"data row1 col0\" >Massage Room 2</td>\n",
              "      <td id=\"T_71609_row1_col1\" class=\"data row1 col1\" >35</td>\n",
              "      <td id=\"T_71609_row1_col2\" class=\"data row1 col2\" >3000</td>\n",
              "    </tr>\n",
              "  </tbody>\n",
              "</table>\n"
            ]
          },
          "metadata": {},
          "execution_count": 20
        }
      ]
    },
    {
      "cell_type": "markdown",
      "source": [
        "## 1.5 Basic String Searches"
      ],
      "metadata": {
        "id": "7HaIPzzVIzFI"
      }
    },
    {
      "cell_type": "code",
      "source": [
        "# 5.1 How can you produce a list of all facilities with the word 'Tennis' in their name?\n",
        "runSelect(\"select name, membercost, guestcost, initialoutlay, monthlymaintenance from cd.facilities where name like '%Tennis%'\")"
      ],
      "metadata": {
        "colab": {
          "base_uri": "https://localhost:8080/",
          "height": 143
        },
        "id": "bEeNnvs8Iu5G",
        "outputId": "2348f1ce-fa36-4a17-edf6-c9a8e27fe619"
      },
      "execution_count": null,
      "outputs": [
        {
          "output_type": "execute_result",
          "data": {
            "text/plain": [
              "<pandas.io.formats.style.Styler at 0x7b2bef3b8580>"
            ],
            "text/html": [
              "<style type=\"text/css\">\n",
              "</style>\n",
              "<table id=\"T_aeab1\" class=\"dataframe\">\n",
              "  <thead>\n",
              "    <tr>\n",
              "      <th id=\"T_aeab1_level0_col0\" class=\"col_heading level0 col0\" >name</th>\n",
              "      <th id=\"T_aeab1_level0_col1\" class=\"col_heading level0 col1\" >membercost</th>\n",
              "      <th id=\"T_aeab1_level0_col2\" class=\"col_heading level0 col2\" >guestcost</th>\n",
              "      <th id=\"T_aeab1_level0_col3\" class=\"col_heading level0 col3\" >initialoutlay</th>\n",
              "      <th id=\"T_aeab1_level0_col4\" class=\"col_heading level0 col4\" >monthlymaintenance</th>\n",
              "    </tr>\n",
              "  </thead>\n",
              "  <tbody>\n",
              "    <tr>\n",
              "      <td id=\"T_aeab1_row0_col0\" class=\"data row0 col0\" >Tennis Court 1</td>\n",
              "      <td id=\"T_aeab1_row0_col1\" class=\"data row0 col1\" >5</td>\n",
              "      <td id=\"T_aeab1_row0_col2\" class=\"data row0 col2\" >25</td>\n",
              "      <td id=\"T_aeab1_row0_col3\" class=\"data row0 col3\" >10000</td>\n",
              "      <td id=\"T_aeab1_row0_col4\" class=\"data row0 col4\" >200</td>\n",
              "    </tr>\n",
              "    <tr>\n",
              "      <td id=\"T_aeab1_row1_col0\" class=\"data row1 col0\" >Tennis Court 2</td>\n",
              "      <td id=\"T_aeab1_row1_col1\" class=\"data row1 col1\" >5</td>\n",
              "      <td id=\"T_aeab1_row1_col2\" class=\"data row1 col2\" >25</td>\n",
              "      <td id=\"T_aeab1_row1_col3\" class=\"data row1 col3\" >8000</td>\n",
              "      <td id=\"T_aeab1_row1_col4\" class=\"data row1 col4\" >200</td>\n",
              "    </tr>\n",
              "    <tr>\n",
              "      <td id=\"T_aeab1_row2_col0\" class=\"data row2 col0\" >Table Tennis</td>\n",
              "      <td id=\"T_aeab1_row2_col1\" class=\"data row2 col1\" >0</td>\n",
              "      <td id=\"T_aeab1_row2_col2\" class=\"data row2 col2\" >5</td>\n",
              "      <td id=\"T_aeab1_row2_col3\" class=\"data row2 col3\" >320</td>\n",
              "      <td id=\"T_aeab1_row2_col4\" class=\"data row2 col4\" >10</td>\n",
              "    </tr>\n",
              "  </tbody>\n",
              "</table>\n"
            ]
          },
          "metadata": {},
          "execution_count": 21
        }
      ]
    },
    {
      "cell_type": "markdown",
      "source": [
        "## 1.6 Matching against multiple possible values\n"
      ],
      "metadata": {
        "id": "DPEF-69OJr2x"
      }
    },
    {
      "cell_type": "code",
      "source": [
        "# 6.1 How can you retrieve the details of facilities with ID 1 and 5? Try to do it without using the OR operator.\n",
        "runSelect(\"select facid, name, membercost, guestcost, initialoutlay, monthlymaintenance from cd.facilities where facid in (1,5)\")"
      ],
      "metadata": {
        "colab": {
          "base_uri": "https://localhost:8080/",
          "height": 112
        },
        "id": "ZGwYza3hJxK7",
        "outputId": "5ec4ed7a-7425-4bdd-caa4-bfdfeeaab89e"
      },
      "execution_count": null,
      "outputs": [
        {
          "output_type": "execute_result",
          "data": {
            "text/plain": [
              "<pandas.io.formats.style.Styler at 0x7b2bef3ba5c0>"
            ],
            "text/html": [
              "<style type=\"text/css\">\n",
              "</style>\n",
              "<table id=\"T_0b162\" class=\"dataframe\">\n",
              "  <thead>\n",
              "    <tr>\n",
              "      <th id=\"T_0b162_level0_col0\" class=\"col_heading level0 col0\" >facid</th>\n",
              "      <th id=\"T_0b162_level0_col1\" class=\"col_heading level0 col1\" >name</th>\n",
              "      <th id=\"T_0b162_level0_col2\" class=\"col_heading level0 col2\" >membercost</th>\n",
              "      <th id=\"T_0b162_level0_col3\" class=\"col_heading level0 col3\" >guestcost</th>\n",
              "      <th id=\"T_0b162_level0_col4\" class=\"col_heading level0 col4\" >initialoutlay</th>\n",
              "      <th id=\"T_0b162_level0_col5\" class=\"col_heading level0 col5\" >monthlymaintenance</th>\n",
              "    </tr>\n",
              "  </thead>\n",
              "  <tbody>\n",
              "    <tr>\n",
              "      <td id=\"T_0b162_row0_col0\" class=\"data row0 col0\" >1</td>\n",
              "      <td id=\"T_0b162_row0_col1\" class=\"data row0 col1\" >Tennis Court 2</td>\n",
              "      <td id=\"T_0b162_row0_col2\" class=\"data row0 col2\" >5</td>\n",
              "      <td id=\"T_0b162_row0_col3\" class=\"data row0 col3\" >25</td>\n",
              "      <td id=\"T_0b162_row0_col4\" class=\"data row0 col4\" >8000</td>\n",
              "      <td id=\"T_0b162_row0_col5\" class=\"data row0 col5\" >200</td>\n",
              "    </tr>\n",
              "    <tr>\n",
              "      <td id=\"T_0b162_row1_col0\" class=\"data row1 col0\" >5</td>\n",
              "      <td id=\"T_0b162_row1_col1\" class=\"data row1 col1\" >Massage Room 2</td>\n",
              "      <td id=\"T_0b162_row1_col2\" class=\"data row1 col2\" >35</td>\n",
              "      <td id=\"T_0b162_row1_col3\" class=\"data row1 col3\" >80</td>\n",
              "      <td id=\"T_0b162_row1_col4\" class=\"data row1 col4\" >4000</td>\n",
              "      <td id=\"T_0b162_row1_col5\" class=\"data row1 col5\" >3000</td>\n",
              "    </tr>\n",
              "  </tbody>\n",
              "</table>\n"
            ]
          },
          "metadata": {},
          "execution_count": 22
        }
      ]
    },
    {
      "cell_type": "markdown",
      "source": [
        "## 1.7 Classify results into buckets"
      ],
      "metadata": {
        "id": "Yzm0yCtEKiO-"
      }
    },
    {
      "cell_type": "code",
      "source": [
        "# 7.1 How can you produce a list of facilities, with each labelled as 'cheap' or 'expensive' depending on if their monthly maintenance cost is more than $100? Return the name and monthly maintenance of the facilities in question."
      ],
      "metadata": {
        "id": "dVZ3fs81Koke"
      },
      "execution_count": null,
      "outputs": []
    },
    {
      "cell_type": "code",
      "source": [
        "runSelect(\"select name, case when monthlymaintenance > 100 then 'expensive' else 'cheap' end cost from cd.facilities\")"
      ],
      "metadata": {
        "colab": {
          "base_uri": "https://localhost:8080/",
          "height": 331
        },
        "id": "j2Y7gcZXKuAq",
        "outputId": "a30f6a52-efd5-4526-efa0-b166894fc444"
      },
      "execution_count": null,
      "outputs": [
        {
          "output_type": "execute_result",
          "data": {
            "text/plain": [
              "<pandas.io.formats.style.Styler at 0x7b2bef43e380>"
            ],
            "text/html": [
              "<style type=\"text/css\">\n",
              "</style>\n",
              "<table id=\"T_6f05c\" class=\"dataframe\">\n",
              "  <thead>\n",
              "    <tr>\n",
              "      <th id=\"T_6f05c_level0_col0\" class=\"col_heading level0 col0\" >name</th>\n",
              "      <th id=\"T_6f05c_level0_col1\" class=\"col_heading level0 col1\" >cost</th>\n",
              "    </tr>\n",
              "  </thead>\n",
              "  <tbody>\n",
              "    <tr>\n",
              "      <td id=\"T_6f05c_row0_col0\" class=\"data row0 col0\" >Tennis Court 1</td>\n",
              "      <td id=\"T_6f05c_row0_col1\" class=\"data row0 col1\" >expensive</td>\n",
              "    </tr>\n",
              "    <tr>\n",
              "      <td id=\"T_6f05c_row1_col0\" class=\"data row1 col0\" >Tennis Court 2</td>\n",
              "      <td id=\"T_6f05c_row1_col1\" class=\"data row1 col1\" >expensive</td>\n",
              "    </tr>\n",
              "    <tr>\n",
              "      <td id=\"T_6f05c_row2_col0\" class=\"data row2 col0\" >Badminton Court</td>\n",
              "      <td id=\"T_6f05c_row2_col1\" class=\"data row2 col1\" >cheap</td>\n",
              "    </tr>\n",
              "    <tr>\n",
              "      <td id=\"T_6f05c_row3_col0\" class=\"data row3 col0\" >Table Tennis</td>\n",
              "      <td id=\"T_6f05c_row3_col1\" class=\"data row3 col1\" >cheap</td>\n",
              "    </tr>\n",
              "    <tr>\n",
              "      <td id=\"T_6f05c_row4_col0\" class=\"data row4 col0\" >Massage Room 1</td>\n",
              "      <td id=\"T_6f05c_row4_col1\" class=\"data row4 col1\" >expensive</td>\n",
              "    </tr>\n",
              "    <tr>\n",
              "      <td id=\"T_6f05c_row5_col0\" class=\"data row5 col0\" >Massage Room 2</td>\n",
              "      <td id=\"T_6f05c_row5_col1\" class=\"data row5 col1\" >expensive</td>\n",
              "    </tr>\n",
              "    <tr>\n",
              "      <td id=\"T_6f05c_row6_col0\" class=\"data row6 col0\" >Squash Court</td>\n",
              "      <td id=\"T_6f05c_row6_col1\" class=\"data row6 col1\" >cheap</td>\n",
              "    </tr>\n",
              "    <tr>\n",
              "      <td id=\"T_6f05c_row7_col0\" class=\"data row7 col0\" >Snooker Table</td>\n",
              "      <td id=\"T_6f05c_row7_col1\" class=\"data row7 col1\" >cheap</td>\n",
              "    </tr>\n",
              "    <tr>\n",
              "      <td id=\"T_6f05c_row8_col0\" class=\"data row8 col0\" >Pool Table</td>\n",
              "      <td id=\"T_6f05c_row8_col1\" class=\"data row8 col1\" >cheap</td>\n",
              "    </tr>\n",
              "  </tbody>\n",
              "</table>\n"
            ]
          },
          "metadata": {},
          "execution_count": 24
        }
      ]
    },
    {
      "cell_type": "markdown",
      "source": [
        "## 1.8 Working with dates"
      ],
      "metadata": {
        "id": "6JA3CaGYLsO5"
      }
    },
    {
      "cell_type": "code",
      "source": [
        "# How can you produce a list of members who joined after the start of September 2012? Return the memid, surname, firstname, and joindate of the members in question.\n",
        "runSelect(\"select memid, surname, firstname, joindate from cd.members where joindate > '2012-09-01' \")"
      ],
      "metadata": {
        "colab": {
          "base_uri": "https://localhost:8080/",
          "height": 363
        },
        "id": "ChcC5tSRLr6M",
        "outputId": "fcad61a2-62a5-4bc6-a7f2-fc5c1105113a"
      },
      "execution_count": null,
      "outputs": [
        {
          "output_type": "execute_result",
          "data": {
            "text/plain": [
              "<pandas.io.formats.style.Styler at 0x7b2bef3b93f0>"
            ],
            "text/html": [
              "<style type=\"text/css\">\n",
              "</style>\n",
              "<table id=\"T_c60b0\" class=\"dataframe\">\n",
              "  <thead>\n",
              "    <tr>\n",
              "      <th id=\"T_c60b0_level0_col0\" class=\"col_heading level0 col0\" >memid</th>\n",
              "      <th id=\"T_c60b0_level0_col1\" class=\"col_heading level0 col1\" >surname</th>\n",
              "      <th id=\"T_c60b0_level0_col2\" class=\"col_heading level0 col2\" >firstname</th>\n",
              "      <th id=\"T_c60b0_level0_col3\" class=\"col_heading level0 col3\" >joindate</th>\n",
              "    </tr>\n",
              "  </thead>\n",
              "  <tbody>\n",
              "    <tr>\n",
              "      <td id=\"T_c60b0_row0_col0\" class=\"data row0 col0\" >24</td>\n",
              "      <td id=\"T_c60b0_row0_col1\" class=\"data row0 col1\" >Sarwin</td>\n",
              "      <td id=\"T_c60b0_row0_col2\" class=\"data row0 col2\" >Ramnaresh</td>\n",
              "      <td id=\"T_c60b0_row0_col3\" class=\"data row0 col3\" >2012-09-01 08:44:42</td>\n",
              "    </tr>\n",
              "    <tr>\n",
              "      <td id=\"T_c60b0_row1_col0\" class=\"data row1 col0\" >26</td>\n",
              "      <td id=\"T_c60b0_row1_col1\" class=\"data row1 col1\" >Jones</td>\n",
              "      <td id=\"T_c60b0_row1_col2\" class=\"data row1 col2\" >Douglas</td>\n",
              "      <td id=\"T_c60b0_row1_col3\" class=\"data row1 col3\" >2012-09-02 18:43:05</td>\n",
              "    </tr>\n",
              "    <tr>\n",
              "      <td id=\"T_c60b0_row2_col0\" class=\"data row2 col0\" >27</td>\n",
              "      <td id=\"T_c60b0_row2_col1\" class=\"data row2 col1\" >Rumney</td>\n",
              "      <td id=\"T_c60b0_row2_col2\" class=\"data row2 col2\" >Henrietta</td>\n",
              "      <td id=\"T_c60b0_row2_col3\" class=\"data row2 col3\" >2012-09-05 08:42:35</td>\n",
              "    </tr>\n",
              "    <tr>\n",
              "      <td id=\"T_c60b0_row3_col0\" class=\"data row3 col0\" >28</td>\n",
              "      <td id=\"T_c60b0_row3_col1\" class=\"data row3 col1\" >Farrell</td>\n",
              "      <td id=\"T_c60b0_row3_col2\" class=\"data row3 col2\" >David</td>\n",
              "      <td id=\"T_c60b0_row3_col3\" class=\"data row3 col3\" >2012-09-15 08:22:05</td>\n",
              "    </tr>\n",
              "    <tr>\n",
              "      <td id=\"T_c60b0_row4_col0\" class=\"data row4 col0\" >29</td>\n",
              "      <td id=\"T_c60b0_row4_col1\" class=\"data row4 col1\" >Worthington-Smyth</td>\n",
              "      <td id=\"T_c60b0_row4_col2\" class=\"data row4 col2\" >Henry</td>\n",
              "      <td id=\"T_c60b0_row4_col3\" class=\"data row4 col3\" >2012-09-17 12:27:15</td>\n",
              "    </tr>\n",
              "    <tr>\n",
              "      <td id=\"T_c60b0_row5_col0\" class=\"data row5 col0\" >30</td>\n",
              "      <td id=\"T_c60b0_row5_col1\" class=\"data row5 col1\" >Purview</td>\n",
              "      <td id=\"T_c60b0_row5_col2\" class=\"data row5 col2\" >Millicent</td>\n",
              "      <td id=\"T_c60b0_row5_col3\" class=\"data row5 col3\" >2012-09-18 19:04:01</td>\n",
              "    </tr>\n",
              "    <tr>\n",
              "      <td id=\"T_c60b0_row6_col0\" class=\"data row6 col0\" >33</td>\n",
              "      <td id=\"T_c60b0_row6_col1\" class=\"data row6 col1\" >Tupperware</td>\n",
              "      <td id=\"T_c60b0_row6_col2\" class=\"data row6 col2\" >Hyacinth</td>\n",
              "      <td id=\"T_c60b0_row6_col3\" class=\"data row6 col3\" >2012-09-18 19:32:05</td>\n",
              "    </tr>\n",
              "    <tr>\n",
              "      <td id=\"T_c60b0_row7_col0\" class=\"data row7 col0\" >35</td>\n",
              "      <td id=\"T_c60b0_row7_col1\" class=\"data row7 col1\" >Hunt</td>\n",
              "      <td id=\"T_c60b0_row7_col2\" class=\"data row7 col2\" >John</td>\n",
              "      <td id=\"T_c60b0_row7_col3\" class=\"data row7 col3\" >2012-09-19 11:32:45</td>\n",
              "    </tr>\n",
              "    <tr>\n",
              "      <td id=\"T_c60b0_row8_col0\" class=\"data row8 col0\" >36</td>\n",
              "      <td id=\"T_c60b0_row8_col1\" class=\"data row8 col1\" >Crumpet</td>\n",
              "      <td id=\"T_c60b0_row8_col2\" class=\"data row8 col2\" >Erica</td>\n",
              "      <td id=\"T_c60b0_row8_col3\" class=\"data row8 col3\" >2012-09-22 08:36:38</td>\n",
              "    </tr>\n",
              "    <tr>\n",
              "      <td id=\"T_c60b0_row9_col0\" class=\"data row9 col0\" >37</td>\n",
              "      <td id=\"T_c60b0_row9_col1\" class=\"data row9 col1\" >Smith</td>\n",
              "      <td id=\"T_c60b0_row9_col2\" class=\"data row9 col2\" >Darren</td>\n",
              "      <td id=\"T_c60b0_row9_col3\" class=\"data row9 col3\" >2012-09-26 18:08:45</td>\n",
              "    </tr>\n",
              "  </tbody>\n",
              "</table>\n"
            ]
          },
          "metadata": {},
          "execution_count": 25
        }
      ]
    },
    {
      "cell_type": "markdown",
      "source": [
        "## 1.9 Removing duplicates, and ordering results"
      ],
      "metadata": {
        "id": "Gsp-4_njM8dv"
      }
    },
    {
      "cell_type": "code",
      "source": [
        "# How can you produce an ordered list of the first 10 surnames in the members table? The list must not contain duplicates."
      ],
      "metadata": {
        "id": "1TC3aqhINGXf"
      },
      "execution_count": null,
      "outputs": []
    },
    {
      "cell_type": "code",
      "source": [
        "runSelect(\"select distinct(surname) from cd.members order by surname limit 10\")"
      ],
      "metadata": {
        "colab": {
          "base_uri": "https://localhost:8080/",
          "height": 363
        },
        "id": "ylztYClTNLza",
        "outputId": "00749bb1-adda-415f-ab4d-754872170dc0"
      },
      "execution_count": null,
      "outputs": [
        {
          "output_type": "execute_result",
          "data": {
            "text/plain": [
              "<pandas.io.formats.style.Styler at 0x7b2bef3ba080>"
            ],
            "text/html": [
              "<style type=\"text/css\">\n",
              "</style>\n",
              "<table id=\"T_cbb1d\" class=\"dataframe\">\n",
              "  <thead>\n",
              "    <tr>\n",
              "      <th id=\"T_cbb1d_level0_col0\" class=\"col_heading level0 col0\" >surname</th>\n",
              "    </tr>\n",
              "  </thead>\n",
              "  <tbody>\n",
              "    <tr>\n",
              "      <td id=\"T_cbb1d_row0_col0\" class=\"data row0 col0\" >Bader</td>\n",
              "    </tr>\n",
              "    <tr>\n",
              "      <td id=\"T_cbb1d_row1_col0\" class=\"data row1 col0\" >Baker</td>\n",
              "    </tr>\n",
              "    <tr>\n",
              "      <td id=\"T_cbb1d_row2_col0\" class=\"data row2 col0\" >Boothe</td>\n",
              "    </tr>\n",
              "    <tr>\n",
              "      <td id=\"T_cbb1d_row3_col0\" class=\"data row3 col0\" >Butters</td>\n",
              "    </tr>\n",
              "    <tr>\n",
              "      <td id=\"T_cbb1d_row4_col0\" class=\"data row4 col0\" >Coplin</td>\n",
              "    </tr>\n",
              "    <tr>\n",
              "      <td id=\"T_cbb1d_row5_col0\" class=\"data row5 col0\" >Crumpet</td>\n",
              "    </tr>\n",
              "    <tr>\n",
              "      <td id=\"T_cbb1d_row6_col0\" class=\"data row6 col0\" >Dare</td>\n",
              "    </tr>\n",
              "    <tr>\n",
              "      <td id=\"T_cbb1d_row7_col0\" class=\"data row7 col0\" >Farrell</td>\n",
              "    </tr>\n",
              "    <tr>\n",
              "      <td id=\"T_cbb1d_row8_col0\" class=\"data row8 col0\" >Genting</td>\n",
              "    </tr>\n",
              "    <tr>\n",
              "      <td id=\"T_cbb1d_row9_col0\" class=\"data row9 col0\" >GUEST</td>\n",
              "    </tr>\n",
              "  </tbody>\n",
              "</table>\n"
            ]
          },
          "metadata": {},
          "execution_count": 27
        }
      ]
    },
    {
      "cell_type": "markdown",
      "source": [
        "## 1.10 Combining results from multiple queries"
      ],
      "metadata": {
        "id": "ViX2ZNiBOF0A"
      }
    },
    {
      "cell_type": "code",
      "source": [
        "# You, for some reason, want a combined list of all surnames and all facility names. Yes, this is a contrived example :-). Produce that list!\n",
        "runSelect(\"select surname from cd.members union select name from cd.facilities\")"
      ],
      "metadata": {
        "colab": {
          "base_uri": "https://localhost:8080/",
          "height": 1000
        },
        "id": "4JtPb74_OPdk",
        "outputId": "58c290d9-aad1-483c-c789-1986ff2af33c"
      },
      "execution_count": null,
      "outputs": [
        {
          "output_type": "execute_result",
          "data": {
            "text/plain": [
              "<pandas.io.formats.style.Styler at 0x7b2bef3b9cf0>"
            ],
            "text/html": [
              "<style type=\"text/css\">\n",
              "</style>\n",
              "<table id=\"T_4cdd3\" class=\"dataframe\">\n",
              "  <thead>\n",
              "    <tr>\n",
              "      <th id=\"T_4cdd3_level0_col0\" class=\"col_heading level0 col0\" >surname</th>\n",
              "    </tr>\n",
              "  </thead>\n",
              "  <tbody>\n",
              "    <tr>\n",
              "      <td id=\"T_4cdd3_row0_col0\" class=\"data row0 col0\" >Hunt</td>\n",
              "    </tr>\n",
              "    <tr>\n",
              "      <td id=\"T_4cdd3_row1_col0\" class=\"data row1 col0\" >Farrell</td>\n",
              "    </tr>\n",
              "    <tr>\n",
              "      <td id=\"T_4cdd3_row2_col0\" class=\"data row2 col0\" >Tennis Court 2</td>\n",
              "    </tr>\n",
              "    <tr>\n",
              "      <td id=\"T_4cdd3_row3_col0\" class=\"data row3 col0\" >Table Tennis</td>\n",
              "    </tr>\n",
              "    <tr>\n",
              "      <td id=\"T_4cdd3_row4_col0\" class=\"data row4 col0\" >Dare</td>\n",
              "    </tr>\n",
              "    <tr>\n",
              "      <td id=\"T_4cdd3_row5_col0\" class=\"data row5 col0\" >Rownam</td>\n",
              "    </tr>\n",
              "    <tr>\n",
              "      <td id=\"T_4cdd3_row6_col0\" class=\"data row6 col0\" >GUEST</td>\n",
              "    </tr>\n",
              "    <tr>\n",
              "      <td id=\"T_4cdd3_row7_col0\" class=\"data row7 col0\" >Badminton Court</td>\n",
              "    </tr>\n",
              "    <tr>\n",
              "      <td id=\"T_4cdd3_row8_col0\" class=\"data row8 col0\" >Smith</td>\n",
              "    </tr>\n",
              "    <tr>\n",
              "      <td id=\"T_4cdd3_row9_col0\" class=\"data row9 col0\" >Tupperware</td>\n",
              "    </tr>\n",
              "    <tr>\n",
              "      <td id=\"T_4cdd3_row10_col0\" class=\"data row10 col0\" >Owen</td>\n",
              "    </tr>\n",
              "    <tr>\n",
              "      <td id=\"T_4cdd3_row11_col0\" class=\"data row11 col0\" >Worthington-Smyth</td>\n",
              "    </tr>\n",
              "    <tr>\n",
              "      <td id=\"T_4cdd3_row12_col0\" class=\"data row12 col0\" >Butters</td>\n",
              "    </tr>\n",
              "    <tr>\n",
              "      <td id=\"T_4cdd3_row13_col0\" class=\"data row13 col0\" >Rumney</td>\n",
              "    </tr>\n",
              "    <tr>\n",
              "      <td id=\"T_4cdd3_row14_col0\" class=\"data row14 col0\" >Tracy</td>\n",
              "    </tr>\n",
              "    <tr>\n",
              "      <td id=\"T_4cdd3_row15_col0\" class=\"data row15 col0\" >Crumpet</td>\n",
              "    </tr>\n",
              "    <tr>\n",
              "      <td id=\"T_4cdd3_row16_col0\" class=\"data row16 col0\" >Purview</td>\n",
              "    </tr>\n",
              "    <tr>\n",
              "      <td id=\"T_4cdd3_row17_col0\" class=\"data row17 col0\" >Massage Room 2</td>\n",
              "    </tr>\n",
              "    <tr>\n",
              "      <td id=\"T_4cdd3_row18_col0\" class=\"data row18 col0\" >Sarwin</td>\n",
              "    </tr>\n",
              "    <tr>\n",
              "      <td id=\"T_4cdd3_row19_col0\" class=\"data row19 col0\" >Baker</td>\n",
              "    </tr>\n",
              "    <tr>\n",
              "      <td id=\"T_4cdd3_row20_col0\" class=\"data row20 col0\" >Pool Table</td>\n",
              "    </tr>\n",
              "    <tr>\n",
              "      <td id=\"T_4cdd3_row21_col0\" class=\"data row21 col0\" >Snooker Table</td>\n",
              "    </tr>\n",
              "    <tr>\n",
              "      <td id=\"T_4cdd3_row22_col0\" class=\"data row22 col0\" >Jones</td>\n",
              "    </tr>\n",
              "    <tr>\n",
              "      <td id=\"T_4cdd3_row23_col0\" class=\"data row23 col0\" >Coplin</td>\n",
              "    </tr>\n",
              "    <tr>\n",
              "      <td id=\"T_4cdd3_row24_col0\" class=\"data row24 col0\" >Mackenzie</td>\n",
              "    </tr>\n",
              "    <tr>\n",
              "      <td id=\"T_4cdd3_row25_col0\" class=\"data row25 col0\" >Boothe</td>\n",
              "    </tr>\n",
              "    <tr>\n",
              "      <td id=\"T_4cdd3_row26_col0\" class=\"data row26 col0\" >Joplette</td>\n",
              "    </tr>\n",
              "    <tr>\n",
              "      <td id=\"T_4cdd3_row27_col0\" class=\"data row27 col0\" >Stibbons</td>\n",
              "    </tr>\n",
              "    <tr>\n",
              "      <td id=\"T_4cdd3_row28_col0\" class=\"data row28 col0\" >Squash Court</td>\n",
              "    </tr>\n",
              "    <tr>\n",
              "      <td id=\"T_4cdd3_row29_col0\" class=\"data row29 col0\" >Tennis Court 1</td>\n",
              "    </tr>\n",
              "    <tr>\n",
              "      <td id=\"T_4cdd3_row30_col0\" class=\"data row30 col0\" >Pinker</td>\n",
              "    </tr>\n",
              "    <tr>\n",
              "      <td id=\"T_4cdd3_row31_col0\" class=\"data row31 col0\" >Genting</td>\n",
              "    </tr>\n",
              "    <tr>\n",
              "      <td id=\"T_4cdd3_row32_col0\" class=\"data row32 col0\" >Bader</td>\n",
              "    </tr>\n",
              "    <tr>\n",
              "      <td id=\"T_4cdd3_row33_col0\" class=\"data row33 col0\" >Massage Room 1</td>\n",
              "    </tr>\n",
              "  </tbody>\n",
              "</table>\n"
            ]
          },
          "metadata": {},
          "execution_count": 28
        }
      ]
    },
    {
      "cell_type": "markdown",
      "source": [
        "## 1.11 Simple aggregation"
      ],
      "metadata": {
        "id": "oB_99n9SPIiK"
      }
    },
    {
      "cell_type": "code",
      "source": [
        "# You'd like to get the signup date of your last member. How can you retrieve this information?\n",
        "runSelect(\"select max(joindate) Latest_Signup from cd.members\")"
      ],
      "metadata": {
        "colab": {
          "base_uri": "https://localhost:8080/",
          "height": 81
        },
        "id": "eDnj2Ae-POtu",
        "outputId": "bf8bf317-1037-437a-faa4-96088a0e251b"
      },
      "execution_count": null,
      "outputs": [
        {
          "output_type": "execute_result",
          "data": {
            "text/plain": [
              "<pandas.io.formats.style.Styler at 0x7b2bef3baaa0>"
            ],
            "text/html": [
              "<style type=\"text/css\">\n",
              "</style>\n",
              "<table id=\"T_439e6\" class=\"dataframe\">\n",
              "  <thead>\n",
              "    <tr>\n",
              "      <th id=\"T_439e6_level0_col0\" class=\"col_heading level0 col0\" >latest_signup</th>\n",
              "    </tr>\n",
              "  </thead>\n",
              "  <tbody>\n",
              "    <tr>\n",
              "      <td id=\"T_439e6_row0_col0\" class=\"data row0 col0\" >2012-09-26 18:08:45</td>\n",
              "    </tr>\n",
              "  </tbody>\n",
              "</table>\n"
            ]
          },
          "metadata": {},
          "execution_count": 29
        }
      ]
    },
    {
      "cell_type": "markdown",
      "source": [
        "## 1.12 More aggregation"
      ],
      "metadata": {
        "id": "I-5kWzelQA4l"
      }
    },
    {
      "cell_type": "code",
      "source": [
        "# You'd like to get the first and last name of the last member(s) who signed up - not just the date. How can you do that?"
      ],
      "metadata": {
        "id": "O8WWqer8QKA6"
      },
      "execution_count": null,
      "outputs": []
    },
    {
      "cell_type": "code",
      "source": [
        "runSelect(\"select firstname, surname, joindate from cd.members where joindate = (select max(joindate) from cd.members)\")"
      ],
      "metadata": {
        "colab": {
          "base_uri": "https://localhost:8080/",
          "height": 81
        },
        "id": "mN3eFtGVQQTj",
        "outputId": "e716d19b-b08a-4c19-9daa-f98d812a55d3"
      },
      "execution_count": null,
      "outputs": [
        {
          "output_type": "execute_result",
          "data": {
            "text/plain": [
              "<pandas.io.formats.style.Styler at 0x7b2bef3ba530>"
            ],
            "text/html": [
              "<style type=\"text/css\">\n",
              "</style>\n",
              "<table id=\"T_f42c1\" class=\"dataframe\">\n",
              "  <thead>\n",
              "    <tr>\n",
              "      <th id=\"T_f42c1_level0_col0\" class=\"col_heading level0 col0\" >firstname</th>\n",
              "      <th id=\"T_f42c1_level0_col1\" class=\"col_heading level0 col1\" >surname</th>\n",
              "      <th id=\"T_f42c1_level0_col2\" class=\"col_heading level0 col2\" >joindate</th>\n",
              "    </tr>\n",
              "  </thead>\n",
              "  <tbody>\n",
              "    <tr>\n",
              "      <td id=\"T_f42c1_row0_col0\" class=\"data row0 col0\" >Darren</td>\n",
              "      <td id=\"T_f42c1_row0_col1\" class=\"data row0 col1\" >Smith</td>\n",
              "      <td id=\"T_f42c1_row0_col2\" class=\"data row0 col2\" >2012-09-26 18:08:45</td>\n",
              "    </tr>\n",
              "  </tbody>\n",
              "</table>\n"
            ]
          },
          "metadata": {},
          "execution_count": 31
        }
      ]
    },
    {
      "cell_type": "markdown",
      "source": [
        "# Joins and Subqueries"
      ],
      "metadata": {
        "id": "Qyg-7ftMfgL1"
      }
    },
    {
      "cell_type": "markdown",
      "source": [
        "## 2.1 Retrieve the start times of members' bookings"
      ],
      "metadata": {
        "id": "Z9xkqePLobzt"
      }
    },
    {
      "cell_type": "code",
      "source": [
        "# How can you produce a list of the start times for bookings by members named 'David Farrell'?\n",
        "runSelect(\"select starttime from cd.bookings, cd.members where cd.bookings.memid = cd.members.memid and cd.members.firstname = 'David' and cd.members.surname = 'Farrell'\")"
      ],
      "metadata": {
        "colab": {
          "base_uri": "https://localhost:8080/",
          "height": 1000
        },
        "id": "AmatUmQ1okNE",
        "outputId": "2beea8fa-5b9e-4321-8fd2-dba9db5855ee"
      },
      "execution_count": null,
      "outputs": [
        {
          "output_type": "execute_result",
          "data": {
            "text/plain": [
              "<pandas.io.formats.style.Styler at 0x7b2bef3d3880>"
            ],
            "text/html": [
              "<style type=\"text/css\">\n",
              "</style>\n",
              "<table id=\"T_0b9bd\" class=\"dataframe\">\n",
              "  <thead>\n",
              "    <tr>\n",
              "      <th id=\"T_0b9bd_level0_col0\" class=\"col_heading level0 col0\" >starttime</th>\n",
              "    </tr>\n",
              "  </thead>\n",
              "  <tbody>\n",
              "    <tr>\n",
              "      <td id=\"T_0b9bd_row0_col0\" class=\"data row0 col0\" >2012-09-18 09:00:00</td>\n",
              "    </tr>\n",
              "    <tr>\n",
              "      <td id=\"T_0b9bd_row1_col0\" class=\"data row1 col0\" >2012-09-18 17:30:00</td>\n",
              "    </tr>\n",
              "    <tr>\n",
              "      <td id=\"T_0b9bd_row2_col0\" class=\"data row2 col0\" >2012-09-18 13:30:00</td>\n",
              "    </tr>\n",
              "    <tr>\n",
              "      <td id=\"T_0b9bd_row3_col0\" class=\"data row3 col0\" >2012-09-18 20:00:00</td>\n",
              "    </tr>\n",
              "    <tr>\n",
              "      <td id=\"T_0b9bd_row4_col0\" class=\"data row4 col0\" >2012-09-19 09:30:00</td>\n",
              "    </tr>\n",
              "    <tr>\n",
              "      <td id=\"T_0b9bd_row5_col0\" class=\"data row5 col0\" >2012-09-19 15:00:00</td>\n",
              "    </tr>\n",
              "    <tr>\n",
              "      <td id=\"T_0b9bd_row6_col0\" class=\"data row6 col0\" >2012-09-19 12:00:00</td>\n",
              "    </tr>\n",
              "    <tr>\n",
              "      <td id=\"T_0b9bd_row7_col0\" class=\"data row7 col0\" >2012-09-20 15:30:00</td>\n",
              "    </tr>\n",
              "    <tr>\n",
              "      <td id=\"T_0b9bd_row8_col0\" class=\"data row8 col0\" >2012-09-20 11:30:00</td>\n",
              "    </tr>\n",
              "    <tr>\n",
              "      <td id=\"T_0b9bd_row9_col0\" class=\"data row9 col0\" >2012-09-20 14:00:00</td>\n",
              "    </tr>\n",
              "    <tr>\n",
              "      <td id=\"T_0b9bd_row10_col0\" class=\"data row10 col0\" >2012-09-21 10:30:00</td>\n",
              "    </tr>\n",
              "    <tr>\n",
              "      <td id=\"T_0b9bd_row11_col0\" class=\"data row11 col0\" >2012-09-21 14:00:00</td>\n",
              "    </tr>\n",
              "    <tr>\n",
              "      <td id=\"T_0b9bd_row12_col0\" class=\"data row12 col0\" >2012-09-22 08:30:00</td>\n",
              "    </tr>\n",
              "    <tr>\n",
              "      <td id=\"T_0b9bd_row13_col0\" class=\"data row13 col0\" >2012-09-22 17:00:00</td>\n",
              "    </tr>\n",
              "    <tr>\n",
              "      <td id=\"T_0b9bd_row14_col0\" class=\"data row14 col0\" >2012-09-23 08:30:00</td>\n",
              "    </tr>\n",
              "    <tr>\n",
              "      <td id=\"T_0b9bd_row15_col0\" class=\"data row15 col0\" >2012-09-23 17:30:00</td>\n",
              "    </tr>\n",
              "    <tr>\n",
              "      <td id=\"T_0b9bd_row16_col0\" class=\"data row16 col0\" >2012-09-23 19:00:00</td>\n",
              "    </tr>\n",
              "    <tr>\n",
              "      <td id=\"T_0b9bd_row17_col0\" class=\"data row17 col0\" >2012-09-24 08:00:00</td>\n",
              "    </tr>\n",
              "    <tr>\n",
              "      <td id=\"T_0b9bd_row18_col0\" class=\"data row18 col0\" >2012-09-24 16:30:00</td>\n",
              "    </tr>\n",
              "    <tr>\n",
              "      <td id=\"T_0b9bd_row19_col0\" class=\"data row19 col0\" >2012-09-24 12:30:00</td>\n",
              "    </tr>\n",
              "    <tr>\n",
              "      <td id=\"T_0b9bd_row20_col0\" class=\"data row20 col0\" >2012-09-25 15:30:00</td>\n",
              "    </tr>\n",
              "    <tr>\n",
              "      <td id=\"T_0b9bd_row21_col0\" class=\"data row21 col0\" >2012-09-25 17:00:00</td>\n",
              "    </tr>\n",
              "    <tr>\n",
              "      <td id=\"T_0b9bd_row22_col0\" class=\"data row22 col0\" >2012-09-26 13:00:00</td>\n",
              "    </tr>\n",
              "    <tr>\n",
              "      <td id=\"T_0b9bd_row23_col0\" class=\"data row23 col0\" >2012-09-26 17:00:00</td>\n",
              "    </tr>\n",
              "    <tr>\n",
              "      <td id=\"T_0b9bd_row24_col0\" class=\"data row24 col0\" >2012-09-27 08:00:00</td>\n",
              "    </tr>\n",
              "    <tr>\n",
              "      <td id=\"T_0b9bd_row25_col0\" class=\"data row25 col0\" >2012-09-28 11:30:00</td>\n",
              "    </tr>\n",
              "    <tr>\n",
              "      <td id=\"T_0b9bd_row26_col0\" class=\"data row26 col0\" >2012-09-28 09:30:00</td>\n",
              "    </tr>\n",
              "    <tr>\n",
              "      <td id=\"T_0b9bd_row27_col0\" class=\"data row27 col0\" >2012-09-28 13:00:00</td>\n",
              "    </tr>\n",
              "    <tr>\n",
              "      <td id=\"T_0b9bd_row28_col0\" class=\"data row28 col0\" >2012-09-29 16:00:00</td>\n",
              "    </tr>\n",
              "    <tr>\n",
              "      <td id=\"T_0b9bd_row29_col0\" class=\"data row29 col0\" >2012-09-29 10:30:00</td>\n",
              "    </tr>\n",
              "    <tr>\n",
              "      <td id=\"T_0b9bd_row30_col0\" class=\"data row30 col0\" >2012-09-29 13:30:00</td>\n",
              "    </tr>\n",
              "    <tr>\n",
              "      <td id=\"T_0b9bd_row31_col0\" class=\"data row31 col0\" >2012-09-29 14:30:00</td>\n",
              "    </tr>\n",
              "    <tr>\n",
              "      <td id=\"T_0b9bd_row32_col0\" class=\"data row32 col0\" >2012-09-29 17:30:00</td>\n",
              "    </tr>\n",
              "    <tr>\n",
              "      <td id=\"T_0b9bd_row33_col0\" class=\"data row33 col0\" >2012-09-30 14:30:00</td>\n",
              "    </tr>\n",
              "  </tbody>\n",
              "</table>\n"
            ]
          },
          "metadata": {},
          "execution_count": 32
        }
      ]
    },
    {
      "cell_type": "markdown",
      "source": [
        "## 2.2 Work out the start times of bookings for tennis courts"
      ],
      "metadata": {
        "id": "cxrU4Hi0RVrg"
      }
    },
    {
      "cell_type": "code",
      "source": [
        "# How can you produce a list of the start times for bookings for tennis courts, for the date '2012-09-21'? Return a list of start time and facility name pairings, ordered by the time.\n",
        "runSelect(\"select name, starttime as start from cd.bookings INNER JOIN cd.facilities ON cd.facilities.facid = cd.bookings.facid where name in ('Tennis Court 2','Tennis Court 1') and starttime >= '2012-09-21' and starttime < '2012-09-22' order by starttime\")"
      ],
      "metadata": {
        "colab": {
          "base_uri": "https://localhost:8080/",
          "height": 425
        },
        "id": "wnT-b-0DRhEh",
        "outputId": "2e95437e-f0bd-4574-a810-cf4fcd6ae083"
      },
      "execution_count": null,
      "outputs": [
        {
          "output_type": "execute_result",
          "data": {
            "text/plain": [
              "<pandas.io.formats.style.Styler at 0x7b2bef3d3670>"
            ],
            "text/html": [
              "<style type=\"text/css\">\n",
              "</style>\n",
              "<table id=\"T_d9b71\" class=\"dataframe\">\n",
              "  <thead>\n",
              "    <tr>\n",
              "      <th id=\"T_d9b71_level0_col0\" class=\"col_heading level0 col0\" >name</th>\n",
              "      <th id=\"T_d9b71_level0_col1\" class=\"col_heading level0 col1\" >start</th>\n",
              "    </tr>\n",
              "  </thead>\n",
              "  <tbody>\n",
              "    <tr>\n",
              "      <td id=\"T_d9b71_row0_col0\" class=\"data row0 col0\" >Tennis Court 1</td>\n",
              "      <td id=\"T_d9b71_row0_col1\" class=\"data row0 col1\" >2012-09-21 08:00:00</td>\n",
              "    </tr>\n",
              "    <tr>\n",
              "      <td id=\"T_d9b71_row1_col0\" class=\"data row1 col0\" >Tennis Court 2</td>\n",
              "      <td id=\"T_d9b71_row1_col1\" class=\"data row1 col1\" >2012-09-21 08:00:00</td>\n",
              "    </tr>\n",
              "    <tr>\n",
              "      <td id=\"T_d9b71_row2_col0\" class=\"data row2 col0\" >Tennis Court 1</td>\n",
              "      <td id=\"T_d9b71_row2_col1\" class=\"data row2 col1\" >2012-09-21 09:30:00</td>\n",
              "    </tr>\n",
              "    <tr>\n",
              "      <td id=\"T_d9b71_row3_col0\" class=\"data row3 col0\" >Tennis Court 2</td>\n",
              "      <td id=\"T_d9b71_row3_col1\" class=\"data row3 col1\" >2012-09-21 10:00:00</td>\n",
              "    </tr>\n",
              "    <tr>\n",
              "      <td id=\"T_d9b71_row4_col0\" class=\"data row4 col0\" >Tennis Court 2</td>\n",
              "      <td id=\"T_d9b71_row4_col1\" class=\"data row4 col1\" >2012-09-21 11:30:00</td>\n",
              "    </tr>\n",
              "    <tr>\n",
              "      <td id=\"T_d9b71_row5_col0\" class=\"data row5 col0\" >Tennis Court 1</td>\n",
              "      <td id=\"T_d9b71_row5_col1\" class=\"data row5 col1\" >2012-09-21 12:00:00</td>\n",
              "    </tr>\n",
              "    <tr>\n",
              "      <td id=\"T_d9b71_row6_col0\" class=\"data row6 col0\" >Tennis Court 1</td>\n",
              "      <td id=\"T_d9b71_row6_col1\" class=\"data row6 col1\" >2012-09-21 13:30:00</td>\n",
              "    </tr>\n",
              "    <tr>\n",
              "      <td id=\"T_d9b71_row7_col0\" class=\"data row7 col0\" >Tennis Court 2</td>\n",
              "      <td id=\"T_d9b71_row7_col1\" class=\"data row7 col1\" >2012-09-21 14:00:00</td>\n",
              "    </tr>\n",
              "    <tr>\n",
              "      <td id=\"T_d9b71_row8_col0\" class=\"data row8 col0\" >Tennis Court 1</td>\n",
              "      <td id=\"T_d9b71_row8_col1\" class=\"data row8 col1\" >2012-09-21 15:30:00</td>\n",
              "    </tr>\n",
              "    <tr>\n",
              "      <td id=\"T_d9b71_row9_col0\" class=\"data row9 col0\" >Tennis Court 2</td>\n",
              "      <td id=\"T_d9b71_row9_col1\" class=\"data row9 col1\" >2012-09-21 16:00:00</td>\n",
              "    </tr>\n",
              "    <tr>\n",
              "      <td id=\"T_d9b71_row10_col0\" class=\"data row10 col0\" >Tennis Court 1</td>\n",
              "      <td id=\"T_d9b71_row10_col1\" class=\"data row10 col1\" >2012-09-21 17:00:00</td>\n",
              "    </tr>\n",
              "    <tr>\n",
              "      <td id=\"T_d9b71_row11_col0\" class=\"data row11 col0\" >Tennis Court 2</td>\n",
              "      <td id=\"T_d9b71_row11_col1\" class=\"data row11 col1\" >2012-09-21 18:00:00</td>\n",
              "    </tr>\n",
              "  </tbody>\n",
              "</table>\n"
            ]
          },
          "metadata": {},
          "execution_count": 33
        }
      ]
    },
    {
      "cell_type": "markdown",
      "source": [
        "## 2.3 Produce a list of all members who have recommended another member\n"
      ],
      "metadata": {
        "id": "qgu4mV9Aq4cN"
      }
    },
    {
      "cell_type": "code",
      "source": [
        "# How can you output a list of all members who have recommended another member? Ensure that there are no duplicates in the list, and that results are ordered by (surname, firstname).\n",
        "runSelect(\"select distinct mem2.firstname as firstname, mem2.surname as surname from cd.members mem1 INNER JOIN cd.members mem2 on mem1.memid = mem2.recommendedby order by surname, firstname\")"
      ],
      "metadata": {
        "colab": {
          "base_uri": "https://localhost:8080/",
          "height": 739
        },
        "id": "bdgLSxO0rXru",
        "outputId": "51b7f97c-7cfe-4e37-917d-9b25a7a0147b"
      },
      "execution_count": null,
      "outputs": [
        {
          "output_type": "execute_result",
          "data": {
            "text/plain": [
              "<pandas.io.formats.style.Styler at 0x7b2bef3d2e00>"
            ],
            "text/html": [
              "<style type=\"text/css\">\n",
              "</style>\n",
              "<table id=\"T_cd385\" class=\"dataframe\">\n",
              "  <thead>\n",
              "    <tr>\n",
              "      <th id=\"T_cd385_level0_col0\" class=\"col_heading level0 col0\" >firstname</th>\n",
              "      <th id=\"T_cd385_level0_col1\" class=\"col_heading level0 col1\" >surname</th>\n",
              "    </tr>\n",
              "  </thead>\n",
              "  <tbody>\n",
              "    <tr>\n",
              "      <td id=\"T_cd385_row0_col0\" class=\"data row0 col0\" >Florence</td>\n",
              "      <td id=\"T_cd385_row0_col1\" class=\"data row0 col1\" >Bader</td>\n",
              "    </tr>\n",
              "    <tr>\n",
              "      <td id=\"T_cd385_row1_col0\" class=\"data row1 col0\" >Anne</td>\n",
              "      <td id=\"T_cd385_row1_col1\" class=\"data row1 col1\" >Baker</td>\n",
              "    </tr>\n",
              "    <tr>\n",
              "      <td id=\"T_cd385_row2_col0\" class=\"data row2 col0\" >Timothy</td>\n",
              "      <td id=\"T_cd385_row2_col1\" class=\"data row2 col1\" >Baker</td>\n",
              "    </tr>\n",
              "    <tr>\n",
              "      <td id=\"T_cd385_row3_col0\" class=\"data row3 col0\" >Tim</td>\n",
              "      <td id=\"T_cd385_row3_col1\" class=\"data row3 col1\" >Boothe</td>\n",
              "    </tr>\n",
              "    <tr>\n",
              "      <td id=\"T_cd385_row4_col0\" class=\"data row4 col0\" >Gerald</td>\n",
              "      <td id=\"T_cd385_row4_col1\" class=\"data row4 col1\" >Butters</td>\n",
              "    </tr>\n",
              "    <tr>\n",
              "      <td id=\"T_cd385_row5_col0\" class=\"data row5 col0\" >Joan</td>\n",
              "      <td id=\"T_cd385_row5_col1\" class=\"data row5 col1\" >Coplin</td>\n",
              "    </tr>\n",
              "    <tr>\n",
              "      <td id=\"T_cd385_row6_col0\" class=\"data row6 col0\" >Erica</td>\n",
              "      <td id=\"T_cd385_row6_col1\" class=\"data row6 col1\" >Crumpet</td>\n",
              "    </tr>\n",
              "    <tr>\n",
              "      <td id=\"T_cd385_row7_col0\" class=\"data row7 col0\" >Nancy</td>\n",
              "      <td id=\"T_cd385_row7_col1\" class=\"data row7 col1\" >Dare</td>\n",
              "    </tr>\n",
              "    <tr>\n",
              "      <td id=\"T_cd385_row8_col0\" class=\"data row8 col0\" >Matthew</td>\n",
              "      <td id=\"T_cd385_row8_col1\" class=\"data row8 col1\" >Genting</td>\n",
              "    </tr>\n",
              "    <tr>\n",
              "      <td id=\"T_cd385_row9_col0\" class=\"data row9 col0\" >John</td>\n",
              "      <td id=\"T_cd385_row9_col1\" class=\"data row9 col1\" >Hunt</td>\n",
              "    </tr>\n",
              "    <tr>\n",
              "      <td id=\"T_cd385_row10_col0\" class=\"data row10 col0\" >David</td>\n",
              "      <td id=\"T_cd385_row10_col1\" class=\"data row10 col1\" >Jones</td>\n",
              "    </tr>\n",
              "    <tr>\n",
              "      <td id=\"T_cd385_row11_col0\" class=\"data row11 col0\" >Douglas</td>\n",
              "      <td id=\"T_cd385_row11_col1\" class=\"data row11 col1\" >Jones</td>\n",
              "    </tr>\n",
              "    <tr>\n",
              "      <td id=\"T_cd385_row12_col0\" class=\"data row12 col0\" >Janice</td>\n",
              "      <td id=\"T_cd385_row12_col1\" class=\"data row12 col1\" >Joplette</td>\n",
              "    </tr>\n",
              "    <tr>\n",
              "      <td id=\"T_cd385_row13_col0\" class=\"data row13 col0\" >Anna</td>\n",
              "      <td id=\"T_cd385_row13_col1\" class=\"data row13 col1\" >Mackenzie</td>\n",
              "    </tr>\n",
              "    <tr>\n",
              "      <td id=\"T_cd385_row14_col0\" class=\"data row14 col0\" >Charles</td>\n",
              "      <td id=\"T_cd385_row14_col1\" class=\"data row14 col1\" >Owen</td>\n",
              "    </tr>\n",
              "    <tr>\n",
              "      <td id=\"T_cd385_row15_col0\" class=\"data row15 col0\" >David</td>\n",
              "      <td id=\"T_cd385_row15_col1\" class=\"data row15 col1\" >Pinker</td>\n",
              "    </tr>\n",
              "    <tr>\n",
              "      <td id=\"T_cd385_row16_col0\" class=\"data row16 col0\" >Millicent</td>\n",
              "      <td id=\"T_cd385_row16_col1\" class=\"data row16 col1\" >Purview</td>\n",
              "    </tr>\n",
              "    <tr>\n",
              "      <td id=\"T_cd385_row17_col0\" class=\"data row17 col0\" >Henrietta</td>\n",
              "      <td id=\"T_cd385_row17_col1\" class=\"data row17 col1\" >Rumney</td>\n",
              "    </tr>\n",
              "    <tr>\n",
              "      <td id=\"T_cd385_row18_col0\" class=\"data row18 col0\" >Ramnaresh</td>\n",
              "      <td id=\"T_cd385_row18_col1\" class=\"data row18 col1\" >Sarwin</td>\n",
              "    </tr>\n",
              "    <tr>\n",
              "      <td id=\"T_cd385_row19_col0\" class=\"data row19 col0\" >Jack</td>\n",
              "      <td id=\"T_cd385_row19_col1\" class=\"data row19 col1\" >Smith</td>\n",
              "    </tr>\n",
              "    <tr>\n",
              "      <td id=\"T_cd385_row20_col0\" class=\"data row20 col0\" >Ponder</td>\n",
              "      <td id=\"T_cd385_row20_col1\" class=\"data row20 col1\" >Stibbons</td>\n",
              "    </tr>\n",
              "    <tr>\n",
              "      <td id=\"T_cd385_row21_col0\" class=\"data row21 col0\" >Henry</td>\n",
              "      <td id=\"T_cd385_row21_col1\" class=\"data row21 col1\" >Worthington-Smyth</td>\n",
              "    </tr>\n",
              "  </tbody>\n",
              "</table>\n"
            ]
          },
          "metadata": {},
          "execution_count": 34
        }
      ]
    },
    {
      "cell_type": "markdown",
      "source": [
        "## 2.4 Produce a list of all members, along with their recommender"
      ],
      "metadata": {
        "id": "LIH9pnaeM21b"
      }
    },
    {
      "cell_type": "code",
      "source": [
        "# How can you output a list of all members, including the individual who recommended them (if any)? Ensure that results are ordered by (surname, firstname).\n",
        "runSelect(\"select w.firstname as memfname, w.surname as memsname, m.firstname as recfname, m.surname as recsname from cd.members w LEFT OUTER JOIN cd.members m ON m.memid = w.recommendedby order by memsname, memfname\")"
      ],
      "metadata": {
        "colab": {
          "base_uri": "https://localhost:8080/",
          "height": 1000
        },
        "id": "Lte8Zds9NIQd",
        "outputId": "51f401c4-f770-49c2-fcdb-4a6f405403e3"
      },
      "execution_count": null,
      "outputs": [
        {
          "output_type": "execute_result",
          "data": {
            "text/plain": [
              "<pandas.io.formats.style.Styler at 0x7b2bef3bb490>"
            ],
            "text/html": [
              "<style type=\"text/css\">\n",
              "</style>\n",
              "<table id=\"T_8a7b3\" class=\"dataframe\">\n",
              "  <thead>\n",
              "    <tr>\n",
              "      <th id=\"T_8a7b3_level0_col0\" class=\"col_heading level0 col0\" >memfname</th>\n",
              "      <th id=\"T_8a7b3_level0_col1\" class=\"col_heading level0 col1\" >memsname</th>\n",
              "      <th id=\"T_8a7b3_level0_col2\" class=\"col_heading level0 col2\" >recfname</th>\n",
              "      <th id=\"T_8a7b3_level0_col3\" class=\"col_heading level0 col3\" >recsname</th>\n",
              "    </tr>\n",
              "  </thead>\n",
              "  <tbody>\n",
              "    <tr>\n",
              "      <td id=\"T_8a7b3_row0_col0\" class=\"data row0 col0\" >Florence</td>\n",
              "      <td id=\"T_8a7b3_row0_col1\" class=\"data row0 col1\" >Bader</td>\n",
              "      <td id=\"T_8a7b3_row0_col2\" class=\"data row0 col2\" >Ponder</td>\n",
              "      <td id=\"T_8a7b3_row0_col3\" class=\"data row0 col3\" >Stibbons</td>\n",
              "    </tr>\n",
              "    <tr>\n",
              "      <td id=\"T_8a7b3_row1_col0\" class=\"data row1 col0\" >Anne</td>\n",
              "      <td id=\"T_8a7b3_row1_col1\" class=\"data row1 col1\" >Baker</td>\n",
              "      <td id=\"T_8a7b3_row1_col2\" class=\"data row1 col2\" >Ponder</td>\n",
              "      <td id=\"T_8a7b3_row1_col3\" class=\"data row1 col3\" >Stibbons</td>\n",
              "    </tr>\n",
              "    <tr>\n",
              "      <td id=\"T_8a7b3_row2_col0\" class=\"data row2 col0\" >Timothy</td>\n",
              "      <td id=\"T_8a7b3_row2_col1\" class=\"data row2 col1\" >Baker</td>\n",
              "      <td id=\"T_8a7b3_row2_col2\" class=\"data row2 col2\" >Jemima</td>\n",
              "      <td id=\"T_8a7b3_row2_col3\" class=\"data row2 col3\" >Farrell</td>\n",
              "    </tr>\n",
              "    <tr>\n",
              "      <td id=\"T_8a7b3_row3_col0\" class=\"data row3 col0\" >Tim</td>\n",
              "      <td id=\"T_8a7b3_row3_col1\" class=\"data row3 col1\" >Boothe</td>\n",
              "      <td id=\"T_8a7b3_row3_col2\" class=\"data row3 col2\" >Tim</td>\n",
              "      <td id=\"T_8a7b3_row3_col3\" class=\"data row3 col3\" >Rownam</td>\n",
              "    </tr>\n",
              "    <tr>\n",
              "      <td id=\"T_8a7b3_row4_col0\" class=\"data row4 col0\" >Gerald</td>\n",
              "      <td id=\"T_8a7b3_row4_col1\" class=\"data row4 col1\" >Butters</td>\n",
              "      <td id=\"T_8a7b3_row4_col2\" class=\"data row4 col2\" >Darren</td>\n",
              "      <td id=\"T_8a7b3_row4_col3\" class=\"data row4 col3\" >Smith</td>\n",
              "    </tr>\n",
              "    <tr>\n",
              "      <td id=\"T_8a7b3_row5_col0\" class=\"data row5 col0\" >Joan</td>\n",
              "      <td id=\"T_8a7b3_row5_col1\" class=\"data row5 col1\" >Coplin</td>\n",
              "      <td id=\"T_8a7b3_row5_col2\" class=\"data row5 col2\" >Timothy</td>\n",
              "      <td id=\"T_8a7b3_row5_col3\" class=\"data row5 col3\" >Baker</td>\n",
              "    </tr>\n",
              "    <tr>\n",
              "      <td id=\"T_8a7b3_row6_col0\" class=\"data row6 col0\" >Erica</td>\n",
              "      <td id=\"T_8a7b3_row6_col1\" class=\"data row6 col1\" >Crumpet</td>\n",
              "      <td id=\"T_8a7b3_row6_col2\" class=\"data row6 col2\" >Tracy</td>\n",
              "      <td id=\"T_8a7b3_row6_col3\" class=\"data row6 col3\" >Smith</td>\n",
              "    </tr>\n",
              "    <tr>\n",
              "      <td id=\"T_8a7b3_row7_col0\" class=\"data row7 col0\" >Nancy</td>\n",
              "      <td id=\"T_8a7b3_row7_col1\" class=\"data row7 col1\" >Dare</td>\n",
              "      <td id=\"T_8a7b3_row7_col2\" class=\"data row7 col2\" >Janice</td>\n",
              "      <td id=\"T_8a7b3_row7_col3\" class=\"data row7 col3\" >Joplette</td>\n",
              "    </tr>\n",
              "    <tr>\n",
              "      <td id=\"T_8a7b3_row8_col0\" class=\"data row8 col0\" >David</td>\n",
              "      <td id=\"T_8a7b3_row8_col1\" class=\"data row8 col1\" >Farrell</td>\n",
              "      <td id=\"T_8a7b3_row8_col2\" class=\"data row8 col2\" >None</td>\n",
              "      <td id=\"T_8a7b3_row8_col3\" class=\"data row8 col3\" >None</td>\n",
              "    </tr>\n",
              "    <tr>\n",
              "      <td id=\"T_8a7b3_row9_col0\" class=\"data row9 col0\" >Jemima</td>\n",
              "      <td id=\"T_8a7b3_row9_col1\" class=\"data row9 col1\" >Farrell</td>\n",
              "      <td id=\"T_8a7b3_row9_col2\" class=\"data row9 col2\" >None</td>\n",
              "      <td id=\"T_8a7b3_row9_col3\" class=\"data row9 col3\" >None</td>\n",
              "    </tr>\n",
              "    <tr>\n",
              "      <td id=\"T_8a7b3_row10_col0\" class=\"data row10 col0\" >Matthew</td>\n",
              "      <td id=\"T_8a7b3_row10_col1\" class=\"data row10 col1\" >Genting</td>\n",
              "      <td id=\"T_8a7b3_row10_col2\" class=\"data row10 col2\" >Gerald</td>\n",
              "      <td id=\"T_8a7b3_row10_col3\" class=\"data row10 col3\" >Butters</td>\n",
              "    </tr>\n",
              "    <tr>\n",
              "      <td id=\"T_8a7b3_row11_col0\" class=\"data row11 col0\" >GUEST</td>\n",
              "      <td id=\"T_8a7b3_row11_col1\" class=\"data row11 col1\" >GUEST</td>\n",
              "      <td id=\"T_8a7b3_row11_col2\" class=\"data row11 col2\" >None</td>\n",
              "      <td id=\"T_8a7b3_row11_col3\" class=\"data row11 col3\" >None</td>\n",
              "    </tr>\n",
              "    <tr>\n",
              "      <td id=\"T_8a7b3_row12_col0\" class=\"data row12 col0\" >John</td>\n",
              "      <td id=\"T_8a7b3_row12_col1\" class=\"data row12 col1\" >Hunt</td>\n",
              "      <td id=\"T_8a7b3_row12_col2\" class=\"data row12 col2\" >Millicent</td>\n",
              "      <td id=\"T_8a7b3_row12_col3\" class=\"data row12 col3\" >Purview</td>\n",
              "    </tr>\n",
              "    <tr>\n",
              "      <td id=\"T_8a7b3_row13_col0\" class=\"data row13 col0\" >David</td>\n",
              "      <td id=\"T_8a7b3_row13_col1\" class=\"data row13 col1\" >Jones</td>\n",
              "      <td id=\"T_8a7b3_row13_col2\" class=\"data row13 col2\" >Janice</td>\n",
              "      <td id=\"T_8a7b3_row13_col3\" class=\"data row13 col3\" >Joplette</td>\n",
              "    </tr>\n",
              "    <tr>\n",
              "      <td id=\"T_8a7b3_row14_col0\" class=\"data row14 col0\" >Douglas</td>\n",
              "      <td id=\"T_8a7b3_row14_col1\" class=\"data row14 col1\" >Jones</td>\n",
              "      <td id=\"T_8a7b3_row14_col2\" class=\"data row14 col2\" >David</td>\n",
              "      <td id=\"T_8a7b3_row14_col3\" class=\"data row14 col3\" >Jones</td>\n",
              "    </tr>\n",
              "    <tr>\n",
              "      <td id=\"T_8a7b3_row15_col0\" class=\"data row15 col0\" >Janice</td>\n",
              "      <td id=\"T_8a7b3_row15_col1\" class=\"data row15 col1\" >Joplette</td>\n",
              "      <td id=\"T_8a7b3_row15_col2\" class=\"data row15 col2\" >Darren</td>\n",
              "      <td id=\"T_8a7b3_row15_col3\" class=\"data row15 col3\" >Smith</td>\n",
              "    </tr>\n",
              "    <tr>\n",
              "      <td id=\"T_8a7b3_row16_col0\" class=\"data row16 col0\" >Anna</td>\n",
              "      <td id=\"T_8a7b3_row16_col1\" class=\"data row16 col1\" >Mackenzie</td>\n",
              "      <td id=\"T_8a7b3_row16_col2\" class=\"data row16 col2\" >Darren</td>\n",
              "      <td id=\"T_8a7b3_row16_col3\" class=\"data row16 col3\" >Smith</td>\n",
              "    </tr>\n",
              "    <tr>\n",
              "      <td id=\"T_8a7b3_row17_col0\" class=\"data row17 col0\" >Charles</td>\n",
              "      <td id=\"T_8a7b3_row17_col1\" class=\"data row17 col1\" >Owen</td>\n",
              "      <td id=\"T_8a7b3_row17_col2\" class=\"data row17 col2\" >Darren</td>\n",
              "      <td id=\"T_8a7b3_row17_col3\" class=\"data row17 col3\" >Smith</td>\n",
              "    </tr>\n",
              "    <tr>\n",
              "      <td id=\"T_8a7b3_row18_col0\" class=\"data row18 col0\" >David</td>\n",
              "      <td id=\"T_8a7b3_row18_col1\" class=\"data row18 col1\" >Pinker</td>\n",
              "      <td id=\"T_8a7b3_row18_col2\" class=\"data row18 col2\" >Jemima</td>\n",
              "      <td id=\"T_8a7b3_row18_col3\" class=\"data row18 col3\" >Farrell</td>\n",
              "    </tr>\n",
              "    <tr>\n",
              "      <td id=\"T_8a7b3_row19_col0\" class=\"data row19 col0\" >Millicent</td>\n",
              "      <td id=\"T_8a7b3_row19_col1\" class=\"data row19 col1\" >Purview</td>\n",
              "      <td id=\"T_8a7b3_row19_col2\" class=\"data row19 col2\" >Tracy</td>\n",
              "      <td id=\"T_8a7b3_row19_col3\" class=\"data row19 col3\" >Smith</td>\n",
              "    </tr>\n",
              "    <tr>\n",
              "      <td id=\"T_8a7b3_row20_col0\" class=\"data row20 col0\" >Tim</td>\n",
              "      <td id=\"T_8a7b3_row20_col1\" class=\"data row20 col1\" >Rownam</td>\n",
              "      <td id=\"T_8a7b3_row20_col2\" class=\"data row20 col2\" >None</td>\n",
              "      <td id=\"T_8a7b3_row20_col3\" class=\"data row20 col3\" >None</td>\n",
              "    </tr>\n",
              "    <tr>\n",
              "      <td id=\"T_8a7b3_row21_col0\" class=\"data row21 col0\" >Henrietta</td>\n",
              "      <td id=\"T_8a7b3_row21_col1\" class=\"data row21 col1\" >Rumney</td>\n",
              "      <td id=\"T_8a7b3_row21_col2\" class=\"data row21 col2\" >Matthew</td>\n",
              "      <td id=\"T_8a7b3_row21_col3\" class=\"data row21 col3\" >Genting</td>\n",
              "    </tr>\n",
              "    <tr>\n",
              "      <td id=\"T_8a7b3_row22_col0\" class=\"data row22 col0\" >Ramnaresh</td>\n",
              "      <td id=\"T_8a7b3_row22_col1\" class=\"data row22 col1\" >Sarwin</td>\n",
              "      <td id=\"T_8a7b3_row22_col2\" class=\"data row22 col2\" >Florence</td>\n",
              "      <td id=\"T_8a7b3_row22_col3\" class=\"data row22 col3\" >Bader</td>\n",
              "    </tr>\n",
              "    <tr>\n",
              "      <td id=\"T_8a7b3_row23_col0\" class=\"data row23 col0\" >Darren</td>\n",
              "      <td id=\"T_8a7b3_row23_col1\" class=\"data row23 col1\" >Smith</td>\n",
              "      <td id=\"T_8a7b3_row23_col2\" class=\"data row23 col2\" >None</td>\n",
              "      <td id=\"T_8a7b3_row23_col3\" class=\"data row23 col3\" >None</td>\n",
              "    </tr>\n",
              "    <tr>\n",
              "      <td id=\"T_8a7b3_row24_col0\" class=\"data row24 col0\" >Darren</td>\n",
              "      <td id=\"T_8a7b3_row24_col1\" class=\"data row24 col1\" >Smith</td>\n",
              "      <td id=\"T_8a7b3_row24_col2\" class=\"data row24 col2\" >None</td>\n",
              "      <td id=\"T_8a7b3_row24_col3\" class=\"data row24 col3\" >None</td>\n",
              "    </tr>\n",
              "    <tr>\n",
              "      <td id=\"T_8a7b3_row25_col0\" class=\"data row25 col0\" >Jack</td>\n",
              "      <td id=\"T_8a7b3_row25_col1\" class=\"data row25 col1\" >Smith</td>\n",
              "      <td id=\"T_8a7b3_row25_col2\" class=\"data row25 col2\" >Darren</td>\n",
              "      <td id=\"T_8a7b3_row25_col3\" class=\"data row25 col3\" >Smith</td>\n",
              "    </tr>\n",
              "    <tr>\n",
              "      <td id=\"T_8a7b3_row26_col0\" class=\"data row26 col0\" >Tracy</td>\n",
              "      <td id=\"T_8a7b3_row26_col1\" class=\"data row26 col1\" >Smith</td>\n",
              "      <td id=\"T_8a7b3_row26_col2\" class=\"data row26 col2\" >None</td>\n",
              "      <td id=\"T_8a7b3_row26_col3\" class=\"data row26 col3\" >None</td>\n",
              "    </tr>\n",
              "    <tr>\n",
              "      <td id=\"T_8a7b3_row27_col0\" class=\"data row27 col0\" >Ponder</td>\n",
              "      <td id=\"T_8a7b3_row27_col1\" class=\"data row27 col1\" >Stibbons</td>\n",
              "      <td id=\"T_8a7b3_row27_col2\" class=\"data row27 col2\" >Burton</td>\n",
              "      <td id=\"T_8a7b3_row27_col3\" class=\"data row27 col3\" >Tracy</td>\n",
              "    </tr>\n",
              "    <tr>\n",
              "      <td id=\"T_8a7b3_row28_col0\" class=\"data row28 col0\" >Burton</td>\n",
              "      <td id=\"T_8a7b3_row28_col1\" class=\"data row28 col1\" >Tracy</td>\n",
              "      <td id=\"T_8a7b3_row28_col2\" class=\"data row28 col2\" >None</td>\n",
              "      <td id=\"T_8a7b3_row28_col3\" class=\"data row28 col3\" >None</td>\n",
              "    </tr>\n",
              "    <tr>\n",
              "      <td id=\"T_8a7b3_row29_col0\" class=\"data row29 col0\" >Hyacinth</td>\n",
              "      <td id=\"T_8a7b3_row29_col1\" class=\"data row29 col1\" >Tupperware</td>\n",
              "      <td id=\"T_8a7b3_row29_col2\" class=\"data row29 col2\" >None</td>\n",
              "      <td id=\"T_8a7b3_row29_col3\" class=\"data row29 col3\" >None</td>\n",
              "    </tr>\n",
              "    <tr>\n",
              "      <td id=\"T_8a7b3_row30_col0\" class=\"data row30 col0\" >Henry</td>\n",
              "      <td id=\"T_8a7b3_row30_col1\" class=\"data row30 col1\" >Worthington-Smyth</td>\n",
              "      <td id=\"T_8a7b3_row30_col2\" class=\"data row30 col2\" >Tracy</td>\n",
              "      <td id=\"T_8a7b3_row30_col3\" class=\"data row30 col3\" >Smith</td>\n",
              "    </tr>\n",
              "  </tbody>\n",
              "</table>\n"
            ]
          },
          "metadata": {},
          "execution_count": 35
        }
      ]
    },
    {
      "cell_type": "markdown",
      "source": [
        "## 2.5 Produce a list of all members who have used a tennis court"
      ],
      "metadata": {
        "id": "5A3K-h5GRGKW"
      }
    },
    {
      "cell_type": "code",
      "source": [
        "# How can you produce a list of all members who have used a tennis court? Include in your output the name of the court, and the name of the member formatted as a single column. Ensure no duplicate data, and order by the member name followed by the facility name.\n",
        "runSelect(\"select distinct w.firstname ||' '||  w.surname as member, m.name as facility from cd.members w, cd.bookings d, cd.facilities m where w.memid = d.memid and d.facid = m.facid and m.name in ('Tennis Court 2', 'Tennis Court 1') order by member, facility\")"
      ],
      "metadata": {
        "colab": {
          "base_uri": "https://localhost:8080/",
          "height": 1000
        },
        "id": "aoH-zzdMRY1C",
        "outputId": "08a6691a-cae9-49ce-815e-b3ae34cae897"
      },
      "execution_count": null,
      "outputs": [
        {
          "output_type": "execute_result",
          "data": {
            "text/plain": [
              "<pandas.io.formats.style.Styler at 0x7b2bef3b8c70>"
            ],
            "text/html": [
              "<style type=\"text/css\">\n",
              "</style>\n",
              "<table id=\"T_94fb0\" class=\"dataframe\">\n",
              "  <thead>\n",
              "    <tr>\n",
              "      <th id=\"T_94fb0_level0_col0\" class=\"col_heading level0 col0\" >member</th>\n",
              "      <th id=\"T_94fb0_level0_col1\" class=\"col_heading level0 col1\" >facility</th>\n",
              "    </tr>\n",
              "  </thead>\n",
              "  <tbody>\n",
              "    <tr>\n",
              "      <td id=\"T_94fb0_row0_col0\" class=\"data row0 col0\" >Anne Baker</td>\n",
              "      <td id=\"T_94fb0_row0_col1\" class=\"data row0 col1\" >Tennis Court 1</td>\n",
              "    </tr>\n",
              "    <tr>\n",
              "      <td id=\"T_94fb0_row1_col0\" class=\"data row1 col0\" >Anne Baker</td>\n",
              "      <td id=\"T_94fb0_row1_col1\" class=\"data row1 col1\" >Tennis Court 2</td>\n",
              "    </tr>\n",
              "    <tr>\n",
              "      <td id=\"T_94fb0_row2_col0\" class=\"data row2 col0\" >Burton Tracy</td>\n",
              "      <td id=\"T_94fb0_row2_col1\" class=\"data row2 col1\" >Tennis Court 1</td>\n",
              "    </tr>\n",
              "    <tr>\n",
              "      <td id=\"T_94fb0_row3_col0\" class=\"data row3 col0\" >Burton Tracy</td>\n",
              "      <td id=\"T_94fb0_row3_col1\" class=\"data row3 col1\" >Tennis Court 2</td>\n",
              "    </tr>\n",
              "    <tr>\n",
              "      <td id=\"T_94fb0_row4_col0\" class=\"data row4 col0\" >Charles Owen</td>\n",
              "      <td id=\"T_94fb0_row4_col1\" class=\"data row4 col1\" >Tennis Court 1</td>\n",
              "    </tr>\n",
              "    <tr>\n",
              "      <td id=\"T_94fb0_row5_col0\" class=\"data row5 col0\" >Charles Owen</td>\n",
              "      <td id=\"T_94fb0_row5_col1\" class=\"data row5 col1\" >Tennis Court 2</td>\n",
              "    </tr>\n",
              "    <tr>\n",
              "      <td id=\"T_94fb0_row6_col0\" class=\"data row6 col0\" >Darren Smith</td>\n",
              "      <td id=\"T_94fb0_row6_col1\" class=\"data row6 col1\" >Tennis Court 2</td>\n",
              "    </tr>\n",
              "    <tr>\n",
              "      <td id=\"T_94fb0_row7_col0\" class=\"data row7 col0\" >David Farrell</td>\n",
              "      <td id=\"T_94fb0_row7_col1\" class=\"data row7 col1\" >Tennis Court 1</td>\n",
              "    </tr>\n",
              "    <tr>\n",
              "      <td id=\"T_94fb0_row8_col0\" class=\"data row8 col0\" >David Farrell</td>\n",
              "      <td id=\"T_94fb0_row8_col1\" class=\"data row8 col1\" >Tennis Court 2</td>\n",
              "    </tr>\n",
              "    <tr>\n",
              "      <td id=\"T_94fb0_row9_col0\" class=\"data row9 col0\" >David Jones</td>\n",
              "      <td id=\"T_94fb0_row9_col1\" class=\"data row9 col1\" >Tennis Court 1</td>\n",
              "    </tr>\n",
              "    <tr>\n",
              "      <td id=\"T_94fb0_row10_col0\" class=\"data row10 col0\" >David Jones</td>\n",
              "      <td id=\"T_94fb0_row10_col1\" class=\"data row10 col1\" >Tennis Court 2</td>\n",
              "    </tr>\n",
              "    <tr>\n",
              "      <td id=\"T_94fb0_row11_col0\" class=\"data row11 col0\" >David Pinker</td>\n",
              "      <td id=\"T_94fb0_row11_col1\" class=\"data row11 col1\" >Tennis Court 1</td>\n",
              "    </tr>\n",
              "    <tr>\n",
              "      <td id=\"T_94fb0_row12_col0\" class=\"data row12 col0\" >Douglas Jones</td>\n",
              "      <td id=\"T_94fb0_row12_col1\" class=\"data row12 col1\" >Tennis Court 1</td>\n",
              "    </tr>\n",
              "    <tr>\n",
              "      <td id=\"T_94fb0_row13_col0\" class=\"data row13 col0\" >Erica Crumpet</td>\n",
              "      <td id=\"T_94fb0_row13_col1\" class=\"data row13 col1\" >Tennis Court 1</td>\n",
              "    </tr>\n",
              "    <tr>\n",
              "      <td id=\"T_94fb0_row14_col0\" class=\"data row14 col0\" >Florence Bader</td>\n",
              "      <td id=\"T_94fb0_row14_col1\" class=\"data row14 col1\" >Tennis Court 1</td>\n",
              "    </tr>\n",
              "    <tr>\n",
              "      <td id=\"T_94fb0_row15_col0\" class=\"data row15 col0\" >Florence Bader</td>\n",
              "      <td id=\"T_94fb0_row15_col1\" class=\"data row15 col1\" >Tennis Court 2</td>\n",
              "    </tr>\n",
              "    <tr>\n",
              "      <td id=\"T_94fb0_row16_col0\" class=\"data row16 col0\" >Gerald Butters</td>\n",
              "      <td id=\"T_94fb0_row16_col1\" class=\"data row16 col1\" >Tennis Court 1</td>\n",
              "    </tr>\n",
              "    <tr>\n",
              "      <td id=\"T_94fb0_row17_col0\" class=\"data row17 col0\" >Gerald Butters</td>\n",
              "      <td id=\"T_94fb0_row17_col1\" class=\"data row17 col1\" >Tennis Court 2</td>\n",
              "    </tr>\n",
              "    <tr>\n",
              "      <td id=\"T_94fb0_row18_col0\" class=\"data row18 col0\" >GUEST GUEST</td>\n",
              "      <td id=\"T_94fb0_row18_col1\" class=\"data row18 col1\" >Tennis Court 1</td>\n",
              "    </tr>\n",
              "    <tr>\n",
              "      <td id=\"T_94fb0_row19_col0\" class=\"data row19 col0\" >GUEST GUEST</td>\n",
              "      <td id=\"T_94fb0_row19_col1\" class=\"data row19 col1\" >Tennis Court 2</td>\n",
              "    </tr>\n",
              "    <tr>\n",
              "      <td id=\"T_94fb0_row20_col0\" class=\"data row20 col0\" >Henrietta Rumney</td>\n",
              "      <td id=\"T_94fb0_row20_col1\" class=\"data row20 col1\" >Tennis Court 2</td>\n",
              "    </tr>\n",
              "    <tr>\n",
              "      <td id=\"T_94fb0_row21_col0\" class=\"data row21 col0\" >Jack Smith</td>\n",
              "      <td id=\"T_94fb0_row21_col1\" class=\"data row21 col1\" >Tennis Court 1</td>\n",
              "    </tr>\n",
              "    <tr>\n",
              "      <td id=\"T_94fb0_row22_col0\" class=\"data row22 col0\" >Jack Smith</td>\n",
              "      <td id=\"T_94fb0_row22_col1\" class=\"data row22 col1\" >Tennis Court 2</td>\n",
              "    </tr>\n",
              "    <tr>\n",
              "      <td id=\"T_94fb0_row23_col0\" class=\"data row23 col0\" >Janice Joplette</td>\n",
              "      <td id=\"T_94fb0_row23_col1\" class=\"data row23 col1\" >Tennis Court 1</td>\n",
              "    </tr>\n",
              "    <tr>\n",
              "      <td id=\"T_94fb0_row24_col0\" class=\"data row24 col0\" >Janice Joplette</td>\n",
              "      <td id=\"T_94fb0_row24_col1\" class=\"data row24 col1\" >Tennis Court 2</td>\n",
              "    </tr>\n",
              "    <tr>\n",
              "      <td id=\"T_94fb0_row25_col0\" class=\"data row25 col0\" >Jemima Farrell</td>\n",
              "      <td id=\"T_94fb0_row25_col1\" class=\"data row25 col1\" >Tennis Court 1</td>\n",
              "    </tr>\n",
              "    <tr>\n",
              "      <td id=\"T_94fb0_row26_col0\" class=\"data row26 col0\" >Jemima Farrell</td>\n",
              "      <td id=\"T_94fb0_row26_col1\" class=\"data row26 col1\" >Tennis Court 2</td>\n",
              "    </tr>\n",
              "    <tr>\n",
              "      <td id=\"T_94fb0_row27_col0\" class=\"data row27 col0\" >Joan Coplin</td>\n",
              "      <td id=\"T_94fb0_row27_col1\" class=\"data row27 col1\" >Tennis Court 1</td>\n",
              "    </tr>\n",
              "    <tr>\n",
              "      <td id=\"T_94fb0_row28_col0\" class=\"data row28 col0\" >John Hunt</td>\n",
              "      <td id=\"T_94fb0_row28_col1\" class=\"data row28 col1\" >Tennis Court 1</td>\n",
              "    </tr>\n",
              "    <tr>\n",
              "      <td id=\"T_94fb0_row29_col0\" class=\"data row29 col0\" >John Hunt</td>\n",
              "      <td id=\"T_94fb0_row29_col1\" class=\"data row29 col1\" >Tennis Court 2</td>\n",
              "    </tr>\n",
              "    <tr>\n",
              "      <td id=\"T_94fb0_row30_col0\" class=\"data row30 col0\" >Matthew Genting</td>\n",
              "      <td id=\"T_94fb0_row30_col1\" class=\"data row30 col1\" >Tennis Court 1</td>\n",
              "    </tr>\n",
              "    <tr>\n",
              "      <td id=\"T_94fb0_row31_col0\" class=\"data row31 col0\" >Millicent Purview</td>\n",
              "      <td id=\"T_94fb0_row31_col1\" class=\"data row31 col1\" >Tennis Court 2</td>\n",
              "    </tr>\n",
              "    <tr>\n",
              "      <td id=\"T_94fb0_row32_col0\" class=\"data row32 col0\" >Nancy Dare</td>\n",
              "      <td id=\"T_94fb0_row32_col1\" class=\"data row32 col1\" >Tennis Court 1</td>\n",
              "    </tr>\n",
              "    <tr>\n",
              "      <td id=\"T_94fb0_row33_col0\" class=\"data row33 col0\" >Nancy Dare</td>\n",
              "      <td id=\"T_94fb0_row33_col1\" class=\"data row33 col1\" >Tennis Court 2</td>\n",
              "    </tr>\n",
              "    <tr>\n",
              "      <td id=\"T_94fb0_row34_col0\" class=\"data row34 col0\" >Ponder Stibbons</td>\n",
              "      <td id=\"T_94fb0_row34_col1\" class=\"data row34 col1\" >Tennis Court 1</td>\n",
              "    </tr>\n",
              "    <tr>\n",
              "      <td id=\"T_94fb0_row35_col0\" class=\"data row35 col0\" >Ponder Stibbons</td>\n",
              "      <td id=\"T_94fb0_row35_col1\" class=\"data row35 col1\" >Tennis Court 2</td>\n",
              "    </tr>\n",
              "    <tr>\n",
              "      <td id=\"T_94fb0_row36_col0\" class=\"data row36 col0\" >Ramnaresh Sarwin</td>\n",
              "      <td id=\"T_94fb0_row36_col1\" class=\"data row36 col1\" >Tennis Court 1</td>\n",
              "    </tr>\n",
              "    <tr>\n",
              "      <td id=\"T_94fb0_row37_col0\" class=\"data row37 col0\" >Ramnaresh Sarwin</td>\n",
              "      <td id=\"T_94fb0_row37_col1\" class=\"data row37 col1\" >Tennis Court 2</td>\n",
              "    </tr>\n",
              "    <tr>\n",
              "      <td id=\"T_94fb0_row38_col0\" class=\"data row38 col0\" >Tim Boothe</td>\n",
              "      <td id=\"T_94fb0_row38_col1\" class=\"data row38 col1\" >Tennis Court 1</td>\n",
              "    </tr>\n",
              "    <tr>\n",
              "      <td id=\"T_94fb0_row39_col0\" class=\"data row39 col0\" >Tim Boothe</td>\n",
              "      <td id=\"T_94fb0_row39_col1\" class=\"data row39 col1\" >Tennis Court 2</td>\n",
              "    </tr>\n",
              "    <tr>\n",
              "      <td id=\"T_94fb0_row40_col0\" class=\"data row40 col0\" >Timothy Baker</td>\n",
              "      <td id=\"T_94fb0_row40_col1\" class=\"data row40 col1\" >Tennis Court 1</td>\n",
              "    </tr>\n",
              "    <tr>\n",
              "      <td id=\"T_94fb0_row41_col0\" class=\"data row41 col0\" >Timothy Baker</td>\n",
              "      <td id=\"T_94fb0_row41_col1\" class=\"data row41 col1\" >Tennis Court 2</td>\n",
              "    </tr>\n",
              "    <tr>\n",
              "      <td id=\"T_94fb0_row42_col0\" class=\"data row42 col0\" >Tim Rownam</td>\n",
              "      <td id=\"T_94fb0_row42_col1\" class=\"data row42 col1\" >Tennis Court 1</td>\n",
              "    </tr>\n",
              "    <tr>\n",
              "      <td id=\"T_94fb0_row43_col0\" class=\"data row43 col0\" >Tim Rownam</td>\n",
              "      <td id=\"T_94fb0_row43_col1\" class=\"data row43 col1\" >Tennis Court 2</td>\n",
              "    </tr>\n",
              "    <tr>\n",
              "      <td id=\"T_94fb0_row44_col0\" class=\"data row44 col0\" >Tracy Smith</td>\n",
              "      <td id=\"T_94fb0_row44_col1\" class=\"data row44 col1\" >Tennis Court 1</td>\n",
              "    </tr>\n",
              "    <tr>\n",
              "      <td id=\"T_94fb0_row45_col0\" class=\"data row45 col0\" >Tracy Smith</td>\n",
              "      <td id=\"T_94fb0_row45_col1\" class=\"data row45 col1\" >Tennis Court 2</td>\n",
              "    </tr>\n",
              "  </tbody>\n",
              "</table>\n"
            ]
          },
          "metadata": {},
          "execution_count": 36
        }
      ]
    },
    {
      "cell_type": "markdown",
      "source": [],
      "metadata": {
        "id": "OpdS10Aklazx"
      }
    },
    {
      "cell_type": "markdown",
      "source": [
        "## 2.6 Produce a list of costly bookings"
      ],
      "metadata": {
        "id": "LmrDmRUdmXvy"
      }
    },
    {
      "cell_type": "code",
      "source": [
        "# How can you produce a list of bookings on the day of 2012-09-14 which will cost the member (or guest) more than $30? Remember that guests have different costs to members (the listed costs are per half-hour 'slot'), and the guest user is always ID 0. Include in your output the name of the facility, the name of the member formatted as a single column, and the cost. Order by descending cost, and do not use any subqueries.\n",
        "runSelect(\"select w.firstname ||' '|| w.surname as member, m.name as facility, case when w.memid = 0 then d.slots*m.guestcost else d.slots*m.membercost end as cost from cd.members w, cd.bookings d, cd.facilities m where w.memid = d.memid and d.facid = m.facid and d.starttime >= '2012-09-14' and d.starttime < '2012-09-15' and ((w.memid = 0 and d.slots*m.guestcost > 30) or (w.memid != 0 and d.slots*m.membercost > 30)) order by cost desc\")"
      ],
      "metadata": {
        "colab": {
          "base_uri": "https://localhost:8080/",
          "height": 613
        },
        "id": "zoiIeWk0mWYP",
        "outputId": "9b48811e-f6d5-408a-ec48-2de287a8936c"
      },
      "execution_count": null,
      "outputs": [
        {
          "output_type": "execute_result",
          "data": {
            "text/plain": [
              "<pandas.io.formats.style.Styler at 0x7b2bef3d33a0>"
            ],
            "text/html": [
              "<style type=\"text/css\">\n",
              "</style>\n",
              "<table id=\"T_98967\" class=\"dataframe\">\n",
              "  <thead>\n",
              "    <tr>\n",
              "      <th id=\"T_98967_level0_col0\" class=\"col_heading level0 col0\" >member</th>\n",
              "      <th id=\"T_98967_level0_col1\" class=\"col_heading level0 col1\" >facility</th>\n",
              "      <th id=\"T_98967_level0_col2\" class=\"col_heading level0 col2\" >cost</th>\n",
              "    </tr>\n",
              "  </thead>\n",
              "  <tbody>\n",
              "    <tr>\n",
              "      <td id=\"T_98967_row0_col0\" class=\"data row0 col0\" >GUEST GUEST</td>\n",
              "      <td id=\"T_98967_row0_col1\" class=\"data row0 col1\" >Massage Room 2</td>\n",
              "      <td id=\"T_98967_row0_col2\" class=\"data row0 col2\" >320</td>\n",
              "    </tr>\n",
              "    <tr>\n",
              "      <td id=\"T_98967_row1_col0\" class=\"data row1 col0\" >GUEST GUEST</td>\n",
              "      <td id=\"T_98967_row1_col1\" class=\"data row1 col1\" >Massage Room 1</td>\n",
              "      <td id=\"T_98967_row1_col2\" class=\"data row1 col2\" >160</td>\n",
              "    </tr>\n",
              "    <tr>\n",
              "      <td id=\"T_98967_row2_col0\" class=\"data row2 col0\" >GUEST GUEST</td>\n",
              "      <td id=\"T_98967_row2_col1\" class=\"data row2 col1\" >Massage Room 1</td>\n",
              "      <td id=\"T_98967_row2_col2\" class=\"data row2 col2\" >160</td>\n",
              "    </tr>\n",
              "    <tr>\n",
              "      <td id=\"T_98967_row3_col0\" class=\"data row3 col0\" >GUEST GUEST</td>\n",
              "      <td id=\"T_98967_row3_col1\" class=\"data row3 col1\" >Massage Room 1</td>\n",
              "      <td id=\"T_98967_row3_col2\" class=\"data row3 col2\" >160</td>\n",
              "    </tr>\n",
              "    <tr>\n",
              "      <td id=\"T_98967_row4_col0\" class=\"data row4 col0\" >GUEST GUEST</td>\n",
              "      <td id=\"T_98967_row4_col1\" class=\"data row4 col1\" >Tennis Court 2</td>\n",
              "      <td id=\"T_98967_row4_col2\" class=\"data row4 col2\" >150</td>\n",
              "    </tr>\n",
              "    <tr>\n",
              "      <td id=\"T_98967_row5_col0\" class=\"data row5 col0\" >Jemima Farrell</td>\n",
              "      <td id=\"T_98967_row5_col1\" class=\"data row5 col1\" >Massage Room 1</td>\n",
              "      <td id=\"T_98967_row5_col2\" class=\"data row5 col2\" >140</td>\n",
              "    </tr>\n",
              "    <tr>\n",
              "      <td id=\"T_98967_row6_col0\" class=\"data row6 col0\" >GUEST GUEST</td>\n",
              "      <td id=\"T_98967_row6_col1\" class=\"data row6 col1\" >Tennis Court 1</td>\n",
              "      <td id=\"T_98967_row6_col2\" class=\"data row6 col2\" >75</td>\n",
              "    </tr>\n",
              "    <tr>\n",
              "      <td id=\"T_98967_row7_col0\" class=\"data row7 col0\" >GUEST GUEST</td>\n",
              "      <td id=\"T_98967_row7_col1\" class=\"data row7 col1\" >Tennis Court 2</td>\n",
              "      <td id=\"T_98967_row7_col2\" class=\"data row7 col2\" >75</td>\n",
              "    </tr>\n",
              "    <tr>\n",
              "      <td id=\"T_98967_row8_col0\" class=\"data row8 col0\" >GUEST GUEST</td>\n",
              "      <td id=\"T_98967_row8_col1\" class=\"data row8 col1\" >Tennis Court 1</td>\n",
              "      <td id=\"T_98967_row8_col2\" class=\"data row8 col2\" >75</td>\n",
              "    </tr>\n",
              "    <tr>\n",
              "      <td id=\"T_98967_row9_col0\" class=\"data row9 col0\" >Matthew Genting</td>\n",
              "      <td id=\"T_98967_row9_col1\" class=\"data row9 col1\" >Massage Room 1</td>\n",
              "      <td id=\"T_98967_row9_col2\" class=\"data row9 col2\" >70</td>\n",
              "    </tr>\n",
              "    <tr>\n",
              "      <td id=\"T_98967_row10_col0\" class=\"data row10 col0\" >Florence Bader</td>\n",
              "      <td id=\"T_98967_row10_col1\" class=\"data row10 col1\" >Massage Room 2</td>\n",
              "      <td id=\"T_98967_row10_col2\" class=\"data row10 col2\" >70</td>\n",
              "    </tr>\n",
              "    <tr>\n",
              "      <td id=\"T_98967_row11_col0\" class=\"data row11 col0\" >GUEST GUEST</td>\n",
              "      <td id=\"T_98967_row11_col1\" class=\"data row11 col1\" >Squash Court</td>\n",
              "      <td id=\"T_98967_row11_col2\" class=\"data row11 col2\" >70.0</td>\n",
              "    </tr>\n",
              "    <tr>\n",
              "      <td id=\"T_98967_row12_col0\" class=\"data row12 col0\" >Jemima Farrell</td>\n",
              "      <td id=\"T_98967_row12_col1\" class=\"data row12 col1\" >Massage Room 1</td>\n",
              "      <td id=\"T_98967_row12_col2\" class=\"data row12 col2\" >70</td>\n",
              "    </tr>\n",
              "    <tr>\n",
              "      <td id=\"T_98967_row13_col0\" class=\"data row13 col0\" >Ponder Stibbons</td>\n",
              "      <td id=\"T_98967_row13_col1\" class=\"data row13 col1\" >Massage Room 1</td>\n",
              "      <td id=\"T_98967_row13_col2\" class=\"data row13 col2\" >70</td>\n",
              "    </tr>\n",
              "    <tr>\n",
              "      <td id=\"T_98967_row14_col0\" class=\"data row14 col0\" >Burton Tracy</td>\n",
              "      <td id=\"T_98967_row14_col1\" class=\"data row14 col1\" >Massage Room 1</td>\n",
              "      <td id=\"T_98967_row14_col2\" class=\"data row14 col2\" >70</td>\n",
              "    </tr>\n",
              "    <tr>\n",
              "      <td id=\"T_98967_row15_col0\" class=\"data row15 col0\" >Jack Smith</td>\n",
              "      <td id=\"T_98967_row15_col1\" class=\"data row15 col1\" >Massage Room 1</td>\n",
              "      <td id=\"T_98967_row15_col2\" class=\"data row15 col2\" >70</td>\n",
              "    </tr>\n",
              "    <tr>\n",
              "      <td id=\"T_98967_row16_col0\" class=\"data row16 col0\" >GUEST GUEST</td>\n",
              "      <td id=\"T_98967_row16_col1\" class=\"data row16 col1\" >Squash Court</td>\n",
              "      <td id=\"T_98967_row16_col2\" class=\"data row16 col2\" >35.0</td>\n",
              "    </tr>\n",
              "    <tr>\n",
              "      <td id=\"T_98967_row17_col0\" class=\"data row17 col0\" >GUEST GUEST</td>\n",
              "      <td id=\"T_98967_row17_col1\" class=\"data row17 col1\" >Squash Court</td>\n",
              "      <td id=\"T_98967_row17_col2\" class=\"data row17 col2\" >35.0</td>\n",
              "    </tr>\n",
              "  </tbody>\n",
              "</table>\n"
            ]
          },
          "metadata": {},
          "execution_count": 37
        }
      ]
    },
    {
      "cell_type": "markdown",
      "source": [
        "## 2.7 Produce a list of all members, along with their recommender, using no joins."
      ],
      "metadata": {
        "id": "e_8_and2tNbL"
      }
    },
    {
      "cell_type": "code",
      "source": [
        "# How can you output a list of all members, including the individual who recommended them (if any), without using any joins? Ensure that there are no duplicates in the list, and that each firstname + surname pairing is formatted as a column and ordered.\n",
        "runSelect(\"select w.firstname ||' '|| w.surname as member, (select m.firstname ||' '|| m.surname as recmmonder from cd.members m where m.memid = w.recommendedby) from cd.members w order by member\")"
      ],
      "metadata": {
        "colab": {
          "base_uri": "https://localhost:8080/",
          "height": 1000
        },
        "id": "KGWjBUR4twFZ",
        "outputId": "1e1dc518-2db2-4960-f9c2-5e23715bec81"
      },
      "execution_count": null,
      "outputs": [
        {
          "output_type": "execute_result",
          "data": {
            "text/plain": [
              "<pandas.io.formats.style.Styler at 0x7b2bef3d07c0>"
            ],
            "text/html": [
              "<style type=\"text/css\">\n",
              "</style>\n",
              "<table id=\"T_4e9ba\" class=\"dataframe\">\n",
              "  <thead>\n",
              "    <tr>\n",
              "      <th id=\"T_4e9ba_level0_col0\" class=\"col_heading level0 col0\" >member</th>\n",
              "      <th id=\"T_4e9ba_level0_col1\" class=\"col_heading level0 col1\" >recmmonder</th>\n",
              "    </tr>\n",
              "  </thead>\n",
              "  <tbody>\n",
              "    <tr>\n",
              "      <td id=\"T_4e9ba_row0_col0\" class=\"data row0 col0\" >Anna Mackenzie</td>\n",
              "      <td id=\"T_4e9ba_row0_col1\" class=\"data row0 col1\" >Darren Smith</td>\n",
              "    </tr>\n",
              "    <tr>\n",
              "      <td id=\"T_4e9ba_row1_col0\" class=\"data row1 col0\" >Anne Baker</td>\n",
              "      <td id=\"T_4e9ba_row1_col1\" class=\"data row1 col1\" >Ponder Stibbons</td>\n",
              "    </tr>\n",
              "    <tr>\n",
              "      <td id=\"T_4e9ba_row2_col0\" class=\"data row2 col0\" >Burton Tracy</td>\n",
              "      <td id=\"T_4e9ba_row2_col1\" class=\"data row2 col1\" >None</td>\n",
              "    </tr>\n",
              "    <tr>\n",
              "      <td id=\"T_4e9ba_row3_col0\" class=\"data row3 col0\" >Charles Owen</td>\n",
              "      <td id=\"T_4e9ba_row3_col1\" class=\"data row3 col1\" >Darren Smith</td>\n",
              "    </tr>\n",
              "    <tr>\n",
              "      <td id=\"T_4e9ba_row4_col0\" class=\"data row4 col0\" >Darren Smith</td>\n",
              "      <td id=\"T_4e9ba_row4_col1\" class=\"data row4 col1\" >None</td>\n",
              "    </tr>\n",
              "    <tr>\n",
              "      <td id=\"T_4e9ba_row5_col0\" class=\"data row5 col0\" >Darren Smith</td>\n",
              "      <td id=\"T_4e9ba_row5_col1\" class=\"data row5 col1\" >None</td>\n",
              "    </tr>\n",
              "    <tr>\n",
              "      <td id=\"T_4e9ba_row6_col0\" class=\"data row6 col0\" >David Farrell</td>\n",
              "      <td id=\"T_4e9ba_row6_col1\" class=\"data row6 col1\" >None</td>\n",
              "    </tr>\n",
              "    <tr>\n",
              "      <td id=\"T_4e9ba_row7_col0\" class=\"data row7 col0\" >David Jones</td>\n",
              "      <td id=\"T_4e9ba_row7_col1\" class=\"data row7 col1\" >Janice Joplette</td>\n",
              "    </tr>\n",
              "    <tr>\n",
              "      <td id=\"T_4e9ba_row8_col0\" class=\"data row8 col0\" >David Pinker</td>\n",
              "      <td id=\"T_4e9ba_row8_col1\" class=\"data row8 col1\" >Jemima Farrell</td>\n",
              "    </tr>\n",
              "    <tr>\n",
              "      <td id=\"T_4e9ba_row9_col0\" class=\"data row9 col0\" >Douglas Jones</td>\n",
              "      <td id=\"T_4e9ba_row9_col1\" class=\"data row9 col1\" >David Jones</td>\n",
              "    </tr>\n",
              "    <tr>\n",
              "      <td id=\"T_4e9ba_row10_col0\" class=\"data row10 col0\" >Erica Crumpet</td>\n",
              "      <td id=\"T_4e9ba_row10_col1\" class=\"data row10 col1\" >Tracy Smith</td>\n",
              "    </tr>\n",
              "    <tr>\n",
              "      <td id=\"T_4e9ba_row11_col0\" class=\"data row11 col0\" >Florence Bader</td>\n",
              "      <td id=\"T_4e9ba_row11_col1\" class=\"data row11 col1\" >Ponder Stibbons</td>\n",
              "    </tr>\n",
              "    <tr>\n",
              "      <td id=\"T_4e9ba_row12_col0\" class=\"data row12 col0\" >Gerald Butters</td>\n",
              "      <td id=\"T_4e9ba_row12_col1\" class=\"data row12 col1\" >Darren Smith</td>\n",
              "    </tr>\n",
              "    <tr>\n",
              "      <td id=\"T_4e9ba_row13_col0\" class=\"data row13 col0\" >GUEST GUEST</td>\n",
              "      <td id=\"T_4e9ba_row13_col1\" class=\"data row13 col1\" >None</td>\n",
              "    </tr>\n",
              "    <tr>\n",
              "      <td id=\"T_4e9ba_row14_col0\" class=\"data row14 col0\" >Henrietta Rumney</td>\n",
              "      <td id=\"T_4e9ba_row14_col1\" class=\"data row14 col1\" >Matthew Genting</td>\n",
              "    </tr>\n",
              "    <tr>\n",
              "      <td id=\"T_4e9ba_row15_col0\" class=\"data row15 col0\" >Henry Worthington-Smyth</td>\n",
              "      <td id=\"T_4e9ba_row15_col1\" class=\"data row15 col1\" >Tracy Smith</td>\n",
              "    </tr>\n",
              "    <tr>\n",
              "      <td id=\"T_4e9ba_row16_col0\" class=\"data row16 col0\" >Hyacinth Tupperware</td>\n",
              "      <td id=\"T_4e9ba_row16_col1\" class=\"data row16 col1\" >None</td>\n",
              "    </tr>\n",
              "    <tr>\n",
              "      <td id=\"T_4e9ba_row17_col0\" class=\"data row17 col0\" >Jack Smith</td>\n",
              "      <td id=\"T_4e9ba_row17_col1\" class=\"data row17 col1\" >Darren Smith</td>\n",
              "    </tr>\n",
              "    <tr>\n",
              "      <td id=\"T_4e9ba_row18_col0\" class=\"data row18 col0\" >Janice Joplette</td>\n",
              "      <td id=\"T_4e9ba_row18_col1\" class=\"data row18 col1\" >Darren Smith</td>\n",
              "    </tr>\n",
              "    <tr>\n",
              "      <td id=\"T_4e9ba_row19_col0\" class=\"data row19 col0\" >Jemima Farrell</td>\n",
              "      <td id=\"T_4e9ba_row19_col1\" class=\"data row19 col1\" >None</td>\n",
              "    </tr>\n",
              "    <tr>\n",
              "      <td id=\"T_4e9ba_row20_col0\" class=\"data row20 col0\" >Joan Coplin</td>\n",
              "      <td id=\"T_4e9ba_row20_col1\" class=\"data row20 col1\" >Timothy Baker</td>\n",
              "    </tr>\n",
              "    <tr>\n",
              "      <td id=\"T_4e9ba_row21_col0\" class=\"data row21 col0\" >John Hunt</td>\n",
              "      <td id=\"T_4e9ba_row21_col1\" class=\"data row21 col1\" >Millicent Purview</td>\n",
              "    </tr>\n",
              "    <tr>\n",
              "      <td id=\"T_4e9ba_row22_col0\" class=\"data row22 col0\" >Matthew Genting</td>\n",
              "      <td id=\"T_4e9ba_row22_col1\" class=\"data row22 col1\" >Gerald Butters</td>\n",
              "    </tr>\n",
              "    <tr>\n",
              "      <td id=\"T_4e9ba_row23_col0\" class=\"data row23 col0\" >Millicent Purview</td>\n",
              "      <td id=\"T_4e9ba_row23_col1\" class=\"data row23 col1\" >Tracy Smith</td>\n",
              "    </tr>\n",
              "    <tr>\n",
              "      <td id=\"T_4e9ba_row24_col0\" class=\"data row24 col0\" >Nancy Dare</td>\n",
              "      <td id=\"T_4e9ba_row24_col1\" class=\"data row24 col1\" >Janice Joplette</td>\n",
              "    </tr>\n",
              "    <tr>\n",
              "      <td id=\"T_4e9ba_row25_col0\" class=\"data row25 col0\" >Ponder Stibbons</td>\n",
              "      <td id=\"T_4e9ba_row25_col1\" class=\"data row25 col1\" >Burton Tracy</td>\n",
              "    </tr>\n",
              "    <tr>\n",
              "      <td id=\"T_4e9ba_row26_col0\" class=\"data row26 col0\" >Ramnaresh Sarwin</td>\n",
              "      <td id=\"T_4e9ba_row26_col1\" class=\"data row26 col1\" >Florence Bader</td>\n",
              "    </tr>\n",
              "    <tr>\n",
              "      <td id=\"T_4e9ba_row27_col0\" class=\"data row27 col0\" >Tim Boothe</td>\n",
              "      <td id=\"T_4e9ba_row27_col1\" class=\"data row27 col1\" >Tim Rownam</td>\n",
              "    </tr>\n",
              "    <tr>\n",
              "      <td id=\"T_4e9ba_row28_col0\" class=\"data row28 col0\" >Timothy Baker</td>\n",
              "      <td id=\"T_4e9ba_row28_col1\" class=\"data row28 col1\" >Jemima Farrell</td>\n",
              "    </tr>\n",
              "    <tr>\n",
              "      <td id=\"T_4e9ba_row29_col0\" class=\"data row29 col0\" >Tim Rownam</td>\n",
              "      <td id=\"T_4e9ba_row29_col1\" class=\"data row29 col1\" >None</td>\n",
              "    </tr>\n",
              "    <tr>\n",
              "      <td id=\"T_4e9ba_row30_col0\" class=\"data row30 col0\" >Tracy Smith</td>\n",
              "      <td id=\"T_4e9ba_row30_col1\" class=\"data row30 col1\" >None</td>\n",
              "    </tr>\n",
              "  </tbody>\n",
              "</table>\n"
            ]
          },
          "metadata": {},
          "execution_count": 38
        }
      ]
    },
    {
      "cell_type": "markdown",
      "source": [
        "## 2.8 Produce a list of costly bookings, using a subquery\n"
      ],
      "metadata": {
        "id": "_LsTY-dxGgpg"
      }
    },
    {
      "cell_type": "code",
      "source": [
        "# How can you produce a list of bookings on the day of 2012-09-14 which will cost the member (or guest) more than $30? Remember that guests have different costs to members (the listed costs are per half-hour 'slot'), and the guest user is always ID 0. Include in your output the name of the facility, the name of the member formatted as a single column, and the cost. Order by descending cost.\n",
        "runSelect(\"select member, facility, cost from (select w.firstname ||' '|| w.surname as member, m.name as facility, case when w.memid = 0 then d.slots*guestcost else d.slots*membercost end as cost from cd.members w, cd.bookings d, cd.facilities m where w.memid = d.memid and d.facid = m.facid and d.starttime >= '2012-09-14' and d.starttime < '2012-09-15') as bookings where cost > 30 order by cost desc\")"
      ],
      "metadata": {
        "colab": {
          "base_uri": "https://localhost:8080/",
          "height": 613
        },
        "id": "0Iu1iuDfHIMc",
        "outputId": "69ad9642-6d63-49f4-d5e6-f822677e421c"
      },
      "execution_count": null,
      "outputs": [
        {
          "output_type": "execute_result",
          "data": {
            "text/plain": [
              "<pandas.io.formats.style.Styler at 0x7b2bef3d2770>"
            ],
            "text/html": [
              "<style type=\"text/css\">\n",
              "</style>\n",
              "<table id=\"T_5ba1b\" class=\"dataframe\">\n",
              "  <thead>\n",
              "    <tr>\n",
              "      <th id=\"T_5ba1b_level0_col0\" class=\"col_heading level0 col0\" >member</th>\n",
              "      <th id=\"T_5ba1b_level0_col1\" class=\"col_heading level0 col1\" >facility</th>\n",
              "      <th id=\"T_5ba1b_level0_col2\" class=\"col_heading level0 col2\" >cost</th>\n",
              "    </tr>\n",
              "  </thead>\n",
              "  <tbody>\n",
              "    <tr>\n",
              "      <td id=\"T_5ba1b_row0_col0\" class=\"data row0 col0\" >GUEST GUEST</td>\n",
              "      <td id=\"T_5ba1b_row0_col1\" class=\"data row0 col1\" >Massage Room 2</td>\n",
              "      <td id=\"T_5ba1b_row0_col2\" class=\"data row0 col2\" >320</td>\n",
              "    </tr>\n",
              "    <tr>\n",
              "      <td id=\"T_5ba1b_row1_col0\" class=\"data row1 col0\" >GUEST GUEST</td>\n",
              "      <td id=\"T_5ba1b_row1_col1\" class=\"data row1 col1\" >Massage Room 1</td>\n",
              "      <td id=\"T_5ba1b_row1_col2\" class=\"data row1 col2\" >160</td>\n",
              "    </tr>\n",
              "    <tr>\n",
              "      <td id=\"T_5ba1b_row2_col0\" class=\"data row2 col0\" >GUEST GUEST</td>\n",
              "      <td id=\"T_5ba1b_row2_col1\" class=\"data row2 col1\" >Massage Room 1</td>\n",
              "      <td id=\"T_5ba1b_row2_col2\" class=\"data row2 col2\" >160</td>\n",
              "    </tr>\n",
              "    <tr>\n",
              "      <td id=\"T_5ba1b_row3_col0\" class=\"data row3 col0\" >GUEST GUEST</td>\n",
              "      <td id=\"T_5ba1b_row3_col1\" class=\"data row3 col1\" >Massage Room 1</td>\n",
              "      <td id=\"T_5ba1b_row3_col2\" class=\"data row3 col2\" >160</td>\n",
              "    </tr>\n",
              "    <tr>\n",
              "      <td id=\"T_5ba1b_row4_col0\" class=\"data row4 col0\" >GUEST GUEST</td>\n",
              "      <td id=\"T_5ba1b_row4_col1\" class=\"data row4 col1\" >Tennis Court 2</td>\n",
              "      <td id=\"T_5ba1b_row4_col2\" class=\"data row4 col2\" >150</td>\n",
              "    </tr>\n",
              "    <tr>\n",
              "      <td id=\"T_5ba1b_row5_col0\" class=\"data row5 col0\" >Jemima Farrell</td>\n",
              "      <td id=\"T_5ba1b_row5_col1\" class=\"data row5 col1\" >Massage Room 1</td>\n",
              "      <td id=\"T_5ba1b_row5_col2\" class=\"data row5 col2\" >140</td>\n",
              "    </tr>\n",
              "    <tr>\n",
              "      <td id=\"T_5ba1b_row6_col0\" class=\"data row6 col0\" >GUEST GUEST</td>\n",
              "      <td id=\"T_5ba1b_row6_col1\" class=\"data row6 col1\" >Tennis Court 1</td>\n",
              "      <td id=\"T_5ba1b_row6_col2\" class=\"data row6 col2\" >75</td>\n",
              "    </tr>\n",
              "    <tr>\n",
              "      <td id=\"T_5ba1b_row7_col0\" class=\"data row7 col0\" >GUEST GUEST</td>\n",
              "      <td id=\"T_5ba1b_row7_col1\" class=\"data row7 col1\" >Tennis Court 2</td>\n",
              "      <td id=\"T_5ba1b_row7_col2\" class=\"data row7 col2\" >75</td>\n",
              "    </tr>\n",
              "    <tr>\n",
              "      <td id=\"T_5ba1b_row8_col0\" class=\"data row8 col0\" >GUEST GUEST</td>\n",
              "      <td id=\"T_5ba1b_row8_col1\" class=\"data row8 col1\" >Tennis Court 1</td>\n",
              "      <td id=\"T_5ba1b_row8_col2\" class=\"data row8 col2\" >75</td>\n",
              "    </tr>\n",
              "    <tr>\n",
              "      <td id=\"T_5ba1b_row9_col0\" class=\"data row9 col0\" >Matthew Genting</td>\n",
              "      <td id=\"T_5ba1b_row9_col1\" class=\"data row9 col1\" >Massage Room 1</td>\n",
              "      <td id=\"T_5ba1b_row9_col2\" class=\"data row9 col2\" >70</td>\n",
              "    </tr>\n",
              "    <tr>\n",
              "      <td id=\"T_5ba1b_row10_col0\" class=\"data row10 col0\" >Florence Bader</td>\n",
              "      <td id=\"T_5ba1b_row10_col1\" class=\"data row10 col1\" >Massage Room 2</td>\n",
              "      <td id=\"T_5ba1b_row10_col2\" class=\"data row10 col2\" >70</td>\n",
              "    </tr>\n",
              "    <tr>\n",
              "      <td id=\"T_5ba1b_row11_col0\" class=\"data row11 col0\" >GUEST GUEST</td>\n",
              "      <td id=\"T_5ba1b_row11_col1\" class=\"data row11 col1\" >Squash Court</td>\n",
              "      <td id=\"T_5ba1b_row11_col2\" class=\"data row11 col2\" >70.0</td>\n",
              "    </tr>\n",
              "    <tr>\n",
              "      <td id=\"T_5ba1b_row12_col0\" class=\"data row12 col0\" >Jemima Farrell</td>\n",
              "      <td id=\"T_5ba1b_row12_col1\" class=\"data row12 col1\" >Massage Room 1</td>\n",
              "      <td id=\"T_5ba1b_row12_col2\" class=\"data row12 col2\" >70</td>\n",
              "    </tr>\n",
              "    <tr>\n",
              "      <td id=\"T_5ba1b_row13_col0\" class=\"data row13 col0\" >Ponder Stibbons</td>\n",
              "      <td id=\"T_5ba1b_row13_col1\" class=\"data row13 col1\" >Massage Room 1</td>\n",
              "      <td id=\"T_5ba1b_row13_col2\" class=\"data row13 col2\" >70</td>\n",
              "    </tr>\n",
              "    <tr>\n",
              "      <td id=\"T_5ba1b_row14_col0\" class=\"data row14 col0\" >Burton Tracy</td>\n",
              "      <td id=\"T_5ba1b_row14_col1\" class=\"data row14 col1\" >Massage Room 1</td>\n",
              "      <td id=\"T_5ba1b_row14_col2\" class=\"data row14 col2\" >70</td>\n",
              "    </tr>\n",
              "    <tr>\n",
              "      <td id=\"T_5ba1b_row15_col0\" class=\"data row15 col0\" >Jack Smith</td>\n",
              "      <td id=\"T_5ba1b_row15_col1\" class=\"data row15 col1\" >Massage Room 1</td>\n",
              "      <td id=\"T_5ba1b_row15_col2\" class=\"data row15 col2\" >70</td>\n",
              "    </tr>\n",
              "    <tr>\n",
              "      <td id=\"T_5ba1b_row16_col0\" class=\"data row16 col0\" >GUEST GUEST</td>\n",
              "      <td id=\"T_5ba1b_row16_col1\" class=\"data row16 col1\" >Squash Court</td>\n",
              "      <td id=\"T_5ba1b_row16_col2\" class=\"data row16 col2\" >35.0</td>\n",
              "    </tr>\n",
              "    <tr>\n",
              "      <td id=\"T_5ba1b_row17_col0\" class=\"data row17 col0\" >GUEST GUEST</td>\n",
              "      <td id=\"T_5ba1b_row17_col1\" class=\"data row17 col1\" >Squash Court</td>\n",
              "      <td id=\"T_5ba1b_row17_col2\" class=\"data row17 col2\" >35.0</td>\n",
              "    </tr>\n",
              "  </tbody>\n",
              "</table>\n"
            ]
          },
          "metadata": {},
          "execution_count": 39
        }
      ]
    },
    {
      "cell_type": "markdown",
      "source": [
        "# Modifying Data"
      ],
      "metadata": {
        "id": "_8_RXy-9gQpt"
      }
    },
    {
      "cell_type": "markdown",
      "source": [
        "## 3.1 Insert some data into a table"
      ],
      "metadata": {
        "id": "73XVUWy1Jyb7"
      }
    },
    {
      "cell_type": "code",
      "source": [
        "# The club is adding a new facility - a spa. We need to add it into the facilities table. Use the following values:\n",
        "\n",
        "#facid: 9, Name: 'Spa', membercost: 20, guestcost: 30, initialoutlay: 100000, monthlymaintenance: 800.\n"
      ],
      "metadata": {
        "id": "-vTsDvZNKKpY"
      },
      "execution_count": null,
      "outputs": []
    },
    {
      "cell_type": "code",
      "source": [
        "runCmd(\"insert into cd.facilities (facid, name, membercost, guestcost, initialoutlay, monthlymaintenance) VALUES\\\n",
        "(9, 'Spa', 20, 30, 100000, 800)\");"
      ],
      "metadata": {
        "colab": {
          "base_uri": "https://localhost:8080/"
        },
        "id": "FD9a2iinQQxs",
        "outputId": "901647fd-b61d-46a8-d9c0-ca97f1e6a88e"
      },
      "execution_count": null,
      "outputs": [
        {
          "output_type": "stream",
          "name": "stdout",
          "text": [
            "Command executed\n"
          ]
        }
      ]
    },
    {
      "cell_type": "code",
      "source": [
        "runSelect(\"select * from cd.facilities\")"
      ],
      "metadata": {
        "colab": {
          "base_uri": "https://localhost:8080/",
          "height": 363
        },
        "id": "Y_J4_DCnLW6R",
        "outputId": "4543cd3e-d002-4579-a6af-165a19205331"
      },
      "execution_count": null,
      "outputs": [
        {
          "output_type": "execute_result",
          "data": {
            "text/plain": [
              "<pandas.io.formats.style.Styler at 0x7b2bef3d26e0>"
            ],
            "text/html": [
              "<style type=\"text/css\">\n",
              "</style>\n",
              "<table id=\"T_01cc7\" class=\"dataframe\">\n",
              "  <thead>\n",
              "    <tr>\n",
              "      <th id=\"T_01cc7_level0_col0\" class=\"col_heading level0 col0\" >facid</th>\n",
              "      <th id=\"T_01cc7_level0_col1\" class=\"col_heading level0 col1\" >name</th>\n",
              "      <th id=\"T_01cc7_level0_col2\" class=\"col_heading level0 col2\" >membercost</th>\n",
              "      <th id=\"T_01cc7_level0_col3\" class=\"col_heading level0 col3\" >guestcost</th>\n",
              "      <th id=\"T_01cc7_level0_col4\" class=\"col_heading level0 col4\" >initialoutlay</th>\n",
              "      <th id=\"T_01cc7_level0_col5\" class=\"col_heading level0 col5\" >monthlymaintenance</th>\n",
              "    </tr>\n",
              "  </thead>\n",
              "  <tbody>\n",
              "    <tr>\n",
              "      <td id=\"T_01cc7_row0_col0\" class=\"data row0 col0\" >0</td>\n",
              "      <td id=\"T_01cc7_row0_col1\" class=\"data row0 col1\" >Tennis Court 1</td>\n",
              "      <td id=\"T_01cc7_row0_col2\" class=\"data row0 col2\" >5</td>\n",
              "      <td id=\"T_01cc7_row0_col3\" class=\"data row0 col3\" >25</td>\n",
              "      <td id=\"T_01cc7_row0_col4\" class=\"data row0 col4\" >10000</td>\n",
              "      <td id=\"T_01cc7_row0_col5\" class=\"data row0 col5\" >200</td>\n",
              "    </tr>\n",
              "    <tr>\n",
              "      <td id=\"T_01cc7_row1_col0\" class=\"data row1 col0\" >1</td>\n",
              "      <td id=\"T_01cc7_row1_col1\" class=\"data row1 col1\" >Tennis Court 2</td>\n",
              "      <td id=\"T_01cc7_row1_col2\" class=\"data row1 col2\" >5</td>\n",
              "      <td id=\"T_01cc7_row1_col3\" class=\"data row1 col3\" >25</td>\n",
              "      <td id=\"T_01cc7_row1_col4\" class=\"data row1 col4\" >8000</td>\n",
              "      <td id=\"T_01cc7_row1_col5\" class=\"data row1 col5\" >200</td>\n",
              "    </tr>\n",
              "    <tr>\n",
              "      <td id=\"T_01cc7_row2_col0\" class=\"data row2 col0\" >2</td>\n",
              "      <td id=\"T_01cc7_row2_col1\" class=\"data row2 col1\" >Badminton Court</td>\n",
              "      <td id=\"T_01cc7_row2_col2\" class=\"data row2 col2\" >0</td>\n",
              "      <td id=\"T_01cc7_row2_col3\" class=\"data row2 col3\" >15.5</td>\n",
              "      <td id=\"T_01cc7_row2_col4\" class=\"data row2 col4\" >4000</td>\n",
              "      <td id=\"T_01cc7_row2_col5\" class=\"data row2 col5\" >50</td>\n",
              "    </tr>\n",
              "    <tr>\n",
              "      <td id=\"T_01cc7_row3_col0\" class=\"data row3 col0\" >3</td>\n",
              "      <td id=\"T_01cc7_row3_col1\" class=\"data row3 col1\" >Table Tennis</td>\n",
              "      <td id=\"T_01cc7_row3_col2\" class=\"data row3 col2\" >0</td>\n",
              "      <td id=\"T_01cc7_row3_col3\" class=\"data row3 col3\" >5</td>\n",
              "      <td id=\"T_01cc7_row3_col4\" class=\"data row3 col4\" >320</td>\n",
              "      <td id=\"T_01cc7_row3_col5\" class=\"data row3 col5\" >10</td>\n",
              "    </tr>\n",
              "    <tr>\n",
              "      <td id=\"T_01cc7_row4_col0\" class=\"data row4 col0\" >4</td>\n",
              "      <td id=\"T_01cc7_row4_col1\" class=\"data row4 col1\" >Massage Room 1</td>\n",
              "      <td id=\"T_01cc7_row4_col2\" class=\"data row4 col2\" >35</td>\n",
              "      <td id=\"T_01cc7_row4_col3\" class=\"data row4 col3\" >80</td>\n",
              "      <td id=\"T_01cc7_row4_col4\" class=\"data row4 col4\" >4000</td>\n",
              "      <td id=\"T_01cc7_row4_col5\" class=\"data row4 col5\" >3000</td>\n",
              "    </tr>\n",
              "    <tr>\n",
              "      <td id=\"T_01cc7_row5_col0\" class=\"data row5 col0\" >5</td>\n",
              "      <td id=\"T_01cc7_row5_col1\" class=\"data row5 col1\" >Massage Room 2</td>\n",
              "      <td id=\"T_01cc7_row5_col2\" class=\"data row5 col2\" >35</td>\n",
              "      <td id=\"T_01cc7_row5_col3\" class=\"data row5 col3\" >80</td>\n",
              "      <td id=\"T_01cc7_row5_col4\" class=\"data row5 col4\" >4000</td>\n",
              "      <td id=\"T_01cc7_row5_col5\" class=\"data row5 col5\" >3000</td>\n",
              "    </tr>\n",
              "    <tr>\n",
              "      <td id=\"T_01cc7_row6_col0\" class=\"data row6 col0\" >6</td>\n",
              "      <td id=\"T_01cc7_row6_col1\" class=\"data row6 col1\" >Squash Court</td>\n",
              "      <td id=\"T_01cc7_row6_col2\" class=\"data row6 col2\" >3.5</td>\n",
              "      <td id=\"T_01cc7_row6_col3\" class=\"data row6 col3\" >17.5</td>\n",
              "      <td id=\"T_01cc7_row6_col4\" class=\"data row6 col4\" >5000</td>\n",
              "      <td id=\"T_01cc7_row6_col5\" class=\"data row6 col5\" >80</td>\n",
              "    </tr>\n",
              "    <tr>\n",
              "      <td id=\"T_01cc7_row7_col0\" class=\"data row7 col0\" >7</td>\n",
              "      <td id=\"T_01cc7_row7_col1\" class=\"data row7 col1\" >Snooker Table</td>\n",
              "      <td id=\"T_01cc7_row7_col2\" class=\"data row7 col2\" >0</td>\n",
              "      <td id=\"T_01cc7_row7_col3\" class=\"data row7 col3\" >5</td>\n",
              "      <td id=\"T_01cc7_row7_col4\" class=\"data row7 col4\" >450</td>\n",
              "      <td id=\"T_01cc7_row7_col5\" class=\"data row7 col5\" >15</td>\n",
              "    </tr>\n",
              "    <tr>\n",
              "      <td id=\"T_01cc7_row8_col0\" class=\"data row8 col0\" >8</td>\n",
              "      <td id=\"T_01cc7_row8_col1\" class=\"data row8 col1\" >Pool Table</td>\n",
              "      <td id=\"T_01cc7_row8_col2\" class=\"data row8 col2\" >0</td>\n",
              "      <td id=\"T_01cc7_row8_col3\" class=\"data row8 col3\" >5</td>\n",
              "      <td id=\"T_01cc7_row8_col4\" class=\"data row8 col4\" >400</td>\n",
              "      <td id=\"T_01cc7_row8_col5\" class=\"data row8 col5\" >15</td>\n",
              "    </tr>\n",
              "    <tr>\n",
              "      <td id=\"T_01cc7_row9_col0\" class=\"data row9 col0\" >9</td>\n",
              "      <td id=\"T_01cc7_row9_col1\" class=\"data row9 col1\" >Spa</td>\n",
              "      <td id=\"T_01cc7_row9_col2\" class=\"data row9 col2\" >20</td>\n",
              "      <td id=\"T_01cc7_row9_col3\" class=\"data row9 col3\" >30</td>\n",
              "      <td id=\"T_01cc7_row9_col4\" class=\"data row9 col4\" >100000</td>\n",
              "      <td id=\"T_01cc7_row9_col5\" class=\"data row9 col5\" >800</td>\n",
              "    </tr>\n",
              "  </tbody>\n",
              "</table>\n"
            ]
          },
          "metadata": {},
          "execution_count": 42
        }
      ]
    },
    {
      "cell_type": "markdown",
      "source": [
        "## 3.2 Insert multiple rows of data into a table"
      ],
      "metadata": {
        "id": "PrfwTikBLgMd"
      }
    },
    {
      "cell_type": "code",
      "source": [
        "# In the previous exercise, you learned how to add a facility. Now you're going to add multiple facilities in one command. Use the following values:\n",
        "\n",
        "#facid: 9, Name: 'Spa', membercost: 20, guestcost: 30, initialoutlay: 100000, monthlymaintenance: 800.\n",
        "#facid: 10, Name: 'Squash Court 2', membercost: 3.5, guestcost: 17.5, initialoutlay: 5000, monthlymaintenance: 80.\n"
      ],
      "metadata": {
        "id": "WxsjPZHzLxPN"
      },
      "execution_count": null,
      "outputs": []
    },
    {
      "cell_type": "code",
      "source": [
        "runCmd(\"insert into cd.facilities(facid, name, membercost, guestcost, initialoutlay, monthlymaintenance) VALUES\\\n",
        " (10, 'Squash Court 2', 3.5, 17.5, 5000, 80)\");"
      ],
      "metadata": {
        "colab": {
          "base_uri": "https://localhost:8080/"
        },
        "id": "Pohs_L6QM2xW",
        "outputId": "0aa66b42-ec5e-470c-b65d-ccf7dd0e88ba"
      },
      "execution_count": null,
      "outputs": [
        {
          "output_type": "stream",
          "name": "stdout",
          "text": [
            "Command executed\n"
          ]
        }
      ]
    },
    {
      "cell_type": "code",
      "source": [
        "runSelect(\"select * from cd.facilities\")"
      ],
      "metadata": {
        "colab": {
          "base_uri": "https://localhost:8080/",
          "height": 394
        },
        "id": "_HBUeP5SMqmz",
        "outputId": "b6456ae8-f3fd-4754-bb0b-9e2c909b0c98"
      },
      "execution_count": null,
      "outputs": [
        {
          "output_type": "execute_result",
          "data": {
            "text/plain": [
              "<pandas.io.formats.style.Styler at 0x7b2bef400d60>"
            ],
            "text/html": [
              "<style type=\"text/css\">\n",
              "</style>\n",
              "<table id=\"T_3b7b5\" class=\"dataframe\">\n",
              "  <thead>\n",
              "    <tr>\n",
              "      <th id=\"T_3b7b5_level0_col0\" class=\"col_heading level0 col0\" >facid</th>\n",
              "      <th id=\"T_3b7b5_level0_col1\" class=\"col_heading level0 col1\" >name</th>\n",
              "      <th id=\"T_3b7b5_level0_col2\" class=\"col_heading level0 col2\" >membercost</th>\n",
              "      <th id=\"T_3b7b5_level0_col3\" class=\"col_heading level0 col3\" >guestcost</th>\n",
              "      <th id=\"T_3b7b5_level0_col4\" class=\"col_heading level0 col4\" >initialoutlay</th>\n",
              "      <th id=\"T_3b7b5_level0_col5\" class=\"col_heading level0 col5\" >monthlymaintenance</th>\n",
              "    </tr>\n",
              "  </thead>\n",
              "  <tbody>\n",
              "    <tr>\n",
              "      <td id=\"T_3b7b5_row0_col0\" class=\"data row0 col0\" >0</td>\n",
              "      <td id=\"T_3b7b5_row0_col1\" class=\"data row0 col1\" >Tennis Court 1</td>\n",
              "      <td id=\"T_3b7b5_row0_col2\" class=\"data row0 col2\" >5</td>\n",
              "      <td id=\"T_3b7b5_row0_col3\" class=\"data row0 col3\" >25</td>\n",
              "      <td id=\"T_3b7b5_row0_col4\" class=\"data row0 col4\" >10000</td>\n",
              "      <td id=\"T_3b7b5_row0_col5\" class=\"data row0 col5\" >200</td>\n",
              "    </tr>\n",
              "    <tr>\n",
              "      <td id=\"T_3b7b5_row1_col0\" class=\"data row1 col0\" >1</td>\n",
              "      <td id=\"T_3b7b5_row1_col1\" class=\"data row1 col1\" >Tennis Court 2</td>\n",
              "      <td id=\"T_3b7b5_row1_col2\" class=\"data row1 col2\" >5</td>\n",
              "      <td id=\"T_3b7b5_row1_col3\" class=\"data row1 col3\" >25</td>\n",
              "      <td id=\"T_3b7b5_row1_col4\" class=\"data row1 col4\" >8000</td>\n",
              "      <td id=\"T_3b7b5_row1_col5\" class=\"data row1 col5\" >200</td>\n",
              "    </tr>\n",
              "    <tr>\n",
              "      <td id=\"T_3b7b5_row2_col0\" class=\"data row2 col0\" >2</td>\n",
              "      <td id=\"T_3b7b5_row2_col1\" class=\"data row2 col1\" >Badminton Court</td>\n",
              "      <td id=\"T_3b7b5_row2_col2\" class=\"data row2 col2\" >0</td>\n",
              "      <td id=\"T_3b7b5_row2_col3\" class=\"data row2 col3\" >15.5</td>\n",
              "      <td id=\"T_3b7b5_row2_col4\" class=\"data row2 col4\" >4000</td>\n",
              "      <td id=\"T_3b7b5_row2_col5\" class=\"data row2 col5\" >50</td>\n",
              "    </tr>\n",
              "    <tr>\n",
              "      <td id=\"T_3b7b5_row3_col0\" class=\"data row3 col0\" >3</td>\n",
              "      <td id=\"T_3b7b5_row3_col1\" class=\"data row3 col1\" >Table Tennis</td>\n",
              "      <td id=\"T_3b7b5_row3_col2\" class=\"data row3 col2\" >0</td>\n",
              "      <td id=\"T_3b7b5_row3_col3\" class=\"data row3 col3\" >5</td>\n",
              "      <td id=\"T_3b7b5_row3_col4\" class=\"data row3 col4\" >320</td>\n",
              "      <td id=\"T_3b7b5_row3_col5\" class=\"data row3 col5\" >10</td>\n",
              "    </tr>\n",
              "    <tr>\n",
              "      <td id=\"T_3b7b5_row4_col0\" class=\"data row4 col0\" >4</td>\n",
              "      <td id=\"T_3b7b5_row4_col1\" class=\"data row4 col1\" >Massage Room 1</td>\n",
              "      <td id=\"T_3b7b5_row4_col2\" class=\"data row4 col2\" >35</td>\n",
              "      <td id=\"T_3b7b5_row4_col3\" class=\"data row4 col3\" >80</td>\n",
              "      <td id=\"T_3b7b5_row4_col4\" class=\"data row4 col4\" >4000</td>\n",
              "      <td id=\"T_3b7b5_row4_col5\" class=\"data row4 col5\" >3000</td>\n",
              "    </tr>\n",
              "    <tr>\n",
              "      <td id=\"T_3b7b5_row5_col0\" class=\"data row5 col0\" >5</td>\n",
              "      <td id=\"T_3b7b5_row5_col1\" class=\"data row5 col1\" >Massage Room 2</td>\n",
              "      <td id=\"T_3b7b5_row5_col2\" class=\"data row5 col2\" >35</td>\n",
              "      <td id=\"T_3b7b5_row5_col3\" class=\"data row5 col3\" >80</td>\n",
              "      <td id=\"T_3b7b5_row5_col4\" class=\"data row5 col4\" >4000</td>\n",
              "      <td id=\"T_3b7b5_row5_col5\" class=\"data row5 col5\" >3000</td>\n",
              "    </tr>\n",
              "    <tr>\n",
              "      <td id=\"T_3b7b5_row6_col0\" class=\"data row6 col0\" >6</td>\n",
              "      <td id=\"T_3b7b5_row6_col1\" class=\"data row6 col1\" >Squash Court</td>\n",
              "      <td id=\"T_3b7b5_row6_col2\" class=\"data row6 col2\" >3.5</td>\n",
              "      <td id=\"T_3b7b5_row6_col3\" class=\"data row6 col3\" >17.5</td>\n",
              "      <td id=\"T_3b7b5_row6_col4\" class=\"data row6 col4\" >5000</td>\n",
              "      <td id=\"T_3b7b5_row6_col5\" class=\"data row6 col5\" >80</td>\n",
              "    </tr>\n",
              "    <tr>\n",
              "      <td id=\"T_3b7b5_row7_col0\" class=\"data row7 col0\" >7</td>\n",
              "      <td id=\"T_3b7b5_row7_col1\" class=\"data row7 col1\" >Snooker Table</td>\n",
              "      <td id=\"T_3b7b5_row7_col2\" class=\"data row7 col2\" >0</td>\n",
              "      <td id=\"T_3b7b5_row7_col3\" class=\"data row7 col3\" >5</td>\n",
              "      <td id=\"T_3b7b5_row7_col4\" class=\"data row7 col4\" >450</td>\n",
              "      <td id=\"T_3b7b5_row7_col5\" class=\"data row7 col5\" >15</td>\n",
              "    </tr>\n",
              "    <tr>\n",
              "      <td id=\"T_3b7b5_row8_col0\" class=\"data row8 col0\" >8</td>\n",
              "      <td id=\"T_3b7b5_row8_col1\" class=\"data row8 col1\" >Pool Table</td>\n",
              "      <td id=\"T_3b7b5_row8_col2\" class=\"data row8 col2\" >0</td>\n",
              "      <td id=\"T_3b7b5_row8_col3\" class=\"data row8 col3\" >5</td>\n",
              "      <td id=\"T_3b7b5_row8_col4\" class=\"data row8 col4\" >400</td>\n",
              "      <td id=\"T_3b7b5_row8_col5\" class=\"data row8 col5\" >15</td>\n",
              "    </tr>\n",
              "    <tr>\n",
              "      <td id=\"T_3b7b5_row9_col0\" class=\"data row9 col0\" >9</td>\n",
              "      <td id=\"T_3b7b5_row9_col1\" class=\"data row9 col1\" >Spa</td>\n",
              "      <td id=\"T_3b7b5_row9_col2\" class=\"data row9 col2\" >20</td>\n",
              "      <td id=\"T_3b7b5_row9_col3\" class=\"data row9 col3\" >30</td>\n",
              "      <td id=\"T_3b7b5_row9_col4\" class=\"data row9 col4\" >100000</td>\n",
              "      <td id=\"T_3b7b5_row9_col5\" class=\"data row9 col5\" >800</td>\n",
              "    </tr>\n",
              "    <tr>\n",
              "      <td id=\"T_3b7b5_row10_col0\" class=\"data row10 col0\" >10</td>\n",
              "      <td id=\"T_3b7b5_row10_col1\" class=\"data row10 col1\" >Squash Court 2</td>\n",
              "      <td id=\"T_3b7b5_row10_col2\" class=\"data row10 col2\" >3.5</td>\n",
              "      <td id=\"T_3b7b5_row10_col3\" class=\"data row10 col3\" >17.5</td>\n",
              "      <td id=\"T_3b7b5_row10_col4\" class=\"data row10 col4\" >5000</td>\n",
              "      <td id=\"T_3b7b5_row10_col5\" class=\"data row10 col5\" >80</td>\n",
              "    </tr>\n",
              "  </tbody>\n",
              "</table>\n"
            ]
          },
          "metadata": {},
          "execution_count": 45
        }
      ]
    },
    {
      "cell_type": "markdown",
      "source": [
        "## 3.3 Insert calculated data into a table"
      ],
      "metadata": {
        "id": "KftR-5CNQljm"
      }
    },
    {
      "cell_type": "code",
      "source": [
        "# Let's try adding the spa to the facilities table again. This time, though, we want to automatically generate the value for the next facid, rather than specifying it as a constant. Use the following values for everything else:\n",
        "\n",
        "#Name: 'Spa', membercost: 20, guestcost: 30, initialoutlay: 100000, monthlymaintenance: 800."
      ],
      "metadata": {
        "id": "SaRb9v5GR3fi"
      },
      "execution_count": null,
      "outputs": []
    },
    {
      "cell_type": "code",
      "source": [
        "runCmd(\"insert into cd.facilities (facid, name, membercost, guestcost, initialoutlay, monthymaintenance) select (select max(facid) from cd.facilities)+1, 'Spa', 20, 30, 100000, 800\");"
      ],
      "metadata": {
        "colab": {
          "base_uri": "https://localhost:8080/"
        },
        "id": "qoZEoikSSMFE",
        "outputId": "8f22b784-3978-44e4-9bdd-9adfe4b9bd2a"
      },
      "execution_count": null,
      "outputs": [
        {
          "output_type": "stream",
          "name": "stdout",
          "text": [
            "Command failed\n"
          ]
        }
      ]
    },
    {
      "cell_type": "markdown",
      "source": [
        "## 3.5 Update some existing data\n"
      ],
      "metadata": {
        "id": "U2x5CNBdTD0J"
      }
    },
    {
      "cell_type": "code",
      "source": [
        "# We made a mistake when entering the data for the second tennis court. The initial outlay was 10000 rather than 8000: you need to alter the data to fix the error."
      ],
      "metadata": {
        "id": "QDJhb2ksS23t"
      },
      "execution_count": null,
      "outputs": []
    },
    {
      "cell_type": "code",
      "source": [
        "runCmd(\"update cd.facilities set initialoutlay = 10000 where facid = 1\")"
      ],
      "metadata": {
        "colab": {
          "base_uri": "https://localhost:8080/"
        },
        "id": "3OM2ckC9TbKI",
        "outputId": "05f3200c-1306-4626-b2a7-388a00e80e09"
      },
      "execution_count": null,
      "outputs": [
        {
          "output_type": "stream",
          "name": "stdout",
          "text": [
            "Command executed\n"
          ]
        }
      ]
    },
    {
      "cell_type": "markdown",
      "source": [
        "## 3.6 Update multiple rows and columns at the same time"
      ],
      "metadata": {
        "id": "Qv4bXcuoTqF4"
      }
    },
    {
      "cell_type": "code",
      "source": [
        "# We want to increase the price of the tennis courts for both members and guests. Update the costs to be 6 for members, and 30 for guests."
      ],
      "metadata": {
        "id": "coxXv_VUT86v"
      },
      "execution_count": null,
      "outputs": []
    },
    {
      "cell_type": "code",
      "source": [
        "runCmd(\"update cd.facilities set membercost = 6, guestcost = 30 where facid in (0,1)\")"
      ],
      "metadata": {
        "colab": {
          "base_uri": "https://localhost:8080/"
        },
        "id": "AuO8Ou-YUlU3",
        "outputId": "3c1c4389-037d-4856-e19e-c8e48da0fb07"
      },
      "execution_count": null,
      "outputs": [
        {
          "output_type": "stream",
          "name": "stdout",
          "text": [
            "Command executed\n"
          ]
        }
      ]
    },
    {
      "cell_type": "markdown",
      "source": [
        "## 3.7 Update a row based on the contents of another row"
      ],
      "metadata": {
        "id": "bFyFgXdFU2QK"
      }
    },
    {
      "cell_type": "code",
      "source": [
        "# We want to alter the price of the second tennis court so that it costs 10% more than the first one. Try to do this without using constant values for the prices, so that we can reuse the statement if we want to."
      ],
      "metadata": {
        "id": "OWi7fGSoVk0y"
      },
      "execution_count": null,
      "outputs": []
    },
    {
      "cell_type": "code",
      "source": [
        "runCmd(\"update cd.facilities set membercost = (select membercost * 1.1 from cd.facilities where facid = 0), guestcost = (select guestcost * 1.1 from cd.facilities where facid = 0) where cd.facilities.facid = 1\")"
      ],
      "metadata": {
        "colab": {
          "base_uri": "https://localhost:8080/"
        },
        "id": "dhlNLVFyVuOY",
        "outputId": "dc9f0e3f-6146-4aa3-d5f5-eb4e8b7165c0"
      },
      "execution_count": null,
      "outputs": [
        {
          "output_type": "stream",
          "name": "stdout",
          "text": [
            "Command executed\n"
          ]
        }
      ]
    },
    {
      "cell_type": "markdown",
      "source": [
        "## 3.8 Delete all bookings\n"
      ],
      "metadata": {
        "id": "-1I82CBJWh2v"
      }
    },
    {
      "cell_type": "code",
      "source": [
        "# As part of a clearout of our database, we want to delete all bookings from the cd.bookings table. How can we accomplish this?"
      ],
      "metadata": {
        "id": "hJR8Ky4BWvOk"
      },
      "execution_count": null,
      "outputs": []
    },
    {
      "cell_type": "code",
      "source": [
        "runCmd(\"delete from cd.bookings\")"
      ],
      "metadata": {
        "colab": {
          "base_uri": "https://localhost:8080/"
        },
        "id": "Qk5r0zRYW1LD",
        "outputId": "72bbfc33-f4e1-4458-c351-f8f1232a513e"
      },
      "execution_count": null,
      "outputs": [
        {
          "output_type": "stream",
          "name": "stdout",
          "text": [
            "Command executed\n"
          ]
        }
      ]
    },
    {
      "cell_type": "markdown",
      "source": [
        "## 3.9 Delete a member from the cd.members table\n"
      ],
      "metadata": {
        "id": "_aTMR_SQXF-Z"
      }
    },
    {
      "cell_type": "code",
      "source": [
        "# We want to remove member 37, who has never made a booking, from our database. How can we achieve that?"
      ],
      "metadata": {
        "id": "d4nehDaUW_Wd"
      },
      "execution_count": null,
      "outputs": []
    },
    {
      "cell_type": "code",
      "source": [
        "runCmd(\"delete from cd.members where memid = 37\")"
      ],
      "metadata": {
        "colab": {
          "base_uri": "https://localhost:8080/"
        },
        "id": "yrf-V-pAXQpJ",
        "outputId": "714ea220-1f64-488e-96dc-2cff8aab1aae"
      },
      "execution_count": null,
      "outputs": [
        {
          "output_type": "stream",
          "name": "stdout",
          "text": [
            "Command executed\n"
          ]
        }
      ]
    },
    {
      "cell_type": "markdown",
      "source": [
        "## 3.10 Delete based on a subquery\n"
      ],
      "metadata": {
        "id": "rB-CMw2vXdPf"
      }
    },
    {
      "cell_type": "code",
      "source": [
        "# In our previous exercises, we deleted a specific member who had never made a booking. How can we make that more general, to delete all members who have never made a booking?"
      ],
      "metadata": {
        "id": "RYMqPlgCXkX1"
      },
      "execution_count": null,
      "outputs": []
    },
    {
      "cell_type": "code",
      "source": [
        "runCmd(\"delete from cd.members where memid not in (select memid from cd.bookings)\")"
      ],
      "metadata": {
        "colab": {
          "base_uri": "https://localhost:8080/"
        },
        "id": "aHi1f82bXpld",
        "outputId": "7e1dd606-e599-482d-f355-144b0f2270ea"
      },
      "execution_count": null,
      "outputs": [
        {
          "output_type": "stream",
          "name": "stdout",
          "text": [
            "Command executed\n"
          ]
        }
      ]
    },
    {
      "cell_type": "markdown",
      "source": [
        "# Aggregate"
      ],
      "metadata": {
        "id": "0spyx0O1kwqX"
      }
    },
    {
      "cell_type": "markdown",
      "source": [
        "## 4.1 Count the number of facilities\n"
      ],
      "metadata": {
        "id": "FyXjxQYr_03T"
      }
    },
    {
      "cell_type": "code",
      "source": [
        "# For our first foray into aggregates, we're going to stick to something simple. We want to know how many facilities exist - simply produce a total count."
      ],
      "metadata": {
        "id": "DL1p5niLAITq"
      },
      "execution_count": null,
      "outputs": []
    },
    {
      "cell_type": "code",
      "source": [
        "runSelect(\"select count(name) as count from cd.facilities\")"
      ],
      "metadata": {
        "colab": {
          "base_uri": "https://localhost:8080/",
          "height": 81
        },
        "id": "FKIDUWv7AM4F",
        "outputId": "1e51e53e-3285-4814-a270-63f78bfd1417"
      },
      "execution_count": null,
      "outputs": [
        {
          "output_type": "execute_result",
          "data": {
            "text/plain": [
              "<pandas.io.formats.style.Styler at 0x7b2bef270430>"
            ],
            "text/html": [
              "<style type=\"text/css\">\n",
              "</style>\n",
              "<table id=\"T_12e33\" class=\"dataframe\">\n",
              "  <thead>\n",
              "    <tr>\n",
              "      <th id=\"T_12e33_level0_col0\" class=\"col_heading level0 col0\" >count</th>\n",
              "    </tr>\n",
              "  </thead>\n",
              "  <tbody>\n",
              "    <tr>\n",
              "      <td id=\"T_12e33_row0_col0\" class=\"data row0 col0\" >11</td>\n",
              "    </tr>\n",
              "  </tbody>\n",
              "</table>\n"
            ]
          },
          "metadata": {},
          "execution_count": 61
        }
      ]
    },
    {
      "cell_type": "markdown",
      "source": [
        "## 4.2 Count the number of expensive facilities\n"
      ],
      "metadata": {
        "id": "3dGZpL2nApXZ"
      }
    },
    {
      "cell_type": "code",
      "source": [
        "# Produce a count of the number of facilities that have a cost to guests of 10 or more."
      ],
      "metadata": {
        "id": "gCMza3VYA2Cn"
      },
      "execution_count": null,
      "outputs": []
    },
    {
      "cell_type": "code",
      "source": [
        "runSelect(\"select count(name) as count from cd.facilities where guestcost >= 10\")"
      ],
      "metadata": {
        "colab": {
          "base_uri": "https://localhost:8080/",
          "height": 81
        },
        "id": "kOhR3yMcA56i",
        "outputId": "ff89ada0-70ac-413e-e0d4-9de4eef465c8"
      },
      "execution_count": null,
      "outputs": [
        {
          "output_type": "execute_result",
          "data": {
            "text/plain": [
              "<pandas.io.formats.style.Styler at 0x7b2bef270c40>"
            ],
            "text/html": [
              "<style type=\"text/css\">\n",
              "</style>\n",
              "<table id=\"T_7f3a6\" class=\"dataframe\">\n",
              "  <thead>\n",
              "    <tr>\n",
              "      <th id=\"T_7f3a6_level0_col0\" class=\"col_heading level0 col0\" >count</th>\n",
              "    </tr>\n",
              "  </thead>\n",
              "  <tbody>\n",
              "    <tr>\n",
              "      <td id=\"T_7f3a6_row0_col0\" class=\"data row0 col0\" >8</td>\n",
              "    </tr>\n",
              "  </tbody>\n",
              "</table>\n"
            ]
          },
          "metadata": {},
          "execution_count": 63
        }
      ]
    },
    {
      "cell_type": "markdown",
      "source": [
        "## 4.3 Count the number of recommendations each member makes."
      ],
      "metadata": {
        "id": "1xbic8l2BPVJ"
      }
    },
    {
      "cell_type": "code",
      "source": [
        "# Produce a count of the number of recommendations each member has made. Order by member ID."
      ],
      "metadata": {
        "id": "0prTsy6tBcFp"
      },
      "execution_count": null,
      "outputs": []
    },
    {
      "cell_type": "code",
      "source": [
        "runSelect(\"select recommendedby, count(*) as count from cd.members where recommendedby is not null group by recommendedby order by recommendedby\")"
      ],
      "metadata": {
        "colab": {
          "base_uri": "https://localhost:8080/"
        },
        "id": "n4PP4FYkBfSJ",
        "outputId": "4af272c7-47ad-498b-a812-c634328c28e6"
      },
      "execution_count": null,
      "outputs": [
        {
          "output_type": "stream",
          "name": "stdout",
          "text": [
            "no records found\n"
          ]
        }
      ]
    },
    {
      "cell_type": "markdown",
      "source": [
        "## 4.4 List the total slots booked per facility"
      ],
      "metadata": {
        "id": "gbt87OrTCdkf"
      }
    },
    {
      "cell_type": "code",
      "source": [
        "# Produce a list of the total number of slots booked per facility. For now, just produce an output table consisting of facility id and slots, sorted by facility id."
      ],
      "metadata": {
        "id": "4DducuIJC2z-"
      },
      "execution_count": null,
      "outputs": []
    },
    {
      "cell_type": "code",
      "source": [
        "runSelect(\"select facid, sum(slots) as Total_Slots from cd.bookings group by facid order by facid\")"
      ],
      "metadata": {
        "colab": {
          "base_uri": "https://localhost:8080/"
        },
        "id": "FeqZcjFBDAIC",
        "outputId": "0cb9ff61-18ec-47f5-e9fb-1d64e6f1206f"
      },
      "execution_count": null,
      "outputs": [
        {
          "output_type": "stream",
          "name": "stdout",
          "text": [
            "no records found\n"
          ]
        }
      ]
    },
    {
      "cell_type": "markdown",
      "source": [
        "## 4.5 List the total slots booked per facility in a given month"
      ],
      "metadata": {
        "id": "sImn0Wi_Dykh"
      }
    },
    {
      "cell_type": "code",
      "source": [
        "# Produce a list of the total number of slots booked per facility in the month of September 2012. Produce an output table consisting of facility id and slots, sorted by the number of slots."
      ],
      "metadata": {
        "id": "YB21Du5VEAQX"
      },
      "execution_count": null,
      "outputs": []
    },
    {
      "cell_type": "code",
      "source": [
        "runSelect(\"select facid, sum(slots) as Total_Slots from cd.bookings where starttime >= '2012-09-01' and starttime < '2012-09-30' group by facid order by sum(slots)\")"
      ],
      "metadata": {
        "colab": {
          "base_uri": "https://localhost:8080/"
        },
        "id": "-dtKwetiEEss",
        "outputId": "4f260872-1c31-418a-a11e-3d95ad52a19c"
      },
      "execution_count": null,
      "outputs": [
        {
          "output_type": "stream",
          "name": "stdout",
          "text": [
            "no records found\n"
          ]
        }
      ]
    },
    {
      "cell_type": "markdown",
      "source": [
        "## 4.6 List the total slots booked per facility per month"
      ],
      "metadata": {
        "id": "GVdxtiybE15R"
      }
    },
    {
      "cell_type": "code",
      "source": [
        "# Produce a list of the total number of slots booked per facility per month in the year of 2012. Produce an output table consisting of facility id and slots, sorted by the id and month."
      ],
      "metadata": {
        "id": "T6VN0et-E9gy"
      },
      "execution_count": null,
      "outputs": []
    },
    {
      "cell_type": "code",
      "source": [
        "runSelect(\"select facid, extract(month from starttime) as month, sum(slots) as Total_Slots from cd.bookings where extract(year from starttime) = 2012 group by facid, month order by facid, month\")"
      ],
      "metadata": {
        "colab": {
          "base_uri": "https://localhost:8080/"
        },
        "id": "kP1gLa40FUGB",
        "outputId": "08ac385b-8a9a-482c-ebe9-0a88e8a37e16"
      },
      "execution_count": null,
      "outputs": [
        {
          "output_type": "stream",
          "name": "stdout",
          "text": [
            "no records found\n"
          ]
        }
      ]
    },
    {
      "cell_type": "markdown",
      "source": [
        "## 4.7 Find the count of members who have made at least one booking"
      ],
      "metadata": {
        "id": "LDVQO9JeGK4M"
      }
    },
    {
      "cell_type": "code",
      "source": [
        "# Find the total number of members (including guests) who have made at least one booking."
      ],
      "metadata": {
        "id": "-jcegYWKGQQA"
      },
      "execution_count": null,
      "outputs": []
    },
    {
      "cell_type": "code",
      "source": [
        "runSelect(\"select count(*) from (select distinct memid from cd.bookings) as d\")"
      ],
      "metadata": {
        "colab": {
          "base_uri": "https://localhost:8080/",
          "height": 81
        },
        "id": "M67uCuxEGTxS",
        "outputId": "d6dcfa0b-fa87-4586-dcbd-d3d2adeada64"
      },
      "execution_count": null,
      "outputs": [
        {
          "output_type": "execute_result",
          "data": {
            "text/plain": [
              "<pandas.io.formats.style.Styler at 0x7b2bef4014b0>"
            ],
            "text/html": [
              "<style type=\"text/css\">\n",
              "</style>\n",
              "<table id=\"T_956e1\" class=\"dataframe\">\n",
              "  <thead>\n",
              "    <tr>\n",
              "      <th id=\"T_956e1_level0_col0\" class=\"col_heading level0 col0\" >count</th>\n",
              "    </tr>\n",
              "  </thead>\n",
              "  <tbody>\n",
              "    <tr>\n",
              "      <td id=\"T_956e1_row0_col0\" class=\"data row0 col0\" >0</td>\n",
              "    </tr>\n",
              "  </tbody>\n",
              "</table>\n"
            ]
          },
          "metadata": {},
          "execution_count": 73
        }
      ]
    },
    {
      "cell_type": "markdown",
      "source": [
        "## 4.8 List facilities with more than 1000 slots booked\n"
      ],
      "metadata": {
        "id": "rsfW46giGoWk"
      }
    },
    {
      "cell_type": "code",
      "source": [
        "# Produce a list of facilities with more than 1000 slots booked. Produce an output table consisting of facility id and slots, sorted by facility id."
      ],
      "metadata": {
        "id": "NViqLySpG4Oj"
      },
      "execution_count": null,
      "outputs": []
    },
    {
      "cell_type": "code",
      "source": [
        "runSelect(\"select facid, sum(slots) as Total_Slots from cd.bookings group by facid having sum(slots) > 1000 order by facid\")"
      ],
      "metadata": {
        "colab": {
          "base_uri": "https://localhost:8080/"
        },
        "id": "9HKQ_NcNHJYT",
        "outputId": "6a6ddb61-7c66-4762-9302-884b1f29498f"
      },
      "execution_count": null,
      "outputs": [
        {
          "output_type": "stream",
          "name": "stdout",
          "text": [
            "no records found\n"
          ]
        }
      ]
    },
    {
      "cell_type": "markdown",
      "source": [
        "## 4.9 Find the total revenue of each facility"
      ],
      "metadata": {
        "id": "QIWU3EcqIdda"
      }
    },
    {
      "cell_type": "code",
      "source": [
        "# Produce a list of facilities along with their total revenue. The output table should consist of facility name and revenue, sorted by revenue. Remember that there's a different cost for guests and members!"
      ],
      "metadata": {
        "id": "anMPfhI7IjZp"
      },
      "execution_count": null,
      "outputs": []
    },
    {
      "cell_type": "code",
      "source": [
        "runSelect(\"select m.name, sum(slots * case when memid = 0 then m.guestcost else m.membercost end) as revenue from cd.bookings d INNER JOIN cd.facilities m ON d.facid = m.facid group by m.name order by revenue\")"
      ],
      "metadata": {
        "colab": {
          "base_uri": "https://localhost:8080/"
        },
        "id": "WaU2FtXtIs6v",
        "outputId": "9a50675f-0ea8-4a3a-f2dc-390c490bf04b"
      },
      "execution_count": null,
      "outputs": [
        {
          "output_type": "stream",
          "name": "stdout",
          "text": [
            "no records found\n"
          ]
        }
      ]
    },
    {
      "cell_type": "markdown",
      "source": [
        "## 4.10 Find facilities with a total revenue less than 1000\n",
        "    "
      ],
      "metadata": {
        "id": "sZB_SYO7K3pr"
      }
    },
    {
      "cell_type": "code",
      "source": [
        "# Produce a list of facilities with a total revenue less than 1000. Produce an output table consisting of facility name and revenue, sorted by revenue. Remember that there's a different cost for guests and members!"
      ],
      "metadata": {
        "id": "xv8C7xGuLK2C"
      },
      "execution_count": null,
      "outputs": []
    },
    {
      "cell_type": "code",
      "source": [
        "runSelect(\"select name, revenue from (select m.name, sum(case when memid = 0 then m.guestcost else m.membercost end) as revenue from cd.bookings d INNER JOIN cd.facilities m ON d.facid = m.facid group by m.name) as total where revenue < 1000 order by revenue\")"
      ],
      "metadata": {
        "colab": {
          "base_uri": "https://localhost:8080/"
        },
        "id": "MbbAW_PkLT8C",
        "outputId": "701764ee-ce7d-4c7b-87d5-67623b891f0e"
      },
      "execution_count": null,
      "outputs": [
        {
          "output_type": "stream",
          "name": "stdout",
          "text": [
            "no records found\n"
          ]
        }
      ]
    },
    {
      "cell_type": "markdown",
      "source": [
        "## 4.11 Output the facility id that has the highest number of slots booked"
      ],
      "metadata": {
        "id": "bpA3LK54eBnV"
      }
    },
    {
      "cell_type": "code",
      "source": [
        "# Output the facility id that has the highest number of slots booked. For bonus points, try a version without a LIMIT clause. This version will probably look messy!"
      ],
      "metadata": {
        "id": "wXiJaRwHeIOM"
      },
      "execution_count": null,
      "outputs": []
    },
    {
      "cell_type": "code",
      "source": [
        "runSelect(\"select facid, max(totalslots) from (select facid, sum(slots) as totalslots from cd.bookings group by facid) as tsl group by facid\")"
      ],
      "metadata": {
        "colab": {
          "base_uri": "https://localhost:8080/"
        },
        "id": "NkwonDOdeP-B",
        "outputId": "db4528df-a100-4dcb-9753-93a6185155cc"
      },
      "execution_count": null,
      "outputs": [
        {
          "output_type": "stream",
          "name": "stdout",
          "text": [
            "no records found\n"
          ]
        }
      ]
    },
    {
      "cell_type": "markdown",
      "source": [
        "## 4.12 List the total slots booked per facility per month, part 2"
      ],
      "metadata": {
        "id": "sBs8ibaDqf9j"
      }
    },
    {
      "cell_type": "code",
      "source": [
        "# Produce a list of the total number of slots booked per facility per month in the year of 2012. In this version, include output rows containing totals for all months per facility, and a total for all months for all facilities. The output table should consist of facility id, month and slots, sorted by the id and month. When calculating the aggregated values for all months and all facids, return null values in the month and facid columns."
      ],
      "metadata": {
        "id": "pSL-H9jcqeZn"
      },
      "execution_count": null,
      "outputs": []
    },
    {
      "cell_type": "code",
      "source": [
        "runSelect(\"select facid, extract(month from starttime) as month, sum(slots) as slots from cd.bookings where starttime >= '2012-01-01' and starttime < '2012-01-01' group by rollup(facid, month) order by facid, month\")"
      ],
      "metadata": {
        "colab": {
          "base_uri": "https://localhost:8080/",
          "height": 81
        },
        "id": "YNOh971itqlt",
        "outputId": "433aac5e-310d-4d64-9e0e-56356bd55213"
      },
      "execution_count": null,
      "outputs": [
        {
          "output_type": "execute_result",
          "data": {
            "text/plain": [
              "<pandas.io.formats.style.Styler at 0x7b2bef3d1f90>"
            ],
            "text/html": [
              "<style type=\"text/css\">\n",
              "</style>\n",
              "<table id=\"T_b893b\" class=\"dataframe\">\n",
              "  <thead>\n",
              "    <tr>\n",
              "      <th id=\"T_b893b_level0_col0\" class=\"col_heading level0 col0\" >facid</th>\n",
              "      <th id=\"T_b893b_level0_col1\" class=\"col_heading level0 col1\" >month</th>\n",
              "      <th id=\"T_b893b_level0_col2\" class=\"col_heading level0 col2\" >slots</th>\n",
              "    </tr>\n",
              "  </thead>\n",
              "  <tbody>\n",
              "    <tr>\n",
              "      <td id=\"T_b893b_row0_col0\" class=\"data row0 col0\" >None</td>\n",
              "      <td id=\"T_b893b_row0_col1\" class=\"data row0 col1\" >None</td>\n",
              "      <td id=\"T_b893b_row0_col2\" class=\"data row0 col2\" >None</td>\n",
              "    </tr>\n",
              "  </tbody>\n",
              "</table>\n"
            ]
          },
          "metadata": {},
          "execution_count": 83
        }
      ]
    },
    {
      "cell_type": "markdown",
      "source": [
        "## 4.13 List the total hours booked per named facility"
      ],
      "metadata": {
        "id": "QRsyOPphuf0Q"
      }
    },
    {
      "cell_type": "code",
      "source": [
        "# Produce a list of the total number of hours booked per facility, remembering that a slot lasts half an hour. The output table should consist of the facility id, name, and hours booked, sorted by facility id. Try formatting the hours to two decimal places."
      ],
      "metadata": {
        "id": "uW4WvHTaulVv"
      },
      "execution_count": null,
      "outputs": []
    },
    {
      "cell_type": "code",
      "source": [
        "runSelect(\"select m.facid, m.name, trim(to_char(sum(d.slots)/2.0, '9999999999999999D99')) as Total_Hours from cd.bookings d INNER JOIN cd.facilities m ON m.facid = d.facid group by m.facid, m.name order by m.facid\")"
      ],
      "metadata": {
        "colab": {
          "base_uri": "https://localhost:8080/"
        },
        "id": "qkTcGl41uovH",
        "outputId": "f8d6a0a9-9994-4f11-ee82-21d9a796b451"
      },
      "execution_count": null,
      "outputs": [
        {
          "output_type": "stream",
          "name": "stdout",
          "text": [
            "no records found\n"
          ]
        }
      ]
    },
    {
      "cell_type": "markdown",
      "source": [
        "## 4.14 List each member's first booking after September 1st 2012"
      ],
      "metadata": {
        "id": "7U-B_zXGwHo0"
      }
    },
    {
      "cell_type": "code",
      "source": [
        "# Produce a list of each member name, id, and their first booking after September 1st 2012. Order by member ID."
      ],
      "metadata": {
        "id": "Ox6QRxdZwOBy"
      },
      "execution_count": null,
      "outputs": []
    },
    {
      "cell_type": "code",
      "source": [
        "runSelect(\"select n.surname, n.firstname, n.memid, min(d.starttime) as starttime from cd.bookings d, cd.members n where n.memid = d.memid and starttime >= '2012-09-01' group by n.surname, n.firstname, n.memid order by n.memid\")"
      ],
      "metadata": {
        "colab": {
          "base_uri": "https://localhost:8080/"
        },
        "id": "TrL4vakZwRbD",
        "outputId": "b992eed7-6190-4d4f-925b-af01f950c8c8"
      },
      "execution_count": null,
      "outputs": [
        {
          "output_type": "stream",
          "name": "stdout",
          "text": [
            "no records found\n"
          ]
        }
      ]
    },
    {
      "cell_type": "markdown",
      "source": [
        "## 4.15 Produce a list of member names, with each row containing the total member count"
      ],
      "metadata": {
        "id": "737e2S_Pxfih"
      }
    },
    {
      "cell_type": "code",
      "source": [
        "# Produce a list of member names, with each row containing the total member count. Order by join date, and include guest members."
      ],
      "metadata": {
        "id": "lERhWN6NyJHM"
      },
      "execution_count": null,
      "outputs": []
    },
    {
      "cell_type": "code",
      "source": [
        "runSelect(\"select count(*) over(), firstname, surname from cd.members order by joindate\")"
      ],
      "metadata": {
        "colab": {
          "base_uri": "https://localhost:8080/"
        },
        "id": "pMaggwViyVyA",
        "outputId": "093c5b2c-a4ef-458b-faa6-20d4c5911292"
      },
      "execution_count": null,
      "outputs": [
        {
          "output_type": "stream",
          "name": "stdout",
          "text": [
            "no records found\n"
          ]
        }
      ]
    },
    {
      "cell_type": "markdown",
      "source": [
        "## 4.16 Produce a numbered list of members"
      ],
      "metadata": {
        "id": "TUyIZ5IL0tm5"
      }
    },
    {
      "cell_type": "code",
      "source": [
        "# Produce a monotonically increasing numbered list of members (including guests), ordered by their date of joining. Remember that member IDs are not guaranteed to be sequential."
      ],
      "metadata": {
        "id": "Oqw9j1du06kt"
      },
      "execution_count": null,
      "outputs": []
    },
    {
      "cell_type": "code",
      "source": [
        "runSelect(\"select row_number() over(order by joindate), firstname, surname from cd.members order by joindate\")"
      ],
      "metadata": {
        "colab": {
          "base_uri": "https://localhost:8080/"
        },
        "id": "dpgy96UH0-tf",
        "outputId": "8bf6487a-b74a-4daa-e69a-957ef3a250dd"
      },
      "execution_count": null,
      "outputs": [
        {
          "output_type": "stream",
          "name": "stdout",
          "text": [
            "no records found\n"
          ]
        }
      ]
    },
    {
      "cell_type": "markdown",
      "source": [
        "## 4.17 Output the facility id that has the highest number of slots booked, again"
      ],
      "metadata": {
        "id": "UUxgsyuS11T8"
      }
    },
    {
      "cell_type": "code",
      "source": [
        "# Output the facility id that has the highest number of slots booked. Ensure that in the event of a tie, all tieing results get output."
      ],
      "metadata": {
        "id": "vzOd9zlo2ja1"
      },
      "execution_count": null,
      "outputs": []
    },
    {
      "cell_type": "code",
      "source": [
        "runSelect(\"select facid, total from(select facid, sum(slots) as total, rank() over (order by sum(slots) desc) rank from cd.bookings group by facid) as ranked where rank = 1\")"
      ],
      "metadata": {
        "colab": {
          "base_uri": "https://localhost:8080/"
        },
        "id": "znNykOKz2-xh",
        "outputId": "b0178353-b085-44b8-9c95-2dc4a359d503"
      },
      "execution_count": null,
      "outputs": [
        {
          "output_type": "stream",
          "name": "stdout",
          "text": [
            "no records found\n"
          ]
        }
      ]
    },
    {
      "cell_type": "markdown",
      "source": [
        "## 4.18 Rank members by (rounded) hours used"
      ],
      "metadata": {
        "id": "QifBWzzX3odo"
      }
    },
    {
      "cell_type": "code",
      "source": [
        "# Produce a list of members (including guests), along with the number of hours they've booked in facilities, rounded to the nearest ten hours. Rank them by this rounded figure, producing output of first name, surname, rounded hours, rank. Sort by rank, surname, and first name."
      ],
      "metadata": {
        "id": "OdOa2Ef95ls4"
      },
      "execution_count": null,
      "outputs": []
    },
    {
      "cell_type": "code",
      "source": [
        "runSelect(\"select firstname, surname, ((sum(d.slots)+10)/20)*10 as hours, rank() over(order by ((sum(d.slots)+10)/20)*10 desc) as rank from cd.bookings d, cd.members n where d.memid = n.memid group by n.memid order by rank, surname, firstname\")"
      ],
      "metadata": {
        "colab": {
          "base_uri": "https://localhost:8080/"
        },
        "id": "VGwD6hcz5pnk",
        "outputId": "064d8061-18ce-412b-c909-24058414f129"
      },
      "execution_count": null,
      "outputs": [
        {
          "output_type": "stream",
          "name": "stdout",
          "text": [
            "no records found\n"
          ]
        }
      ]
    },
    {
      "cell_type": "markdown",
      "source": [
        "## 4.19 Find the top three revenue generating facilities"
      ],
      "metadata": {
        "id": "VfyWrjVA7Lhh"
      }
    },
    {
      "cell_type": "code",
      "source": [
        "# Produce a list of the top three revenue generating facilities (including ties). Output facility name and rank, sorted by rank and facility name."
      ],
      "metadata": {
        "id": "S25lgATD7cCO"
      },
      "execution_count": null,
      "outputs": []
    },
    {
      "cell_type": "code",
      "source": [
        "runSelect(\"select name, rank from (select m.name as name, rank() over(order by sum(case when memid = 0 then slots*m.guestcost else slots*m.membercost end)desc) as rank from cd.bookings d, cd.facilities m where d.facid = m.facid group by m.name) as tsl where rank <= 3 order by rank\")"
      ],
      "metadata": {
        "colab": {
          "base_uri": "https://localhost:8080/"
        },
        "id": "oncocywL7fED",
        "outputId": "c2cb7528-3d99-4ca6-925e-8a3656feb4a6"
      },
      "execution_count": null,
      "outputs": [
        {
          "output_type": "stream",
          "name": "stdout",
          "text": [
            "no records found\n"
          ]
        }
      ]
    },
    {
      "cell_type": "markdown",
      "source": [
        "## 4.20 Classify facilities by value"
      ],
      "metadata": {
        "id": "z5O7uMk68jBL"
      }
    },
    {
      "cell_type": "code",
      "source": [
        "# Classify facilities into equally sized groups of high, average, and low based on their revenue. Order by classification and facility name."
      ],
      "metadata": {
        "id": "Y5MO9qBs841v"
      },
      "execution_count": null,
      "outputs": []
    },
    {
      "cell_type": "code",
      "source": [
        "runSelect(\"select name, case when class=1 then 'high' when class=2 then 'average' else 'low' end revenue from (select m.name as name, ntile(3) over (order by sum(case when memid = 0 then slots * m.guestcost else slots * membercost end) desc) as class from cd.bookings d, cd.facilities m where d.facid = m.facid group by m.name) as tslq order by class, name\")"
      ],
      "metadata": {
        "colab": {
          "base_uri": "https://localhost:8080/"
        },
        "id": "PVEvPm5L876e",
        "outputId": "6958767c-60e9-4333-8e46-9936565ac049"
      },
      "execution_count": null,
      "outputs": [
        {
          "output_type": "stream",
          "name": "stdout",
          "text": [
            "no records found\n"
          ]
        }
      ]
    },
    {
      "cell_type": "markdown",
      "source": [
        "## 4.21 Calculate the payback time for each facility"
      ],
      "metadata": {
        "id": "KzBF5JLR98yQ"
      }
    },
    {
      "cell_type": "code",
      "source": [
        "# Based on the 3 complete months of data so far, calculate the amount of time each facility will take to repay its cost of ownership. Remember to take into account ongoing monthly maintenance. Output facility name and payback time in months, order by facility name. Don't worry about differences in month lengths, we're only looking for a rough value here!"
      ],
      "metadata": {
        "id": "7iT3KoWu-COs"
      },
      "execution_count": null,
      "outputs": []
    },
    {
      "cell_type": "code",
      "source": [
        "runSelect(\"select m.name as name, m.initialoutlay/((sum(case when memid = 0 then slots*m.guestcost else slots*membercost end)/ 3) - m.monthlymaintenance) as months from cd.bookings d, cd.facilities m where d.facid = m.facid group by m.facid order by name\")"
      ],
      "metadata": {
        "colab": {
          "base_uri": "https://localhost:8080/"
        },
        "id": "OMUbvkt5-Hdu",
        "outputId": "ca8bb2bf-abc1-436b-ed7a-6f0e2a953eae"
      },
      "execution_count": null,
      "outputs": [
        {
          "output_type": "stream",
          "name": "stdout",
          "text": [
            "no records found\n"
          ]
        }
      ]
    },
    {
      "cell_type": "markdown",
      "source": [
        "## 4.22 Calculate a rolling average of total revenue"
      ],
      "metadata": {
        "id": "55Pq_rIz_aMQ"
      }
    },
    {
      "cell_type": "code",
      "source": [
        "# For each day in August 2012, calculate a rolling average of total revenue over the previous 15 days. Output should contain date and revenue columns, sorted by the date. Remember to account for the possibility of a day having zero revenue. This one's a bit tough, so don't be afraid to check out the hint!"
      ],
      "metadata": {
        "id": "AbEzi7Zh_ePR"
      },
      "execution_count": null,
      "outputs": []
    },
    {
      "cell_type": "code",
      "source": [
        "runSelect(\"select dategen.date, (select sum(case when memid = 0 then slots*m.guestcost else slots*membercost end) as rev from cd.bookings d, cd.facilities m where d.facid = m.facid and d.starttime > dategen.date - interval '14 days' and d.starttime < dategen.date + interval '1 day')/15 as revenue from (select cast(generate_series(timestamp '2012-08-01', '2012-08-31','1 day') as date) as date) as dategen order by dategen.date\")"
      ],
      "metadata": {
        "colab": {
          "base_uri": "https://localhost:8080/",
          "height": 1000
        },
        "id": "xThIJkJ5_h_i",
        "outputId": "d6d215b9-9ce7-490f-e8bf-de11a86fd6e7"
      },
      "execution_count": null,
      "outputs": [
        {
          "output_type": "execute_result",
          "data": {
            "text/plain": [
              "<pandas.io.formats.style.Styler at 0x7b2bef3b9540>"
            ],
            "text/html": [
              "<style type=\"text/css\">\n",
              "</style>\n",
              "<table id=\"T_b69f7\" class=\"dataframe\">\n",
              "  <thead>\n",
              "    <tr>\n",
              "      <th id=\"T_b69f7_level0_col0\" class=\"col_heading level0 col0\" >date</th>\n",
              "      <th id=\"T_b69f7_level0_col1\" class=\"col_heading level0 col1\" >revenue</th>\n",
              "    </tr>\n",
              "  </thead>\n",
              "  <tbody>\n",
              "    <tr>\n",
              "      <td id=\"T_b69f7_row0_col0\" class=\"data row0 col0\" >2012-08-01</td>\n",
              "      <td id=\"T_b69f7_row0_col1\" class=\"data row0 col1\" >None</td>\n",
              "    </tr>\n",
              "    <tr>\n",
              "      <td id=\"T_b69f7_row1_col0\" class=\"data row1 col0\" >2012-08-02</td>\n",
              "      <td id=\"T_b69f7_row1_col1\" class=\"data row1 col1\" >None</td>\n",
              "    </tr>\n",
              "    <tr>\n",
              "      <td id=\"T_b69f7_row2_col0\" class=\"data row2 col0\" >2012-08-03</td>\n",
              "      <td id=\"T_b69f7_row2_col1\" class=\"data row2 col1\" >None</td>\n",
              "    </tr>\n",
              "    <tr>\n",
              "      <td id=\"T_b69f7_row3_col0\" class=\"data row3 col0\" >2012-08-04</td>\n",
              "      <td id=\"T_b69f7_row3_col1\" class=\"data row3 col1\" >None</td>\n",
              "    </tr>\n",
              "    <tr>\n",
              "      <td id=\"T_b69f7_row4_col0\" class=\"data row4 col0\" >2012-08-05</td>\n",
              "      <td id=\"T_b69f7_row4_col1\" class=\"data row4 col1\" >None</td>\n",
              "    </tr>\n",
              "    <tr>\n",
              "      <td id=\"T_b69f7_row5_col0\" class=\"data row5 col0\" >2012-08-06</td>\n",
              "      <td id=\"T_b69f7_row5_col1\" class=\"data row5 col1\" >None</td>\n",
              "    </tr>\n",
              "    <tr>\n",
              "      <td id=\"T_b69f7_row6_col0\" class=\"data row6 col0\" >2012-08-07</td>\n",
              "      <td id=\"T_b69f7_row6_col1\" class=\"data row6 col1\" >None</td>\n",
              "    </tr>\n",
              "    <tr>\n",
              "      <td id=\"T_b69f7_row7_col0\" class=\"data row7 col0\" >2012-08-08</td>\n",
              "      <td id=\"T_b69f7_row7_col1\" class=\"data row7 col1\" >None</td>\n",
              "    </tr>\n",
              "    <tr>\n",
              "      <td id=\"T_b69f7_row8_col0\" class=\"data row8 col0\" >2012-08-09</td>\n",
              "      <td id=\"T_b69f7_row8_col1\" class=\"data row8 col1\" >None</td>\n",
              "    </tr>\n",
              "    <tr>\n",
              "      <td id=\"T_b69f7_row9_col0\" class=\"data row9 col0\" >2012-08-10</td>\n",
              "      <td id=\"T_b69f7_row9_col1\" class=\"data row9 col1\" >None</td>\n",
              "    </tr>\n",
              "    <tr>\n",
              "      <td id=\"T_b69f7_row10_col0\" class=\"data row10 col0\" >2012-08-11</td>\n",
              "      <td id=\"T_b69f7_row10_col1\" class=\"data row10 col1\" >None</td>\n",
              "    </tr>\n",
              "    <tr>\n",
              "      <td id=\"T_b69f7_row11_col0\" class=\"data row11 col0\" >2012-08-12</td>\n",
              "      <td id=\"T_b69f7_row11_col1\" class=\"data row11 col1\" >None</td>\n",
              "    </tr>\n",
              "    <tr>\n",
              "      <td id=\"T_b69f7_row12_col0\" class=\"data row12 col0\" >2012-08-13</td>\n",
              "      <td id=\"T_b69f7_row12_col1\" class=\"data row12 col1\" >None</td>\n",
              "    </tr>\n",
              "    <tr>\n",
              "      <td id=\"T_b69f7_row13_col0\" class=\"data row13 col0\" >2012-08-14</td>\n",
              "      <td id=\"T_b69f7_row13_col1\" class=\"data row13 col1\" >None</td>\n",
              "    </tr>\n",
              "    <tr>\n",
              "      <td id=\"T_b69f7_row14_col0\" class=\"data row14 col0\" >2012-08-15</td>\n",
              "      <td id=\"T_b69f7_row14_col1\" class=\"data row14 col1\" >None</td>\n",
              "    </tr>\n",
              "    <tr>\n",
              "      <td id=\"T_b69f7_row15_col0\" class=\"data row15 col0\" >2012-08-16</td>\n",
              "      <td id=\"T_b69f7_row15_col1\" class=\"data row15 col1\" >None</td>\n",
              "    </tr>\n",
              "    <tr>\n",
              "      <td id=\"T_b69f7_row16_col0\" class=\"data row16 col0\" >2012-08-17</td>\n",
              "      <td id=\"T_b69f7_row16_col1\" class=\"data row16 col1\" >None</td>\n",
              "    </tr>\n",
              "    <tr>\n",
              "      <td id=\"T_b69f7_row17_col0\" class=\"data row17 col0\" >2012-08-18</td>\n",
              "      <td id=\"T_b69f7_row17_col1\" class=\"data row17 col1\" >None</td>\n",
              "    </tr>\n",
              "    <tr>\n",
              "      <td id=\"T_b69f7_row18_col0\" class=\"data row18 col0\" >2012-08-19</td>\n",
              "      <td id=\"T_b69f7_row18_col1\" class=\"data row18 col1\" >None</td>\n",
              "    </tr>\n",
              "    <tr>\n",
              "      <td id=\"T_b69f7_row19_col0\" class=\"data row19 col0\" >2012-08-20</td>\n",
              "      <td id=\"T_b69f7_row19_col1\" class=\"data row19 col1\" >None</td>\n",
              "    </tr>\n",
              "    <tr>\n",
              "      <td id=\"T_b69f7_row20_col0\" class=\"data row20 col0\" >2012-08-21</td>\n",
              "      <td id=\"T_b69f7_row20_col1\" class=\"data row20 col1\" >None</td>\n",
              "    </tr>\n",
              "    <tr>\n",
              "      <td id=\"T_b69f7_row21_col0\" class=\"data row21 col0\" >2012-08-22</td>\n",
              "      <td id=\"T_b69f7_row21_col1\" class=\"data row21 col1\" >None</td>\n",
              "    </tr>\n",
              "    <tr>\n",
              "      <td id=\"T_b69f7_row22_col0\" class=\"data row22 col0\" >2012-08-23</td>\n",
              "      <td id=\"T_b69f7_row22_col1\" class=\"data row22 col1\" >None</td>\n",
              "    </tr>\n",
              "    <tr>\n",
              "      <td id=\"T_b69f7_row23_col0\" class=\"data row23 col0\" >2012-08-24</td>\n",
              "      <td id=\"T_b69f7_row23_col1\" class=\"data row23 col1\" >None</td>\n",
              "    </tr>\n",
              "    <tr>\n",
              "      <td id=\"T_b69f7_row24_col0\" class=\"data row24 col0\" >2012-08-25</td>\n",
              "      <td id=\"T_b69f7_row24_col1\" class=\"data row24 col1\" >None</td>\n",
              "    </tr>\n",
              "    <tr>\n",
              "      <td id=\"T_b69f7_row25_col0\" class=\"data row25 col0\" >2012-08-26</td>\n",
              "      <td id=\"T_b69f7_row25_col1\" class=\"data row25 col1\" >None</td>\n",
              "    </tr>\n",
              "    <tr>\n",
              "      <td id=\"T_b69f7_row26_col0\" class=\"data row26 col0\" >2012-08-27</td>\n",
              "      <td id=\"T_b69f7_row26_col1\" class=\"data row26 col1\" >None</td>\n",
              "    </tr>\n",
              "    <tr>\n",
              "      <td id=\"T_b69f7_row27_col0\" class=\"data row27 col0\" >2012-08-28</td>\n",
              "      <td id=\"T_b69f7_row27_col1\" class=\"data row27 col1\" >None</td>\n",
              "    </tr>\n",
              "    <tr>\n",
              "      <td id=\"T_b69f7_row28_col0\" class=\"data row28 col0\" >2012-08-29</td>\n",
              "      <td id=\"T_b69f7_row28_col1\" class=\"data row28 col1\" >None</td>\n",
              "    </tr>\n",
              "    <tr>\n",
              "      <td id=\"T_b69f7_row29_col0\" class=\"data row29 col0\" >2012-08-30</td>\n",
              "      <td id=\"T_b69f7_row29_col1\" class=\"data row29 col1\" >None</td>\n",
              "    </tr>\n",
              "    <tr>\n",
              "      <td id=\"T_b69f7_row30_col0\" class=\"data row30 col0\" >2012-08-31</td>\n",
              "      <td id=\"T_b69f7_row30_col1\" class=\"data row30 col1\" >None</td>\n",
              "    </tr>\n",
              "  </tbody>\n",
              "</table>\n"
            ]
          },
          "metadata": {},
          "execution_count": 103
        }
      ]
    },
    {
      "cell_type": "markdown",
      "source": [
        "# Date"
      ],
      "metadata": {
        "id": "uncnx4ESiPLN"
      }
    },
    {
      "cell_type": "markdown",
      "source": [
        "## 4.1 Produce a timestamp for 1 a.m. on the 31st of August 2012\n"
      ],
      "metadata": {
        "id": "Q5oAkNyNYctC"
      }
    },
    {
      "cell_type": "code",
      "source": [
        "# Produce a timestamp for 1 a.m. on the 31st of August 2012.\n",
        "runSelect(\"select timestamp '2018-08-31 01:00:00'\")"
      ],
      "metadata": {
        "colab": {
          "base_uri": "https://localhost:8080/",
          "height": 81
        },
        "id": "PZNIEOpfZGDq",
        "outputId": "942dbdac-7b1d-421f-af1b-55d75a71ecec"
      },
      "execution_count": null,
      "outputs": [
        {
          "output_type": "execute_result",
          "data": {
            "text/plain": [
              "<pandas.io.formats.style.Styler at 0x7b2bef3b87c0>"
            ],
            "text/html": [
              "<style type=\"text/css\">\n",
              "</style>\n",
              "<table id=\"T_b3749\" class=\"dataframe\">\n",
              "  <thead>\n",
              "    <tr>\n",
              "      <th id=\"T_b3749_level0_col0\" class=\"col_heading level0 col0\" >timestamp</th>\n",
              "    </tr>\n",
              "  </thead>\n",
              "  <tbody>\n",
              "    <tr>\n",
              "      <td id=\"T_b3749_row0_col0\" class=\"data row0 col0\" >2018-08-31 01:00:00</td>\n",
              "    </tr>\n",
              "  </tbody>\n",
              "</table>\n"
            ]
          },
          "metadata": {},
          "execution_count": 104
        }
      ]
    },
    {
      "cell_type": "markdown",
      "source": [
        "## 4.2 Subtract timestamps from each other"
      ],
      "metadata": {
        "id": "0sXndoBOZjnY"
      }
    },
    {
      "cell_type": "code",
      "source": [
        "# Find the result of subtracting the timestamp '2012-07-30 01:00:00' from the timestamp '2012-08-31 01:00:00'\n",
        "runSelect(\"select timestamp '2012-08-31 01:00:00' - timestamp'2012-07-30 01:00:00' as interval\")"
      ],
      "metadata": {
        "colab": {
          "base_uri": "https://localhost:8080/",
          "height": 81
        },
        "id": "ItiCo2vrZuEp",
        "outputId": "e8850a4d-c7ee-4f8c-fe49-bc05c7747135"
      },
      "execution_count": null,
      "outputs": [
        {
          "output_type": "execute_result",
          "data": {
            "text/plain": [
              "<pandas.io.formats.style.Styler at 0x7b2bef271ae0>"
            ],
            "text/html": [
              "<style type=\"text/css\">\n",
              "</style>\n",
              "<table id=\"T_e7aa2\" class=\"dataframe\">\n",
              "  <thead>\n",
              "    <tr>\n",
              "      <th id=\"T_e7aa2_level0_col0\" class=\"col_heading level0 col0\" >interval</th>\n",
              "    </tr>\n",
              "  </thead>\n",
              "  <tbody>\n",
              "    <tr>\n",
              "      <td id=\"T_e7aa2_row0_col0\" class=\"data row0 col0\" >32 days 00:00:00</td>\n",
              "    </tr>\n",
              "  </tbody>\n",
              "</table>\n"
            ]
          },
          "metadata": {},
          "execution_count": 105
        }
      ]
    },
    {
      "cell_type": "markdown",
      "source": [
        "## 4.4 Generate a list of all the dates in October 2012\n"
      ],
      "metadata": {
        "id": "PPXzNAKNageQ"
      }
    },
    {
      "cell_type": "code",
      "source": [
        "# Produce a list of all the dates in October 2012. They can be output as a timestamp (with time set to midnight) or a date.\n",
        "runSelect(\"select generate_series(timestamp '2012-10-01', timestamp '2012-10-31', interval '1 day') as ts\")"
      ],
      "metadata": {
        "colab": {
          "base_uri": "https://localhost:8080/",
          "height": 1000
        },
        "id": "2OplHSTyat-Q",
        "outputId": "f1110348-bd15-48c9-bcbf-192b480a804f"
      },
      "execution_count": null,
      "outputs": [
        {
          "output_type": "execute_result",
          "data": {
            "text/plain": [
              "<pandas.io.formats.style.Styler at 0x7b2bef272dd0>"
            ],
            "text/html": [
              "<style type=\"text/css\">\n",
              "</style>\n",
              "<table id=\"T_664a1\" class=\"dataframe\">\n",
              "  <thead>\n",
              "    <tr>\n",
              "      <th id=\"T_664a1_level0_col0\" class=\"col_heading level0 col0\" >ts</th>\n",
              "    </tr>\n",
              "  </thead>\n",
              "  <tbody>\n",
              "    <tr>\n",
              "      <td id=\"T_664a1_row0_col0\" class=\"data row0 col0\" >2012-10-01 00:00:00</td>\n",
              "    </tr>\n",
              "    <tr>\n",
              "      <td id=\"T_664a1_row1_col0\" class=\"data row1 col0\" >2012-10-02 00:00:00</td>\n",
              "    </tr>\n",
              "    <tr>\n",
              "      <td id=\"T_664a1_row2_col0\" class=\"data row2 col0\" >2012-10-03 00:00:00</td>\n",
              "    </tr>\n",
              "    <tr>\n",
              "      <td id=\"T_664a1_row3_col0\" class=\"data row3 col0\" >2012-10-04 00:00:00</td>\n",
              "    </tr>\n",
              "    <tr>\n",
              "      <td id=\"T_664a1_row4_col0\" class=\"data row4 col0\" >2012-10-05 00:00:00</td>\n",
              "    </tr>\n",
              "    <tr>\n",
              "      <td id=\"T_664a1_row5_col0\" class=\"data row5 col0\" >2012-10-06 00:00:00</td>\n",
              "    </tr>\n",
              "    <tr>\n",
              "      <td id=\"T_664a1_row6_col0\" class=\"data row6 col0\" >2012-10-07 00:00:00</td>\n",
              "    </tr>\n",
              "    <tr>\n",
              "      <td id=\"T_664a1_row7_col0\" class=\"data row7 col0\" >2012-10-08 00:00:00</td>\n",
              "    </tr>\n",
              "    <tr>\n",
              "      <td id=\"T_664a1_row8_col0\" class=\"data row8 col0\" >2012-10-09 00:00:00</td>\n",
              "    </tr>\n",
              "    <tr>\n",
              "      <td id=\"T_664a1_row9_col0\" class=\"data row9 col0\" >2012-10-10 00:00:00</td>\n",
              "    </tr>\n",
              "    <tr>\n",
              "      <td id=\"T_664a1_row10_col0\" class=\"data row10 col0\" >2012-10-11 00:00:00</td>\n",
              "    </tr>\n",
              "    <tr>\n",
              "      <td id=\"T_664a1_row11_col0\" class=\"data row11 col0\" >2012-10-12 00:00:00</td>\n",
              "    </tr>\n",
              "    <tr>\n",
              "      <td id=\"T_664a1_row12_col0\" class=\"data row12 col0\" >2012-10-13 00:00:00</td>\n",
              "    </tr>\n",
              "    <tr>\n",
              "      <td id=\"T_664a1_row13_col0\" class=\"data row13 col0\" >2012-10-14 00:00:00</td>\n",
              "    </tr>\n",
              "    <tr>\n",
              "      <td id=\"T_664a1_row14_col0\" class=\"data row14 col0\" >2012-10-15 00:00:00</td>\n",
              "    </tr>\n",
              "    <tr>\n",
              "      <td id=\"T_664a1_row15_col0\" class=\"data row15 col0\" >2012-10-16 00:00:00</td>\n",
              "    </tr>\n",
              "    <tr>\n",
              "      <td id=\"T_664a1_row16_col0\" class=\"data row16 col0\" >2012-10-17 00:00:00</td>\n",
              "    </tr>\n",
              "    <tr>\n",
              "      <td id=\"T_664a1_row17_col0\" class=\"data row17 col0\" >2012-10-18 00:00:00</td>\n",
              "    </tr>\n",
              "    <tr>\n",
              "      <td id=\"T_664a1_row18_col0\" class=\"data row18 col0\" >2012-10-19 00:00:00</td>\n",
              "    </tr>\n",
              "    <tr>\n",
              "      <td id=\"T_664a1_row19_col0\" class=\"data row19 col0\" >2012-10-20 00:00:00</td>\n",
              "    </tr>\n",
              "    <tr>\n",
              "      <td id=\"T_664a1_row20_col0\" class=\"data row20 col0\" >2012-10-21 00:00:00</td>\n",
              "    </tr>\n",
              "    <tr>\n",
              "      <td id=\"T_664a1_row21_col0\" class=\"data row21 col0\" >2012-10-22 00:00:00</td>\n",
              "    </tr>\n",
              "    <tr>\n",
              "      <td id=\"T_664a1_row22_col0\" class=\"data row22 col0\" >2012-10-23 00:00:00</td>\n",
              "    </tr>\n",
              "    <tr>\n",
              "      <td id=\"T_664a1_row23_col0\" class=\"data row23 col0\" >2012-10-24 00:00:00</td>\n",
              "    </tr>\n",
              "    <tr>\n",
              "      <td id=\"T_664a1_row24_col0\" class=\"data row24 col0\" >2012-10-25 00:00:00</td>\n",
              "    </tr>\n",
              "    <tr>\n",
              "      <td id=\"T_664a1_row25_col0\" class=\"data row25 col0\" >2012-10-26 00:00:00</td>\n",
              "    </tr>\n",
              "    <tr>\n",
              "      <td id=\"T_664a1_row26_col0\" class=\"data row26 col0\" >2012-10-27 00:00:00</td>\n",
              "    </tr>\n",
              "    <tr>\n",
              "      <td id=\"T_664a1_row27_col0\" class=\"data row27 col0\" >2012-10-28 00:00:00</td>\n",
              "    </tr>\n",
              "    <tr>\n",
              "      <td id=\"T_664a1_row28_col0\" class=\"data row28 col0\" >2012-10-29 00:00:00</td>\n",
              "    </tr>\n",
              "    <tr>\n",
              "      <td id=\"T_664a1_row29_col0\" class=\"data row29 col0\" >2012-10-30 00:00:00</td>\n",
              "    </tr>\n",
              "    <tr>\n",
              "      <td id=\"T_664a1_row30_col0\" class=\"data row30 col0\" >2012-10-31 00:00:00</td>\n",
              "    </tr>\n",
              "  </tbody>\n",
              "</table>\n"
            ]
          },
          "metadata": {},
          "execution_count": 106
        }
      ]
    },
    {
      "cell_type": "markdown",
      "source": [
        "## 4.5 Get the day of the month from a timestamp"
      ],
      "metadata": {
        "id": "aJJa3yo4bhNt"
      }
    },
    {
      "cell_type": "code",
      "source": [
        "# Get the day of the month from the timestamp '2012-08-31' as an integer.\n",
        "runSelect(\"select extract(day from timestamp'2012-08-31') as date_part\")"
      ],
      "metadata": {
        "colab": {
          "base_uri": "https://localhost:8080/",
          "height": 81
        },
        "id": "UxzH26Lab1uq",
        "outputId": "03229e7c-8885-41f7-cd47-fe69abeb58b7"
      },
      "execution_count": null,
      "outputs": [
        {
          "output_type": "execute_result",
          "data": {
            "text/plain": [
              "<pandas.io.formats.style.Styler at 0x7b2bef272b30>"
            ],
            "text/html": [
              "<style type=\"text/css\">\n",
              "</style>\n",
              "<table id=\"T_0bc99\" class=\"dataframe\">\n",
              "  <thead>\n",
              "    <tr>\n",
              "      <th id=\"T_0bc99_level0_col0\" class=\"col_heading level0 col0\" >date_part</th>\n",
              "    </tr>\n",
              "  </thead>\n",
              "  <tbody>\n",
              "    <tr>\n",
              "      <td id=\"T_0bc99_row0_col0\" class=\"data row0 col0\" >31</td>\n",
              "    </tr>\n",
              "  </tbody>\n",
              "</table>\n"
            ]
          },
          "metadata": {},
          "execution_count": 107
        }
      ]
    },
    {
      "cell_type": "markdown",
      "source": [
        "## 4.6 Work out the number of seconds between timestamps"
      ],
      "metadata": {
        "id": "k96eyj39dDO_"
      }
    },
    {
      "cell_type": "code",
      "source": [
        "# Work out the number of seconds between the timestamps '2012-08-31 01:00:00' and '2012-09-02 00:00:00'\n",
        "runSelect(\"select extract(epoch from(timestamp '2012-09-02 00:00:00' - timestamp  '2012-08-31 01:00:00')) as date_part\")"
      ],
      "metadata": {
        "colab": {
          "base_uri": "https://localhost:8080/",
          "height": 81
        },
        "id": "qbqwF5VtddTx",
        "outputId": "c0123b66-c51b-40e5-f734-6933f7c213e0"
      },
      "execution_count": null,
      "outputs": [
        {
          "output_type": "execute_result",
          "data": {
            "text/plain": [
              "<pandas.io.formats.style.Styler at 0x7b2bef3d1810>"
            ],
            "text/html": [
              "<style type=\"text/css\">\n",
              "</style>\n",
              "<table id=\"T_596b4\" class=\"dataframe\">\n",
              "  <thead>\n",
              "    <tr>\n",
              "      <th id=\"T_596b4_level0_col0\" class=\"col_heading level0 col0\" >date_part</th>\n",
              "    </tr>\n",
              "  </thead>\n",
              "  <tbody>\n",
              "    <tr>\n",
              "      <td id=\"T_596b4_row0_col0\" class=\"data row0 col0\" >169200.000000</td>\n",
              "    </tr>\n",
              "  </tbody>\n",
              "</table>\n"
            ]
          },
          "metadata": {},
          "execution_count": 108
        }
      ]
    },
    {
      "cell_type": "markdown",
      "source": [
        "## 4.7 Work out the number of days in each month of 2012"
      ],
      "metadata": {
        "id": "dRmHATGPpTvo"
      }
    },
    {
      "cell_type": "code",
      "source": [
        "# For each month of the year in 2012, output the number of days in that month. Format the output as an integer column containing the month of the year, and a second column containing an interval data type."
      ],
      "metadata": {
        "id": "yXpJXD3Ipa05"
      },
      "execution_count": null,
      "outputs": []
    },
    {
      "cell_type": "code",
      "source": [
        "runSelect(\"select extract(month from cal.month) as month, (cal.month + interval '1 month') - cal.month as length from (select generate_series(timestamp '2012-01-01', timestamp '2012-12-01', interval '1 month') as month) cal order by month\")"
      ],
      "metadata": {
        "colab": {
          "base_uri": "https://localhost:8080/",
          "height": 425
        },
        "id": "DoFxt-rVpur5",
        "outputId": "5983cc1f-08d3-4c87-b58d-9e580c6178f7"
      },
      "execution_count": null,
      "outputs": [
        {
          "output_type": "execute_result",
          "data": {
            "text/plain": [
              "<pandas.io.formats.style.Styler at 0x7b2bef272fb0>"
            ],
            "text/html": [
              "<style type=\"text/css\">\n",
              "</style>\n",
              "<table id=\"T_6add0\" class=\"dataframe\">\n",
              "  <thead>\n",
              "    <tr>\n",
              "      <th id=\"T_6add0_level0_col0\" class=\"col_heading level0 col0\" >month</th>\n",
              "      <th id=\"T_6add0_level0_col1\" class=\"col_heading level0 col1\" >length</th>\n",
              "    </tr>\n",
              "  </thead>\n",
              "  <tbody>\n",
              "    <tr>\n",
              "      <td id=\"T_6add0_row0_col0\" class=\"data row0 col0\" >1</td>\n",
              "      <td id=\"T_6add0_row0_col1\" class=\"data row0 col1\" >31 days 00:00:00</td>\n",
              "    </tr>\n",
              "    <tr>\n",
              "      <td id=\"T_6add0_row1_col0\" class=\"data row1 col0\" >2</td>\n",
              "      <td id=\"T_6add0_row1_col1\" class=\"data row1 col1\" >29 days 00:00:00</td>\n",
              "    </tr>\n",
              "    <tr>\n",
              "      <td id=\"T_6add0_row2_col0\" class=\"data row2 col0\" >3</td>\n",
              "      <td id=\"T_6add0_row2_col1\" class=\"data row2 col1\" >31 days 00:00:00</td>\n",
              "    </tr>\n",
              "    <tr>\n",
              "      <td id=\"T_6add0_row3_col0\" class=\"data row3 col0\" >4</td>\n",
              "      <td id=\"T_6add0_row3_col1\" class=\"data row3 col1\" >30 days 00:00:00</td>\n",
              "    </tr>\n",
              "    <tr>\n",
              "      <td id=\"T_6add0_row4_col0\" class=\"data row4 col0\" >5</td>\n",
              "      <td id=\"T_6add0_row4_col1\" class=\"data row4 col1\" >31 days 00:00:00</td>\n",
              "    </tr>\n",
              "    <tr>\n",
              "      <td id=\"T_6add0_row5_col0\" class=\"data row5 col0\" >6</td>\n",
              "      <td id=\"T_6add0_row5_col1\" class=\"data row5 col1\" >30 days 00:00:00</td>\n",
              "    </tr>\n",
              "    <tr>\n",
              "      <td id=\"T_6add0_row6_col0\" class=\"data row6 col0\" >7</td>\n",
              "      <td id=\"T_6add0_row6_col1\" class=\"data row6 col1\" >31 days 00:00:00</td>\n",
              "    </tr>\n",
              "    <tr>\n",
              "      <td id=\"T_6add0_row7_col0\" class=\"data row7 col0\" >8</td>\n",
              "      <td id=\"T_6add0_row7_col1\" class=\"data row7 col1\" >31 days 00:00:00</td>\n",
              "    </tr>\n",
              "    <tr>\n",
              "      <td id=\"T_6add0_row8_col0\" class=\"data row8 col0\" >9</td>\n",
              "      <td id=\"T_6add0_row8_col1\" class=\"data row8 col1\" >30 days 00:00:00</td>\n",
              "    </tr>\n",
              "    <tr>\n",
              "      <td id=\"T_6add0_row9_col0\" class=\"data row9 col0\" >10</td>\n",
              "      <td id=\"T_6add0_row9_col1\" class=\"data row9 col1\" >31 days 00:00:00</td>\n",
              "    </tr>\n",
              "    <tr>\n",
              "      <td id=\"T_6add0_row10_col0\" class=\"data row10 col0\" >11</td>\n",
              "      <td id=\"T_6add0_row10_col1\" class=\"data row10 col1\" >30 days 00:00:00</td>\n",
              "    </tr>\n",
              "    <tr>\n",
              "      <td id=\"T_6add0_row11_col0\" class=\"data row11 col0\" >12</td>\n",
              "      <td id=\"T_6add0_row11_col1\" class=\"data row11 col1\" >31 days 00:00:00</td>\n",
              "    </tr>\n",
              "  </tbody>\n",
              "</table>\n"
            ]
          },
          "metadata": {},
          "execution_count": 110
        }
      ]
    },
    {
      "cell_type": "markdown",
      "source": [
        "## 4.8 Work out the number of days remaining in the month"
      ],
      "metadata": {
        "id": "dlYb6Jvnq5cg"
      }
    },
    {
      "cell_type": "code",
      "source": [
        "# For any given timestamp, work out the number of days remaining in the month. The current day should count as a whole day, regardless of the time. Use '2012-02-11 01:00:00' as an example timestamp for the purposes of making the answer. Format the output as a single interval value."
      ],
      "metadata": {
        "id": "va8YDdAjrb5Q"
      },
      "execution_count": null,
      "outputs": []
    },
    {
      "cell_type": "code",
      "source": [
        "runSelect(\"select(date_trunc('month', ts.ts1) + interval '1 month') - date_trunc('days', ts.ts1) as remaining from (select timestamp '2012-02-11 01:00:00' as ts1) ts\")"
      ],
      "metadata": {
        "colab": {
          "base_uri": "https://localhost:8080/",
          "height": 81
        },
        "id": "hclRJPEcrfMe",
        "outputId": "9f14b2fd-fecc-4dc4-a31e-453f233f4a57"
      },
      "execution_count": null,
      "outputs": [
        {
          "output_type": "execute_result",
          "data": {
            "text/plain": [
              "<pandas.io.formats.style.Styler at 0x7b2bef273b50>"
            ],
            "text/html": [
              "<style type=\"text/css\">\n",
              "</style>\n",
              "<table id=\"T_517d2\" class=\"dataframe\">\n",
              "  <thead>\n",
              "    <tr>\n",
              "      <th id=\"T_517d2_level0_col0\" class=\"col_heading level0 col0\" >remaining</th>\n",
              "    </tr>\n",
              "  </thead>\n",
              "  <tbody>\n",
              "    <tr>\n",
              "      <td id=\"T_517d2_row0_col0\" class=\"data row0 col0\" >19 days 00:00:00</td>\n",
              "    </tr>\n",
              "  </tbody>\n",
              "</table>\n"
            ]
          },
          "metadata": {},
          "execution_count": 112
        }
      ]
    },
    {
      "cell_type": "markdown",
      "source": [
        "## 4.9 Work out the end time of bookings"
      ],
      "metadata": {
        "id": "mhaiq5O2s1hp"
      }
    },
    {
      "cell_type": "code",
      "source": [
        "# 59.1 Return a list of the start and end time of the last 10 bookings (ordered by the time at which they end, followed by the time at which they start) in the system."
      ],
      "metadata": {
        "id": "DydGnz-CsqN8"
      },
      "execution_count": null,
      "outputs": []
    },
    {
      "cell_type": "code",
      "source": [
        "runSelect(\"select starttime, starttime + slots*(interval '30 minutes') as endtime from cd.bookings order by endtime desc, starttime desc limit 10\")"
      ],
      "metadata": {
        "colab": {
          "base_uri": "https://localhost:8080/"
        },
        "id": "sBQ2rFJbulBI",
        "outputId": "7493c791-f8a5-4df2-d22e-eefd2133c329"
      },
      "execution_count": null,
      "outputs": [
        {
          "output_type": "stream",
          "name": "stdout",
          "text": [
            "no records found\n"
          ]
        }
      ]
    },
    {
      "cell_type": "markdown",
      "source": [
        "## 4.10 Return a count of bookings for each month"
      ],
      "metadata": {
        "id": "jPX_hrpowcXG"
      }
    },
    {
      "cell_type": "code",
      "source": [
        "# Return a count of bookings for each month, sorted by month"
      ],
      "metadata": {
        "id": "oppBfu-VwiTT"
      },
      "execution_count": null,
      "outputs": []
    },
    {
      "cell_type": "code",
      "source": [
        "runSelect(\"select date_trunc('month', starttime) as month, count(*) from cd.bookings group by month order by month\")"
      ],
      "metadata": {
        "colab": {
          "base_uri": "https://localhost:8080/"
        },
        "id": "aYuYJOvwwnn0",
        "outputId": "00c0c8c5-1737-4d25-a14e-ba5ebd6c32ba"
      },
      "execution_count": null,
      "outputs": [
        {
          "output_type": "stream",
          "name": "stdout",
          "text": [
            "no records found\n"
          ]
        }
      ]
    },
    {
      "cell_type": "markdown",
      "source": [
        "## 4.11 Work out the utilisation percentage for each facility by month"
      ],
      "metadata": {
        "id": "CZXEaU3ExH_J"
      }
    },
    {
      "cell_type": "code",
      "source": [
        "#  Work out the utilisation percentage for each facility by month, sorted by name and month, rounded to 1 decimal place. Opening time is 8am, closing time is 8.30pm. You can treat every month as a full month, regardless of if there were some dates the club was not open."
      ],
      "metadata": {
        "id": "EdHcquszxZoQ"
      },
      "execution_count": null,
      "outputs": []
    },
    {
      "cell_type": "code",
      "source": [
        "runSelect(\"select name, month, \\\n",
        "\tround((100*slots)/ \\\n",
        "\t\tcast( \\\n",
        "\t\t\t25*(cast((month + interval '1 month') as date) \\\n",
        "\t\t\t- cast (month as date)) as numeric),1) as utilisation \\\n",
        "\tfrom  ( \\\n",
        "\t\tselect facs.name as name, date_trunc('month', starttime) as month, sum(slots) as slots \\\n",
        "\t\t\tfrom cd.bookings bks \\\n",
        "\t\t\tinner join cd.facilities facs \\\n",
        "\t\t\t\ton bks.facid = facs.facid \\\n",
        "\t\t\tgroup by facs.facid, month \\\n",
        "\t) as inn \\\n",
        "order by name, month\")"
      ],
      "metadata": {
        "colab": {
          "base_uri": "https://localhost:8080/"
        },
        "id": "jhrlzVzU1eX4",
        "outputId": "c9b30c4c-b43f-457d-a202-437f2b720b82"
      },
      "execution_count": null,
      "outputs": [
        {
          "output_type": "stream",
          "name": "stdout",
          "text": [
            "no records found\n"
          ]
        }
      ]
    },
    {
      "cell_type": "markdown",
      "source": [
        "# String"
      ],
      "metadata": {
        "id": "1r6kZPiHjpqL"
      }
    },
    {
      "cell_type": "markdown",
      "source": [
        "## 5.1 Format the names of members"
      ],
      "metadata": {
        "id": "eVM-mgKz2BjO"
      }
    },
    {
      "cell_type": "code",
      "source": [
        "# Output the names of all members, formatted as 'Surname, Firstname'"
      ],
      "metadata": {
        "id": "U4TYLKUc2esV"
      },
      "execution_count": null,
      "outputs": []
    },
    {
      "cell_type": "code",
      "source": [
        "runSelect(\"select surname ||', '|| firstname as name from cd.members\")"
      ],
      "metadata": {
        "colab": {
          "base_uri": "https://localhost:8080/"
        },
        "id": "Wy9_yZzQ2wB9",
        "outputId": "34f9c6ca-59bd-449b-97d0-3cee56c3c7e1"
      },
      "execution_count": null,
      "outputs": [
        {
          "output_type": "stream",
          "name": "stdout",
          "text": [
            "no records found\n"
          ]
        }
      ]
    },
    {
      "cell_type": "markdown",
      "source": [
        "## 5.2 Find facilities by a name prefix"
      ],
      "metadata": {
        "id": "bj4rgHd13ePd"
      }
    },
    {
      "cell_type": "code",
      "source": [
        "# Find all facilities whose name begins with 'Tennis'. Retrieve all columns."
      ],
      "metadata": {
        "id": "HnwsKovE3y5W"
      },
      "execution_count": null,
      "outputs": []
    },
    {
      "cell_type": "code",
      "source": [
        "runSelect(\"select * from cd.facilities where name like '%Tennis%'\")"
      ],
      "metadata": {
        "colab": {
          "base_uri": "https://localhost:8080/",
          "height": 143
        },
        "id": "TsnSm46z32Uh",
        "outputId": "c611a9e1-ba8b-475a-ade8-3491e4c93664"
      },
      "execution_count": null,
      "outputs": [
        {
          "output_type": "execute_result",
          "data": {
            "text/plain": [
              "<pandas.io.formats.style.Styler at 0x7b2bef3d0220>"
            ],
            "text/html": [
              "<style type=\"text/css\">\n",
              "</style>\n",
              "<table id=\"T_89687\" class=\"dataframe\">\n",
              "  <thead>\n",
              "    <tr>\n",
              "      <th id=\"T_89687_level0_col0\" class=\"col_heading level0 col0\" >facid</th>\n",
              "      <th id=\"T_89687_level0_col1\" class=\"col_heading level0 col1\" >name</th>\n",
              "      <th id=\"T_89687_level0_col2\" class=\"col_heading level0 col2\" >membercost</th>\n",
              "      <th id=\"T_89687_level0_col3\" class=\"col_heading level0 col3\" >guestcost</th>\n",
              "      <th id=\"T_89687_level0_col4\" class=\"col_heading level0 col4\" >initialoutlay</th>\n",
              "      <th id=\"T_89687_level0_col5\" class=\"col_heading level0 col5\" >monthlymaintenance</th>\n",
              "    </tr>\n",
              "  </thead>\n",
              "  <tbody>\n",
              "    <tr>\n",
              "      <td id=\"T_89687_row0_col0\" class=\"data row0 col0\" >3</td>\n",
              "      <td id=\"T_89687_row0_col1\" class=\"data row0 col1\" >Table Tennis</td>\n",
              "      <td id=\"T_89687_row0_col2\" class=\"data row0 col2\" >0</td>\n",
              "      <td id=\"T_89687_row0_col3\" class=\"data row0 col3\" >5</td>\n",
              "      <td id=\"T_89687_row0_col4\" class=\"data row0 col4\" >320</td>\n",
              "      <td id=\"T_89687_row0_col5\" class=\"data row0 col5\" >10</td>\n",
              "    </tr>\n",
              "    <tr>\n",
              "      <td id=\"T_89687_row1_col0\" class=\"data row1 col0\" >0</td>\n",
              "      <td id=\"T_89687_row1_col1\" class=\"data row1 col1\" >Tennis Court 1</td>\n",
              "      <td id=\"T_89687_row1_col2\" class=\"data row1 col2\" >6</td>\n",
              "      <td id=\"T_89687_row1_col3\" class=\"data row1 col3\" >30</td>\n",
              "      <td id=\"T_89687_row1_col4\" class=\"data row1 col4\" >10000</td>\n",
              "      <td id=\"T_89687_row1_col5\" class=\"data row1 col5\" >200</td>\n",
              "    </tr>\n",
              "    <tr>\n",
              "      <td id=\"T_89687_row2_col0\" class=\"data row2 col0\" >1</td>\n",
              "      <td id=\"T_89687_row2_col1\" class=\"data row2 col1\" >Tennis Court 2</td>\n",
              "      <td id=\"T_89687_row2_col2\" class=\"data row2 col2\" >6.6</td>\n",
              "      <td id=\"T_89687_row2_col3\" class=\"data row2 col3\" >33.0</td>\n",
              "      <td id=\"T_89687_row2_col4\" class=\"data row2 col4\" >10000</td>\n",
              "      <td id=\"T_89687_row2_col5\" class=\"data row2 col5\" >200</td>\n",
              "    </tr>\n",
              "  </tbody>\n",
              "</table>\n"
            ]
          },
          "metadata": {},
          "execution_count": 122
        }
      ]
    },
    {
      "cell_type": "markdown",
      "source": [
        "## 5.3 Perform a case-insensitive search\n"
      ],
      "metadata": {
        "id": "v2IPjE-X4Sn7"
      }
    },
    {
      "cell_type": "code",
      "source": [
        "# Perform a case-insensitive search to find all facilities whose name begins with 'tennis'. Retrieve all columns."
      ],
      "metadata": {
        "id": "KETE4mLZ5KI1"
      },
      "execution_count": null,
      "outputs": []
    },
    {
      "cell_type": "code",
      "source": [
        "runSelect(\"select * from cd.facilities where upper(name) like '%TENNIS%'\")"
      ],
      "metadata": {
        "colab": {
          "base_uri": "https://localhost:8080/",
          "height": 143
        },
        "id": "eWD0Mpyg5Pla",
        "outputId": "de38c3b4-6ecd-4c7f-b676-078ac57bbd7a"
      },
      "execution_count": null,
      "outputs": [
        {
          "output_type": "execute_result",
          "data": {
            "text/plain": [
              "<pandas.io.formats.style.Styler at 0x7b2bef3d0670>"
            ],
            "text/html": [
              "<style type=\"text/css\">\n",
              "</style>\n",
              "<table id=\"T_7a1bc\" class=\"dataframe\">\n",
              "  <thead>\n",
              "    <tr>\n",
              "      <th id=\"T_7a1bc_level0_col0\" class=\"col_heading level0 col0\" >facid</th>\n",
              "      <th id=\"T_7a1bc_level0_col1\" class=\"col_heading level0 col1\" >name</th>\n",
              "      <th id=\"T_7a1bc_level0_col2\" class=\"col_heading level0 col2\" >membercost</th>\n",
              "      <th id=\"T_7a1bc_level0_col3\" class=\"col_heading level0 col3\" >guestcost</th>\n",
              "      <th id=\"T_7a1bc_level0_col4\" class=\"col_heading level0 col4\" >initialoutlay</th>\n",
              "      <th id=\"T_7a1bc_level0_col5\" class=\"col_heading level0 col5\" >monthlymaintenance</th>\n",
              "    </tr>\n",
              "  </thead>\n",
              "  <tbody>\n",
              "    <tr>\n",
              "      <td id=\"T_7a1bc_row0_col0\" class=\"data row0 col0\" >3</td>\n",
              "      <td id=\"T_7a1bc_row0_col1\" class=\"data row0 col1\" >Table Tennis</td>\n",
              "      <td id=\"T_7a1bc_row0_col2\" class=\"data row0 col2\" >0</td>\n",
              "      <td id=\"T_7a1bc_row0_col3\" class=\"data row0 col3\" >5</td>\n",
              "      <td id=\"T_7a1bc_row0_col4\" class=\"data row0 col4\" >320</td>\n",
              "      <td id=\"T_7a1bc_row0_col5\" class=\"data row0 col5\" >10</td>\n",
              "    </tr>\n",
              "    <tr>\n",
              "      <td id=\"T_7a1bc_row1_col0\" class=\"data row1 col0\" >0</td>\n",
              "      <td id=\"T_7a1bc_row1_col1\" class=\"data row1 col1\" >Tennis Court 1</td>\n",
              "      <td id=\"T_7a1bc_row1_col2\" class=\"data row1 col2\" >6</td>\n",
              "      <td id=\"T_7a1bc_row1_col3\" class=\"data row1 col3\" >30</td>\n",
              "      <td id=\"T_7a1bc_row1_col4\" class=\"data row1 col4\" >10000</td>\n",
              "      <td id=\"T_7a1bc_row1_col5\" class=\"data row1 col5\" >200</td>\n",
              "    </tr>\n",
              "    <tr>\n",
              "      <td id=\"T_7a1bc_row2_col0\" class=\"data row2 col0\" >1</td>\n",
              "      <td id=\"T_7a1bc_row2_col1\" class=\"data row2 col1\" >Tennis Court 2</td>\n",
              "      <td id=\"T_7a1bc_row2_col2\" class=\"data row2 col2\" >6.6</td>\n",
              "      <td id=\"T_7a1bc_row2_col3\" class=\"data row2 col3\" >33.0</td>\n",
              "      <td id=\"T_7a1bc_row2_col4\" class=\"data row2 col4\" >10000</td>\n",
              "      <td id=\"T_7a1bc_row2_col5\" class=\"data row2 col5\" >200</td>\n",
              "    </tr>\n",
              "  </tbody>\n",
              "</table>\n"
            ]
          },
          "metadata": {},
          "execution_count": 124
        }
      ]
    },
    {
      "cell_type": "markdown",
      "source": [
        "## 5.4 Find telephone numbers with parentheses"
      ],
      "metadata": {
        "id": "Mz1RYbSB6DV8"
      }
    },
    {
      "cell_type": "code",
      "source": [
        "# You've noticed that the club's member table has telephone numbers with very inconsistent formatting. You'd like to find all the telephone numbers that contain parentheses, returning the member ID and telephone number sorted by member ID."
      ],
      "metadata": {
        "id": "UpqpVnHN6HdD"
      },
      "execution_count": null,
      "outputs": []
    },
    {
      "cell_type": "code",
      "source": [
        "runSelect(\"select memid, telephone from cd.members where telephone ~ '[()]' order by memid\")"
      ],
      "metadata": {
        "colab": {
          "base_uri": "https://localhost:8080/"
        },
        "id": "0-JUcpVM6MRV",
        "outputId": "a20c1390-249c-495c-9c65-16495d7698f9"
      },
      "execution_count": null,
      "outputs": [
        {
          "output_type": "stream",
          "name": "stdout",
          "text": [
            "no records found\n"
          ]
        }
      ]
    },
    {
      "cell_type": "markdown",
      "source": [
        "## 5.5 Pad zip codes with leading zeroes"
      ],
      "metadata": {
        "id": "5LPU4PDa7B2X"
      }
    },
    {
      "cell_type": "code",
      "source": [
        "# The zip codes in our example dataset have had leading zeroes removed from them by virtue of being stored as a numeric type. Retrieve all zip codes from the members table, padding any zip codes less than 5 characters long with leading zeroes. Order by the new zip code."
      ],
      "metadata": {
        "id": "D2UtZW7T7Ktz"
      },
      "execution_count": null,
      "outputs": []
    },
    {
      "cell_type": "code",
      "source": [
        "runSelect(\"select lpad(cast(zipcode as char(5)),5,'0') as zip from cd.members order by zip\")"
      ],
      "metadata": {
        "colab": {
          "base_uri": "https://localhost:8080/"
        },
        "id": "djBbzcGs7QZY",
        "outputId": "07352a61-06bc-41d7-f3c6-fa12005a2e91"
      },
      "execution_count": null,
      "outputs": [
        {
          "output_type": "stream",
          "name": "stdout",
          "text": [
            "no records found\n"
          ]
        }
      ]
    },
    {
      "cell_type": "markdown",
      "source": [
        "## 5.6 Count the number of members whose surname starts with each letter of the alphabet"
      ],
      "metadata": {
        "id": "ge-lIMJ48YB8"
      }
    },
    {
      "cell_type": "code",
      "source": [
        "# You'd like to produce a count of how many members you have whose surname starts with each letter of the alphabet. Sort by the letter, and don't worry about printing out a letter if the count is 0."
      ],
      "metadata": {
        "id": "n7obIc4J8iEB"
      },
      "execution_count": null,
      "outputs": []
    },
    {
      "cell_type": "code",
      "source": [
        "runSelect(\"select substring(m.surname,1,1) as letter, count(*) as count from cd.members m group by letter order by letter \")"
      ],
      "metadata": {
        "colab": {
          "base_uri": "https://localhost:8080/"
        },
        "id": "gMC_7SbL9N7l",
        "outputId": "79df8999-0c87-4f75-a0dc-6f2ccaa83801"
      },
      "execution_count": null,
      "outputs": [
        {
          "output_type": "stream",
          "name": "stdout",
          "text": [
            "no records found\n"
          ]
        }
      ]
    },
    {
      "cell_type": "markdown",
      "source": [
        "## 5.7 Clean up telephone numbers"
      ],
      "metadata": {
        "id": "AjwVCuTB-X2M"
      }
    },
    {
      "cell_type": "code",
      "source": [
        "# The telephone numbers in the database are very inconsistently formatted. You'd like to print a list of member ids and numbers that have had '-','(',')', and ' ' characters removed. Order by member id."
      ],
      "metadata": {
        "id": "zt6IWA6D-_yp"
      },
      "execution_count": null,
      "outputs": []
    },
    {
      "cell_type": "code",
      "source": [
        "runSelect(\"select memid, translate(telephone, '-() ', '') as telephone from cd.members order by memid\")"
      ],
      "metadata": {
        "colab": {
          "base_uri": "https://localhost:8080/"
        },
        "id": "mJAEukpl_EWI",
        "outputId": "8194e658-b1f9-46c2-aa72-3bc932d6a086"
      },
      "execution_count": null,
      "outputs": [
        {
          "output_type": "stream",
          "name": "stdout",
          "text": [
            "no records found\n"
          ]
        }
      ]
    },
    {
      "cell_type": "markdown",
      "source": [],
      "metadata": {
        "id": "JbwIVAzSkNcX"
      }
    },
    {
      "cell_type": "markdown",
      "source": [
        "# Recursive"
      ],
      "metadata": {
        "id": "XO9_rwQSkRVD"
      }
    },
    {
      "cell_type": "markdown",
      "source": [
        "## 6.1 Find the upward recommendation chain for member ID 27"
      ],
      "metadata": {
        "id": "jCeCwIWRxTQ2"
      }
    },
    {
      "cell_type": "code",
      "source": [
        "# Find the upward recommendation chain for member ID 27: that is, the member who recommended them, and the member who recommended that member, and so on. Return member ID, first name, and surname. Order by descending member id."
      ],
      "metadata": {
        "id": "ySpdNomkxbOv"
      },
      "execution_count": null,
      "outputs": []
    },
    {
      "cell_type": "code",
      "source": [
        "runSelect(\"with recursive recommenders (recommender) as (select recommendedby from cd.members where memid = 27 union all select n.recommendedby from recommenders r INNER JOIN cd.members n on n.memid = r.recommender) select r.recommender, n.firstname, n.surname from recommenders r INNER JOIN cd.members n ON r.recommender = n.memid order by memid desc\")"
      ],
      "metadata": {
        "colab": {
          "base_uri": "https://localhost:8080/",
          "height": 143
        },
        "id": "iT9FPhTdxgIU",
        "outputId": "29a3e5f5-43fc-4230-bd2d-e0efde140bff"
      },
      "execution_count": null,
      "outputs": [
        {
          "output_type": "execute_result",
          "data": {
            "text/plain": [
              "<pandas.io.formats.style.Styler at 0x7b2bef387790>"
            ],
            "text/html": [
              "<style type=\"text/css\">\n",
              "</style>\n",
              "<table id=\"T_97292\" class=\"dataframe\">\n",
              "  <thead>\n",
              "    <tr>\n",
              "      <th id=\"T_97292_level0_col0\" class=\"col_heading level0 col0\" >recommender</th>\n",
              "      <th id=\"T_97292_level0_col1\" class=\"col_heading level0 col1\" >firstname</th>\n",
              "      <th id=\"T_97292_level0_col2\" class=\"col_heading level0 col2\" >surname</th>\n",
              "    </tr>\n",
              "  </thead>\n",
              "  <tbody>\n",
              "    <tr>\n",
              "      <td id=\"T_97292_row0_col0\" class=\"data row0 col0\" >20</td>\n",
              "      <td id=\"T_97292_row0_col1\" class=\"data row0 col1\" >Matthew</td>\n",
              "      <td id=\"T_97292_row0_col2\" class=\"data row0 col2\" >Genting</td>\n",
              "    </tr>\n",
              "    <tr>\n",
              "      <td id=\"T_97292_row1_col0\" class=\"data row1 col0\" >5</td>\n",
              "      <td id=\"T_97292_row1_col1\" class=\"data row1 col1\" >Gerald</td>\n",
              "      <td id=\"T_97292_row1_col2\" class=\"data row1 col2\" >Butters</td>\n",
              "    </tr>\n",
              "    <tr>\n",
              "      <td id=\"T_97292_row2_col0\" class=\"data row2 col0\" >1</td>\n",
              "      <td id=\"T_97292_row2_col1\" class=\"data row2 col1\" >Darren</td>\n",
              "      <td id=\"T_97292_row2_col2\" class=\"data row2 col2\" >Smith</td>\n",
              "    </tr>\n",
              "  </tbody>\n",
              "</table>\n"
            ]
          },
          "metadata": {},
          "execution_count": 151
        }
      ]
    },
    {
      "cell_type": "markdown",
      "source": [
        "## 6.2 Find the downward recommendation chain for member ID 1"
      ],
      "metadata": {
        "id": "TWeVM_VD5VtX"
      }
    },
    {
      "cell_type": "code",
      "source": [
        "# Find the downward recommendation chain for member ID 1: that is, the members they recommended, the members those members recommended, and so on. Return member ID and name, and order by ascending member id."
      ],
      "metadata": {
        "id": "5s4s6KE36jLN"
      },
      "execution_count": null,
      "outputs": []
    },
    {
      "cell_type": "code",
      "source": [
        "runSelect(\"with recursive recommended (memid) as (select memid from cd.members where recommendedby = 1 union all select n.memid from recommended r INNER JOIN cd.members n on n.recommendedby = r.memid) select r.memid, n.firstname, n.surname from recommended r INNER JOIN cd.members n ON r.memid = n.memid order by memid\")"
      ],
      "metadata": {
        "colab": {
          "base_uri": "https://localhost:8080/",
          "height": 363
        },
        "id": "0jR3IJXw6rp1",
        "outputId": "de58a671-2032-41b7-e07a-94ce4a4dc8ac"
      },
      "execution_count": null,
      "outputs": [
        {
          "output_type": "execute_result",
          "data": {
            "text/plain": [
              "<pandas.io.formats.style.Styler at 0x7b2bef387d30>"
            ],
            "text/html": [
              "<style type=\"text/css\">\n",
              "</style>\n",
              "<table id=\"T_a9a0d\" class=\"dataframe\">\n",
              "  <thead>\n",
              "    <tr>\n",
              "      <th id=\"T_a9a0d_level0_col0\" class=\"col_heading level0 col0\" >memid</th>\n",
              "      <th id=\"T_a9a0d_level0_col1\" class=\"col_heading level0 col1\" >firstname</th>\n",
              "      <th id=\"T_a9a0d_level0_col2\" class=\"col_heading level0 col2\" >surname</th>\n",
              "    </tr>\n",
              "  </thead>\n",
              "  <tbody>\n",
              "    <tr>\n",
              "      <td id=\"T_a9a0d_row0_col0\" class=\"data row0 col0\" >4</td>\n",
              "      <td id=\"T_a9a0d_row0_col1\" class=\"data row0 col1\" >Janice</td>\n",
              "      <td id=\"T_a9a0d_row0_col2\" class=\"data row0 col2\" >Joplette</td>\n",
              "    </tr>\n",
              "    <tr>\n",
              "      <td id=\"T_a9a0d_row1_col0\" class=\"data row1 col0\" >5</td>\n",
              "      <td id=\"T_a9a0d_row1_col1\" class=\"data row1 col1\" >Gerald</td>\n",
              "      <td id=\"T_a9a0d_row1_col2\" class=\"data row1 col2\" >Butters</td>\n",
              "    </tr>\n",
              "    <tr>\n",
              "      <td id=\"T_a9a0d_row2_col0\" class=\"data row2 col0\" >7</td>\n",
              "      <td id=\"T_a9a0d_row2_col1\" class=\"data row2 col1\" >Nancy</td>\n",
              "      <td id=\"T_a9a0d_row2_col2\" class=\"data row2 col2\" >Dare</td>\n",
              "    </tr>\n",
              "    <tr>\n",
              "      <td id=\"T_a9a0d_row3_col0\" class=\"data row3 col0\" >10</td>\n",
              "      <td id=\"T_a9a0d_row3_col1\" class=\"data row3 col1\" >Charles</td>\n",
              "      <td id=\"T_a9a0d_row3_col2\" class=\"data row3 col2\" >Owen</td>\n",
              "    </tr>\n",
              "    <tr>\n",
              "      <td id=\"T_a9a0d_row4_col0\" class=\"data row4 col0\" >11</td>\n",
              "      <td id=\"T_a9a0d_row4_col1\" class=\"data row4 col1\" >David</td>\n",
              "      <td id=\"T_a9a0d_row4_col2\" class=\"data row4 col2\" >Jones</td>\n",
              "    </tr>\n",
              "    <tr>\n",
              "      <td id=\"T_a9a0d_row5_col0\" class=\"data row5 col0\" >14</td>\n",
              "      <td id=\"T_a9a0d_row5_col1\" class=\"data row5 col1\" >Jack</td>\n",
              "      <td id=\"T_a9a0d_row5_col2\" class=\"data row5 col2\" >Smith</td>\n",
              "    </tr>\n",
              "    <tr>\n",
              "      <td id=\"T_a9a0d_row6_col0\" class=\"data row6 col0\" >20</td>\n",
              "      <td id=\"T_a9a0d_row6_col1\" class=\"data row6 col1\" >Matthew</td>\n",
              "      <td id=\"T_a9a0d_row6_col2\" class=\"data row6 col2\" >Genting</td>\n",
              "    </tr>\n",
              "    <tr>\n",
              "      <td id=\"T_a9a0d_row7_col0\" class=\"data row7 col0\" >21</td>\n",
              "      <td id=\"T_a9a0d_row7_col1\" class=\"data row7 col1\" >Anna</td>\n",
              "      <td id=\"T_a9a0d_row7_col2\" class=\"data row7 col2\" >Mackenzie</td>\n",
              "    </tr>\n",
              "    <tr>\n",
              "      <td id=\"T_a9a0d_row8_col0\" class=\"data row8 col0\" >26</td>\n",
              "      <td id=\"T_a9a0d_row8_col1\" class=\"data row8 col1\" >Douglas</td>\n",
              "      <td id=\"T_a9a0d_row8_col2\" class=\"data row8 col2\" >Jones</td>\n",
              "    </tr>\n",
              "    <tr>\n",
              "      <td id=\"T_a9a0d_row9_col0\" class=\"data row9 col0\" >27</td>\n",
              "      <td id=\"T_a9a0d_row9_col1\" class=\"data row9 col1\" >Henrietta</td>\n",
              "      <td id=\"T_a9a0d_row9_col2\" class=\"data row9 col2\" >Rumney</td>\n",
              "    </tr>\n",
              "  </tbody>\n",
              "</table>\n"
            ]
          },
          "metadata": {},
          "execution_count": 152
        }
      ]
    },
    {
      "cell_type": "markdown",
      "source": [
        "## 6.3 Produce a CTE that can return the upward recommendation chain for any member"
      ],
      "metadata": {
        "id": "v-KBHAVL-9r-"
      }
    },
    {
      "cell_type": "code",
      "source": [
        "# Produce a CTE that can return the upward recommendation chain for any member. You should be able to select recommender from recommenders where member=x. Demonstrate it by getting the chains for members 12 and 22. Results table should have member and recommender, ordered by member ascending, recommender descending."
      ],
      "metadata": {
        "id": "q4mhaIXO_D1N"
      },
      "execution_count": null,
      "outputs": []
    },
    {
      "cell_type": "code",
      "source": [
        "runSelect(\"with recursive recommenders(recommender, member) as (select recommendedby, memid from cd.members union all select n.recommendedby, r.member from recommenders r inner join cd.members n on n.memid = r.recommender) select r.member member, r.recommender, n.firstname, n.surname from recommenders r inner join cd.members n on r.recommender = n.memid where r.member = 22 or r.member = 12 order by r.member asc, r.recommender desc \")"
      ],
      "metadata": {
        "colab": {
          "base_uri": "https://localhost:8080/",
          "height": 175
        },
        "id": "RX3HMmJS_HUH",
        "outputId": "c9a8a0e1-2f96-493e-b96a-a7fcb3f88d98"
      },
      "execution_count": null,
      "outputs": [
        {
          "output_type": "execute_result",
          "data": {
            "text/plain": [
              "<pandas.io.formats.style.Styler at 0x7b2c1e6136a0>"
            ],
            "text/html": [
              "<style type=\"text/css\">\n",
              "</style>\n",
              "<table id=\"T_25901\" class=\"dataframe\">\n",
              "  <thead>\n",
              "    <tr>\n",
              "      <th id=\"T_25901_level0_col0\" class=\"col_heading level0 col0\" >member</th>\n",
              "      <th id=\"T_25901_level0_col1\" class=\"col_heading level0 col1\" >recommender</th>\n",
              "      <th id=\"T_25901_level0_col2\" class=\"col_heading level0 col2\" >firstname</th>\n",
              "      <th id=\"T_25901_level0_col3\" class=\"col_heading level0 col3\" >surname</th>\n",
              "    </tr>\n",
              "  </thead>\n",
              "  <tbody>\n",
              "    <tr>\n",
              "      <td id=\"T_25901_row0_col0\" class=\"data row0 col0\" >12</td>\n",
              "      <td id=\"T_25901_row0_col1\" class=\"data row0 col1\" >9</td>\n",
              "      <td id=\"T_25901_row0_col2\" class=\"data row0 col2\" >Ponder</td>\n",
              "      <td id=\"T_25901_row0_col3\" class=\"data row0 col3\" >Stibbons</td>\n",
              "    </tr>\n",
              "    <tr>\n",
              "      <td id=\"T_25901_row1_col0\" class=\"data row1 col0\" >12</td>\n",
              "      <td id=\"T_25901_row1_col1\" class=\"data row1 col1\" >6</td>\n",
              "      <td id=\"T_25901_row1_col2\" class=\"data row1 col2\" >Burton</td>\n",
              "      <td id=\"T_25901_row1_col3\" class=\"data row1 col3\" >Tracy</td>\n",
              "    </tr>\n",
              "    <tr>\n",
              "      <td id=\"T_25901_row2_col0\" class=\"data row2 col0\" >22</td>\n",
              "      <td id=\"T_25901_row2_col1\" class=\"data row2 col1\" >16</td>\n",
              "      <td id=\"T_25901_row2_col2\" class=\"data row2 col2\" >Timothy</td>\n",
              "      <td id=\"T_25901_row2_col3\" class=\"data row2 col3\" >Baker</td>\n",
              "    </tr>\n",
              "    <tr>\n",
              "      <td id=\"T_25901_row3_col0\" class=\"data row3 col0\" >22</td>\n",
              "      <td id=\"T_25901_row3_col1\" class=\"data row3 col1\" >13</td>\n",
              "      <td id=\"T_25901_row3_col2\" class=\"data row3 col2\" >Jemima</td>\n",
              "      <td id=\"T_25901_row3_col3\" class=\"data row3 col3\" >Farrell</td>\n",
              "    </tr>\n",
              "  </tbody>\n",
              "</table>\n"
            ]
          },
          "metadata": {},
          "execution_count": 155
        }
      ]
    },
    {
      "cell_type": "markdown",
      "source": [
        "#Chronobooks <br>\n",
        "Two science fiction novels by Prithwis Mukerjee. A dystopian Earth. A technocratic society managed by artificial intelligence. Escape and epiphany on Mars. Can man and machine, carbon and silicon explore and escape into other dimensions of existence? An Indic perspective rooted in Advaita Vedanta and the Divine Feminine.  [More information](http://bit.ly/chronobooks) <br>\n",
        "![alt text](https://github.com/Praxis-QR/RDWH/raw/main/images/CTCYFooter-1.png)"
      ],
      "metadata": {
        "id": "_gNiZpyW3AzJ"
      }
    },
    {
      "cell_type": "code",
      "source": [
        "from datetime import datetime\n",
        "import pytz\n",
        "print('Last tested  ',datetime.now(pytz.timezone('Asia/Kolkata')))"
      ],
      "metadata": {
        "colab": {
          "base_uri": "https://localhost:8080/"
        },
        "id": "wjBXJVhM605H",
        "outputId": "648f706b-9cfe-492e-a3d7-49b006886264"
      },
      "execution_count": null,
      "outputs": [
        {
          "output_type": "stream",
          "name": "stdout",
          "text": [
            "Last tested   2024-02-29 12:58:30.465662+05:30\n"
          ]
        }
      ]
    }
  ]
}
{
  "nbformat": 4,
  "nbformat_minor": 0,
  "metadata": {
    "colab": {
      "provenance": [],
      "collapsed_sections": [
        "_gNiZpyW3AzJ"
      ],
      "include_colab_link": true
    },
    "kernelspec": {
      "name": "python3",
      "display_name": "Python 3"
    },
    "language_info": {
      "name": "python"
    }
  },
  "cells": [
    {
      "cell_type": "markdown",
      "metadata": {
        "id": "view-in-github",
        "colab_type": "text"
      },
      "source": [
        "<a href=\"https://colab.research.google.com/github/Shilpa393/Sql_Codes/blob/main/Shilpa_Sen_3A_Exercise.ipynb\" target=\"_parent\"><img src=\"https://colab.research.google.com/assets/colab-badge.svg\" alt=\"Open In Colab\"/></a>"
      ]
    },
    {
      "cell_type": "markdown",
      "source": [
        "![Yantrajaal Banner](https://github.com/Praxis-QR/RDWH/raw/main/images/YantraJaalBanner.png)<br>\n",
        "\n",
        "\n",
        "<hr>\n",
        "\n",
        "[Prithwis Mukerjee](http://www.linkedin.com/in/prithwis)<br>"
      ],
      "metadata": {
        "id": "DBzz-qaN2tKu"
      }
    },
    {
      "cell_type": "markdown",
      "source": [
        "#Postgres Exercises\n",
        "Tutorial based on [SQLCourse2](https://www.sqlcourse2.com/) <br>\n"
      ],
      "metadata": {
        "id": "QIfgaOrxZ39z"
      }
    },
    {
      "cell_type": "code",
      "source": [
        "from datetime import datetime\n",
        "import pytz\n",
        "print('ॐ श्री सरस्वत्यै नमः',datetime.now(pytz.timezone('Asia/Calcutta')))\n",
        "!python --version\n",
        "!lsb_release -a"
      ],
      "metadata": {
        "id": "txwvst5Hs5mI",
        "outputId": "77d3b056-ae46-4208-cc70-eaea80a4c626",
        "colab": {
          "base_uri": "https://localhost:8080/"
        }
      },
      "execution_count": null,
      "outputs": [
        {
          "output_type": "stream",
          "name": "stdout",
          "text": [
            "ॐ श्री सरस्वत्यै नमः 2024-02-22 15:01:39.359330+05:30\n",
            "Python 3.10.12\n",
            "No LSB modules are available.\n",
            "Distributor ID:\tUbuntu\n",
            "Description:\tUbuntu 22.04.3 LTS\n",
            "Release:\t22.04\n",
            "Codename:\tjammy\n"
          ]
        }
      ]
    },
    {
      "cell_type": "markdown",
      "source": [
        "#Install & Configure Postgres"
      ],
      "metadata": {
        "id": "nD-QawLT6kDr"
      }
    },
    {
      "cell_type": "code",
      "source": [
        "# Install postgresql server\n",
        "\n",
        "!apt update > /dev/null\n",
        "!apt install postgresql > /dev/null\n",
        "#!pip install psycopg2\n",
        "import psycopg2\n",
        "import pandas as pd\n",
        "#!sudo -u postgres psql -V\n",
        "!psql -V\n",
        "!service postgresql start"
      ],
      "metadata": {
        "colab": {
          "base_uri": "https://localhost:8080/"
        },
        "id": "o_RaqE0OOHP3",
        "outputId": "022a590a-09c4-4b47-98c9-c3f5d58fb930"
      },
      "execution_count": null,
      "outputs": [
        {
          "output_type": "stream",
          "name": "stdout",
          "text": [
            "\n",
            "WARNING: apt does not have a stable CLI interface. Use with caution in scripts.\n",
            "\n",
            "\n",
            "WARNING: apt does not have a stable CLI interface. Use with caution in scripts.\n",
            "\n",
            "psql (PostgreSQL) 14.10 (Ubuntu 14.10-0ubuntu0.22.04.1)\n",
            " * Starting PostgreSQL 14 database server\n",
            "   ...done.\n"
          ]
        }
      ]
    },
    {
      "cell_type": "markdown",
      "source": [
        "#Create Schema, Tables and Insert Data"
      ],
      "metadata": {
        "id": "JP7hBhEaYzW8"
      }
    },
    {
      "cell_type": "code",
      "source": [
        "# This installation creates an Ubuntu user 'postgres' AND a Postgres database user 'postgres' both of which are superusers\n",
        "#!cat /etc/passwd\n",
        "# Use these users to create a new database user called 'upraxis' and give it a password 'upass'\n",
        "#!sudo -u postgres createuser --superuser upraxis\n",
        "!sudo -u postgres createuser upraxis\n",
        "!sudo -u postgres psql -U postgres -c \"ALTER USER upraxis PASSWORD 'upass';\"\n",
        "# Change the database superuser 'postgres' to a non-default value 'pass'\n",
        "!sudo -u postgres psql -U postgres -c \"ALTER USER postgres PASSWORD 'pass';\"\n",
        "# Use ubuntu superuser to create database dbpraxis and set its owner to upraxis\n",
        "!sudo -u postgres createdb -O upraxis dbpraxis\n",
        "# Create file to store the password. Else will be prompted each time\n",
        "!echo \"localhost:5432:dbpraxis:postgres:pass\" > ~/.pgpass\n",
        "!echo \"localhost:5432:dbpraxis:upraxis:upass\" >> ~/.pgpass\n",
        "!chmod 0600 ~/.pgpass\n",
        "!cat ~/.pgpass\n"
      ],
      "metadata": {
        "colab": {
          "base_uri": "https://localhost:8080/"
        },
        "id": "NWkT4jeeQXw2",
        "outputId": "13afbbc4-24cc-4a1c-f6af-7c75c1e0a3fb"
      },
      "execution_count": null,
      "outputs": [
        {
          "output_type": "stream",
          "name": "stdout",
          "text": [
            "ALTER ROLE\n",
            "ALTER ROLE\n",
            "localhost:5432:dbpraxis:postgres:pass\n",
            "localhost:5432:dbpraxis:upraxis:upass\n"
          ]
        }
      ]
    },
    {
      "cell_type": "code",
      "source": [
        "# Download two CSV files from G-Drive into the Colab VM\n",
        "\n",
        "#!gdown -qq 1Ug15GbEmeTnwJnuH-4fpPeZ1k20ryoGx      # Quiet Mode, not output\n",
        "#!gdown -qq 1qx6duSqzQUJSkpHNQIIZ9l0T6zYtjT-y      # Quiet Mode, not output\n",
        "\n",
        "!wget -O Customers.csv -q https://raw.githubusercontent.com/Praxis-QR/RDWH/main/data/SQLCourse2%20-%20Customers.csv\n",
        "!wget -O ItemsOrdered.csv -q https://raw.githubusercontent.com/Praxis-QR/RDWH/main/data/SQLCourse2%20-%20ItemsOrdered.csv"
      ],
      "metadata": {
        "id": "01kFB_EbXzKg"
      },
      "execution_count": null,
      "outputs": []
    },
    {
      "cell_type": "code",
      "source": [
        "!psql -h localhost -p 5432 -Uupraxis -d dbpraxis -c 'drop table if exists itemsordered'\n",
        "# --------------------------------------------------------------\n",
        "!psql -h localhost -p 5432 -Uupraxis -d dbpraxis -c '\\\n",
        "CREATE TABLE IF NOT EXISTS itemsordered (\\\n",
        "customerid char(5),orderdate date, item varchar(30), quantity int, price decimal(6,2)) \\\n",
        "'\n",
        "# --------------------------------------------------------------\n",
        "!psql -h localhost -p 5432 -Uupraxis -d dbpraxis -c 'drop table if exists customers'\n",
        "# --------------------------------------------------------------\n",
        "!psql -h localhost -p 5432 -Uupraxis -d dbpraxis -c '\\\n",
        "CREATE TABLE IF NOT EXISTS customers (customerid char(5),firstname varchar(20),lastname varchar(20), city varchar(20), state varchar(20)) \\\n",
        "'\n",
        "!psql -h localhost -p 5432 -Uupraxis -d dbpraxis -c '\\dt+'"
      ],
      "metadata": {
        "colab": {
          "base_uri": "https://localhost:8080/"
        },
        "id": "E6sV6-051qj2",
        "outputId": "9e50b2dd-361f-410e-862f-f433a04836bf"
      },
      "execution_count": null,
      "outputs": [
        {
          "output_type": "stream",
          "name": "stdout",
          "text": [
            "NOTICE:  table \"itemsordered\" does not exist, skipping\n",
            "DROP TABLE\n",
            "CREATE TABLE\n",
            "NOTICE:  table \"customers\" does not exist, skipping\n",
            "DROP TABLE\n",
            "CREATE TABLE\n",
            "                                       List of relations\n",
            " Schema |     Name     | Type  |  Owner  | Persistence | Access method |  Size   | Description \n",
            "--------+--------------+-------+---------+-------------+---------------+---------+-------------\n",
            " public | customers    | table | upraxis | permanent   | heap          | 0 bytes | \n",
            " public | itemsordered | table | upraxis | permanent   | heap          | 0 bytes | \n",
            "(2 rows)\n",
            "\n"
          ]
        }
      ]
    },
    {
      "cell_type": "code",
      "source": [
        "# Only superuser ('postgres') can use copy command, not even database owner ('upraxis')\n",
        "# 'postgres' password has to be entered manually, password = 'pass'\n",
        "#\n",
        "!psql -h localhost -p 5432 -Upostgres -ddbpraxis -c \"COPY customers FROM '/content/Customers.csv' DELIMITER ',' CSV HEADER;\"\n",
        "!psql -h localhost -p 5432 -Upostgres -ddbpraxis -c \"COPY itemsordered FROM '/content/ItemsOrdered.csv' DELIMITER ',' CSV HEADER;\""
      ],
      "metadata": {
        "colab": {
          "base_uri": "https://localhost:8080/"
        },
        "id": "KHwy6MLZ2t1t",
        "outputId": "aab5069b-3c15-43ea-cfba-2b0b131ebe81"
      },
      "execution_count": null,
      "outputs": [
        {
          "output_type": "stream",
          "name": "stdout",
          "text": [
            "COPY 17\n",
            "COPY 32\n"
          ]
        }
      ]
    },
    {
      "cell_type": "code",
      "source": [
        "#!cat ItemsOrdered.csv\n",
        "#!psql -h localhost -p 5432 -Uupraxis -d dbpraxis -c 'select * from itemsordered'"
      ],
      "metadata": {
        "id": "DpFMdlEz3aV-"
      },
      "execution_count": null,
      "outputs": []
    },
    {
      "cell_type": "markdown",
      "source": [
        "## Python Access\n",
        "https://www.tutorialspoint.com/python_data_access/python_postgresql_database_connection.htm"
      ],
      "metadata": {
        "id": "faZEj8_7CeZ8"
      }
    },
    {
      "cell_type": "code",
      "source": [
        "# Local Colab server\n",
        "\n",
        "conn = psycopg2.connect(database=\"dbpraxis\", user='upraxis', password='upass', host='127.0.0.1', port= '5432')\n",
        "#Creating a cursor object using the cursor() method\n",
        "cursor = conn.cursor()\n",
        "#Executing an MYSQL function using the execute() method\n",
        "cursor.execute(\"select version()\")\n",
        "# Fetch a single row using fetchone() method.\n",
        "data = cursor.fetchone()\n",
        "print(\"Connection established to: \",data)\n",
        "#Closing the connection\n",
        "conn.close()"
      ],
      "metadata": {
        "id": "wcE-8UBnC4zV",
        "outputId": "ece0930b-eda4-4b1e-efcf-c3bf7ade6ccf",
        "colab": {
          "base_uri": "https://localhost:8080/"
        }
      },
      "execution_count": null,
      "outputs": [
        {
          "output_type": "stream",
          "name": "stdout",
          "text": [
            "Connection established to:  ('PostgreSQL 14.10 (Ubuntu 14.10-0ubuntu0.22.04.1) on x86_64-pc-linux-gnu, compiled by gcc (Ubuntu 11.4.0-1ubuntu1~22.04) 11.4.0, 64-bit',)\n"
          ]
        }
      ]
    },
    {
      "cell_type": "code",
      "source": [
        "# function to execute SQL select statements with Postgres\n",
        "#\n",
        "def runSelect(s):\n",
        "    #Set up connection\n",
        "\n",
        "    conn = psycopg2.connect(database=\"dbpraxis\", user='upraxis', password='upass', host='127.0.0.1', port= '5432')\n",
        "    #Setting auto commit true\n",
        "    conn.autocommit = True\n",
        "    #Creating a cursor object using the cursor() method\n",
        "    cursor = conn.cursor()\n",
        "    #Retrieving data\n",
        "    cursor.execute(s)\n",
        "    #Fetching all rows from the table\n",
        "    result = cursor.fetchall();\n",
        "    #print(len(result))\n",
        "    if (len(result)) > 0:                                       # result contains at least one row\n",
        "        colnames = [desc[0] for desc in cursor.description]     # get column names\n",
        "        #print(colnames)\n",
        "        resultdf = pd.DataFrame(result)                         # convert list to dataframe\n",
        "        resultdf.columns = colnames                             # add column names\n",
        "        #return resultdf\n",
        "        return resultdf.style.hide()                            # hide the index\n",
        "    else:\n",
        "        print('no records found')\n",
        "        return\n",
        "# function to execute SQL non-select statements with Postgres\n",
        "#\n",
        "def runCmd(s):\n",
        "    #Create Connection\n",
        "    conn = psycopg2.connect(database=\"exercises\", user='postgres', password='pass', host='127.0.0.1', port= '5432')\n",
        "    #Creating a cursor object using the cursor() method\n",
        "    cursor = conn.cursor()\n",
        "    try:\n",
        "        cursor.execute(s)\n",
        "        print('Command executed')\n",
        "        conn.commit()\n",
        "    except:\n",
        "        print('Command failed')\n",
        "    #Closing the connection\n",
        "    conn.close()"
      ],
      "metadata": {
        "id": "ht2k7-3iggNd"
      },
      "execution_count": null,
      "outputs": []
    },
    {
      "cell_type": "markdown",
      "source": [
        "##Check Data"
      ],
      "metadata": {
        "id": "RvTKboYtbSjZ"
      }
    },
    {
      "cell_type": "code",
      "source": [
        "#runSelect(\"select * from itemsordered\")\n",
        "runSelect(\"select * from customers\")"
      ],
      "metadata": {
        "colab": {
          "base_uri": "https://localhost:8080/",
          "height": 582
        },
        "id": "ctq0ULCvVTsO",
        "outputId": "fbce7227-0b38-48ef-cd1f-37b6e9ab73eb"
      },
      "execution_count": null,
      "outputs": [
        {
          "output_type": "execute_result",
          "data": {
            "text/plain": [
              "<pandas.io.formats.style.Styler at 0x7cd6fcdabe80>"
            ],
            "text/html": [
              "<style type=\"text/css\">\n",
              "</style>\n",
              "<table id=\"T_47684\" class=\"dataframe\">\n",
              "  <thead>\n",
              "    <tr>\n",
              "      <th id=\"T_47684_level0_col0\" class=\"col_heading level0 col0\" >customerid</th>\n",
              "      <th id=\"T_47684_level0_col1\" class=\"col_heading level0 col1\" >firstname</th>\n",
              "      <th id=\"T_47684_level0_col2\" class=\"col_heading level0 col2\" >lastname</th>\n",
              "      <th id=\"T_47684_level0_col3\" class=\"col_heading level0 col3\" >city</th>\n",
              "      <th id=\"T_47684_level0_col4\" class=\"col_heading level0 col4\" >state</th>\n",
              "    </tr>\n",
              "  </thead>\n",
              "  <tbody>\n",
              "    <tr>\n",
              "      <td id=\"T_47684_row0_col0\" class=\"data row0 col0\" >10101</td>\n",
              "      <td id=\"T_47684_row0_col1\" class=\"data row0 col1\" >John</td>\n",
              "      <td id=\"T_47684_row0_col2\" class=\"data row0 col2\" >Gray</td>\n",
              "      <td id=\"T_47684_row0_col3\" class=\"data row0 col3\" >Lynden</td>\n",
              "      <td id=\"T_47684_row0_col4\" class=\"data row0 col4\" >Washington</td>\n",
              "    </tr>\n",
              "    <tr>\n",
              "      <td id=\"T_47684_row1_col0\" class=\"data row1 col0\" >10298</td>\n",
              "      <td id=\"T_47684_row1_col1\" class=\"data row1 col1\" >Leroy</td>\n",
              "      <td id=\"T_47684_row1_col2\" class=\"data row1 col2\" >Brown</td>\n",
              "      <td id=\"T_47684_row1_col3\" class=\"data row1 col3\" >Pinetop</td>\n",
              "      <td id=\"T_47684_row1_col4\" class=\"data row1 col4\" >Arizona</td>\n",
              "    </tr>\n",
              "    <tr>\n",
              "      <td id=\"T_47684_row2_col0\" class=\"data row2 col0\" >10299</td>\n",
              "      <td id=\"T_47684_row2_col1\" class=\"data row2 col1\" >Elroy</td>\n",
              "      <td id=\"T_47684_row2_col2\" class=\"data row2 col2\" >Keller</td>\n",
              "      <td id=\"T_47684_row2_col3\" class=\"data row2 col3\" >Snoqualmie</td>\n",
              "      <td id=\"T_47684_row2_col4\" class=\"data row2 col4\" >Washington</td>\n",
              "    </tr>\n",
              "    <tr>\n",
              "      <td id=\"T_47684_row3_col0\" class=\"data row3 col0\" >10315</td>\n",
              "      <td id=\"T_47684_row3_col1\" class=\"data row3 col1\" >Lisa</td>\n",
              "      <td id=\"T_47684_row3_col2\" class=\"data row3 col2\" >Jones</td>\n",
              "      <td id=\"T_47684_row3_col3\" class=\"data row3 col3\" >Oshkosh</td>\n",
              "      <td id=\"T_47684_row3_col4\" class=\"data row3 col4\" >Wisconsin</td>\n",
              "    </tr>\n",
              "    <tr>\n",
              "      <td id=\"T_47684_row4_col0\" class=\"data row4 col0\" >10325</td>\n",
              "      <td id=\"T_47684_row4_col1\" class=\"data row4 col1\" >Ginger</td>\n",
              "      <td id=\"T_47684_row4_col2\" class=\"data row4 col2\" >Schultz</td>\n",
              "      <td id=\"T_47684_row4_col3\" class=\"data row4 col3\" >Pocatello</td>\n",
              "      <td id=\"T_47684_row4_col4\" class=\"data row4 col4\" >Idaho</td>\n",
              "    </tr>\n",
              "    <tr>\n",
              "      <td id=\"T_47684_row5_col0\" class=\"data row5 col0\" >10329</td>\n",
              "      <td id=\"T_47684_row5_col1\" class=\"data row5 col1\" >Kelly</td>\n",
              "      <td id=\"T_47684_row5_col2\" class=\"data row5 col2\" >Mendoza</td>\n",
              "      <td id=\"T_47684_row5_col3\" class=\"data row5 col3\" >Kailua</td>\n",
              "      <td id=\"T_47684_row5_col4\" class=\"data row5 col4\" >Hawaii</td>\n",
              "    </tr>\n",
              "    <tr>\n",
              "      <td id=\"T_47684_row6_col0\" class=\"data row6 col0\" >10330</td>\n",
              "      <td id=\"T_47684_row6_col1\" class=\"data row6 col1\" >Shawn</td>\n",
              "      <td id=\"T_47684_row6_col2\" class=\"data row6 col2\" >Dalton</td>\n",
              "      <td id=\"T_47684_row6_col3\" class=\"data row6 col3\" >Cannon Beach</td>\n",
              "      <td id=\"T_47684_row6_col4\" class=\"data row6 col4\" >Oregon</td>\n",
              "    </tr>\n",
              "    <tr>\n",
              "      <td id=\"T_47684_row7_col0\" class=\"data row7 col0\" >10338</td>\n",
              "      <td id=\"T_47684_row7_col1\" class=\"data row7 col1\" >Michael</td>\n",
              "      <td id=\"T_47684_row7_col2\" class=\"data row7 col2\" >Howell</td>\n",
              "      <td id=\"T_47684_row7_col3\" class=\"data row7 col3\" >Tillamook</td>\n",
              "      <td id=\"T_47684_row7_col4\" class=\"data row7 col4\" >Oregon</td>\n",
              "    </tr>\n",
              "    <tr>\n",
              "      <td id=\"T_47684_row8_col0\" class=\"data row8 col0\" >10339</td>\n",
              "      <td id=\"T_47684_row8_col1\" class=\"data row8 col1\" >Anthony</td>\n",
              "      <td id=\"T_47684_row8_col2\" class=\"data row8 col2\" >Sanchez</td>\n",
              "      <td id=\"T_47684_row8_col3\" class=\"data row8 col3\" >Winslow</td>\n",
              "      <td id=\"T_47684_row8_col4\" class=\"data row8 col4\" >Arizona</td>\n",
              "    </tr>\n",
              "    <tr>\n",
              "      <td id=\"T_47684_row9_col0\" class=\"data row9 col0\" >10408</td>\n",
              "      <td id=\"T_47684_row9_col1\" class=\"data row9 col1\" >Elroy</td>\n",
              "      <td id=\"T_47684_row9_col2\" class=\"data row9 col2\" >Cleaver</td>\n",
              "      <td id=\"T_47684_row9_col3\" class=\"data row9 col3\" >Globe</td>\n",
              "      <td id=\"T_47684_row9_col4\" class=\"data row9 col4\" >Arizona</td>\n",
              "    </tr>\n",
              "    <tr>\n",
              "      <td id=\"T_47684_row10_col0\" class=\"data row10 col0\" >10410</td>\n",
              "      <td id=\"T_47684_row10_col1\" class=\"data row10 col1\" >Mary Ann</td>\n",
              "      <td id=\"T_47684_row10_col2\" class=\"data row10 col2\" >Howell</td>\n",
              "      <td id=\"T_47684_row10_col3\" class=\"data row10 col3\" >Charleston</td>\n",
              "      <td id=\"T_47684_row10_col4\" class=\"data row10 col4\" >South Carolina</td>\n",
              "    </tr>\n",
              "    <tr>\n",
              "      <td id=\"T_47684_row11_col0\" class=\"data row11 col0\" >10413</td>\n",
              "      <td id=\"T_47684_row11_col1\" class=\"data row11 col1\" >Donald</td>\n",
              "      <td id=\"T_47684_row11_col2\" class=\"data row11 col2\" >Davids</td>\n",
              "      <td id=\"T_47684_row11_col3\" class=\"data row11 col3\" >Gila Bend</td>\n",
              "      <td id=\"T_47684_row11_col4\" class=\"data row11 col4\" >Arizona</td>\n",
              "    </tr>\n",
              "    <tr>\n",
              "      <td id=\"T_47684_row12_col0\" class=\"data row12 col0\" >10419</td>\n",
              "      <td id=\"T_47684_row12_col1\" class=\"data row12 col1\" >Linda</td>\n",
              "      <td id=\"T_47684_row12_col2\" class=\"data row12 col2\" >Sakahara</td>\n",
              "      <td id=\"T_47684_row12_col3\" class=\"data row12 col3\" >Nogales</td>\n",
              "      <td id=\"T_47684_row12_col4\" class=\"data row12 col4\" >Arizona</td>\n",
              "    </tr>\n",
              "    <tr>\n",
              "      <td id=\"T_47684_row13_col0\" class=\"data row13 col0\" >10429</td>\n",
              "      <td id=\"T_47684_row13_col1\" class=\"data row13 col1\" >Sarah</td>\n",
              "      <td id=\"T_47684_row13_col2\" class=\"data row13 col2\" >Graham</td>\n",
              "      <td id=\"T_47684_row13_col3\" class=\"data row13 col3\" >Greensboro</td>\n",
              "      <td id=\"T_47684_row13_col4\" class=\"data row13 col4\" >North Carolina</td>\n",
              "    </tr>\n",
              "    <tr>\n",
              "      <td id=\"T_47684_row14_col0\" class=\"data row14 col0\" >10438</td>\n",
              "      <td id=\"T_47684_row14_col1\" class=\"data row14 col1\" >Kevin</td>\n",
              "      <td id=\"T_47684_row14_col2\" class=\"data row14 col2\" >Smith</td>\n",
              "      <td id=\"T_47684_row14_col3\" class=\"data row14 col3\" >Durango</td>\n",
              "      <td id=\"T_47684_row14_col4\" class=\"data row14 col4\" >Colorado</td>\n",
              "    </tr>\n",
              "    <tr>\n",
              "      <td id=\"T_47684_row15_col0\" class=\"data row15 col0\" >10439</td>\n",
              "      <td id=\"T_47684_row15_col1\" class=\"data row15 col1\" >Conrad</td>\n",
              "      <td id=\"T_47684_row15_col2\" class=\"data row15 col2\" >Giles</td>\n",
              "      <td id=\"T_47684_row15_col3\" class=\"data row15 col3\" >Telluride</td>\n",
              "      <td id=\"T_47684_row15_col4\" class=\"data row15 col4\" >Colorado</td>\n",
              "    </tr>\n",
              "    <tr>\n",
              "      <td id=\"T_47684_row16_col0\" class=\"data row16 col0\" >10449</td>\n",
              "      <td id=\"T_47684_row16_col1\" class=\"data row16 col1\" >Isabela</td>\n",
              "      <td id=\"T_47684_row16_col2\" class=\"data row16 col2\" >Moore</td>\n",
              "      <td id=\"T_47684_row16_col3\" class=\"data row16 col3\" >Yuma</td>\n",
              "      <td id=\"T_47684_row16_col4\" class=\"data row16 col4\" >Arizona</td>\n",
              "    </tr>\n",
              "  </tbody>\n",
              "</table>\n"
            ]
          },
          "metadata": {},
          "execution_count": 10
        }
      ]
    },
    {
      "cell_type": "code",
      "source": [
        "runSelect(\"select * from itemsordered\")"
      ],
      "metadata": {
        "colab": {
          "base_uri": "https://localhost:8080/",
          "height": 1000
        },
        "id": "_BGkvKipGdHz",
        "outputId": "5d7fe98f-49d6-472b-92e7-b308a939c28b"
      },
      "execution_count": null,
      "outputs": [
        {
          "output_type": "execute_result",
          "data": {
            "text/plain": [
              "<pandas.io.formats.style.Styler at 0x7cd6fcd09ab0>"
            ],
            "text/html": [
              "<style type=\"text/css\">\n",
              "</style>\n",
              "<table id=\"T_6fa93\" class=\"dataframe\">\n",
              "  <thead>\n",
              "    <tr>\n",
              "      <th id=\"T_6fa93_level0_col0\" class=\"col_heading level0 col0\" >customerid</th>\n",
              "      <th id=\"T_6fa93_level0_col1\" class=\"col_heading level0 col1\" >orderdate</th>\n",
              "      <th id=\"T_6fa93_level0_col2\" class=\"col_heading level0 col2\" >item</th>\n",
              "      <th id=\"T_6fa93_level0_col3\" class=\"col_heading level0 col3\" >quantity</th>\n",
              "      <th id=\"T_6fa93_level0_col4\" class=\"col_heading level0 col4\" >price</th>\n",
              "    </tr>\n",
              "  </thead>\n",
              "  <tbody>\n",
              "    <tr>\n",
              "      <td id=\"T_6fa93_row0_col0\" class=\"data row0 col0\" >10330</td>\n",
              "      <td id=\"T_6fa93_row0_col1\" class=\"data row0 col1\" >1999-06-30</td>\n",
              "      <td id=\"T_6fa93_row0_col2\" class=\"data row0 col2\" >Pogo stick</td>\n",
              "      <td id=\"T_6fa93_row0_col3\" class=\"data row0 col3\" >1</td>\n",
              "      <td id=\"T_6fa93_row0_col4\" class=\"data row0 col4\" >28.00</td>\n",
              "    </tr>\n",
              "    <tr>\n",
              "      <td id=\"T_6fa93_row1_col0\" class=\"data row1 col0\" >10101</td>\n",
              "      <td id=\"T_6fa93_row1_col1\" class=\"data row1 col1\" >1999-06-30</td>\n",
              "      <td id=\"T_6fa93_row1_col2\" class=\"data row1 col2\" >Raft</td>\n",
              "      <td id=\"T_6fa93_row1_col3\" class=\"data row1 col3\" >1</td>\n",
              "      <td id=\"T_6fa93_row1_col4\" class=\"data row1 col4\" >58.00</td>\n",
              "    </tr>\n",
              "    <tr>\n",
              "      <td id=\"T_6fa93_row2_col0\" class=\"data row2 col0\" >10298</td>\n",
              "      <td id=\"T_6fa93_row2_col1\" class=\"data row2 col1\" >1999-07-01</td>\n",
              "      <td id=\"T_6fa93_row2_col2\" class=\"data row2 col2\" >Skateboard</td>\n",
              "      <td id=\"T_6fa93_row2_col3\" class=\"data row2 col3\" >1</td>\n",
              "      <td id=\"T_6fa93_row2_col4\" class=\"data row2 col4\" >33.00</td>\n",
              "    </tr>\n",
              "    <tr>\n",
              "      <td id=\"T_6fa93_row3_col0\" class=\"data row3 col0\" >10101</td>\n",
              "      <td id=\"T_6fa93_row3_col1\" class=\"data row3 col1\" >1999-07-01</td>\n",
              "      <td id=\"T_6fa93_row3_col2\" class=\"data row3 col2\" >Life Vest</td>\n",
              "      <td id=\"T_6fa93_row3_col3\" class=\"data row3 col3\" >4</td>\n",
              "      <td id=\"T_6fa93_row3_col4\" class=\"data row3 col4\" >125.00</td>\n",
              "    </tr>\n",
              "    <tr>\n",
              "      <td id=\"T_6fa93_row4_col0\" class=\"data row4 col0\" >10299</td>\n",
              "      <td id=\"T_6fa93_row4_col1\" class=\"data row4 col1\" >1999-07-06</td>\n",
              "      <td id=\"T_6fa93_row4_col2\" class=\"data row4 col2\" >Parachute</td>\n",
              "      <td id=\"T_6fa93_row4_col3\" class=\"data row4 col3\" >1</td>\n",
              "      <td id=\"T_6fa93_row4_col4\" class=\"data row4 col4\" >1250.00</td>\n",
              "    </tr>\n",
              "    <tr>\n",
              "      <td id=\"T_6fa93_row5_col0\" class=\"data row5 col0\" >10339</td>\n",
              "      <td id=\"T_6fa93_row5_col1\" class=\"data row5 col1\" >1999-07-27</td>\n",
              "      <td id=\"T_6fa93_row5_col2\" class=\"data row5 col2\" >Umbrella</td>\n",
              "      <td id=\"T_6fa93_row5_col3\" class=\"data row5 col3\" >1</td>\n",
              "      <td id=\"T_6fa93_row5_col4\" class=\"data row5 col4\" >4.50</td>\n",
              "    </tr>\n",
              "    <tr>\n",
              "      <td id=\"T_6fa93_row6_col0\" class=\"data row6 col0\" >10449</td>\n",
              "      <td id=\"T_6fa93_row6_col1\" class=\"data row6 col1\" >1999-08-13</td>\n",
              "      <td id=\"T_6fa93_row6_col2\" class=\"data row6 col2\" >Unicycle</td>\n",
              "      <td id=\"T_6fa93_row6_col3\" class=\"data row6 col3\" >1</td>\n",
              "      <td id=\"T_6fa93_row6_col4\" class=\"data row6 col4\" >180.79</td>\n",
              "    </tr>\n",
              "    <tr>\n",
              "      <td id=\"T_6fa93_row7_col0\" class=\"data row7 col0\" >10439</td>\n",
              "      <td id=\"T_6fa93_row7_col1\" class=\"data row7 col1\" >1999-08-14</td>\n",
              "      <td id=\"T_6fa93_row7_col2\" class=\"data row7 col2\" >Ski Poles</td>\n",
              "      <td id=\"T_6fa93_row7_col3\" class=\"data row7 col3\" >2</td>\n",
              "      <td id=\"T_6fa93_row7_col4\" class=\"data row7 col4\" >25.50</td>\n",
              "    </tr>\n",
              "    <tr>\n",
              "      <td id=\"T_6fa93_row8_col0\" class=\"data row8 col0\" >10101</td>\n",
              "      <td id=\"T_6fa93_row8_col1\" class=\"data row8 col1\" >1999-08-18</td>\n",
              "      <td id=\"T_6fa93_row8_col2\" class=\"data row8 col2\" >Rain Coat</td>\n",
              "      <td id=\"T_6fa93_row8_col3\" class=\"data row8 col3\" >1</td>\n",
              "      <td id=\"T_6fa93_row8_col4\" class=\"data row8 col4\" >18.30</td>\n",
              "    </tr>\n",
              "    <tr>\n",
              "      <td id=\"T_6fa93_row9_col0\" class=\"data row9 col0\" >10449</td>\n",
              "      <td id=\"T_6fa93_row9_col1\" class=\"data row9 col1\" >1999-09-01</td>\n",
              "      <td id=\"T_6fa93_row9_col2\" class=\"data row9 col2\" >Snow Shoes</td>\n",
              "      <td id=\"T_6fa93_row9_col3\" class=\"data row9 col3\" >1</td>\n",
              "      <td id=\"T_6fa93_row9_col4\" class=\"data row9 col4\" >45.00</td>\n",
              "    </tr>\n",
              "    <tr>\n",
              "      <td id=\"T_6fa93_row10_col0\" class=\"data row10 col0\" >10439</td>\n",
              "      <td id=\"T_6fa93_row10_col1\" class=\"data row10 col1\" >1999-09-18</td>\n",
              "      <td id=\"T_6fa93_row10_col2\" class=\"data row10 col2\" >Tent</td>\n",
              "      <td id=\"T_6fa93_row10_col3\" class=\"data row10 col3\" >1</td>\n",
              "      <td id=\"T_6fa93_row10_col4\" class=\"data row10 col4\" >88.00</td>\n",
              "    </tr>\n",
              "    <tr>\n",
              "      <td id=\"T_6fa93_row11_col0\" class=\"data row11 col0\" >10298</td>\n",
              "      <td id=\"T_6fa93_row11_col1\" class=\"data row11 col1\" >1999-09-19</td>\n",
              "      <td id=\"T_6fa93_row11_col2\" class=\"data row11 col2\" >Lantern</td>\n",
              "      <td id=\"T_6fa93_row11_col3\" class=\"data row11 col3\" >2</td>\n",
              "      <td id=\"T_6fa93_row11_col4\" class=\"data row11 col4\" >29.00</td>\n",
              "    </tr>\n",
              "    <tr>\n",
              "      <td id=\"T_6fa93_row12_col0\" class=\"data row12 col0\" >10410</td>\n",
              "      <td id=\"T_6fa93_row12_col1\" class=\"data row12 col1\" >1999-10-28</td>\n",
              "      <td id=\"T_6fa93_row12_col2\" class=\"data row12 col2\" >Sleeping Bag</td>\n",
              "      <td id=\"T_6fa93_row12_col3\" class=\"data row12 col3\" >1</td>\n",
              "      <td id=\"T_6fa93_row12_col4\" class=\"data row12 col4\" >89.22</td>\n",
              "    </tr>\n",
              "    <tr>\n",
              "      <td id=\"T_6fa93_row13_col0\" class=\"data row13 col0\" >10438</td>\n",
              "      <td id=\"T_6fa93_row13_col1\" class=\"data row13 col1\" >1999-11-01</td>\n",
              "      <td id=\"T_6fa93_row13_col2\" class=\"data row13 col2\" >Umbrella</td>\n",
              "      <td id=\"T_6fa93_row13_col3\" class=\"data row13 col3\" >1</td>\n",
              "      <td id=\"T_6fa93_row13_col4\" class=\"data row13 col4\" >6.75</td>\n",
              "    </tr>\n",
              "    <tr>\n",
              "      <td id=\"T_6fa93_row14_col0\" class=\"data row14 col0\" >10438</td>\n",
              "      <td id=\"T_6fa93_row14_col1\" class=\"data row14 col1\" >1999-11-02</td>\n",
              "      <td id=\"T_6fa93_row14_col2\" class=\"data row14 col2\" >Pillow</td>\n",
              "      <td id=\"T_6fa93_row14_col3\" class=\"data row14 col3\" >1</td>\n",
              "      <td id=\"T_6fa93_row14_col4\" class=\"data row14 col4\" >8.50</td>\n",
              "    </tr>\n",
              "    <tr>\n",
              "      <td id=\"T_6fa93_row15_col0\" class=\"data row15 col0\" >10298</td>\n",
              "      <td id=\"T_6fa93_row15_col1\" class=\"data row15 col1\" >1999-12-01</td>\n",
              "      <td id=\"T_6fa93_row15_col2\" class=\"data row15 col2\" >Helmet</td>\n",
              "      <td id=\"T_6fa93_row15_col3\" class=\"data row15 col3\" >1</td>\n",
              "      <td id=\"T_6fa93_row15_col4\" class=\"data row15 col4\" >22.00</td>\n",
              "    </tr>\n",
              "    <tr>\n",
              "      <td id=\"T_6fa93_row16_col0\" class=\"data row16 col0\" >10449</td>\n",
              "      <td id=\"T_6fa93_row16_col1\" class=\"data row16 col1\" >1999-12-15</td>\n",
              "      <td id=\"T_6fa93_row16_col2\" class=\"data row16 col2\" >Bicycle</td>\n",
              "      <td id=\"T_6fa93_row16_col3\" class=\"data row16 col3\" >1</td>\n",
              "      <td id=\"T_6fa93_row16_col4\" class=\"data row16 col4\" >380.50</td>\n",
              "    </tr>\n",
              "    <tr>\n",
              "      <td id=\"T_6fa93_row17_col0\" class=\"data row17 col0\" >10449</td>\n",
              "      <td id=\"T_6fa93_row17_col1\" class=\"data row17 col1\" >1999-12-22</td>\n",
              "      <td id=\"T_6fa93_row17_col2\" class=\"data row17 col2\" >Canoe</td>\n",
              "      <td id=\"T_6fa93_row17_col3\" class=\"data row17 col3\" >1</td>\n",
              "      <td id=\"T_6fa93_row17_col4\" class=\"data row17 col4\" >280.00</td>\n",
              "    </tr>\n",
              "    <tr>\n",
              "      <td id=\"T_6fa93_row18_col0\" class=\"data row18 col0\" >10101</td>\n",
              "      <td id=\"T_6fa93_row18_col1\" class=\"data row18 col1\" >1999-12-30</td>\n",
              "      <td id=\"T_6fa93_row18_col2\" class=\"data row18 col2\" >Hoola Hoop</td>\n",
              "      <td id=\"T_6fa93_row18_col3\" class=\"data row18 col3\" >3</td>\n",
              "      <td id=\"T_6fa93_row18_col4\" class=\"data row18 col4\" >14.75</td>\n",
              "    </tr>\n",
              "    <tr>\n",
              "      <td id=\"T_6fa93_row19_col0\" class=\"data row19 col0\" >10330</td>\n",
              "      <td id=\"T_6fa93_row19_col1\" class=\"data row19 col1\" >2000-01-01</td>\n",
              "      <td id=\"T_6fa93_row19_col2\" class=\"data row19 col2\" >Flashlight</td>\n",
              "      <td id=\"T_6fa93_row19_col3\" class=\"data row19 col3\" >4</td>\n",
              "      <td id=\"T_6fa93_row19_col4\" class=\"data row19 col4\" >28.00</td>\n",
              "    </tr>\n",
              "    <tr>\n",
              "      <td id=\"T_6fa93_row20_col0\" class=\"data row20 col0\" >10101</td>\n",
              "      <td id=\"T_6fa93_row20_col1\" class=\"data row20 col1\" >2000-01-02</td>\n",
              "      <td id=\"T_6fa93_row20_col2\" class=\"data row20 col2\" >Lantern</td>\n",
              "      <td id=\"T_6fa93_row20_col3\" class=\"data row20 col3\" >1</td>\n",
              "      <td id=\"T_6fa93_row20_col4\" class=\"data row20 col4\" >16.00</td>\n",
              "    </tr>\n",
              "    <tr>\n",
              "      <td id=\"T_6fa93_row21_col0\" class=\"data row21 col0\" >10299</td>\n",
              "      <td id=\"T_6fa93_row21_col1\" class=\"data row21 col1\" >2000-01-18</td>\n",
              "      <td id=\"T_6fa93_row21_col2\" class=\"data row21 col2\" >Inflatable Mattress</td>\n",
              "      <td id=\"T_6fa93_row21_col3\" class=\"data row21 col3\" >1</td>\n",
              "      <td id=\"T_6fa93_row21_col4\" class=\"data row21 col4\" >38.00</td>\n",
              "    </tr>\n",
              "    <tr>\n",
              "      <td id=\"T_6fa93_row22_col0\" class=\"data row22 col0\" >10438</td>\n",
              "      <td id=\"T_6fa93_row22_col1\" class=\"data row22 col1\" >2000-01-18</td>\n",
              "      <td id=\"T_6fa93_row22_col2\" class=\"data row22 col2\" >Tent</td>\n",
              "      <td id=\"T_6fa93_row22_col3\" class=\"data row22 col3\" >1</td>\n",
              "      <td id=\"T_6fa93_row22_col4\" class=\"data row22 col4\" >79.99</td>\n",
              "    </tr>\n",
              "    <tr>\n",
              "      <td id=\"T_6fa93_row23_col0\" class=\"data row23 col0\" >10413</td>\n",
              "      <td id=\"T_6fa93_row23_col1\" class=\"data row23 col1\" >2000-01-19</td>\n",
              "      <td id=\"T_6fa93_row23_col2\" class=\"data row23 col2\" >Lawnchair</td>\n",
              "      <td id=\"T_6fa93_row23_col3\" class=\"data row23 col3\" >4</td>\n",
              "      <td id=\"T_6fa93_row23_col4\" class=\"data row23 col4\" >32.00</td>\n",
              "    </tr>\n",
              "    <tr>\n",
              "      <td id=\"T_6fa93_row24_col0\" class=\"data row24 col0\" >10410</td>\n",
              "      <td id=\"T_6fa93_row24_col1\" class=\"data row24 col1\" >2000-01-30</td>\n",
              "      <td id=\"T_6fa93_row24_col2\" class=\"data row24 col2\" >Unicycle</td>\n",
              "      <td id=\"T_6fa93_row24_col3\" class=\"data row24 col3\" >1</td>\n",
              "      <td id=\"T_6fa93_row24_col4\" class=\"data row24 col4\" >192.50</td>\n",
              "    </tr>\n",
              "    <tr>\n",
              "      <td id=\"T_6fa93_row25_col0\" class=\"data row25 col0\" >10315</td>\n",
              "      <td id=\"T_6fa93_row25_col1\" class=\"data row25 col1\" >2000-02-02</td>\n",
              "      <td id=\"T_6fa93_row25_col2\" class=\"data row25 col2\" >Compass</td>\n",
              "      <td id=\"T_6fa93_row25_col3\" class=\"data row25 col3\" >1</td>\n",
              "      <td id=\"T_6fa93_row25_col4\" class=\"data row25 col4\" >8.00</td>\n",
              "    </tr>\n",
              "    <tr>\n",
              "      <td id=\"T_6fa93_row26_col0\" class=\"data row26 col0\" >10449</td>\n",
              "      <td id=\"T_6fa93_row26_col1\" class=\"data row26 col1\" >2000-02-29</td>\n",
              "      <td id=\"T_6fa93_row26_col2\" class=\"data row26 col2\" >Flashlight</td>\n",
              "      <td id=\"T_6fa93_row26_col3\" class=\"data row26 col3\" >1</td>\n",
              "      <td id=\"T_6fa93_row26_col4\" class=\"data row26 col4\" >4.50</td>\n",
              "    </tr>\n",
              "    <tr>\n",
              "      <td id=\"T_6fa93_row27_col0\" class=\"data row27 col0\" >10101</td>\n",
              "      <td id=\"T_6fa93_row27_col1\" class=\"data row27 col1\" >2000-03-08</td>\n",
              "      <td id=\"T_6fa93_row27_col2\" class=\"data row27 col2\" >Sleeping Bag</td>\n",
              "      <td id=\"T_6fa93_row27_col3\" class=\"data row27 col3\" >2</td>\n",
              "      <td id=\"T_6fa93_row27_col4\" class=\"data row27 col4\" >88.70</td>\n",
              "    </tr>\n",
              "    <tr>\n",
              "      <td id=\"T_6fa93_row28_col0\" class=\"data row28 col0\" >10298</td>\n",
              "      <td id=\"T_6fa93_row28_col1\" class=\"data row28 col1\" >2000-03-18</td>\n",
              "      <td id=\"T_6fa93_row28_col2\" class=\"data row28 col2\" >Pocket Knife</td>\n",
              "      <td id=\"T_6fa93_row28_col3\" class=\"data row28 col3\" >1</td>\n",
              "      <td id=\"T_6fa93_row28_col4\" class=\"data row28 col4\" >22.38</td>\n",
              "    </tr>\n",
              "    <tr>\n",
              "      <td id=\"T_6fa93_row29_col0\" class=\"data row29 col0\" >10449</td>\n",
              "      <td id=\"T_6fa93_row29_col1\" class=\"data row29 col1\" >2000-03-19</td>\n",
              "      <td id=\"T_6fa93_row29_col2\" class=\"data row29 col2\" >Canoe paddle</td>\n",
              "      <td id=\"T_6fa93_row29_col3\" class=\"data row29 col3\" >2</td>\n",
              "      <td id=\"T_6fa93_row29_col4\" class=\"data row29 col4\" >40.00</td>\n",
              "    </tr>\n",
              "    <tr>\n",
              "      <td id=\"T_6fa93_row30_col0\" class=\"data row30 col0\" >10298</td>\n",
              "      <td id=\"T_6fa93_row30_col1\" class=\"data row30 col1\" >2000-04-01</td>\n",
              "      <td id=\"T_6fa93_row30_col2\" class=\"data row30 col2\" >Ear Muffs</td>\n",
              "      <td id=\"T_6fa93_row30_col3\" class=\"data row30 col3\" >1</td>\n",
              "      <td id=\"T_6fa93_row30_col4\" class=\"data row30 col4\" >12.50</td>\n",
              "    </tr>\n",
              "    <tr>\n",
              "      <td id=\"T_6fa93_row31_col0\" class=\"data row31 col0\" >10330</td>\n",
              "      <td id=\"T_6fa93_row31_col1\" class=\"data row31 col1\" >2000-04-19</td>\n",
              "      <td id=\"T_6fa93_row31_col2\" class=\"data row31 col2\" >Shovel</td>\n",
              "      <td id=\"T_6fa93_row31_col3\" class=\"data row31 col3\" >1</td>\n",
              "      <td id=\"T_6fa93_row31_col4\" class=\"data row31 col4\" >16.75</td>\n",
              "    </tr>\n",
              "  </tbody>\n",
              "</table>\n"
            ]
          },
          "metadata": {},
          "execution_count": 11
        }
      ]
    },
    {
      "cell_type": "markdown",
      "source": [
        "# Solutions for Exercise 1"
      ],
      "metadata": {
        "id": "pPWcjcMBMXh3"
      }
    },
    {
      "cell_type": "markdown",
      "source": [
        "#1) Select"
      ],
      "metadata": {
        "id": "ZuPJD4x0GNrc"
      }
    },
    {
      "cell_type": "code",
      "source": [
        "#1.1 From the items_ordered table, select a list of all items purchased for customerid 10449. Display the customerid, item, and price for this customer"
      ],
      "metadata": {
        "id": "pKbjW3u0FJId"
      },
      "execution_count": null,
      "outputs": []
    },
    {
      "cell_type": "code",
      "source": [
        "runSelect(\"select customerid, item, price from itemsordered where customerid = '10449'\")"
      ],
      "metadata": {
        "colab": {
          "base_uri": "https://localhost:8080/",
          "height": 237
        },
        "id": "VokfVAY3GqV_",
        "outputId": "c818aa84-67f1-4d05-c387-b06e5c80452e"
      },
      "execution_count": null,
      "outputs": [
        {
          "output_type": "execute_result",
          "data": {
            "text/plain": [
              "<pandas.io.formats.style.Styler at 0x7cd6fcd0b460>"
            ],
            "text/html": [
              "<style type=\"text/css\">\n",
              "</style>\n",
              "<table id=\"T_4b812\" class=\"dataframe\">\n",
              "  <thead>\n",
              "    <tr>\n",
              "      <th id=\"T_4b812_level0_col0\" class=\"col_heading level0 col0\" >customerid</th>\n",
              "      <th id=\"T_4b812_level0_col1\" class=\"col_heading level0 col1\" >item</th>\n",
              "      <th id=\"T_4b812_level0_col2\" class=\"col_heading level0 col2\" >price</th>\n",
              "    </tr>\n",
              "  </thead>\n",
              "  <tbody>\n",
              "    <tr>\n",
              "      <td id=\"T_4b812_row0_col0\" class=\"data row0 col0\" >10449</td>\n",
              "      <td id=\"T_4b812_row0_col1\" class=\"data row0 col1\" >Unicycle</td>\n",
              "      <td id=\"T_4b812_row0_col2\" class=\"data row0 col2\" >180.79</td>\n",
              "    </tr>\n",
              "    <tr>\n",
              "      <td id=\"T_4b812_row1_col0\" class=\"data row1 col0\" >10449</td>\n",
              "      <td id=\"T_4b812_row1_col1\" class=\"data row1 col1\" >Snow Shoes</td>\n",
              "      <td id=\"T_4b812_row1_col2\" class=\"data row1 col2\" >45.00</td>\n",
              "    </tr>\n",
              "    <tr>\n",
              "      <td id=\"T_4b812_row2_col0\" class=\"data row2 col0\" >10449</td>\n",
              "      <td id=\"T_4b812_row2_col1\" class=\"data row2 col1\" >Bicycle</td>\n",
              "      <td id=\"T_4b812_row2_col2\" class=\"data row2 col2\" >380.50</td>\n",
              "    </tr>\n",
              "    <tr>\n",
              "      <td id=\"T_4b812_row3_col0\" class=\"data row3 col0\" >10449</td>\n",
              "      <td id=\"T_4b812_row3_col1\" class=\"data row3 col1\" >Canoe</td>\n",
              "      <td id=\"T_4b812_row3_col2\" class=\"data row3 col2\" >280.00</td>\n",
              "    </tr>\n",
              "    <tr>\n",
              "      <td id=\"T_4b812_row4_col0\" class=\"data row4 col0\" >10449</td>\n",
              "      <td id=\"T_4b812_row4_col1\" class=\"data row4 col1\" >Flashlight</td>\n",
              "      <td id=\"T_4b812_row4_col2\" class=\"data row4 col2\" >4.50</td>\n",
              "    </tr>\n",
              "    <tr>\n",
              "      <td id=\"T_4b812_row5_col0\" class=\"data row5 col0\" >10449</td>\n",
              "      <td id=\"T_4b812_row5_col1\" class=\"data row5 col1\" >Canoe paddle</td>\n",
              "      <td id=\"T_4b812_row5_col2\" class=\"data row5 col2\" >40.00</td>\n",
              "    </tr>\n",
              "  </tbody>\n",
              "</table>\n"
            ]
          },
          "metadata": {},
          "execution_count": 13
        }
      ]
    },
    {
      "cell_type": "code",
      "source": [
        "#1.2 Select all columns from the items_ordered table for whoever purchased a Tent"
      ],
      "metadata": {
        "id": "5cJgY7CHHLa5"
      },
      "execution_count": null,
      "outputs": []
    },
    {
      "cell_type": "code",
      "source": [
        "runSelect(\"select * from itemsordered where item = 'Tent'\")"
      ],
      "metadata": {
        "colab": {
          "base_uri": "https://localhost:8080/",
          "height": 112
        },
        "id": "iHuLc-ZlHRM1",
        "outputId": "c7b6e49e-91a0-43b6-c954-6663656b1218"
      },
      "execution_count": null,
      "outputs": [
        {
          "output_type": "execute_result",
          "data": {
            "text/plain": [
              "<pandas.io.formats.style.Styler at 0x7cd6fcd0b6a0>"
            ],
            "text/html": [
              "<style type=\"text/css\">\n",
              "</style>\n",
              "<table id=\"T_88963\" class=\"dataframe\">\n",
              "  <thead>\n",
              "    <tr>\n",
              "      <th id=\"T_88963_level0_col0\" class=\"col_heading level0 col0\" >customerid</th>\n",
              "      <th id=\"T_88963_level0_col1\" class=\"col_heading level0 col1\" >orderdate</th>\n",
              "      <th id=\"T_88963_level0_col2\" class=\"col_heading level0 col2\" >item</th>\n",
              "      <th id=\"T_88963_level0_col3\" class=\"col_heading level0 col3\" >quantity</th>\n",
              "      <th id=\"T_88963_level0_col4\" class=\"col_heading level0 col4\" >price</th>\n",
              "    </tr>\n",
              "  </thead>\n",
              "  <tbody>\n",
              "    <tr>\n",
              "      <td id=\"T_88963_row0_col0\" class=\"data row0 col0\" >10439</td>\n",
              "      <td id=\"T_88963_row0_col1\" class=\"data row0 col1\" >1999-09-18</td>\n",
              "      <td id=\"T_88963_row0_col2\" class=\"data row0 col2\" >Tent</td>\n",
              "      <td id=\"T_88963_row0_col3\" class=\"data row0 col3\" >1</td>\n",
              "      <td id=\"T_88963_row0_col4\" class=\"data row0 col4\" >88.00</td>\n",
              "    </tr>\n",
              "    <tr>\n",
              "      <td id=\"T_88963_row1_col0\" class=\"data row1 col0\" >10438</td>\n",
              "      <td id=\"T_88963_row1_col1\" class=\"data row1 col1\" >2000-01-18</td>\n",
              "      <td id=\"T_88963_row1_col2\" class=\"data row1 col2\" >Tent</td>\n",
              "      <td id=\"T_88963_row1_col3\" class=\"data row1 col3\" >1</td>\n",
              "      <td id=\"T_88963_row1_col4\" class=\"data row1 col4\" >79.99</td>\n",
              "    </tr>\n",
              "  </tbody>\n",
              "</table>\n"
            ]
          },
          "metadata": {},
          "execution_count": 15
        }
      ]
    },
    {
      "cell_type": "code",
      "source": [
        "#1.3 Select the customerid, order_date, and item values from the items_ordered table for any items in the item column that start with the letter “S”"
      ],
      "metadata": {
        "id": "gCxzg7wHHkI3"
      },
      "execution_count": null,
      "outputs": []
    },
    {
      "cell_type": "code",
      "source": [
        "runSelect(\"select customerid, orderdate, item from itemsordered where item like 'S%'\")"
      ],
      "metadata": {
        "colab": {
          "base_uri": "https://localhost:8080/",
          "height": 237
        },
        "id": "R5mbZ5qnHo4C",
        "outputId": "20446c28-79fc-4c94-bf6a-85786400204f"
      },
      "execution_count": null,
      "outputs": [
        {
          "output_type": "execute_result",
          "data": {
            "text/plain": [
              "<pandas.io.formats.style.Styler at 0x7cd6fcd340d0>"
            ],
            "text/html": [
              "<style type=\"text/css\">\n",
              "</style>\n",
              "<table id=\"T_12ea8\" class=\"dataframe\">\n",
              "  <thead>\n",
              "    <tr>\n",
              "      <th id=\"T_12ea8_level0_col0\" class=\"col_heading level0 col0\" >customerid</th>\n",
              "      <th id=\"T_12ea8_level0_col1\" class=\"col_heading level0 col1\" >orderdate</th>\n",
              "      <th id=\"T_12ea8_level0_col2\" class=\"col_heading level0 col2\" >item</th>\n",
              "    </tr>\n",
              "  </thead>\n",
              "  <tbody>\n",
              "    <tr>\n",
              "      <td id=\"T_12ea8_row0_col0\" class=\"data row0 col0\" >10298</td>\n",
              "      <td id=\"T_12ea8_row0_col1\" class=\"data row0 col1\" >1999-07-01</td>\n",
              "      <td id=\"T_12ea8_row0_col2\" class=\"data row0 col2\" >Skateboard</td>\n",
              "    </tr>\n",
              "    <tr>\n",
              "      <td id=\"T_12ea8_row1_col0\" class=\"data row1 col0\" >10439</td>\n",
              "      <td id=\"T_12ea8_row1_col1\" class=\"data row1 col1\" >1999-08-14</td>\n",
              "      <td id=\"T_12ea8_row1_col2\" class=\"data row1 col2\" >Ski Poles</td>\n",
              "    </tr>\n",
              "    <tr>\n",
              "      <td id=\"T_12ea8_row2_col0\" class=\"data row2 col0\" >10449</td>\n",
              "      <td id=\"T_12ea8_row2_col1\" class=\"data row2 col1\" >1999-09-01</td>\n",
              "      <td id=\"T_12ea8_row2_col2\" class=\"data row2 col2\" >Snow Shoes</td>\n",
              "    </tr>\n",
              "    <tr>\n",
              "      <td id=\"T_12ea8_row3_col0\" class=\"data row3 col0\" >10410</td>\n",
              "      <td id=\"T_12ea8_row3_col1\" class=\"data row3 col1\" >1999-10-28</td>\n",
              "      <td id=\"T_12ea8_row3_col2\" class=\"data row3 col2\" >Sleeping Bag</td>\n",
              "    </tr>\n",
              "    <tr>\n",
              "      <td id=\"T_12ea8_row4_col0\" class=\"data row4 col0\" >10101</td>\n",
              "      <td id=\"T_12ea8_row4_col1\" class=\"data row4 col1\" >2000-03-08</td>\n",
              "      <td id=\"T_12ea8_row4_col2\" class=\"data row4 col2\" >Sleeping Bag</td>\n",
              "    </tr>\n",
              "    <tr>\n",
              "      <td id=\"T_12ea8_row5_col0\" class=\"data row5 col0\" >10330</td>\n",
              "      <td id=\"T_12ea8_row5_col1\" class=\"data row5 col1\" >2000-04-19</td>\n",
              "      <td id=\"T_12ea8_row5_col2\" class=\"data row5 col2\" >Shovel</td>\n",
              "    </tr>\n",
              "  </tbody>\n",
              "</table>\n"
            ]
          },
          "metadata": {},
          "execution_count": 17
        }
      ]
    },
    {
      "cell_type": "code",
      "source": [
        "#1.4 Select the distinct items in the items_ordered table. In other words, display a listing of each of the unique items from the items_ordered table"
      ],
      "metadata": {
        "id": "5FV9dKEnIOH5"
      },
      "execution_count": null,
      "outputs": []
    },
    {
      "cell_type": "code",
      "source": [
        "runSelect(\"select distinct(item) from itemsordered\")"
      ],
      "metadata": {
        "colab": {
          "base_uri": "https://localhost:8080/",
          "height": 864
        },
        "id": "zwZTgovEIV_6",
        "outputId": "bdb8903c-2a96-4831-8bb6-6ad63dbd1e62"
      },
      "execution_count": null,
      "outputs": [
        {
          "output_type": "execute_result",
          "data": {
            "text/plain": [
              "<pandas.io.formats.style.Styler at 0x7cd6fcd36bf0>"
            ],
            "text/html": [
              "<style type=\"text/css\">\n",
              "</style>\n",
              "<table id=\"T_da4fc\" class=\"dataframe\">\n",
              "  <thead>\n",
              "    <tr>\n",
              "      <th id=\"T_da4fc_level0_col0\" class=\"col_heading level0 col0\" >item</th>\n",
              "    </tr>\n",
              "  </thead>\n",
              "  <tbody>\n",
              "    <tr>\n",
              "      <td id=\"T_da4fc_row0_col0\" class=\"data row0 col0\" >Parachute</td>\n",
              "    </tr>\n",
              "    <tr>\n",
              "      <td id=\"T_da4fc_row1_col0\" class=\"data row1 col0\" >Canoe</td>\n",
              "    </tr>\n",
              "    <tr>\n",
              "      <td id=\"T_da4fc_row2_col0\" class=\"data row2 col0\" >Flashlight</td>\n",
              "    </tr>\n",
              "    <tr>\n",
              "      <td id=\"T_da4fc_row3_col0\" class=\"data row3 col0\" >Shovel</td>\n",
              "    </tr>\n",
              "    <tr>\n",
              "      <td id=\"T_da4fc_row4_col0\" class=\"data row4 col0\" >Umbrella</td>\n",
              "    </tr>\n",
              "    <tr>\n",
              "      <td id=\"T_da4fc_row5_col0\" class=\"data row5 col0\" >Ear Muffs</td>\n",
              "    </tr>\n",
              "    <tr>\n",
              "      <td id=\"T_da4fc_row6_col0\" class=\"data row6 col0\" >Inflatable Mattress</td>\n",
              "    </tr>\n",
              "    <tr>\n",
              "      <td id=\"T_da4fc_row7_col0\" class=\"data row7 col0\" >Ski Poles</td>\n",
              "    </tr>\n",
              "    <tr>\n",
              "      <td id=\"T_da4fc_row8_col0\" class=\"data row8 col0\" >Life Vest</td>\n",
              "    </tr>\n",
              "    <tr>\n",
              "      <td id=\"T_da4fc_row9_col0\" class=\"data row9 col0\" >Skateboard</td>\n",
              "    </tr>\n",
              "    <tr>\n",
              "      <td id=\"T_da4fc_row10_col0\" class=\"data row10 col0\" >Tent</td>\n",
              "    </tr>\n",
              "    <tr>\n",
              "      <td id=\"T_da4fc_row11_col0\" class=\"data row11 col0\" >Pogo stick</td>\n",
              "    </tr>\n",
              "    <tr>\n",
              "      <td id=\"T_da4fc_row12_col0\" class=\"data row12 col0\" >Snow Shoes</td>\n",
              "    </tr>\n",
              "    <tr>\n",
              "      <td id=\"T_da4fc_row13_col0\" class=\"data row13 col0\" >Helmet</td>\n",
              "    </tr>\n",
              "    <tr>\n",
              "      <td id=\"T_da4fc_row14_col0\" class=\"data row14 col0\" >Bicycle</td>\n",
              "    </tr>\n",
              "    <tr>\n",
              "      <td id=\"T_da4fc_row15_col0\" class=\"data row15 col0\" >Lantern</td>\n",
              "    </tr>\n",
              "    <tr>\n",
              "      <td id=\"T_da4fc_row16_col0\" class=\"data row16 col0\" >Lawnchair</td>\n",
              "    </tr>\n",
              "    <tr>\n",
              "      <td id=\"T_da4fc_row17_col0\" class=\"data row17 col0\" >Raft</td>\n",
              "    </tr>\n",
              "    <tr>\n",
              "      <td id=\"T_da4fc_row18_col0\" class=\"data row18 col0\" >Sleeping Bag</td>\n",
              "    </tr>\n",
              "    <tr>\n",
              "      <td id=\"T_da4fc_row19_col0\" class=\"data row19 col0\" >Rain Coat</td>\n",
              "    </tr>\n",
              "    <tr>\n",
              "      <td id=\"T_da4fc_row20_col0\" class=\"data row20 col0\" >Canoe paddle</td>\n",
              "    </tr>\n",
              "    <tr>\n",
              "      <td id=\"T_da4fc_row21_col0\" class=\"data row21 col0\" >Compass</td>\n",
              "    </tr>\n",
              "    <tr>\n",
              "      <td id=\"T_da4fc_row22_col0\" class=\"data row22 col0\" >Unicycle</td>\n",
              "    </tr>\n",
              "    <tr>\n",
              "      <td id=\"T_da4fc_row23_col0\" class=\"data row23 col0\" >Hoola Hoop</td>\n",
              "    </tr>\n",
              "    <tr>\n",
              "      <td id=\"T_da4fc_row24_col0\" class=\"data row24 col0\" >Pillow</td>\n",
              "    </tr>\n",
              "    <tr>\n",
              "      <td id=\"T_da4fc_row25_col0\" class=\"data row25 col0\" >Pocket Knife</td>\n",
              "    </tr>\n",
              "  </tbody>\n",
              "</table>\n"
            ]
          },
          "metadata": {},
          "execution_count": 19
        }
      ]
    },
    {
      "cell_type": "code",
      "source": [
        "# 1.5 Make up your own select statements and submit them"
      ],
      "metadata": {
        "id": "yudJqJmAIuxT"
      },
      "execution_count": null,
      "outputs": []
    },
    {
      "cell_type": "code",
      "source": [
        "runSelect(\"select item, price from itemsordered where price between 100 and 400\")"
      ],
      "metadata": {
        "colab": {
          "base_uri": "https://localhost:8080/",
          "height": 206
        },
        "id": "iIwWMWbuI0Nv",
        "outputId": "85df636c-3c23-4104-e247-ac4cc4796326"
      },
      "execution_count": null,
      "outputs": [
        {
          "output_type": "execute_result",
          "data": {
            "text/plain": [
              "<pandas.io.formats.style.Styler at 0x7cd6fcd36c50>"
            ],
            "text/html": [
              "<style type=\"text/css\">\n",
              "</style>\n",
              "<table id=\"T_11183\" class=\"dataframe\">\n",
              "  <thead>\n",
              "    <tr>\n",
              "      <th id=\"T_11183_level0_col0\" class=\"col_heading level0 col0\" >item</th>\n",
              "      <th id=\"T_11183_level0_col1\" class=\"col_heading level0 col1\" >price</th>\n",
              "    </tr>\n",
              "  </thead>\n",
              "  <tbody>\n",
              "    <tr>\n",
              "      <td id=\"T_11183_row0_col0\" class=\"data row0 col0\" >Life Vest</td>\n",
              "      <td id=\"T_11183_row0_col1\" class=\"data row0 col1\" >125.00</td>\n",
              "    </tr>\n",
              "    <tr>\n",
              "      <td id=\"T_11183_row1_col0\" class=\"data row1 col0\" >Unicycle</td>\n",
              "      <td id=\"T_11183_row1_col1\" class=\"data row1 col1\" >180.79</td>\n",
              "    </tr>\n",
              "    <tr>\n",
              "      <td id=\"T_11183_row2_col0\" class=\"data row2 col0\" >Bicycle</td>\n",
              "      <td id=\"T_11183_row2_col1\" class=\"data row2 col1\" >380.50</td>\n",
              "    </tr>\n",
              "    <tr>\n",
              "      <td id=\"T_11183_row3_col0\" class=\"data row3 col0\" >Canoe</td>\n",
              "      <td id=\"T_11183_row3_col1\" class=\"data row3 col1\" >280.00</td>\n",
              "    </tr>\n",
              "    <tr>\n",
              "      <td id=\"T_11183_row4_col0\" class=\"data row4 col0\" >Unicycle</td>\n",
              "      <td id=\"T_11183_row4_col1\" class=\"data row4 col1\" >192.50</td>\n",
              "    </tr>\n",
              "  </tbody>\n",
              "</table>\n"
            ]
          },
          "metadata": {},
          "execution_count": 21
        }
      ]
    },
    {
      "cell_type": "code",
      "source": [
        "runSelect(\"select item, quantity, price from itemsordered where quantity > 1\")"
      ],
      "metadata": {
        "colab": {
          "base_uri": "https://localhost:8080/",
          "height": 300
        },
        "id": "4jAhPfpeJiqQ",
        "outputId": "ba760a54-c9df-47c9-b1e6-c0927b2a60eb"
      },
      "execution_count": null,
      "outputs": [
        {
          "output_type": "execute_result",
          "data": {
            "text/plain": [
              "<pandas.io.formats.style.Styler at 0x7cd6fcd37580>"
            ],
            "text/html": [
              "<style type=\"text/css\">\n",
              "</style>\n",
              "<table id=\"T_52dec\" class=\"dataframe\">\n",
              "  <thead>\n",
              "    <tr>\n",
              "      <th id=\"T_52dec_level0_col0\" class=\"col_heading level0 col0\" >item</th>\n",
              "      <th id=\"T_52dec_level0_col1\" class=\"col_heading level0 col1\" >quantity</th>\n",
              "      <th id=\"T_52dec_level0_col2\" class=\"col_heading level0 col2\" >price</th>\n",
              "    </tr>\n",
              "  </thead>\n",
              "  <tbody>\n",
              "    <tr>\n",
              "      <td id=\"T_52dec_row0_col0\" class=\"data row0 col0\" >Life Vest</td>\n",
              "      <td id=\"T_52dec_row0_col1\" class=\"data row0 col1\" >4</td>\n",
              "      <td id=\"T_52dec_row0_col2\" class=\"data row0 col2\" >125.00</td>\n",
              "    </tr>\n",
              "    <tr>\n",
              "      <td id=\"T_52dec_row1_col0\" class=\"data row1 col0\" >Ski Poles</td>\n",
              "      <td id=\"T_52dec_row1_col1\" class=\"data row1 col1\" >2</td>\n",
              "      <td id=\"T_52dec_row1_col2\" class=\"data row1 col2\" >25.50</td>\n",
              "    </tr>\n",
              "    <tr>\n",
              "      <td id=\"T_52dec_row2_col0\" class=\"data row2 col0\" >Lantern</td>\n",
              "      <td id=\"T_52dec_row2_col1\" class=\"data row2 col1\" >2</td>\n",
              "      <td id=\"T_52dec_row2_col2\" class=\"data row2 col2\" >29.00</td>\n",
              "    </tr>\n",
              "    <tr>\n",
              "      <td id=\"T_52dec_row3_col0\" class=\"data row3 col0\" >Hoola Hoop</td>\n",
              "      <td id=\"T_52dec_row3_col1\" class=\"data row3 col1\" >3</td>\n",
              "      <td id=\"T_52dec_row3_col2\" class=\"data row3 col2\" >14.75</td>\n",
              "    </tr>\n",
              "    <tr>\n",
              "      <td id=\"T_52dec_row4_col0\" class=\"data row4 col0\" >Flashlight</td>\n",
              "      <td id=\"T_52dec_row4_col1\" class=\"data row4 col1\" >4</td>\n",
              "      <td id=\"T_52dec_row4_col2\" class=\"data row4 col2\" >28.00</td>\n",
              "    </tr>\n",
              "    <tr>\n",
              "      <td id=\"T_52dec_row5_col0\" class=\"data row5 col0\" >Lawnchair</td>\n",
              "      <td id=\"T_52dec_row5_col1\" class=\"data row5 col1\" >4</td>\n",
              "      <td id=\"T_52dec_row5_col2\" class=\"data row5 col2\" >32.00</td>\n",
              "    </tr>\n",
              "    <tr>\n",
              "      <td id=\"T_52dec_row6_col0\" class=\"data row6 col0\" >Sleeping Bag</td>\n",
              "      <td id=\"T_52dec_row6_col1\" class=\"data row6 col1\" >2</td>\n",
              "      <td id=\"T_52dec_row6_col2\" class=\"data row6 col2\" >88.70</td>\n",
              "    </tr>\n",
              "    <tr>\n",
              "      <td id=\"T_52dec_row7_col0\" class=\"data row7 col0\" >Canoe paddle</td>\n",
              "      <td id=\"T_52dec_row7_col1\" class=\"data row7 col1\" >2</td>\n",
              "      <td id=\"T_52dec_row7_col2\" class=\"data row7 col2\" >40.00</td>\n",
              "    </tr>\n",
              "  </tbody>\n",
              "</table>\n"
            ]
          },
          "metadata": {},
          "execution_count": 22
        }
      ]
    },
    {
      "cell_type": "markdown",
      "source": [
        "#2) Aggregate Functions"
      ],
      "metadata": {
        "id": "mbH_TwyxKMY_"
      }
    },
    {
      "cell_type": "code",
      "source": [
        "# 2.1 Select the maximum price of any item ordered in the items_ordered table. Hint: Select the maximum price only"
      ],
      "metadata": {
        "id": "TYNpNhtJKMBU"
      },
      "execution_count": null,
      "outputs": []
    },
    {
      "cell_type": "code",
      "source": [
        "runSelect(\"select item, max(price) maximum_price from itemsordered group by item\")"
      ],
      "metadata": {
        "colab": {
          "base_uri": "https://localhost:8080/",
          "height": 864
        },
        "id": "GIpWchi_KcCb",
        "outputId": "9f7fa618-cd60-42e5-a0dc-896e7d8e6a02"
      },
      "execution_count": null,
      "outputs": [
        {
          "output_type": "execute_result",
          "data": {
            "text/plain": [
              "<pandas.io.formats.style.Styler at 0x7cd6fcb705b0>"
            ],
            "text/html": [
              "<style type=\"text/css\">\n",
              "</style>\n",
              "<table id=\"T_64c38\" class=\"dataframe\">\n",
              "  <thead>\n",
              "    <tr>\n",
              "      <th id=\"T_64c38_level0_col0\" class=\"col_heading level0 col0\" >item</th>\n",
              "      <th id=\"T_64c38_level0_col1\" class=\"col_heading level0 col1\" >maximum_price</th>\n",
              "    </tr>\n",
              "  </thead>\n",
              "  <tbody>\n",
              "    <tr>\n",
              "      <td id=\"T_64c38_row0_col0\" class=\"data row0 col0\" >Parachute</td>\n",
              "      <td id=\"T_64c38_row0_col1\" class=\"data row0 col1\" >1250.00</td>\n",
              "    </tr>\n",
              "    <tr>\n",
              "      <td id=\"T_64c38_row1_col0\" class=\"data row1 col0\" >Canoe</td>\n",
              "      <td id=\"T_64c38_row1_col1\" class=\"data row1 col1\" >280.00</td>\n",
              "    </tr>\n",
              "    <tr>\n",
              "      <td id=\"T_64c38_row2_col0\" class=\"data row2 col0\" >Flashlight</td>\n",
              "      <td id=\"T_64c38_row2_col1\" class=\"data row2 col1\" >28.00</td>\n",
              "    </tr>\n",
              "    <tr>\n",
              "      <td id=\"T_64c38_row3_col0\" class=\"data row3 col0\" >Shovel</td>\n",
              "      <td id=\"T_64c38_row3_col1\" class=\"data row3 col1\" >16.75</td>\n",
              "    </tr>\n",
              "    <tr>\n",
              "      <td id=\"T_64c38_row4_col0\" class=\"data row4 col0\" >Umbrella</td>\n",
              "      <td id=\"T_64c38_row4_col1\" class=\"data row4 col1\" >6.75</td>\n",
              "    </tr>\n",
              "    <tr>\n",
              "      <td id=\"T_64c38_row5_col0\" class=\"data row5 col0\" >Ear Muffs</td>\n",
              "      <td id=\"T_64c38_row5_col1\" class=\"data row5 col1\" >12.50</td>\n",
              "    </tr>\n",
              "    <tr>\n",
              "      <td id=\"T_64c38_row6_col0\" class=\"data row6 col0\" >Inflatable Mattress</td>\n",
              "      <td id=\"T_64c38_row6_col1\" class=\"data row6 col1\" >38.00</td>\n",
              "    </tr>\n",
              "    <tr>\n",
              "      <td id=\"T_64c38_row7_col0\" class=\"data row7 col0\" >Ski Poles</td>\n",
              "      <td id=\"T_64c38_row7_col1\" class=\"data row7 col1\" >25.50</td>\n",
              "    </tr>\n",
              "    <tr>\n",
              "      <td id=\"T_64c38_row8_col0\" class=\"data row8 col0\" >Life Vest</td>\n",
              "      <td id=\"T_64c38_row8_col1\" class=\"data row8 col1\" >125.00</td>\n",
              "    </tr>\n",
              "    <tr>\n",
              "      <td id=\"T_64c38_row9_col0\" class=\"data row9 col0\" >Skateboard</td>\n",
              "      <td id=\"T_64c38_row9_col1\" class=\"data row9 col1\" >33.00</td>\n",
              "    </tr>\n",
              "    <tr>\n",
              "      <td id=\"T_64c38_row10_col0\" class=\"data row10 col0\" >Tent</td>\n",
              "      <td id=\"T_64c38_row10_col1\" class=\"data row10 col1\" >88.00</td>\n",
              "    </tr>\n",
              "    <tr>\n",
              "      <td id=\"T_64c38_row11_col0\" class=\"data row11 col0\" >Pogo stick</td>\n",
              "      <td id=\"T_64c38_row11_col1\" class=\"data row11 col1\" >28.00</td>\n",
              "    </tr>\n",
              "    <tr>\n",
              "      <td id=\"T_64c38_row12_col0\" class=\"data row12 col0\" >Snow Shoes</td>\n",
              "      <td id=\"T_64c38_row12_col1\" class=\"data row12 col1\" >45.00</td>\n",
              "    </tr>\n",
              "    <tr>\n",
              "      <td id=\"T_64c38_row13_col0\" class=\"data row13 col0\" >Helmet</td>\n",
              "      <td id=\"T_64c38_row13_col1\" class=\"data row13 col1\" >22.00</td>\n",
              "    </tr>\n",
              "    <tr>\n",
              "      <td id=\"T_64c38_row14_col0\" class=\"data row14 col0\" >Bicycle</td>\n",
              "      <td id=\"T_64c38_row14_col1\" class=\"data row14 col1\" >380.50</td>\n",
              "    </tr>\n",
              "    <tr>\n",
              "      <td id=\"T_64c38_row15_col0\" class=\"data row15 col0\" >Lantern</td>\n",
              "      <td id=\"T_64c38_row15_col1\" class=\"data row15 col1\" >29.00</td>\n",
              "    </tr>\n",
              "    <tr>\n",
              "      <td id=\"T_64c38_row16_col0\" class=\"data row16 col0\" >Lawnchair</td>\n",
              "      <td id=\"T_64c38_row16_col1\" class=\"data row16 col1\" >32.00</td>\n",
              "    </tr>\n",
              "    <tr>\n",
              "      <td id=\"T_64c38_row17_col0\" class=\"data row17 col0\" >Raft</td>\n",
              "      <td id=\"T_64c38_row17_col1\" class=\"data row17 col1\" >58.00</td>\n",
              "    </tr>\n",
              "    <tr>\n",
              "      <td id=\"T_64c38_row18_col0\" class=\"data row18 col0\" >Sleeping Bag</td>\n",
              "      <td id=\"T_64c38_row18_col1\" class=\"data row18 col1\" >89.22</td>\n",
              "    </tr>\n",
              "    <tr>\n",
              "      <td id=\"T_64c38_row19_col0\" class=\"data row19 col0\" >Rain Coat</td>\n",
              "      <td id=\"T_64c38_row19_col1\" class=\"data row19 col1\" >18.30</td>\n",
              "    </tr>\n",
              "    <tr>\n",
              "      <td id=\"T_64c38_row20_col0\" class=\"data row20 col0\" >Canoe paddle</td>\n",
              "      <td id=\"T_64c38_row20_col1\" class=\"data row20 col1\" >40.00</td>\n",
              "    </tr>\n",
              "    <tr>\n",
              "      <td id=\"T_64c38_row21_col0\" class=\"data row21 col0\" >Compass</td>\n",
              "      <td id=\"T_64c38_row21_col1\" class=\"data row21 col1\" >8.00</td>\n",
              "    </tr>\n",
              "    <tr>\n",
              "      <td id=\"T_64c38_row22_col0\" class=\"data row22 col0\" >Unicycle</td>\n",
              "      <td id=\"T_64c38_row22_col1\" class=\"data row22 col1\" >192.50</td>\n",
              "    </tr>\n",
              "    <tr>\n",
              "      <td id=\"T_64c38_row23_col0\" class=\"data row23 col0\" >Hoola Hoop</td>\n",
              "      <td id=\"T_64c38_row23_col1\" class=\"data row23 col1\" >14.75</td>\n",
              "    </tr>\n",
              "    <tr>\n",
              "      <td id=\"T_64c38_row24_col0\" class=\"data row24 col0\" >Pillow</td>\n",
              "      <td id=\"T_64c38_row24_col1\" class=\"data row24 col1\" >8.50</td>\n",
              "    </tr>\n",
              "    <tr>\n",
              "      <td id=\"T_64c38_row25_col0\" class=\"data row25 col0\" >Pocket Knife</td>\n",
              "      <td id=\"T_64c38_row25_col1\" class=\"data row25 col1\" >22.38</td>\n",
              "    </tr>\n",
              "  </tbody>\n",
              "</table>\n"
            ]
          },
          "metadata": {},
          "execution_count": 65
        }
      ]
    },
    {
      "cell_type": "code",
      "source": [
        "# 2.2 Select the average price of all of the items ordered that were purchased in the month of Dec"
      ],
      "metadata": {
        "id": "Gh_n1clkLidE"
      },
      "execution_count": null,
      "outputs": []
    },
    {
      "cell_type": "code",
      "source": [
        "runSelect(\"select item, round(avg(price),2) Average_Price, orderdate from itemsordered where (to_char(orderdate, 'mm') = '12') group by item, orderdate\")"
      ],
      "metadata": {
        "colab": {
          "base_uri": "https://localhost:8080/",
          "height": 175
        },
        "id": "ZA79xgfaLoeE",
        "outputId": "9c66d1f4-4f17-43f5-c2e7-2e72f8d3492b"
      },
      "execution_count": null,
      "outputs": [
        {
          "output_type": "execute_result",
          "data": {
            "text/plain": [
              "<pandas.io.formats.style.Styler at 0x7cd6fcda9090>"
            ],
            "text/html": [
              "<style type=\"text/css\">\n",
              "</style>\n",
              "<table id=\"T_ceba8\" class=\"dataframe\">\n",
              "  <thead>\n",
              "    <tr>\n",
              "      <th id=\"T_ceba8_level0_col0\" class=\"col_heading level0 col0\" >item</th>\n",
              "      <th id=\"T_ceba8_level0_col1\" class=\"col_heading level0 col1\" >average_price</th>\n",
              "      <th id=\"T_ceba8_level0_col2\" class=\"col_heading level0 col2\" >orderdate</th>\n",
              "    </tr>\n",
              "  </thead>\n",
              "  <tbody>\n",
              "    <tr>\n",
              "      <td id=\"T_ceba8_row0_col0\" class=\"data row0 col0\" >Bicycle</td>\n",
              "      <td id=\"T_ceba8_row0_col1\" class=\"data row0 col1\" >380.50</td>\n",
              "      <td id=\"T_ceba8_row0_col2\" class=\"data row0 col2\" >1999-12-15</td>\n",
              "    </tr>\n",
              "    <tr>\n",
              "      <td id=\"T_ceba8_row1_col0\" class=\"data row1 col0\" >Canoe</td>\n",
              "      <td id=\"T_ceba8_row1_col1\" class=\"data row1 col1\" >280.00</td>\n",
              "      <td id=\"T_ceba8_row1_col2\" class=\"data row1 col2\" >1999-12-22</td>\n",
              "    </tr>\n",
              "    <tr>\n",
              "      <td id=\"T_ceba8_row2_col0\" class=\"data row2 col0\" >Helmet</td>\n",
              "      <td id=\"T_ceba8_row2_col1\" class=\"data row2 col1\" >22.00</td>\n",
              "      <td id=\"T_ceba8_row2_col2\" class=\"data row2 col2\" >1999-12-01</td>\n",
              "    </tr>\n",
              "    <tr>\n",
              "      <td id=\"T_ceba8_row3_col0\" class=\"data row3 col0\" >Hoola Hoop</td>\n",
              "      <td id=\"T_ceba8_row3_col1\" class=\"data row3 col1\" >14.75</td>\n",
              "      <td id=\"T_ceba8_row3_col2\" class=\"data row3 col2\" >1999-12-30</td>\n",
              "    </tr>\n",
              "  </tbody>\n",
              "</table>\n"
            ]
          },
          "metadata": {},
          "execution_count": 26
        }
      ]
    },
    {
      "cell_type": "code",
      "source": [
        "# 2.3 What are the total number of rows in the items_ordered table?"
      ],
      "metadata": {
        "id": "BILI9u7BOqrP"
      },
      "execution_count": null,
      "outputs": []
    },
    {
      "cell_type": "code",
      "source": [
        "runSelect(\"select count(*) from itemsordered\")"
      ],
      "metadata": {
        "colab": {
          "base_uri": "https://localhost:8080/",
          "height": 81
        },
        "id": "-oenR9UoOx3n",
        "outputId": "69347dfc-24d8-497e-b50a-6b9cc735b401"
      },
      "execution_count": null,
      "outputs": [
        {
          "output_type": "execute_result",
          "data": {
            "text/plain": [
              "<pandas.io.formats.style.Styler at 0x7cd734c96920>"
            ],
            "text/html": [
              "<style type=\"text/css\">\n",
              "</style>\n",
              "<table id=\"T_53322\" class=\"dataframe\">\n",
              "  <thead>\n",
              "    <tr>\n",
              "      <th id=\"T_53322_level0_col0\" class=\"col_heading level0 col0\" >count</th>\n",
              "    </tr>\n",
              "  </thead>\n",
              "  <tbody>\n",
              "    <tr>\n",
              "      <td id=\"T_53322_row0_col0\" class=\"data row0 col0\" >32</td>\n",
              "    </tr>\n",
              "  </tbody>\n",
              "</table>\n"
            ]
          },
          "metadata": {},
          "execution_count": 28
        }
      ]
    },
    {
      "cell_type": "code",
      "source": [
        "# 2.4 For all of the tents that were ordered in the items_ordered table, what is the price of the lowest tent? Hint: Your query should return the price only"
      ],
      "metadata": {
        "id": "cxzlTs28PGUK"
      },
      "execution_count": null,
      "outputs": []
    },
    {
      "cell_type": "code",
      "source": [
        "runSelect(\"select item, min(price) from itemsordered where item = 'Tent' group by item\")"
      ],
      "metadata": {
        "colab": {
          "base_uri": "https://localhost:8080/",
          "height": 81
        },
        "id": "ZyrbaZXYPONU",
        "outputId": "acd34a0b-cfb6-47fb-b063-f0a9c1d520ad"
      },
      "execution_count": null,
      "outputs": [
        {
          "output_type": "execute_result",
          "data": {
            "text/plain": [
              "<pandas.io.formats.style.Styler at 0x7cd6fcd0b970>"
            ],
            "text/html": [
              "<style type=\"text/css\">\n",
              "</style>\n",
              "<table id=\"T_46cec\" class=\"dataframe\">\n",
              "  <thead>\n",
              "    <tr>\n",
              "      <th id=\"T_46cec_level0_col0\" class=\"col_heading level0 col0\" >item</th>\n",
              "      <th id=\"T_46cec_level0_col1\" class=\"col_heading level0 col1\" >min</th>\n",
              "    </tr>\n",
              "  </thead>\n",
              "  <tbody>\n",
              "    <tr>\n",
              "      <td id=\"T_46cec_row0_col0\" class=\"data row0 col0\" >Tent</td>\n",
              "      <td id=\"T_46cec_row0_col1\" class=\"data row0 col1\" >79.99</td>\n",
              "    </tr>\n",
              "  </tbody>\n",
              "</table>\n"
            ]
          },
          "metadata": {},
          "execution_count": 30
        }
      ]
    },
    {
      "cell_type": "markdown",
      "source": [
        "#3) Groupby"
      ],
      "metadata": {
        "id": "Z3hWsP84QCHJ"
      }
    },
    {
      "cell_type": "code",
      "source": [
        "# 3.1 How many people are in each unique state in the customers table? Select the state and display the number of people in each. Hint: count is used to count rows in a column, sum works on numeric data only"
      ],
      "metadata": {
        "id": "MPCVACEFQF7C"
      },
      "execution_count": null,
      "outputs": []
    },
    {
      "cell_type": "code",
      "source": [
        "runSelect(\"select state, count(customerid) Customer_Count from customers group by state\")"
      ],
      "metadata": {
        "colab": {
          "base_uri": "https://localhost:8080/",
          "height": 331
        },
        "id": "k8Hlzkw5QcMq",
        "outputId": "1add0adc-fb19-4bbc-8596-76b63e3b7e27"
      },
      "execution_count": null,
      "outputs": [
        {
          "output_type": "execute_result",
          "data": {
            "text/plain": [
              "<pandas.io.formats.style.Styler at 0x7cd6fcb71120>"
            ],
            "text/html": [
              "<style type=\"text/css\">\n",
              "</style>\n",
              "<table id=\"T_28ae9\" class=\"dataframe\">\n",
              "  <thead>\n",
              "    <tr>\n",
              "      <th id=\"T_28ae9_level0_col0\" class=\"col_heading level0 col0\" >state</th>\n",
              "      <th id=\"T_28ae9_level0_col1\" class=\"col_heading level0 col1\" >customer_count</th>\n",
              "    </tr>\n",
              "  </thead>\n",
              "  <tbody>\n",
              "    <tr>\n",
              "      <td id=\"T_28ae9_row0_col0\" class=\"data row0 col0\" >South Carolina</td>\n",
              "      <td id=\"T_28ae9_row0_col1\" class=\"data row0 col1\" >1</td>\n",
              "    </tr>\n",
              "    <tr>\n",
              "      <td id=\"T_28ae9_row1_col0\" class=\"data row1 col0\" >Washington</td>\n",
              "      <td id=\"T_28ae9_row1_col1\" class=\"data row1 col1\" >2</td>\n",
              "    </tr>\n",
              "    <tr>\n",
              "      <td id=\"T_28ae9_row2_col0\" class=\"data row2 col0\" >Oregon</td>\n",
              "      <td id=\"T_28ae9_row2_col1\" class=\"data row2 col1\" >2</td>\n",
              "    </tr>\n",
              "    <tr>\n",
              "      <td id=\"T_28ae9_row3_col0\" class=\"data row3 col0\" >Idaho</td>\n",
              "      <td id=\"T_28ae9_row3_col1\" class=\"data row3 col1\" >1</td>\n",
              "    </tr>\n",
              "    <tr>\n",
              "      <td id=\"T_28ae9_row4_col0\" class=\"data row4 col0\" >Colorado</td>\n",
              "      <td id=\"T_28ae9_row4_col1\" class=\"data row4 col1\" >2</td>\n",
              "    </tr>\n",
              "    <tr>\n",
              "      <td id=\"T_28ae9_row5_col0\" class=\"data row5 col0\" >Hawaii</td>\n",
              "      <td id=\"T_28ae9_row5_col1\" class=\"data row5 col1\" >1</td>\n",
              "    </tr>\n",
              "    <tr>\n",
              "      <td id=\"T_28ae9_row6_col0\" class=\"data row6 col0\" >Arizona</td>\n",
              "      <td id=\"T_28ae9_row6_col1\" class=\"data row6 col1\" >6</td>\n",
              "    </tr>\n",
              "    <tr>\n",
              "      <td id=\"T_28ae9_row7_col0\" class=\"data row7 col0\" >North Carolina</td>\n",
              "      <td id=\"T_28ae9_row7_col1\" class=\"data row7 col1\" >1</td>\n",
              "    </tr>\n",
              "    <tr>\n",
              "      <td id=\"T_28ae9_row8_col0\" class=\"data row8 col0\" >Wisconsin</td>\n",
              "      <td id=\"T_28ae9_row8_col1\" class=\"data row8 col1\" >1</td>\n",
              "    </tr>\n",
              "  </tbody>\n",
              "</table>\n"
            ]
          },
          "metadata": {},
          "execution_count": 66
        }
      ]
    },
    {
      "cell_type": "code",
      "source": [
        "# 3.2 From the items_ordered table, select the item, maximum price, and minimum price for each specific item in the table. Hint: The items will need to be broken up into separate groups"
      ],
      "metadata": {
        "id": "gcPLT8x6SDn7"
      },
      "execution_count": null,
      "outputs": []
    },
    {
      "cell_type": "code",
      "source": [
        "runSelect(\"select item, max(price) Maximum_Price, min(price) Minimum_Price from itemsordered group by item\")"
      ],
      "metadata": {
        "colab": {
          "base_uri": "https://localhost:8080/",
          "height": 864
        },
        "id": "ODuZBWPXSOry",
        "outputId": "93acb6d7-9eea-4054-e86e-edd3a8b3bd90"
      },
      "execution_count": null,
      "outputs": [
        {
          "output_type": "execute_result",
          "data": {
            "text/plain": [
              "<pandas.io.formats.style.Styler at 0x7cd6fcb734c0>"
            ],
            "text/html": [
              "<style type=\"text/css\">\n",
              "</style>\n",
              "<table id=\"T_3dde9\" class=\"dataframe\">\n",
              "  <thead>\n",
              "    <tr>\n",
              "      <th id=\"T_3dde9_level0_col0\" class=\"col_heading level0 col0\" >item</th>\n",
              "      <th id=\"T_3dde9_level0_col1\" class=\"col_heading level0 col1\" >maximum_price</th>\n",
              "      <th id=\"T_3dde9_level0_col2\" class=\"col_heading level0 col2\" >minimum_price</th>\n",
              "    </tr>\n",
              "  </thead>\n",
              "  <tbody>\n",
              "    <tr>\n",
              "      <td id=\"T_3dde9_row0_col0\" class=\"data row0 col0\" >Parachute</td>\n",
              "      <td id=\"T_3dde9_row0_col1\" class=\"data row0 col1\" >1250.00</td>\n",
              "      <td id=\"T_3dde9_row0_col2\" class=\"data row0 col2\" >1250.00</td>\n",
              "    </tr>\n",
              "    <tr>\n",
              "      <td id=\"T_3dde9_row1_col0\" class=\"data row1 col0\" >Canoe</td>\n",
              "      <td id=\"T_3dde9_row1_col1\" class=\"data row1 col1\" >280.00</td>\n",
              "      <td id=\"T_3dde9_row1_col2\" class=\"data row1 col2\" >280.00</td>\n",
              "    </tr>\n",
              "    <tr>\n",
              "      <td id=\"T_3dde9_row2_col0\" class=\"data row2 col0\" >Flashlight</td>\n",
              "      <td id=\"T_3dde9_row2_col1\" class=\"data row2 col1\" >28.00</td>\n",
              "      <td id=\"T_3dde9_row2_col2\" class=\"data row2 col2\" >4.50</td>\n",
              "    </tr>\n",
              "    <tr>\n",
              "      <td id=\"T_3dde9_row3_col0\" class=\"data row3 col0\" >Shovel</td>\n",
              "      <td id=\"T_3dde9_row3_col1\" class=\"data row3 col1\" >16.75</td>\n",
              "      <td id=\"T_3dde9_row3_col2\" class=\"data row3 col2\" >16.75</td>\n",
              "    </tr>\n",
              "    <tr>\n",
              "      <td id=\"T_3dde9_row4_col0\" class=\"data row4 col0\" >Umbrella</td>\n",
              "      <td id=\"T_3dde9_row4_col1\" class=\"data row4 col1\" >6.75</td>\n",
              "      <td id=\"T_3dde9_row4_col2\" class=\"data row4 col2\" >4.50</td>\n",
              "    </tr>\n",
              "    <tr>\n",
              "      <td id=\"T_3dde9_row5_col0\" class=\"data row5 col0\" >Ear Muffs</td>\n",
              "      <td id=\"T_3dde9_row5_col1\" class=\"data row5 col1\" >12.50</td>\n",
              "      <td id=\"T_3dde9_row5_col2\" class=\"data row5 col2\" >12.50</td>\n",
              "    </tr>\n",
              "    <tr>\n",
              "      <td id=\"T_3dde9_row6_col0\" class=\"data row6 col0\" >Inflatable Mattress</td>\n",
              "      <td id=\"T_3dde9_row6_col1\" class=\"data row6 col1\" >38.00</td>\n",
              "      <td id=\"T_3dde9_row6_col2\" class=\"data row6 col2\" >38.00</td>\n",
              "    </tr>\n",
              "    <tr>\n",
              "      <td id=\"T_3dde9_row7_col0\" class=\"data row7 col0\" >Ski Poles</td>\n",
              "      <td id=\"T_3dde9_row7_col1\" class=\"data row7 col1\" >25.50</td>\n",
              "      <td id=\"T_3dde9_row7_col2\" class=\"data row7 col2\" >25.50</td>\n",
              "    </tr>\n",
              "    <tr>\n",
              "      <td id=\"T_3dde9_row8_col0\" class=\"data row8 col0\" >Life Vest</td>\n",
              "      <td id=\"T_3dde9_row8_col1\" class=\"data row8 col1\" >125.00</td>\n",
              "      <td id=\"T_3dde9_row8_col2\" class=\"data row8 col2\" >125.00</td>\n",
              "    </tr>\n",
              "    <tr>\n",
              "      <td id=\"T_3dde9_row9_col0\" class=\"data row9 col0\" >Skateboard</td>\n",
              "      <td id=\"T_3dde9_row9_col1\" class=\"data row9 col1\" >33.00</td>\n",
              "      <td id=\"T_3dde9_row9_col2\" class=\"data row9 col2\" >33.00</td>\n",
              "    </tr>\n",
              "    <tr>\n",
              "      <td id=\"T_3dde9_row10_col0\" class=\"data row10 col0\" >Tent</td>\n",
              "      <td id=\"T_3dde9_row10_col1\" class=\"data row10 col1\" >88.00</td>\n",
              "      <td id=\"T_3dde9_row10_col2\" class=\"data row10 col2\" >79.99</td>\n",
              "    </tr>\n",
              "    <tr>\n",
              "      <td id=\"T_3dde9_row11_col0\" class=\"data row11 col0\" >Pogo stick</td>\n",
              "      <td id=\"T_3dde9_row11_col1\" class=\"data row11 col1\" >28.00</td>\n",
              "      <td id=\"T_3dde9_row11_col2\" class=\"data row11 col2\" >28.00</td>\n",
              "    </tr>\n",
              "    <tr>\n",
              "      <td id=\"T_3dde9_row12_col0\" class=\"data row12 col0\" >Snow Shoes</td>\n",
              "      <td id=\"T_3dde9_row12_col1\" class=\"data row12 col1\" >45.00</td>\n",
              "      <td id=\"T_3dde9_row12_col2\" class=\"data row12 col2\" >45.00</td>\n",
              "    </tr>\n",
              "    <tr>\n",
              "      <td id=\"T_3dde9_row13_col0\" class=\"data row13 col0\" >Helmet</td>\n",
              "      <td id=\"T_3dde9_row13_col1\" class=\"data row13 col1\" >22.00</td>\n",
              "      <td id=\"T_3dde9_row13_col2\" class=\"data row13 col2\" >22.00</td>\n",
              "    </tr>\n",
              "    <tr>\n",
              "      <td id=\"T_3dde9_row14_col0\" class=\"data row14 col0\" >Bicycle</td>\n",
              "      <td id=\"T_3dde9_row14_col1\" class=\"data row14 col1\" >380.50</td>\n",
              "      <td id=\"T_3dde9_row14_col2\" class=\"data row14 col2\" >380.50</td>\n",
              "    </tr>\n",
              "    <tr>\n",
              "      <td id=\"T_3dde9_row15_col0\" class=\"data row15 col0\" >Lantern</td>\n",
              "      <td id=\"T_3dde9_row15_col1\" class=\"data row15 col1\" >29.00</td>\n",
              "      <td id=\"T_3dde9_row15_col2\" class=\"data row15 col2\" >16.00</td>\n",
              "    </tr>\n",
              "    <tr>\n",
              "      <td id=\"T_3dde9_row16_col0\" class=\"data row16 col0\" >Lawnchair</td>\n",
              "      <td id=\"T_3dde9_row16_col1\" class=\"data row16 col1\" >32.00</td>\n",
              "      <td id=\"T_3dde9_row16_col2\" class=\"data row16 col2\" >32.00</td>\n",
              "    </tr>\n",
              "    <tr>\n",
              "      <td id=\"T_3dde9_row17_col0\" class=\"data row17 col0\" >Raft</td>\n",
              "      <td id=\"T_3dde9_row17_col1\" class=\"data row17 col1\" >58.00</td>\n",
              "      <td id=\"T_3dde9_row17_col2\" class=\"data row17 col2\" >58.00</td>\n",
              "    </tr>\n",
              "    <tr>\n",
              "      <td id=\"T_3dde9_row18_col0\" class=\"data row18 col0\" >Sleeping Bag</td>\n",
              "      <td id=\"T_3dde9_row18_col1\" class=\"data row18 col1\" >89.22</td>\n",
              "      <td id=\"T_3dde9_row18_col2\" class=\"data row18 col2\" >88.70</td>\n",
              "    </tr>\n",
              "    <tr>\n",
              "      <td id=\"T_3dde9_row19_col0\" class=\"data row19 col0\" >Rain Coat</td>\n",
              "      <td id=\"T_3dde9_row19_col1\" class=\"data row19 col1\" >18.30</td>\n",
              "      <td id=\"T_3dde9_row19_col2\" class=\"data row19 col2\" >18.30</td>\n",
              "    </tr>\n",
              "    <tr>\n",
              "      <td id=\"T_3dde9_row20_col0\" class=\"data row20 col0\" >Canoe paddle</td>\n",
              "      <td id=\"T_3dde9_row20_col1\" class=\"data row20 col1\" >40.00</td>\n",
              "      <td id=\"T_3dde9_row20_col2\" class=\"data row20 col2\" >40.00</td>\n",
              "    </tr>\n",
              "    <tr>\n",
              "      <td id=\"T_3dde9_row21_col0\" class=\"data row21 col0\" >Compass</td>\n",
              "      <td id=\"T_3dde9_row21_col1\" class=\"data row21 col1\" >8.00</td>\n",
              "      <td id=\"T_3dde9_row21_col2\" class=\"data row21 col2\" >8.00</td>\n",
              "    </tr>\n",
              "    <tr>\n",
              "      <td id=\"T_3dde9_row22_col0\" class=\"data row22 col0\" >Unicycle</td>\n",
              "      <td id=\"T_3dde9_row22_col1\" class=\"data row22 col1\" >192.50</td>\n",
              "      <td id=\"T_3dde9_row22_col2\" class=\"data row22 col2\" >180.79</td>\n",
              "    </tr>\n",
              "    <tr>\n",
              "      <td id=\"T_3dde9_row23_col0\" class=\"data row23 col0\" >Hoola Hoop</td>\n",
              "      <td id=\"T_3dde9_row23_col1\" class=\"data row23 col1\" >14.75</td>\n",
              "      <td id=\"T_3dde9_row23_col2\" class=\"data row23 col2\" >14.75</td>\n",
              "    </tr>\n",
              "    <tr>\n",
              "      <td id=\"T_3dde9_row24_col0\" class=\"data row24 col0\" >Pillow</td>\n",
              "      <td id=\"T_3dde9_row24_col1\" class=\"data row24 col1\" >8.50</td>\n",
              "      <td id=\"T_3dde9_row24_col2\" class=\"data row24 col2\" >8.50</td>\n",
              "    </tr>\n",
              "    <tr>\n",
              "      <td id=\"T_3dde9_row25_col0\" class=\"data row25 col0\" >Pocket Knife</td>\n",
              "      <td id=\"T_3dde9_row25_col1\" class=\"data row25 col1\" >22.38</td>\n",
              "      <td id=\"T_3dde9_row25_col2\" class=\"data row25 col2\" >22.38</td>\n",
              "    </tr>\n",
              "  </tbody>\n",
              "</table>\n"
            ]
          },
          "metadata": {},
          "execution_count": 67
        }
      ]
    },
    {
      "cell_type": "code",
      "source": [
        "# 3.3 How many orders did each customer make? Use the items_ordered table. Select the customerid, number of orders they made, and the sum of their orders. Click the Group By answers link below if you have any problems"
      ],
      "metadata": {
        "id": "vSFDKwHsSkW3"
      },
      "execution_count": null,
      "outputs": []
    },
    {
      "cell_type": "code",
      "source": [
        "runSelect(\"select customerid, count(quantity) as no_of_orders, sum(quantity) total_quantity from itemsordered group by customerid\")"
      ],
      "metadata": {
        "colab": {
          "base_uri": "https://localhost:8080/",
          "height": 394
        },
        "id": "hCIudDLqS_xg",
        "outputId": "c122ffb5-2570-44a1-9c3e-85ff7d2a735a"
      },
      "execution_count": null,
      "outputs": [
        {
          "output_type": "execute_result",
          "data": {
            "text/plain": [
              "<pandas.io.formats.style.Styler at 0x7cd6fcda9a50>"
            ],
            "text/html": [
              "<style type=\"text/css\">\n",
              "</style>\n",
              "<table id=\"T_11de9\" class=\"dataframe\">\n",
              "  <thead>\n",
              "    <tr>\n",
              "      <th id=\"T_11de9_level0_col0\" class=\"col_heading level0 col0\" >customerid</th>\n",
              "      <th id=\"T_11de9_level0_col1\" class=\"col_heading level0 col1\" >no_of_orders</th>\n",
              "      <th id=\"T_11de9_level0_col2\" class=\"col_heading level0 col2\" >total_quantity</th>\n",
              "    </tr>\n",
              "  </thead>\n",
              "  <tbody>\n",
              "    <tr>\n",
              "      <td id=\"T_11de9_row0_col0\" class=\"data row0 col0\" >10299</td>\n",
              "      <td id=\"T_11de9_row0_col1\" class=\"data row0 col1\" >2</td>\n",
              "      <td id=\"T_11de9_row0_col2\" class=\"data row0 col2\" >2</td>\n",
              "    </tr>\n",
              "    <tr>\n",
              "      <td id=\"T_11de9_row1_col0\" class=\"data row1 col0\" >10410</td>\n",
              "      <td id=\"T_11de9_row1_col1\" class=\"data row1 col1\" >2</td>\n",
              "      <td id=\"T_11de9_row1_col2\" class=\"data row1 col2\" >2</td>\n",
              "    </tr>\n",
              "    <tr>\n",
              "      <td id=\"T_11de9_row2_col0\" class=\"data row2 col0\" >10339</td>\n",
              "      <td id=\"T_11de9_row2_col1\" class=\"data row2 col1\" >1</td>\n",
              "      <td id=\"T_11de9_row2_col2\" class=\"data row2 col2\" >1</td>\n",
              "    </tr>\n",
              "    <tr>\n",
              "      <td id=\"T_11de9_row3_col0\" class=\"data row3 col0\" >10298</td>\n",
              "      <td id=\"T_11de9_row3_col1\" class=\"data row3 col1\" >5</td>\n",
              "      <td id=\"T_11de9_row3_col2\" class=\"data row3 col2\" >6</td>\n",
              "    </tr>\n",
              "    <tr>\n",
              "      <td id=\"T_11de9_row4_col0\" class=\"data row4 col0\" >10330</td>\n",
              "      <td id=\"T_11de9_row4_col1\" class=\"data row4 col1\" >3</td>\n",
              "      <td id=\"T_11de9_row4_col2\" class=\"data row4 col2\" >6</td>\n",
              "    </tr>\n",
              "    <tr>\n",
              "      <td id=\"T_11de9_row5_col0\" class=\"data row5 col0\" >10438</td>\n",
              "      <td id=\"T_11de9_row5_col1\" class=\"data row5 col1\" >3</td>\n",
              "      <td id=\"T_11de9_row5_col2\" class=\"data row5 col2\" >3</td>\n",
              "    </tr>\n",
              "    <tr>\n",
              "      <td id=\"T_11de9_row6_col0\" class=\"data row6 col0\" >10413</td>\n",
              "      <td id=\"T_11de9_row6_col1\" class=\"data row6 col1\" >1</td>\n",
              "      <td id=\"T_11de9_row6_col2\" class=\"data row6 col2\" >4</td>\n",
              "    </tr>\n",
              "    <tr>\n",
              "      <td id=\"T_11de9_row7_col0\" class=\"data row7 col0\" >10439</td>\n",
              "      <td id=\"T_11de9_row7_col1\" class=\"data row7 col1\" >2</td>\n",
              "      <td id=\"T_11de9_row7_col2\" class=\"data row7 col2\" >3</td>\n",
              "    </tr>\n",
              "    <tr>\n",
              "      <td id=\"T_11de9_row8_col0\" class=\"data row8 col0\" >10101</td>\n",
              "      <td id=\"T_11de9_row8_col1\" class=\"data row8 col1\" >6</td>\n",
              "      <td id=\"T_11de9_row8_col2\" class=\"data row8 col2\" >12</td>\n",
              "    </tr>\n",
              "    <tr>\n",
              "      <td id=\"T_11de9_row9_col0\" class=\"data row9 col0\" >10449</td>\n",
              "      <td id=\"T_11de9_row9_col1\" class=\"data row9 col1\" >6</td>\n",
              "      <td id=\"T_11de9_row9_col2\" class=\"data row9 col2\" >7</td>\n",
              "    </tr>\n",
              "    <tr>\n",
              "      <td id=\"T_11de9_row10_col0\" class=\"data row10 col0\" >10315</td>\n",
              "      <td id=\"T_11de9_row10_col1\" class=\"data row10 col1\" >1</td>\n",
              "      <td id=\"T_11de9_row10_col2\" class=\"data row10 col2\" >1</td>\n",
              "    </tr>\n",
              "  </tbody>\n",
              "</table>\n"
            ]
          },
          "metadata": {},
          "execution_count": 69
        }
      ]
    },
    {
      "cell_type": "markdown",
      "source": [
        "# 4) Having Clause"
      ],
      "metadata": {
        "id": "HCCCdstIT6MO"
      }
    },
    {
      "cell_type": "code",
      "source": [
        "# 4.1 How many people are in each unique state in the customers table that have more than one person in the state? Select the state and display the number of how many people are in each if it’s greater than 1."
      ],
      "metadata": {
        "id": "ciUrrFgIT_RD"
      },
      "execution_count": null,
      "outputs": []
    },
    {
      "cell_type": "code",
      "source": [
        "runSelect(\"select distinct(state), count(customerid) no_of_customers from customers group by state having count(customerid) > 1\")"
      ],
      "metadata": {
        "colab": {
          "base_uri": "https://localhost:8080/",
          "height": 175
        },
        "id": "1se11WJDUIgL",
        "outputId": "67b56d08-87ee-499b-a7c6-e349d78c0b69"
      },
      "execution_count": null,
      "outputs": [
        {
          "output_type": "execute_result",
          "data": {
            "text/plain": [
              "<pandas.io.formats.style.Styler at 0x7cd734c96fe0>"
            ],
            "text/html": [
              "<style type=\"text/css\">\n",
              "</style>\n",
              "<table id=\"T_b2af6\" class=\"dataframe\">\n",
              "  <thead>\n",
              "    <tr>\n",
              "      <th id=\"T_b2af6_level0_col0\" class=\"col_heading level0 col0\" >state</th>\n",
              "      <th id=\"T_b2af6_level0_col1\" class=\"col_heading level0 col1\" >no_of_customers</th>\n",
              "    </tr>\n",
              "  </thead>\n",
              "  <tbody>\n",
              "    <tr>\n",
              "      <td id=\"T_b2af6_row0_col0\" class=\"data row0 col0\" >Arizona</td>\n",
              "      <td id=\"T_b2af6_row0_col1\" class=\"data row0 col1\" >6</td>\n",
              "    </tr>\n",
              "    <tr>\n",
              "      <td id=\"T_b2af6_row1_col0\" class=\"data row1 col0\" >Colorado</td>\n",
              "      <td id=\"T_b2af6_row1_col1\" class=\"data row1 col1\" >2</td>\n",
              "    </tr>\n",
              "    <tr>\n",
              "      <td id=\"T_b2af6_row2_col0\" class=\"data row2 col0\" >Washington</td>\n",
              "      <td id=\"T_b2af6_row2_col1\" class=\"data row2 col1\" >2</td>\n",
              "    </tr>\n",
              "    <tr>\n",
              "      <td id=\"T_b2af6_row3_col0\" class=\"data row3 col0\" >Oregon</td>\n",
              "      <td id=\"T_b2af6_row3_col1\" class=\"data row3 col1\" >2</td>\n",
              "    </tr>\n",
              "  </tbody>\n",
              "</table>\n"
            ]
          },
          "metadata": {},
          "execution_count": 70
        }
      ]
    },
    {
      "cell_type": "code",
      "source": [
        "# 4.2 From the items_ordered table, select the item, maximum price, and minimum price for each specific item in the table. Only display the results if the maximum price for one of the items is greater than 190.00"
      ],
      "metadata": {
        "id": "zGnCDWbyUq11"
      },
      "execution_count": null,
      "outputs": []
    },
    {
      "cell_type": "code",
      "source": [
        "runSelect(\"select item, max(price) Maximum_price, min(price) Minimum_price from itemsordered group by item having max(price) > 190.00\")"
      ],
      "metadata": {
        "colab": {
          "base_uri": "https://localhost:8080/",
          "height": 175
        },
        "id": "A9a_T-X4Uy65",
        "outputId": "7719585c-cae4-4b6b-801a-676b895862df"
      },
      "execution_count": null,
      "outputs": [
        {
          "output_type": "execute_result",
          "data": {
            "text/plain": [
              "<pandas.io.formats.style.Styler at 0x7cd734c96f50>"
            ],
            "text/html": [
              "<style type=\"text/css\">\n",
              "</style>\n",
              "<table id=\"T_49eb3\" class=\"dataframe\">\n",
              "  <thead>\n",
              "    <tr>\n",
              "      <th id=\"T_49eb3_level0_col0\" class=\"col_heading level0 col0\" >item</th>\n",
              "      <th id=\"T_49eb3_level0_col1\" class=\"col_heading level0 col1\" >maximum_price</th>\n",
              "      <th id=\"T_49eb3_level0_col2\" class=\"col_heading level0 col2\" >minimum_price</th>\n",
              "    </tr>\n",
              "  </thead>\n",
              "  <tbody>\n",
              "    <tr>\n",
              "      <td id=\"T_49eb3_row0_col0\" class=\"data row0 col0\" >Parachute</td>\n",
              "      <td id=\"T_49eb3_row0_col1\" class=\"data row0 col1\" >1250.00</td>\n",
              "      <td id=\"T_49eb3_row0_col2\" class=\"data row0 col2\" >1250.00</td>\n",
              "    </tr>\n",
              "    <tr>\n",
              "      <td id=\"T_49eb3_row1_col0\" class=\"data row1 col0\" >Canoe</td>\n",
              "      <td id=\"T_49eb3_row1_col1\" class=\"data row1 col1\" >280.00</td>\n",
              "      <td id=\"T_49eb3_row1_col2\" class=\"data row1 col2\" >280.00</td>\n",
              "    </tr>\n",
              "    <tr>\n",
              "      <td id=\"T_49eb3_row2_col0\" class=\"data row2 col0\" >Bicycle</td>\n",
              "      <td id=\"T_49eb3_row2_col1\" class=\"data row2 col1\" >380.50</td>\n",
              "      <td id=\"T_49eb3_row2_col2\" class=\"data row2 col2\" >380.50</td>\n",
              "    </tr>\n",
              "    <tr>\n",
              "      <td id=\"T_49eb3_row3_col0\" class=\"data row3 col0\" >Unicycle</td>\n",
              "      <td id=\"T_49eb3_row3_col1\" class=\"data row3 col1\" >192.50</td>\n",
              "      <td id=\"T_49eb3_row3_col2\" class=\"data row3 col2\" >180.79</td>\n",
              "    </tr>\n",
              "  </tbody>\n",
              "</table>\n"
            ]
          },
          "metadata": {},
          "execution_count": 71
        }
      ]
    },
    {
      "cell_type": "code",
      "source": [
        "# 4.3 How many orders did each customer make? Use the items_ordered table. Select the customerid, number of orders they made, and the sum of their orders if they purchased more than 1 item."
      ],
      "metadata": {
        "id": "MLp7oP6SVZhR"
      },
      "execution_count": null,
      "outputs": []
    },
    {
      "cell_type": "code",
      "source": [
        "runSelect(\"select customerid, count(quantity) no_of_orders, sum(quantity) sum_of_orders from itemsordered group by customerid having sum(quantity) > 1\")"
      ],
      "metadata": {
        "colab": {
          "base_uri": "https://localhost:8080/",
          "height": 331
        },
        "id": "SM_afnacVlBA",
        "outputId": "39dede5d-8f3b-418f-d338-6b581f49af9f"
      },
      "execution_count": null,
      "outputs": [
        {
          "output_type": "execute_result",
          "data": {
            "text/plain": [
              "<pandas.io.formats.style.Styler at 0x7cd6fcd0a5f0>"
            ],
            "text/html": [
              "<style type=\"text/css\">\n",
              "</style>\n",
              "<table id=\"T_6fd03\" class=\"dataframe\">\n",
              "  <thead>\n",
              "    <tr>\n",
              "      <th id=\"T_6fd03_level0_col0\" class=\"col_heading level0 col0\" >customerid</th>\n",
              "      <th id=\"T_6fd03_level0_col1\" class=\"col_heading level0 col1\" >no_of_orders</th>\n",
              "      <th id=\"T_6fd03_level0_col2\" class=\"col_heading level0 col2\" >sum_of_orders</th>\n",
              "    </tr>\n",
              "  </thead>\n",
              "  <tbody>\n",
              "    <tr>\n",
              "      <td id=\"T_6fd03_row0_col0\" class=\"data row0 col0\" >10299</td>\n",
              "      <td id=\"T_6fd03_row0_col1\" class=\"data row0 col1\" >2</td>\n",
              "      <td id=\"T_6fd03_row0_col2\" class=\"data row0 col2\" >2</td>\n",
              "    </tr>\n",
              "    <tr>\n",
              "      <td id=\"T_6fd03_row1_col0\" class=\"data row1 col0\" >10410</td>\n",
              "      <td id=\"T_6fd03_row1_col1\" class=\"data row1 col1\" >2</td>\n",
              "      <td id=\"T_6fd03_row1_col2\" class=\"data row1 col2\" >2</td>\n",
              "    </tr>\n",
              "    <tr>\n",
              "      <td id=\"T_6fd03_row2_col0\" class=\"data row2 col0\" >10298</td>\n",
              "      <td id=\"T_6fd03_row2_col1\" class=\"data row2 col1\" >5</td>\n",
              "      <td id=\"T_6fd03_row2_col2\" class=\"data row2 col2\" >6</td>\n",
              "    </tr>\n",
              "    <tr>\n",
              "      <td id=\"T_6fd03_row3_col0\" class=\"data row3 col0\" >10330</td>\n",
              "      <td id=\"T_6fd03_row3_col1\" class=\"data row3 col1\" >3</td>\n",
              "      <td id=\"T_6fd03_row3_col2\" class=\"data row3 col2\" >6</td>\n",
              "    </tr>\n",
              "    <tr>\n",
              "      <td id=\"T_6fd03_row4_col0\" class=\"data row4 col0\" >10438</td>\n",
              "      <td id=\"T_6fd03_row4_col1\" class=\"data row4 col1\" >3</td>\n",
              "      <td id=\"T_6fd03_row4_col2\" class=\"data row4 col2\" >3</td>\n",
              "    </tr>\n",
              "    <tr>\n",
              "      <td id=\"T_6fd03_row5_col0\" class=\"data row5 col0\" >10413</td>\n",
              "      <td id=\"T_6fd03_row5_col1\" class=\"data row5 col1\" >1</td>\n",
              "      <td id=\"T_6fd03_row5_col2\" class=\"data row5 col2\" >4</td>\n",
              "    </tr>\n",
              "    <tr>\n",
              "      <td id=\"T_6fd03_row6_col0\" class=\"data row6 col0\" >10439</td>\n",
              "      <td id=\"T_6fd03_row6_col1\" class=\"data row6 col1\" >2</td>\n",
              "      <td id=\"T_6fd03_row6_col2\" class=\"data row6 col2\" >3</td>\n",
              "    </tr>\n",
              "    <tr>\n",
              "      <td id=\"T_6fd03_row7_col0\" class=\"data row7 col0\" >10101</td>\n",
              "      <td id=\"T_6fd03_row7_col1\" class=\"data row7 col1\" >6</td>\n",
              "      <td id=\"T_6fd03_row7_col2\" class=\"data row7 col2\" >12</td>\n",
              "    </tr>\n",
              "    <tr>\n",
              "      <td id=\"T_6fd03_row8_col0\" class=\"data row8 col0\" >10449</td>\n",
              "      <td id=\"T_6fd03_row8_col1\" class=\"data row8 col1\" >6</td>\n",
              "      <td id=\"T_6fd03_row8_col2\" class=\"data row8 col2\" >7</td>\n",
              "    </tr>\n",
              "  </tbody>\n",
              "</table>\n"
            ]
          },
          "metadata": {},
          "execution_count": 72
        }
      ]
    },
    {
      "cell_type": "markdown",
      "source": [
        "# 5) Orderby Clause"
      ],
      "metadata": {
        "id": "xJqGw4kIVvWK"
      }
    },
    {
      "cell_type": "code",
      "source": [
        "# 5.1 Select the lastname, firstname, and city for all customers in the customers table. Display the results in Ascending Order based on the lastname."
      ],
      "metadata": {
        "id": "S4Dvja1DV5dZ"
      },
      "execution_count": null,
      "outputs": []
    },
    {
      "cell_type": "code",
      "source": [
        "runSelect(\"select lastname, firstname, city from customers order by lastname\")"
      ],
      "metadata": {
        "colab": {
          "base_uri": "https://localhost:8080/",
          "height": 582
        },
        "id": "OZyjCQ02WBC6",
        "outputId": "a6d739ec-6ef8-4b40-ce61-5b376f867db2"
      },
      "execution_count": null,
      "outputs": [
        {
          "output_type": "execute_result",
          "data": {
            "text/plain": [
              "<pandas.io.formats.style.Styler at 0x7cd6fcd501c0>"
            ],
            "text/html": [
              "<style type=\"text/css\">\n",
              "</style>\n",
              "<table id=\"T_32222\" class=\"dataframe\">\n",
              "  <thead>\n",
              "    <tr>\n",
              "      <th id=\"T_32222_level0_col0\" class=\"col_heading level0 col0\" >lastname</th>\n",
              "      <th id=\"T_32222_level0_col1\" class=\"col_heading level0 col1\" >firstname</th>\n",
              "      <th id=\"T_32222_level0_col2\" class=\"col_heading level0 col2\" >city</th>\n",
              "    </tr>\n",
              "  </thead>\n",
              "  <tbody>\n",
              "    <tr>\n",
              "      <td id=\"T_32222_row0_col0\" class=\"data row0 col0\" >Brown</td>\n",
              "      <td id=\"T_32222_row0_col1\" class=\"data row0 col1\" >Leroy</td>\n",
              "      <td id=\"T_32222_row0_col2\" class=\"data row0 col2\" >Pinetop</td>\n",
              "    </tr>\n",
              "    <tr>\n",
              "      <td id=\"T_32222_row1_col0\" class=\"data row1 col0\" >Cleaver</td>\n",
              "      <td id=\"T_32222_row1_col1\" class=\"data row1 col1\" >Elroy</td>\n",
              "      <td id=\"T_32222_row1_col2\" class=\"data row1 col2\" >Globe</td>\n",
              "    </tr>\n",
              "    <tr>\n",
              "      <td id=\"T_32222_row2_col0\" class=\"data row2 col0\" >Dalton</td>\n",
              "      <td id=\"T_32222_row2_col1\" class=\"data row2 col1\" >Shawn</td>\n",
              "      <td id=\"T_32222_row2_col2\" class=\"data row2 col2\" >Cannon Beach</td>\n",
              "    </tr>\n",
              "    <tr>\n",
              "      <td id=\"T_32222_row3_col0\" class=\"data row3 col0\" >Davids</td>\n",
              "      <td id=\"T_32222_row3_col1\" class=\"data row3 col1\" >Donald</td>\n",
              "      <td id=\"T_32222_row3_col2\" class=\"data row3 col2\" >Gila Bend</td>\n",
              "    </tr>\n",
              "    <tr>\n",
              "      <td id=\"T_32222_row4_col0\" class=\"data row4 col0\" >Giles</td>\n",
              "      <td id=\"T_32222_row4_col1\" class=\"data row4 col1\" >Conrad</td>\n",
              "      <td id=\"T_32222_row4_col2\" class=\"data row4 col2\" >Telluride</td>\n",
              "    </tr>\n",
              "    <tr>\n",
              "      <td id=\"T_32222_row5_col0\" class=\"data row5 col0\" >Graham</td>\n",
              "      <td id=\"T_32222_row5_col1\" class=\"data row5 col1\" >Sarah</td>\n",
              "      <td id=\"T_32222_row5_col2\" class=\"data row5 col2\" >Greensboro</td>\n",
              "    </tr>\n",
              "    <tr>\n",
              "      <td id=\"T_32222_row6_col0\" class=\"data row6 col0\" >Gray</td>\n",
              "      <td id=\"T_32222_row6_col1\" class=\"data row6 col1\" >John</td>\n",
              "      <td id=\"T_32222_row6_col2\" class=\"data row6 col2\" >Lynden</td>\n",
              "    </tr>\n",
              "    <tr>\n",
              "      <td id=\"T_32222_row7_col0\" class=\"data row7 col0\" >Howell</td>\n",
              "      <td id=\"T_32222_row7_col1\" class=\"data row7 col1\" >Michael</td>\n",
              "      <td id=\"T_32222_row7_col2\" class=\"data row7 col2\" >Tillamook</td>\n",
              "    </tr>\n",
              "    <tr>\n",
              "      <td id=\"T_32222_row8_col0\" class=\"data row8 col0\" >Howell</td>\n",
              "      <td id=\"T_32222_row8_col1\" class=\"data row8 col1\" >Mary Ann</td>\n",
              "      <td id=\"T_32222_row8_col2\" class=\"data row8 col2\" >Charleston</td>\n",
              "    </tr>\n",
              "    <tr>\n",
              "      <td id=\"T_32222_row9_col0\" class=\"data row9 col0\" >Jones</td>\n",
              "      <td id=\"T_32222_row9_col1\" class=\"data row9 col1\" >Lisa</td>\n",
              "      <td id=\"T_32222_row9_col2\" class=\"data row9 col2\" >Oshkosh</td>\n",
              "    </tr>\n",
              "    <tr>\n",
              "      <td id=\"T_32222_row10_col0\" class=\"data row10 col0\" >Keller</td>\n",
              "      <td id=\"T_32222_row10_col1\" class=\"data row10 col1\" >Elroy</td>\n",
              "      <td id=\"T_32222_row10_col2\" class=\"data row10 col2\" >Snoqualmie</td>\n",
              "    </tr>\n",
              "    <tr>\n",
              "      <td id=\"T_32222_row11_col0\" class=\"data row11 col0\" >Mendoza</td>\n",
              "      <td id=\"T_32222_row11_col1\" class=\"data row11 col1\" >Kelly</td>\n",
              "      <td id=\"T_32222_row11_col2\" class=\"data row11 col2\" >Kailua</td>\n",
              "    </tr>\n",
              "    <tr>\n",
              "      <td id=\"T_32222_row12_col0\" class=\"data row12 col0\" >Moore</td>\n",
              "      <td id=\"T_32222_row12_col1\" class=\"data row12 col1\" >Isabela</td>\n",
              "      <td id=\"T_32222_row12_col2\" class=\"data row12 col2\" >Yuma</td>\n",
              "    </tr>\n",
              "    <tr>\n",
              "      <td id=\"T_32222_row13_col0\" class=\"data row13 col0\" >Sakahara</td>\n",
              "      <td id=\"T_32222_row13_col1\" class=\"data row13 col1\" >Linda</td>\n",
              "      <td id=\"T_32222_row13_col2\" class=\"data row13 col2\" >Nogales</td>\n",
              "    </tr>\n",
              "    <tr>\n",
              "      <td id=\"T_32222_row14_col0\" class=\"data row14 col0\" >Sanchez</td>\n",
              "      <td id=\"T_32222_row14_col1\" class=\"data row14 col1\" >Anthony</td>\n",
              "      <td id=\"T_32222_row14_col2\" class=\"data row14 col2\" >Winslow</td>\n",
              "    </tr>\n",
              "    <tr>\n",
              "      <td id=\"T_32222_row15_col0\" class=\"data row15 col0\" >Schultz</td>\n",
              "      <td id=\"T_32222_row15_col1\" class=\"data row15 col1\" >Ginger</td>\n",
              "      <td id=\"T_32222_row15_col2\" class=\"data row15 col2\" >Pocatello</td>\n",
              "    </tr>\n",
              "    <tr>\n",
              "      <td id=\"T_32222_row16_col0\" class=\"data row16 col0\" >Smith</td>\n",
              "      <td id=\"T_32222_row16_col1\" class=\"data row16 col1\" >Kevin</td>\n",
              "      <td id=\"T_32222_row16_col2\" class=\"data row16 col2\" >Durango</td>\n",
              "    </tr>\n",
              "  </tbody>\n",
              "</table>\n"
            ]
          },
          "metadata": {},
          "execution_count": 44
        }
      ]
    },
    {
      "cell_type": "code",
      "source": [
        "# 5.2 Same thing as exercise #1, but display the results in Descending order."
      ],
      "metadata": {
        "id": "cFi9rvYYWV6G"
      },
      "execution_count": null,
      "outputs": []
    },
    {
      "cell_type": "code",
      "source": [
        "runSelect(\"select lastname, firstname, city from customers order by lastname desc\")"
      ],
      "metadata": {
        "colab": {
          "base_uri": "https://localhost:8080/",
          "height": 582
        },
        "id": "4pqEb1Q9WhB0",
        "outputId": "3cc0238a-91e3-4d1b-971d-51eff5521698"
      },
      "execution_count": null,
      "outputs": [
        {
          "output_type": "execute_result",
          "data": {
            "text/plain": [
              "<pandas.io.formats.style.Styler at 0x7cd6fcd536d0>"
            ],
            "text/html": [
              "<style type=\"text/css\">\n",
              "</style>\n",
              "<table id=\"T_f8c37\" class=\"dataframe\">\n",
              "  <thead>\n",
              "    <tr>\n",
              "      <th id=\"T_f8c37_level0_col0\" class=\"col_heading level0 col0\" >lastname</th>\n",
              "      <th id=\"T_f8c37_level0_col1\" class=\"col_heading level0 col1\" >firstname</th>\n",
              "      <th id=\"T_f8c37_level0_col2\" class=\"col_heading level0 col2\" >city</th>\n",
              "    </tr>\n",
              "  </thead>\n",
              "  <tbody>\n",
              "    <tr>\n",
              "      <td id=\"T_f8c37_row0_col0\" class=\"data row0 col0\" >Smith</td>\n",
              "      <td id=\"T_f8c37_row0_col1\" class=\"data row0 col1\" >Kevin</td>\n",
              "      <td id=\"T_f8c37_row0_col2\" class=\"data row0 col2\" >Durango</td>\n",
              "    </tr>\n",
              "    <tr>\n",
              "      <td id=\"T_f8c37_row1_col0\" class=\"data row1 col0\" >Schultz</td>\n",
              "      <td id=\"T_f8c37_row1_col1\" class=\"data row1 col1\" >Ginger</td>\n",
              "      <td id=\"T_f8c37_row1_col2\" class=\"data row1 col2\" >Pocatello</td>\n",
              "    </tr>\n",
              "    <tr>\n",
              "      <td id=\"T_f8c37_row2_col0\" class=\"data row2 col0\" >Sanchez</td>\n",
              "      <td id=\"T_f8c37_row2_col1\" class=\"data row2 col1\" >Anthony</td>\n",
              "      <td id=\"T_f8c37_row2_col2\" class=\"data row2 col2\" >Winslow</td>\n",
              "    </tr>\n",
              "    <tr>\n",
              "      <td id=\"T_f8c37_row3_col0\" class=\"data row3 col0\" >Sakahara</td>\n",
              "      <td id=\"T_f8c37_row3_col1\" class=\"data row3 col1\" >Linda</td>\n",
              "      <td id=\"T_f8c37_row3_col2\" class=\"data row3 col2\" >Nogales</td>\n",
              "    </tr>\n",
              "    <tr>\n",
              "      <td id=\"T_f8c37_row4_col0\" class=\"data row4 col0\" >Moore</td>\n",
              "      <td id=\"T_f8c37_row4_col1\" class=\"data row4 col1\" >Isabela</td>\n",
              "      <td id=\"T_f8c37_row4_col2\" class=\"data row4 col2\" >Yuma</td>\n",
              "    </tr>\n",
              "    <tr>\n",
              "      <td id=\"T_f8c37_row5_col0\" class=\"data row5 col0\" >Mendoza</td>\n",
              "      <td id=\"T_f8c37_row5_col1\" class=\"data row5 col1\" >Kelly</td>\n",
              "      <td id=\"T_f8c37_row5_col2\" class=\"data row5 col2\" >Kailua</td>\n",
              "    </tr>\n",
              "    <tr>\n",
              "      <td id=\"T_f8c37_row6_col0\" class=\"data row6 col0\" >Keller</td>\n",
              "      <td id=\"T_f8c37_row6_col1\" class=\"data row6 col1\" >Elroy</td>\n",
              "      <td id=\"T_f8c37_row6_col2\" class=\"data row6 col2\" >Snoqualmie</td>\n",
              "    </tr>\n",
              "    <tr>\n",
              "      <td id=\"T_f8c37_row7_col0\" class=\"data row7 col0\" >Jones</td>\n",
              "      <td id=\"T_f8c37_row7_col1\" class=\"data row7 col1\" >Lisa</td>\n",
              "      <td id=\"T_f8c37_row7_col2\" class=\"data row7 col2\" >Oshkosh</td>\n",
              "    </tr>\n",
              "    <tr>\n",
              "      <td id=\"T_f8c37_row8_col0\" class=\"data row8 col0\" >Howell</td>\n",
              "      <td id=\"T_f8c37_row8_col1\" class=\"data row8 col1\" >Mary Ann</td>\n",
              "      <td id=\"T_f8c37_row8_col2\" class=\"data row8 col2\" >Charleston</td>\n",
              "    </tr>\n",
              "    <tr>\n",
              "      <td id=\"T_f8c37_row9_col0\" class=\"data row9 col0\" >Howell</td>\n",
              "      <td id=\"T_f8c37_row9_col1\" class=\"data row9 col1\" >Michael</td>\n",
              "      <td id=\"T_f8c37_row9_col2\" class=\"data row9 col2\" >Tillamook</td>\n",
              "    </tr>\n",
              "    <tr>\n",
              "      <td id=\"T_f8c37_row10_col0\" class=\"data row10 col0\" >Gray</td>\n",
              "      <td id=\"T_f8c37_row10_col1\" class=\"data row10 col1\" >John</td>\n",
              "      <td id=\"T_f8c37_row10_col2\" class=\"data row10 col2\" >Lynden</td>\n",
              "    </tr>\n",
              "    <tr>\n",
              "      <td id=\"T_f8c37_row11_col0\" class=\"data row11 col0\" >Graham</td>\n",
              "      <td id=\"T_f8c37_row11_col1\" class=\"data row11 col1\" >Sarah</td>\n",
              "      <td id=\"T_f8c37_row11_col2\" class=\"data row11 col2\" >Greensboro</td>\n",
              "    </tr>\n",
              "    <tr>\n",
              "      <td id=\"T_f8c37_row12_col0\" class=\"data row12 col0\" >Giles</td>\n",
              "      <td id=\"T_f8c37_row12_col1\" class=\"data row12 col1\" >Conrad</td>\n",
              "      <td id=\"T_f8c37_row12_col2\" class=\"data row12 col2\" >Telluride</td>\n",
              "    </tr>\n",
              "    <tr>\n",
              "      <td id=\"T_f8c37_row13_col0\" class=\"data row13 col0\" >Davids</td>\n",
              "      <td id=\"T_f8c37_row13_col1\" class=\"data row13 col1\" >Donald</td>\n",
              "      <td id=\"T_f8c37_row13_col2\" class=\"data row13 col2\" >Gila Bend</td>\n",
              "    </tr>\n",
              "    <tr>\n",
              "      <td id=\"T_f8c37_row14_col0\" class=\"data row14 col0\" >Dalton</td>\n",
              "      <td id=\"T_f8c37_row14_col1\" class=\"data row14 col1\" >Shawn</td>\n",
              "      <td id=\"T_f8c37_row14_col2\" class=\"data row14 col2\" >Cannon Beach</td>\n",
              "    </tr>\n",
              "    <tr>\n",
              "      <td id=\"T_f8c37_row15_col0\" class=\"data row15 col0\" >Cleaver</td>\n",
              "      <td id=\"T_f8c37_row15_col1\" class=\"data row15 col1\" >Elroy</td>\n",
              "      <td id=\"T_f8c37_row15_col2\" class=\"data row15 col2\" >Globe</td>\n",
              "    </tr>\n",
              "    <tr>\n",
              "      <td id=\"T_f8c37_row16_col0\" class=\"data row16 col0\" >Brown</td>\n",
              "      <td id=\"T_f8c37_row16_col1\" class=\"data row16 col1\" >Leroy</td>\n",
              "      <td id=\"T_f8c37_row16_col2\" class=\"data row16 col2\" >Pinetop</td>\n",
              "    </tr>\n",
              "  </tbody>\n",
              "</table>\n"
            ]
          },
          "metadata": {},
          "execution_count": 46
        }
      ]
    },
    {
      "cell_type": "code",
      "source": [
        "# 5.3 Select the item and price for all of the items in the items_ordered table that the price is greater than 10.00. Display the results in Ascending order based on the price."
      ],
      "metadata": {
        "id": "Jui0zvwyW3jF"
      },
      "execution_count": null,
      "outputs": []
    },
    {
      "cell_type": "code",
      "source": [
        "runSelect(\"select item, price from itemsordered where price > 10.00 order by price\")"
      ],
      "metadata": {
        "colab": {
          "base_uri": "https://localhost:8080/",
          "height": 896
        },
        "id": "V0cipM_1XGAG",
        "outputId": "c348cd6e-f266-4322-eb27-136efea56379"
      },
      "execution_count": null,
      "outputs": [
        {
          "output_type": "execute_result",
          "data": {
            "text/plain": [
              "<pandas.io.formats.style.Styler at 0x7cd6fcd53760>"
            ],
            "text/html": [
              "<style type=\"text/css\">\n",
              "</style>\n",
              "<table id=\"T_a70fa\" class=\"dataframe\">\n",
              "  <thead>\n",
              "    <tr>\n",
              "      <th id=\"T_a70fa_level0_col0\" class=\"col_heading level0 col0\" >item</th>\n",
              "      <th id=\"T_a70fa_level0_col1\" class=\"col_heading level0 col1\" >price</th>\n",
              "    </tr>\n",
              "  </thead>\n",
              "  <tbody>\n",
              "    <tr>\n",
              "      <td id=\"T_a70fa_row0_col0\" class=\"data row0 col0\" >Ear Muffs</td>\n",
              "      <td id=\"T_a70fa_row0_col1\" class=\"data row0 col1\" >12.50</td>\n",
              "    </tr>\n",
              "    <tr>\n",
              "      <td id=\"T_a70fa_row1_col0\" class=\"data row1 col0\" >Hoola Hoop</td>\n",
              "      <td id=\"T_a70fa_row1_col1\" class=\"data row1 col1\" >14.75</td>\n",
              "    </tr>\n",
              "    <tr>\n",
              "      <td id=\"T_a70fa_row2_col0\" class=\"data row2 col0\" >Lantern</td>\n",
              "      <td id=\"T_a70fa_row2_col1\" class=\"data row2 col1\" >16.00</td>\n",
              "    </tr>\n",
              "    <tr>\n",
              "      <td id=\"T_a70fa_row3_col0\" class=\"data row3 col0\" >Shovel</td>\n",
              "      <td id=\"T_a70fa_row3_col1\" class=\"data row3 col1\" >16.75</td>\n",
              "    </tr>\n",
              "    <tr>\n",
              "      <td id=\"T_a70fa_row4_col0\" class=\"data row4 col0\" >Rain Coat</td>\n",
              "      <td id=\"T_a70fa_row4_col1\" class=\"data row4 col1\" >18.30</td>\n",
              "    </tr>\n",
              "    <tr>\n",
              "      <td id=\"T_a70fa_row5_col0\" class=\"data row5 col0\" >Helmet</td>\n",
              "      <td id=\"T_a70fa_row5_col1\" class=\"data row5 col1\" >22.00</td>\n",
              "    </tr>\n",
              "    <tr>\n",
              "      <td id=\"T_a70fa_row6_col0\" class=\"data row6 col0\" >Pocket Knife</td>\n",
              "      <td id=\"T_a70fa_row6_col1\" class=\"data row6 col1\" >22.38</td>\n",
              "    </tr>\n",
              "    <tr>\n",
              "      <td id=\"T_a70fa_row7_col0\" class=\"data row7 col0\" >Ski Poles</td>\n",
              "      <td id=\"T_a70fa_row7_col1\" class=\"data row7 col1\" >25.50</td>\n",
              "    </tr>\n",
              "    <tr>\n",
              "      <td id=\"T_a70fa_row8_col0\" class=\"data row8 col0\" >Pogo stick</td>\n",
              "      <td id=\"T_a70fa_row8_col1\" class=\"data row8 col1\" >28.00</td>\n",
              "    </tr>\n",
              "    <tr>\n",
              "      <td id=\"T_a70fa_row9_col0\" class=\"data row9 col0\" >Flashlight</td>\n",
              "      <td id=\"T_a70fa_row9_col1\" class=\"data row9 col1\" >28.00</td>\n",
              "    </tr>\n",
              "    <tr>\n",
              "      <td id=\"T_a70fa_row10_col0\" class=\"data row10 col0\" >Lantern</td>\n",
              "      <td id=\"T_a70fa_row10_col1\" class=\"data row10 col1\" >29.00</td>\n",
              "    </tr>\n",
              "    <tr>\n",
              "      <td id=\"T_a70fa_row11_col0\" class=\"data row11 col0\" >Lawnchair</td>\n",
              "      <td id=\"T_a70fa_row11_col1\" class=\"data row11 col1\" >32.00</td>\n",
              "    </tr>\n",
              "    <tr>\n",
              "      <td id=\"T_a70fa_row12_col0\" class=\"data row12 col0\" >Skateboard</td>\n",
              "      <td id=\"T_a70fa_row12_col1\" class=\"data row12 col1\" >33.00</td>\n",
              "    </tr>\n",
              "    <tr>\n",
              "      <td id=\"T_a70fa_row13_col0\" class=\"data row13 col0\" >Inflatable Mattress</td>\n",
              "      <td id=\"T_a70fa_row13_col1\" class=\"data row13 col1\" >38.00</td>\n",
              "    </tr>\n",
              "    <tr>\n",
              "      <td id=\"T_a70fa_row14_col0\" class=\"data row14 col0\" >Canoe paddle</td>\n",
              "      <td id=\"T_a70fa_row14_col1\" class=\"data row14 col1\" >40.00</td>\n",
              "    </tr>\n",
              "    <tr>\n",
              "      <td id=\"T_a70fa_row15_col0\" class=\"data row15 col0\" >Snow Shoes</td>\n",
              "      <td id=\"T_a70fa_row15_col1\" class=\"data row15 col1\" >45.00</td>\n",
              "    </tr>\n",
              "    <tr>\n",
              "      <td id=\"T_a70fa_row16_col0\" class=\"data row16 col0\" >Raft</td>\n",
              "      <td id=\"T_a70fa_row16_col1\" class=\"data row16 col1\" >58.00</td>\n",
              "    </tr>\n",
              "    <tr>\n",
              "      <td id=\"T_a70fa_row17_col0\" class=\"data row17 col0\" >Tent</td>\n",
              "      <td id=\"T_a70fa_row17_col1\" class=\"data row17 col1\" >79.99</td>\n",
              "    </tr>\n",
              "    <tr>\n",
              "      <td id=\"T_a70fa_row18_col0\" class=\"data row18 col0\" >Tent</td>\n",
              "      <td id=\"T_a70fa_row18_col1\" class=\"data row18 col1\" >88.00</td>\n",
              "    </tr>\n",
              "    <tr>\n",
              "      <td id=\"T_a70fa_row19_col0\" class=\"data row19 col0\" >Sleeping Bag</td>\n",
              "      <td id=\"T_a70fa_row19_col1\" class=\"data row19 col1\" >88.70</td>\n",
              "    </tr>\n",
              "    <tr>\n",
              "      <td id=\"T_a70fa_row20_col0\" class=\"data row20 col0\" >Sleeping Bag</td>\n",
              "      <td id=\"T_a70fa_row20_col1\" class=\"data row20 col1\" >89.22</td>\n",
              "    </tr>\n",
              "    <tr>\n",
              "      <td id=\"T_a70fa_row21_col0\" class=\"data row21 col0\" >Life Vest</td>\n",
              "      <td id=\"T_a70fa_row21_col1\" class=\"data row21 col1\" >125.00</td>\n",
              "    </tr>\n",
              "    <tr>\n",
              "      <td id=\"T_a70fa_row22_col0\" class=\"data row22 col0\" >Unicycle</td>\n",
              "      <td id=\"T_a70fa_row22_col1\" class=\"data row22 col1\" >180.79</td>\n",
              "    </tr>\n",
              "    <tr>\n",
              "      <td id=\"T_a70fa_row23_col0\" class=\"data row23 col0\" >Unicycle</td>\n",
              "      <td id=\"T_a70fa_row23_col1\" class=\"data row23 col1\" >192.50</td>\n",
              "    </tr>\n",
              "    <tr>\n",
              "      <td id=\"T_a70fa_row24_col0\" class=\"data row24 col0\" >Canoe</td>\n",
              "      <td id=\"T_a70fa_row24_col1\" class=\"data row24 col1\" >280.00</td>\n",
              "    </tr>\n",
              "    <tr>\n",
              "      <td id=\"T_a70fa_row25_col0\" class=\"data row25 col0\" >Bicycle</td>\n",
              "      <td id=\"T_a70fa_row25_col1\" class=\"data row25 col1\" >380.50</td>\n",
              "    </tr>\n",
              "    <tr>\n",
              "      <td id=\"T_a70fa_row26_col0\" class=\"data row26 col0\" >Parachute</td>\n",
              "      <td id=\"T_a70fa_row26_col1\" class=\"data row26 col1\" >1250.00</td>\n",
              "    </tr>\n",
              "  </tbody>\n",
              "</table>\n"
            ]
          },
          "metadata": {},
          "execution_count": 48
        }
      ]
    },
    {
      "cell_type": "markdown",
      "source": [
        "# 6) Combining Conditions & Boolean Operators"
      ],
      "metadata": {
        "id": "loso2lYpXu4q"
      }
    },
    {
      "cell_type": "code",
      "source": [
        "# 6.1 Select the customerid, order_date, and item from the items_ordered table for all items unless they are ‘Snow Shoes’ or if they are ‘Ear Muffs’. Display the rows as long as they are not either of these two items"
      ],
      "metadata": {
        "id": "V1drYjIpXrF9"
      },
      "execution_count": null,
      "outputs": []
    },
    {
      "cell_type": "code",
      "source": [
        "runSelect(\"select customerid, orderdate, item from itemsordered where item != 'Snow Shoes' and item != 'Ear Muffs'\")"
      ],
      "metadata": {
        "colab": {
          "base_uri": "https://localhost:8080/",
          "height": 990
        },
        "id": "mRJMjzUeYIYx",
        "outputId": "36138a2d-e73b-4dc5-eaf7-5b481ba115fc"
      },
      "execution_count": null,
      "outputs": [
        {
          "output_type": "execute_result",
          "data": {
            "text/plain": [
              "<pandas.io.formats.style.Styler at 0x7cd6fcd53fd0>"
            ],
            "text/html": [
              "<style type=\"text/css\">\n",
              "</style>\n",
              "<table id=\"T_1aee6\" class=\"dataframe\">\n",
              "  <thead>\n",
              "    <tr>\n",
              "      <th id=\"T_1aee6_level0_col0\" class=\"col_heading level0 col0\" >customerid</th>\n",
              "      <th id=\"T_1aee6_level0_col1\" class=\"col_heading level0 col1\" >orderdate</th>\n",
              "      <th id=\"T_1aee6_level0_col2\" class=\"col_heading level0 col2\" >item</th>\n",
              "    </tr>\n",
              "  </thead>\n",
              "  <tbody>\n",
              "    <tr>\n",
              "      <td id=\"T_1aee6_row0_col0\" class=\"data row0 col0\" >10330</td>\n",
              "      <td id=\"T_1aee6_row0_col1\" class=\"data row0 col1\" >1999-06-30</td>\n",
              "      <td id=\"T_1aee6_row0_col2\" class=\"data row0 col2\" >Pogo stick</td>\n",
              "    </tr>\n",
              "    <tr>\n",
              "      <td id=\"T_1aee6_row1_col0\" class=\"data row1 col0\" >10101</td>\n",
              "      <td id=\"T_1aee6_row1_col1\" class=\"data row1 col1\" >1999-06-30</td>\n",
              "      <td id=\"T_1aee6_row1_col2\" class=\"data row1 col2\" >Raft</td>\n",
              "    </tr>\n",
              "    <tr>\n",
              "      <td id=\"T_1aee6_row2_col0\" class=\"data row2 col0\" >10298</td>\n",
              "      <td id=\"T_1aee6_row2_col1\" class=\"data row2 col1\" >1999-07-01</td>\n",
              "      <td id=\"T_1aee6_row2_col2\" class=\"data row2 col2\" >Skateboard</td>\n",
              "    </tr>\n",
              "    <tr>\n",
              "      <td id=\"T_1aee6_row3_col0\" class=\"data row3 col0\" >10101</td>\n",
              "      <td id=\"T_1aee6_row3_col1\" class=\"data row3 col1\" >1999-07-01</td>\n",
              "      <td id=\"T_1aee6_row3_col2\" class=\"data row3 col2\" >Life Vest</td>\n",
              "    </tr>\n",
              "    <tr>\n",
              "      <td id=\"T_1aee6_row4_col0\" class=\"data row4 col0\" >10299</td>\n",
              "      <td id=\"T_1aee6_row4_col1\" class=\"data row4 col1\" >1999-07-06</td>\n",
              "      <td id=\"T_1aee6_row4_col2\" class=\"data row4 col2\" >Parachute</td>\n",
              "    </tr>\n",
              "    <tr>\n",
              "      <td id=\"T_1aee6_row5_col0\" class=\"data row5 col0\" >10339</td>\n",
              "      <td id=\"T_1aee6_row5_col1\" class=\"data row5 col1\" >1999-07-27</td>\n",
              "      <td id=\"T_1aee6_row5_col2\" class=\"data row5 col2\" >Umbrella</td>\n",
              "    </tr>\n",
              "    <tr>\n",
              "      <td id=\"T_1aee6_row6_col0\" class=\"data row6 col0\" >10449</td>\n",
              "      <td id=\"T_1aee6_row6_col1\" class=\"data row6 col1\" >1999-08-13</td>\n",
              "      <td id=\"T_1aee6_row6_col2\" class=\"data row6 col2\" >Unicycle</td>\n",
              "    </tr>\n",
              "    <tr>\n",
              "      <td id=\"T_1aee6_row7_col0\" class=\"data row7 col0\" >10439</td>\n",
              "      <td id=\"T_1aee6_row7_col1\" class=\"data row7 col1\" >1999-08-14</td>\n",
              "      <td id=\"T_1aee6_row7_col2\" class=\"data row7 col2\" >Ski Poles</td>\n",
              "    </tr>\n",
              "    <tr>\n",
              "      <td id=\"T_1aee6_row8_col0\" class=\"data row8 col0\" >10101</td>\n",
              "      <td id=\"T_1aee6_row8_col1\" class=\"data row8 col1\" >1999-08-18</td>\n",
              "      <td id=\"T_1aee6_row8_col2\" class=\"data row8 col2\" >Rain Coat</td>\n",
              "    </tr>\n",
              "    <tr>\n",
              "      <td id=\"T_1aee6_row9_col0\" class=\"data row9 col0\" >10439</td>\n",
              "      <td id=\"T_1aee6_row9_col1\" class=\"data row9 col1\" >1999-09-18</td>\n",
              "      <td id=\"T_1aee6_row9_col2\" class=\"data row9 col2\" >Tent</td>\n",
              "    </tr>\n",
              "    <tr>\n",
              "      <td id=\"T_1aee6_row10_col0\" class=\"data row10 col0\" >10298</td>\n",
              "      <td id=\"T_1aee6_row10_col1\" class=\"data row10 col1\" >1999-09-19</td>\n",
              "      <td id=\"T_1aee6_row10_col2\" class=\"data row10 col2\" >Lantern</td>\n",
              "    </tr>\n",
              "    <tr>\n",
              "      <td id=\"T_1aee6_row11_col0\" class=\"data row11 col0\" >10410</td>\n",
              "      <td id=\"T_1aee6_row11_col1\" class=\"data row11 col1\" >1999-10-28</td>\n",
              "      <td id=\"T_1aee6_row11_col2\" class=\"data row11 col2\" >Sleeping Bag</td>\n",
              "    </tr>\n",
              "    <tr>\n",
              "      <td id=\"T_1aee6_row12_col0\" class=\"data row12 col0\" >10438</td>\n",
              "      <td id=\"T_1aee6_row12_col1\" class=\"data row12 col1\" >1999-11-01</td>\n",
              "      <td id=\"T_1aee6_row12_col2\" class=\"data row12 col2\" >Umbrella</td>\n",
              "    </tr>\n",
              "    <tr>\n",
              "      <td id=\"T_1aee6_row13_col0\" class=\"data row13 col0\" >10438</td>\n",
              "      <td id=\"T_1aee6_row13_col1\" class=\"data row13 col1\" >1999-11-02</td>\n",
              "      <td id=\"T_1aee6_row13_col2\" class=\"data row13 col2\" >Pillow</td>\n",
              "    </tr>\n",
              "    <tr>\n",
              "      <td id=\"T_1aee6_row14_col0\" class=\"data row14 col0\" >10298</td>\n",
              "      <td id=\"T_1aee6_row14_col1\" class=\"data row14 col1\" >1999-12-01</td>\n",
              "      <td id=\"T_1aee6_row14_col2\" class=\"data row14 col2\" >Helmet</td>\n",
              "    </tr>\n",
              "    <tr>\n",
              "      <td id=\"T_1aee6_row15_col0\" class=\"data row15 col0\" >10449</td>\n",
              "      <td id=\"T_1aee6_row15_col1\" class=\"data row15 col1\" >1999-12-15</td>\n",
              "      <td id=\"T_1aee6_row15_col2\" class=\"data row15 col2\" >Bicycle</td>\n",
              "    </tr>\n",
              "    <tr>\n",
              "      <td id=\"T_1aee6_row16_col0\" class=\"data row16 col0\" >10449</td>\n",
              "      <td id=\"T_1aee6_row16_col1\" class=\"data row16 col1\" >1999-12-22</td>\n",
              "      <td id=\"T_1aee6_row16_col2\" class=\"data row16 col2\" >Canoe</td>\n",
              "    </tr>\n",
              "    <tr>\n",
              "      <td id=\"T_1aee6_row17_col0\" class=\"data row17 col0\" >10101</td>\n",
              "      <td id=\"T_1aee6_row17_col1\" class=\"data row17 col1\" >1999-12-30</td>\n",
              "      <td id=\"T_1aee6_row17_col2\" class=\"data row17 col2\" >Hoola Hoop</td>\n",
              "    </tr>\n",
              "    <tr>\n",
              "      <td id=\"T_1aee6_row18_col0\" class=\"data row18 col0\" >10330</td>\n",
              "      <td id=\"T_1aee6_row18_col1\" class=\"data row18 col1\" >2000-01-01</td>\n",
              "      <td id=\"T_1aee6_row18_col2\" class=\"data row18 col2\" >Flashlight</td>\n",
              "    </tr>\n",
              "    <tr>\n",
              "      <td id=\"T_1aee6_row19_col0\" class=\"data row19 col0\" >10101</td>\n",
              "      <td id=\"T_1aee6_row19_col1\" class=\"data row19 col1\" >2000-01-02</td>\n",
              "      <td id=\"T_1aee6_row19_col2\" class=\"data row19 col2\" >Lantern</td>\n",
              "    </tr>\n",
              "    <tr>\n",
              "      <td id=\"T_1aee6_row20_col0\" class=\"data row20 col0\" >10299</td>\n",
              "      <td id=\"T_1aee6_row20_col1\" class=\"data row20 col1\" >2000-01-18</td>\n",
              "      <td id=\"T_1aee6_row20_col2\" class=\"data row20 col2\" >Inflatable Mattress</td>\n",
              "    </tr>\n",
              "    <tr>\n",
              "      <td id=\"T_1aee6_row21_col0\" class=\"data row21 col0\" >10438</td>\n",
              "      <td id=\"T_1aee6_row21_col1\" class=\"data row21 col1\" >2000-01-18</td>\n",
              "      <td id=\"T_1aee6_row21_col2\" class=\"data row21 col2\" >Tent</td>\n",
              "    </tr>\n",
              "    <tr>\n",
              "      <td id=\"T_1aee6_row22_col0\" class=\"data row22 col0\" >10413</td>\n",
              "      <td id=\"T_1aee6_row22_col1\" class=\"data row22 col1\" >2000-01-19</td>\n",
              "      <td id=\"T_1aee6_row22_col2\" class=\"data row22 col2\" >Lawnchair</td>\n",
              "    </tr>\n",
              "    <tr>\n",
              "      <td id=\"T_1aee6_row23_col0\" class=\"data row23 col0\" >10410</td>\n",
              "      <td id=\"T_1aee6_row23_col1\" class=\"data row23 col1\" >2000-01-30</td>\n",
              "      <td id=\"T_1aee6_row23_col2\" class=\"data row23 col2\" >Unicycle</td>\n",
              "    </tr>\n",
              "    <tr>\n",
              "      <td id=\"T_1aee6_row24_col0\" class=\"data row24 col0\" >10315</td>\n",
              "      <td id=\"T_1aee6_row24_col1\" class=\"data row24 col1\" >2000-02-02</td>\n",
              "      <td id=\"T_1aee6_row24_col2\" class=\"data row24 col2\" >Compass</td>\n",
              "    </tr>\n",
              "    <tr>\n",
              "      <td id=\"T_1aee6_row25_col0\" class=\"data row25 col0\" >10449</td>\n",
              "      <td id=\"T_1aee6_row25_col1\" class=\"data row25 col1\" >2000-02-29</td>\n",
              "      <td id=\"T_1aee6_row25_col2\" class=\"data row25 col2\" >Flashlight</td>\n",
              "    </tr>\n",
              "    <tr>\n",
              "      <td id=\"T_1aee6_row26_col0\" class=\"data row26 col0\" >10101</td>\n",
              "      <td id=\"T_1aee6_row26_col1\" class=\"data row26 col1\" >2000-03-08</td>\n",
              "      <td id=\"T_1aee6_row26_col2\" class=\"data row26 col2\" >Sleeping Bag</td>\n",
              "    </tr>\n",
              "    <tr>\n",
              "      <td id=\"T_1aee6_row27_col0\" class=\"data row27 col0\" >10298</td>\n",
              "      <td id=\"T_1aee6_row27_col1\" class=\"data row27 col1\" >2000-03-18</td>\n",
              "      <td id=\"T_1aee6_row27_col2\" class=\"data row27 col2\" >Pocket Knife</td>\n",
              "    </tr>\n",
              "    <tr>\n",
              "      <td id=\"T_1aee6_row28_col0\" class=\"data row28 col0\" >10449</td>\n",
              "      <td id=\"T_1aee6_row28_col1\" class=\"data row28 col1\" >2000-03-19</td>\n",
              "      <td id=\"T_1aee6_row28_col2\" class=\"data row28 col2\" >Canoe paddle</td>\n",
              "    </tr>\n",
              "    <tr>\n",
              "      <td id=\"T_1aee6_row29_col0\" class=\"data row29 col0\" >10330</td>\n",
              "      <td id=\"T_1aee6_row29_col1\" class=\"data row29 col1\" >2000-04-19</td>\n",
              "      <td id=\"T_1aee6_row29_col2\" class=\"data row29 col2\" >Shovel</td>\n",
              "    </tr>\n",
              "  </tbody>\n",
              "</table>\n"
            ]
          },
          "metadata": {},
          "execution_count": 50
        }
      ]
    },
    {
      "cell_type": "code",
      "source": [
        "# 6.2 Select the item and price of all items that start with the letters ‘S’, ‘P’, or ‘F’"
      ],
      "metadata": {
        "id": "p8njQorLZJso"
      },
      "execution_count": null,
      "outputs": []
    },
    {
      "cell_type": "code",
      "source": [
        "runSelect(\"select item, price from itemsordered where item like 'S%' or item like 'P%' or item like 'F%'\")"
      ],
      "metadata": {
        "colab": {
          "base_uri": "https://localhost:8080/",
          "height": 425
        },
        "id": "4I26xi9mZRST",
        "outputId": "eda6a453-eee9-49b8-d538-7d711388842a"
      },
      "execution_count": null,
      "outputs": [
        {
          "output_type": "execute_result",
          "data": {
            "text/plain": [
              "<pandas.io.formats.style.Styler at 0x7cd6fcd51cc0>"
            ],
            "text/html": [
              "<style type=\"text/css\">\n",
              "</style>\n",
              "<table id=\"T_ab801\" class=\"dataframe\">\n",
              "  <thead>\n",
              "    <tr>\n",
              "      <th id=\"T_ab801_level0_col0\" class=\"col_heading level0 col0\" >item</th>\n",
              "      <th id=\"T_ab801_level0_col1\" class=\"col_heading level0 col1\" >price</th>\n",
              "    </tr>\n",
              "  </thead>\n",
              "  <tbody>\n",
              "    <tr>\n",
              "      <td id=\"T_ab801_row0_col0\" class=\"data row0 col0\" >Pogo stick</td>\n",
              "      <td id=\"T_ab801_row0_col1\" class=\"data row0 col1\" >28.00</td>\n",
              "    </tr>\n",
              "    <tr>\n",
              "      <td id=\"T_ab801_row1_col0\" class=\"data row1 col0\" >Skateboard</td>\n",
              "      <td id=\"T_ab801_row1_col1\" class=\"data row1 col1\" >33.00</td>\n",
              "    </tr>\n",
              "    <tr>\n",
              "      <td id=\"T_ab801_row2_col0\" class=\"data row2 col0\" >Parachute</td>\n",
              "      <td id=\"T_ab801_row2_col1\" class=\"data row2 col1\" >1250.00</td>\n",
              "    </tr>\n",
              "    <tr>\n",
              "      <td id=\"T_ab801_row3_col0\" class=\"data row3 col0\" >Ski Poles</td>\n",
              "      <td id=\"T_ab801_row3_col1\" class=\"data row3 col1\" >25.50</td>\n",
              "    </tr>\n",
              "    <tr>\n",
              "      <td id=\"T_ab801_row4_col0\" class=\"data row4 col0\" >Snow Shoes</td>\n",
              "      <td id=\"T_ab801_row4_col1\" class=\"data row4 col1\" >45.00</td>\n",
              "    </tr>\n",
              "    <tr>\n",
              "      <td id=\"T_ab801_row5_col0\" class=\"data row5 col0\" >Sleeping Bag</td>\n",
              "      <td id=\"T_ab801_row5_col1\" class=\"data row5 col1\" >89.22</td>\n",
              "    </tr>\n",
              "    <tr>\n",
              "      <td id=\"T_ab801_row6_col0\" class=\"data row6 col0\" >Pillow</td>\n",
              "      <td id=\"T_ab801_row6_col1\" class=\"data row6 col1\" >8.50</td>\n",
              "    </tr>\n",
              "    <tr>\n",
              "      <td id=\"T_ab801_row7_col0\" class=\"data row7 col0\" >Flashlight</td>\n",
              "      <td id=\"T_ab801_row7_col1\" class=\"data row7 col1\" >28.00</td>\n",
              "    </tr>\n",
              "    <tr>\n",
              "      <td id=\"T_ab801_row8_col0\" class=\"data row8 col0\" >Flashlight</td>\n",
              "      <td id=\"T_ab801_row8_col1\" class=\"data row8 col1\" >4.50</td>\n",
              "    </tr>\n",
              "    <tr>\n",
              "      <td id=\"T_ab801_row9_col0\" class=\"data row9 col0\" >Sleeping Bag</td>\n",
              "      <td id=\"T_ab801_row9_col1\" class=\"data row9 col1\" >88.70</td>\n",
              "    </tr>\n",
              "    <tr>\n",
              "      <td id=\"T_ab801_row10_col0\" class=\"data row10 col0\" >Pocket Knife</td>\n",
              "      <td id=\"T_ab801_row10_col1\" class=\"data row10 col1\" >22.38</td>\n",
              "    </tr>\n",
              "    <tr>\n",
              "      <td id=\"T_ab801_row11_col0\" class=\"data row11 col0\" >Shovel</td>\n",
              "      <td id=\"T_ab801_row11_col1\" class=\"data row11 col1\" >16.75</td>\n",
              "    </tr>\n",
              "  </tbody>\n",
              "</table>\n"
            ]
          },
          "metadata": {},
          "execution_count": 52
        }
      ]
    },
    {
      "cell_type": "markdown",
      "source": [
        "# 7) In & Between"
      ],
      "metadata": {
        "id": "Q0cDpD6rZ_7j"
      }
    },
    {
      "cell_type": "code",
      "source": [
        "# 7.1 Select the date, item, and price from the items_ordered table for all of the rows that have a price value ranging from 10.00 to 80.00."
      ],
      "metadata": {
        "id": "IJaNuAIuZ7qe"
      },
      "execution_count": null,
      "outputs": []
    },
    {
      "cell_type": "code",
      "source": [
        "runSelect(\"select orderdate, item, price from itemsordered where price between 10.00 and 80.00\")"
      ],
      "metadata": {
        "colab": {
          "base_uri": "https://localhost:8080/",
          "height": 613
        },
        "id": "PWxcmBqFaMAo",
        "outputId": "477487eb-0a05-4fe1-c61b-60fd00f67b7e"
      },
      "execution_count": null,
      "outputs": [
        {
          "output_type": "execute_result",
          "data": {
            "text/plain": [
              "<pandas.io.formats.style.Styler at 0x7cd6fcb73550>"
            ],
            "text/html": [
              "<style type=\"text/css\">\n",
              "</style>\n",
              "<table id=\"T_910a8\" class=\"dataframe\">\n",
              "  <thead>\n",
              "    <tr>\n",
              "      <th id=\"T_910a8_level0_col0\" class=\"col_heading level0 col0\" >orderdate</th>\n",
              "      <th id=\"T_910a8_level0_col1\" class=\"col_heading level0 col1\" >item</th>\n",
              "      <th id=\"T_910a8_level0_col2\" class=\"col_heading level0 col2\" >price</th>\n",
              "    </tr>\n",
              "  </thead>\n",
              "  <tbody>\n",
              "    <tr>\n",
              "      <td id=\"T_910a8_row0_col0\" class=\"data row0 col0\" >1999-06-30</td>\n",
              "      <td id=\"T_910a8_row0_col1\" class=\"data row0 col1\" >Pogo stick</td>\n",
              "      <td id=\"T_910a8_row0_col2\" class=\"data row0 col2\" >28.00</td>\n",
              "    </tr>\n",
              "    <tr>\n",
              "      <td id=\"T_910a8_row1_col0\" class=\"data row1 col0\" >1999-06-30</td>\n",
              "      <td id=\"T_910a8_row1_col1\" class=\"data row1 col1\" >Raft</td>\n",
              "      <td id=\"T_910a8_row1_col2\" class=\"data row1 col2\" >58.00</td>\n",
              "    </tr>\n",
              "    <tr>\n",
              "      <td id=\"T_910a8_row2_col0\" class=\"data row2 col0\" >1999-07-01</td>\n",
              "      <td id=\"T_910a8_row2_col1\" class=\"data row2 col1\" >Skateboard</td>\n",
              "      <td id=\"T_910a8_row2_col2\" class=\"data row2 col2\" >33.00</td>\n",
              "    </tr>\n",
              "    <tr>\n",
              "      <td id=\"T_910a8_row3_col0\" class=\"data row3 col0\" >1999-08-14</td>\n",
              "      <td id=\"T_910a8_row3_col1\" class=\"data row3 col1\" >Ski Poles</td>\n",
              "      <td id=\"T_910a8_row3_col2\" class=\"data row3 col2\" >25.50</td>\n",
              "    </tr>\n",
              "    <tr>\n",
              "      <td id=\"T_910a8_row4_col0\" class=\"data row4 col0\" >1999-08-18</td>\n",
              "      <td id=\"T_910a8_row4_col1\" class=\"data row4 col1\" >Rain Coat</td>\n",
              "      <td id=\"T_910a8_row4_col2\" class=\"data row4 col2\" >18.30</td>\n",
              "    </tr>\n",
              "    <tr>\n",
              "      <td id=\"T_910a8_row5_col0\" class=\"data row5 col0\" >1999-09-01</td>\n",
              "      <td id=\"T_910a8_row5_col1\" class=\"data row5 col1\" >Snow Shoes</td>\n",
              "      <td id=\"T_910a8_row5_col2\" class=\"data row5 col2\" >45.00</td>\n",
              "    </tr>\n",
              "    <tr>\n",
              "      <td id=\"T_910a8_row6_col0\" class=\"data row6 col0\" >1999-09-19</td>\n",
              "      <td id=\"T_910a8_row6_col1\" class=\"data row6 col1\" >Lantern</td>\n",
              "      <td id=\"T_910a8_row6_col2\" class=\"data row6 col2\" >29.00</td>\n",
              "    </tr>\n",
              "    <tr>\n",
              "      <td id=\"T_910a8_row7_col0\" class=\"data row7 col0\" >1999-12-01</td>\n",
              "      <td id=\"T_910a8_row7_col1\" class=\"data row7 col1\" >Helmet</td>\n",
              "      <td id=\"T_910a8_row7_col2\" class=\"data row7 col2\" >22.00</td>\n",
              "    </tr>\n",
              "    <tr>\n",
              "      <td id=\"T_910a8_row8_col0\" class=\"data row8 col0\" >1999-12-30</td>\n",
              "      <td id=\"T_910a8_row8_col1\" class=\"data row8 col1\" >Hoola Hoop</td>\n",
              "      <td id=\"T_910a8_row8_col2\" class=\"data row8 col2\" >14.75</td>\n",
              "    </tr>\n",
              "    <tr>\n",
              "      <td id=\"T_910a8_row9_col0\" class=\"data row9 col0\" >2000-01-01</td>\n",
              "      <td id=\"T_910a8_row9_col1\" class=\"data row9 col1\" >Flashlight</td>\n",
              "      <td id=\"T_910a8_row9_col2\" class=\"data row9 col2\" >28.00</td>\n",
              "    </tr>\n",
              "    <tr>\n",
              "      <td id=\"T_910a8_row10_col0\" class=\"data row10 col0\" >2000-01-02</td>\n",
              "      <td id=\"T_910a8_row10_col1\" class=\"data row10 col1\" >Lantern</td>\n",
              "      <td id=\"T_910a8_row10_col2\" class=\"data row10 col2\" >16.00</td>\n",
              "    </tr>\n",
              "    <tr>\n",
              "      <td id=\"T_910a8_row11_col0\" class=\"data row11 col0\" >2000-01-18</td>\n",
              "      <td id=\"T_910a8_row11_col1\" class=\"data row11 col1\" >Inflatable Mattress</td>\n",
              "      <td id=\"T_910a8_row11_col2\" class=\"data row11 col2\" >38.00</td>\n",
              "    </tr>\n",
              "    <tr>\n",
              "      <td id=\"T_910a8_row12_col0\" class=\"data row12 col0\" >2000-01-18</td>\n",
              "      <td id=\"T_910a8_row12_col1\" class=\"data row12 col1\" >Tent</td>\n",
              "      <td id=\"T_910a8_row12_col2\" class=\"data row12 col2\" >79.99</td>\n",
              "    </tr>\n",
              "    <tr>\n",
              "      <td id=\"T_910a8_row13_col0\" class=\"data row13 col0\" >2000-01-19</td>\n",
              "      <td id=\"T_910a8_row13_col1\" class=\"data row13 col1\" >Lawnchair</td>\n",
              "      <td id=\"T_910a8_row13_col2\" class=\"data row13 col2\" >32.00</td>\n",
              "    </tr>\n",
              "    <tr>\n",
              "      <td id=\"T_910a8_row14_col0\" class=\"data row14 col0\" >2000-03-18</td>\n",
              "      <td id=\"T_910a8_row14_col1\" class=\"data row14 col1\" >Pocket Knife</td>\n",
              "      <td id=\"T_910a8_row14_col2\" class=\"data row14 col2\" >22.38</td>\n",
              "    </tr>\n",
              "    <tr>\n",
              "      <td id=\"T_910a8_row15_col0\" class=\"data row15 col0\" >2000-03-19</td>\n",
              "      <td id=\"T_910a8_row15_col1\" class=\"data row15 col1\" >Canoe paddle</td>\n",
              "      <td id=\"T_910a8_row15_col2\" class=\"data row15 col2\" >40.00</td>\n",
              "    </tr>\n",
              "    <tr>\n",
              "      <td id=\"T_910a8_row16_col0\" class=\"data row16 col0\" >2000-04-01</td>\n",
              "      <td id=\"T_910a8_row16_col1\" class=\"data row16 col1\" >Ear Muffs</td>\n",
              "      <td id=\"T_910a8_row16_col2\" class=\"data row16 col2\" >12.50</td>\n",
              "    </tr>\n",
              "    <tr>\n",
              "      <td id=\"T_910a8_row17_col0\" class=\"data row17 col0\" >2000-04-19</td>\n",
              "      <td id=\"T_910a8_row17_col1\" class=\"data row17 col1\" >Shovel</td>\n",
              "      <td id=\"T_910a8_row17_col2\" class=\"data row17 col2\" >16.75</td>\n",
              "    </tr>\n",
              "  </tbody>\n",
              "</table>\n"
            ]
          },
          "metadata": {},
          "execution_count": 54
        }
      ]
    },
    {
      "cell_type": "code",
      "source": [
        "# 7.2 Select the firstname, city, and state from the customers table for all of the rows where the state value is either: Arizona, Washington, Oklahoma, Colorado, or Hawaii."
      ],
      "metadata": {
        "id": "sVixvrMLawSV"
      },
      "execution_count": null,
      "outputs": []
    },
    {
      "cell_type": "code",
      "source": [
        "runSelect(\"select firstname, city, state from customers where state in ('Arizona', 'Washington', 'Oklahoma', 'Colorado', 'Hawaii')\")"
      ],
      "metadata": {
        "colab": {
          "base_uri": "https://localhost:8080/",
          "height": 394
        },
        "id": "qkzwBOLOa4I5",
        "outputId": "fd8e741c-3437-42ba-f180-051e7df67009"
      },
      "execution_count": null,
      "outputs": [
        {
          "output_type": "execute_result",
          "data": {
            "text/plain": [
              "<pandas.io.formats.style.Styler at 0x7cd6fcd52230>"
            ],
            "text/html": [
              "<style type=\"text/css\">\n",
              "</style>\n",
              "<table id=\"T_ade77\" class=\"dataframe\">\n",
              "  <thead>\n",
              "    <tr>\n",
              "      <th id=\"T_ade77_level0_col0\" class=\"col_heading level0 col0\" >firstname</th>\n",
              "      <th id=\"T_ade77_level0_col1\" class=\"col_heading level0 col1\" >city</th>\n",
              "      <th id=\"T_ade77_level0_col2\" class=\"col_heading level0 col2\" >state</th>\n",
              "    </tr>\n",
              "  </thead>\n",
              "  <tbody>\n",
              "    <tr>\n",
              "      <td id=\"T_ade77_row0_col0\" class=\"data row0 col0\" >John</td>\n",
              "      <td id=\"T_ade77_row0_col1\" class=\"data row0 col1\" >Lynden</td>\n",
              "      <td id=\"T_ade77_row0_col2\" class=\"data row0 col2\" >Washington</td>\n",
              "    </tr>\n",
              "    <tr>\n",
              "      <td id=\"T_ade77_row1_col0\" class=\"data row1 col0\" >Leroy</td>\n",
              "      <td id=\"T_ade77_row1_col1\" class=\"data row1 col1\" >Pinetop</td>\n",
              "      <td id=\"T_ade77_row1_col2\" class=\"data row1 col2\" >Arizona</td>\n",
              "    </tr>\n",
              "    <tr>\n",
              "      <td id=\"T_ade77_row2_col0\" class=\"data row2 col0\" >Elroy</td>\n",
              "      <td id=\"T_ade77_row2_col1\" class=\"data row2 col1\" >Snoqualmie</td>\n",
              "      <td id=\"T_ade77_row2_col2\" class=\"data row2 col2\" >Washington</td>\n",
              "    </tr>\n",
              "    <tr>\n",
              "      <td id=\"T_ade77_row3_col0\" class=\"data row3 col0\" >Kelly</td>\n",
              "      <td id=\"T_ade77_row3_col1\" class=\"data row3 col1\" >Kailua</td>\n",
              "      <td id=\"T_ade77_row3_col2\" class=\"data row3 col2\" >Hawaii</td>\n",
              "    </tr>\n",
              "    <tr>\n",
              "      <td id=\"T_ade77_row4_col0\" class=\"data row4 col0\" >Anthony</td>\n",
              "      <td id=\"T_ade77_row4_col1\" class=\"data row4 col1\" >Winslow</td>\n",
              "      <td id=\"T_ade77_row4_col2\" class=\"data row4 col2\" >Arizona</td>\n",
              "    </tr>\n",
              "    <tr>\n",
              "      <td id=\"T_ade77_row5_col0\" class=\"data row5 col0\" >Elroy</td>\n",
              "      <td id=\"T_ade77_row5_col1\" class=\"data row5 col1\" >Globe</td>\n",
              "      <td id=\"T_ade77_row5_col2\" class=\"data row5 col2\" >Arizona</td>\n",
              "    </tr>\n",
              "    <tr>\n",
              "      <td id=\"T_ade77_row6_col0\" class=\"data row6 col0\" >Donald</td>\n",
              "      <td id=\"T_ade77_row6_col1\" class=\"data row6 col1\" >Gila Bend</td>\n",
              "      <td id=\"T_ade77_row6_col2\" class=\"data row6 col2\" >Arizona</td>\n",
              "    </tr>\n",
              "    <tr>\n",
              "      <td id=\"T_ade77_row7_col0\" class=\"data row7 col0\" >Linda</td>\n",
              "      <td id=\"T_ade77_row7_col1\" class=\"data row7 col1\" >Nogales</td>\n",
              "      <td id=\"T_ade77_row7_col2\" class=\"data row7 col2\" >Arizona</td>\n",
              "    </tr>\n",
              "    <tr>\n",
              "      <td id=\"T_ade77_row8_col0\" class=\"data row8 col0\" >Kevin</td>\n",
              "      <td id=\"T_ade77_row8_col1\" class=\"data row8 col1\" >Durango</td>\n",
              "      <td id=\"T_ade77_row8_col2\" class=\"data row8 col2\" >Colorado</td>\n",
              "    </tr>\n",
              "    <tr>\n",
              "      <td id=\"T_ade77_row9_col0\" class=\"data row9 col0\" >Conrad</td>\n",
              "      <td id=\"T_ade77_row9_col1\" class=\"data row9 col1\" >Telluride</td>\n",
              "      <td id=\"T_ade77_row9_col2\" class=\"data row9 col2\" >Colorado</td>\n",
              "    </tr>\n",
              "    <tr>\n",
              "      <td id=\"T_ade77_row10_col0\" class=\"data row10 col0\" >Isabela</td>\n",
              "      <td id=\"T_ade77_row10_col1\" class=\"data row10 col1\" >Yuma</td>\n",
              "      <td id=\"T_ade77_row10_col2\" class=\"data row10 col2\" >Arizona</td>\n",
              "    </tr>\n",
              "  </tbody>\n",
              "</table>\n"
            ]
          },
          "metadata": {},
          "execution_count": 56
        }
      ]
    },
    {
      "cell_type": "markdown",
      "source": [
        "# 8) Mathematical Functions"
      ],
      "metadata": {
        "id": "Z0TDDC9VbfbX"
      }
    },
    {
      "cell_type": "code",
      "source": [
        "# 8.1 Select the item and per unit price for each item in the items_ordered table. Hint: Divide the price by the quantity."
      ],
      "metadata": {
        "id": "P3YFZyAZbfDV"
      },
      "execution_count": null,
      "outputs": []
    },
    {
      "cell_type": "code",
      "source": [
        "runSelect(\"select item, round((price/quantity),2) unit_price from itemsordered\")"
      ],
      "metadata": {
        "colab": {
          "base_uri": "https://localhost:8080/",
          "height": 1000
        },
        "id": "xbqRfO6EbtSZ",
        "outputId": "f48d73c3-8c50-42dc-9975-eb24965b1188"
      },
      "execution_count": null,
      "outputs": [
        {
          "output_type": "execute_result",
          "data": {
            "text/plain": [
              "<pandas.io.formats.style.Styler at 0x7cd6fcd521d0>"
            ],
            "text/html": [
              "<style type=\"text/css\">\n",
              "</style>\n",
              "<table id=\"T_93879\" class=\"dataframe\">\n",
              "  <thead>\n",
              "    <tr>\n",
              "      <th id=\"T_93879_level0_col0\" class=\"col_heading level0 col0\" >item</th>\n",
              "      <th id=\"T_93879_level0_col1\" class=\"col_heading level0 col1\" >unit_price</th>\n",
              "    </tr>\n",
              "  </thead>\n",
              "  <tbody>\n",
              "    <tr>\n",
              "      <td id=\"T_93879_row0_col0\" class=\"data row0 col0\" >Pogo stick</td>\n",
              "      <td id=\"T_93879_row0_col1\" class=\"data row0 col1\" >28.00</td>\n",
              "    </tr>\n",
              "    <tr>\n",
              "      <td id=\"T_93879_row1_col0\" class=\"data row1 col0\" >Raft</td>\n",
              "      <td id=\"T_93879_row1_col1\" class=\"data row1 col1\" >58.00</td>\n",
              "    </tr>\n",
              "    <tr>\n",
              "      <td id=\"T_93879_row2_col0\" class=\"data row2 col0\" >Skateboard</td>\n",
              "      <td id=\"T_93879_row2_col1\" class=\"data row2 col1\" >33.00</td>\n",
              "    </tr>\n",
              "    <tr>\n",
              "      <td id=\"T_93879_row3_col0\" class=\"data row3 col0\" >Life Vest</td>\n",
              "      <td id=\"T_93879_row3_col1\" class=\"data row3 col1\" >31.25</td>\n",
              "    </tr>\n",
              "    <tr>\n",
              "      <td id=\"T_93879_row4_col0\" class=\"data row4 col0\" >Parachute</td>\n",
              "      <td id=\"T_93879_row4_col1\" class=\"data row4 col1\" >1250.00</td>\n",
              "    </tr>\n",
              "    <tr>\n",
              "      <td id=\"T_93879_row5_col0\" class=\"data row5 col0\" >Umbrella</td>\n",
              "      <td id=\"T_93879_row5_col1\" class=\"data row5 col1\" >4.50</td>\n",
              "    </tr>\n",
              "    <tr>\n",
              "      <td id=\"T_93879_row6_col0\" class=\"data row6 col0\" >Unicycle</td>\n",
              "      <td id=\"T_93879_row6_col1\" class=\"data row6 col1\" >180.79</td>\n",
              "    </tr>\n",
              "    <tr>\n",
              "      <td id=\"T_93879_row7_col0\" class=\"data row7 col0\" >Ski Poles</td>\n",
              "      <td id=\"T_93879_row7_col1\" class=\"data row7 col1\" >12.75</td>\n",
              "    </tr>\n",
              "    <tr>\n",
              "      <td id=\"T_93879_row8_col0\" class=\"data row8 col0\" >Rain Coat</td>\n",
              "      <td id=\"T_93879_row8_col1\" class=\"data row8 col1\" >18.30</td>\n",
              "    </tr>\n",
              "    <tr>\n",
              "      <td id=\"T_93879_row9_col0\" class=\"data row9 col0\" >Snow Shoes</td>\n",
              "      <td id=\"T_93879_row9_col1\" class=\"data row9 col1\" >45.00</td>\n",
              "    </tr>\n",
              "    <tr>\n",
              "      <td id=\"T_93879_row10_col0\" class=\"data row10 col0\" >Tent</td>\n",
              "      <td id=\"T_93879_row10_col1\" class=\"data row10 col1\" >88.00</td>\n",
              "    </tr>\n",
              "    <tr>\n",
              "      <td id=\"T_93879_row11_col0\" class=\"data row11 col0\" >Lantern</td>\n",
              "      <td id=\"T_93879_row11_col1\" class=\"data row11 col1\" >14.50</td>\n",
              "    </tr>\n",
              "    <tr>\n",
              "      <td id=\"T_93879_row12_col0\" class=\"data row12 col0\" >Sleeping Bag</td>\n",
              "      <td id=\"T_93879_row12_col1\" class=\"data row12 col1\" >89.22</td>\n",
              "    </tr>\n",
              "    <tr>\n",
              "      <td id=\"T_93879_row13_col0\" class=\"data row13 col0\" >Umbrella</td>\n",
              "      <td id=\"T_93879_row13_col1\" class=\"data row13 col1\" >6.75</td>\n",
              "    </tr>\n",
              "    <tr>\n",
              "      <td id=\"T_93879_row14_col0\" class=\"data row14 col0\" >Pillow</td>\n",
              "      <td id=\"T_93879_row14_col1\" class=\"data row14 col1\" >8.50</td>\n",
              "    </tr>\n",
              "    <tr>\n",
              "      <td id=\"T_93879_row15_col0\" class=\"data row15 col0\" >Helmet</td>\n",
              "      <td id=\"T_93879_row15_col1\" class=\"data row15 col1\" >22.00</td>\n",
              "    </tr>\n",
              "    <tr>\n",
              "      <td id=\"T_93879_row16_col0\" class=\"data row16 col0\" >Bicycle</td>\n",
              "      <td id=\"T_93879_row16_col1\" class=\"data row16 col1\" >380.50</td>\n",
              "    </tr>\n",
              "    <tr>\n",
              "      <td id=\"T_93879_row17_col0\" class=\"data row17 col0\" >Canoe</td>\n",
              "      <td id=\"T_93879_row17_col1\" class=\"data row17 col1\" >280.00</td>\n",
              "    </tr>\n",
              "    <tr>\n",
              "      <td id=\"T_93879_row18_col0\" class=\"data row18 col0\" >Hoola Hoop</td>\n",
              "      <td id=\"T_93879_row18_col1\" class=\"data row18 col1\" >4.92</td>\n",
              "    </tr>\n",
              "    <tr>\n",
              "      <td id=\"T_93879_row19_col0\" class=\"data row19 col0\" >Flashlight</td>\n",
              "      <td id=\"T_93879_row19_col1\" class=\"data row19 col1\" >7.00</td>\n",
              "    </tr>\n",
              "    <tr>\n",
              "      <td id=\"T_93879_row20_col0\" class=\"data row20 col0\" >Lantern</td>\n",
              "      <td id=\"T_93879_row20_col1\" class=\"data row20 col1\" >16.00</td>\n",
              "    </tr>\n",
              "    <tr>\n",
              "      <td id=\"T_93879_row21_col0\" class=\"data row21 col0\" >Inflatable Mattress</td>\n",
              "      <td id=\"T_93879_row21_col1\" class=\"data row21 col1\" >38.00</td>\n",
              "    </tr>\n",
              "    <tr>\n",
              "      <td id=\"T_93879_row22_col0\" class=\"data row22 col0\" >Tent</td>\n",
              "      <td id=\"T_93879_row22_col1\" class=\"data row22 col1\" >79.99</td>\n",
              "    </tr>\n",
              "    <tr>\n",
              "      <td id=\"T_93879_row23_col0\" class=\"data row23 col0\" >Lawnchair</td>\n",
              "      <td id=\"T_93879_row23_col1\" class=\"data row23 col1\" >8.00</td>\n",
              "    </tr>\n",
              "    <tr>\n",
              "      <td id=\"T_93879_row24_col0\" class=\"data row24 col0\" >Unicycle</td>\n",
              "      <td id=\"T_93879_row24_col1\" class=\"data row24 col1\" >192.50</td>\n",
              "    </tr>\n",
              "    <tr>\n",
              "      <td id=\"T_93879_row25_col0\" class=\"data row25 col0\" >Compass</td>\n",
              "      <td id=\"T_93879_row25_col1\" class=\"data row25 col1\" >8.00</td>\n",
              "    </tr>\n",
              "    <tr>\n",
              "      <td id=\"T_93879_row26_col0\" class=\"data row26 col0\" >Flashlight</td>\n",
              "      <td id=\"T_93879_row26_col1\" class=\"data row26 col1\" >4.50</td>\n",
              "    </tr>\n",
              "    <tr>\n",
              "      <td id=\"T_93879_row27_col0\" class=\"data row27 col0\" >Sleeping Bag</td>\n",
              "      <td id=\"T_93879_row27_col1\" class=\"data row27 col1\" >44.35</td>\n",
              "    </tr>\n",
              "    <tr>\n",
              "      <td id=\"T_93879_row28_col0\" class=\"data row28 col0\" >Pocket Knife</td>\n",
              "      <td id=\"T_93879_row28_col1\" class=\"data row28 col1\" >22.38</td>\n",
              "    </tr>\n",
              "    <tr>\n",
              "      <td id=\"T_93879_row29_col0\" class=\"data row29 col0\" >Canoe paddle</td>\n",
              "      <td id=\"T_93879_row29_col1\" class=\"data row29 col1\" >20.00</td>\n",
              "    </tr>\n",
              "    <tr>\n",
              "      <td id=\"T_93879_row30_col0\" class=\"data row30 col0\" >Ear Muffs</td>\n",
              "      <td id=\"T_93879_row30_col1\" class=\"data row30 col1\" >12.50</td>\n",
              "    </tr>\n",
              "    <tr>\n",
              "      <td id=\"T_93879_row31_col0\" class=\"data row31 col0\" >Shovel</td>\n",
              "      <td id=\"T_93879_row31_col1\" class=\"data row31 col1\" >16.75</td>\n",
              "    </tr>\n",
              "  </tbody>\n",
              "</table>\n"
            ]
          },
          "metadata": {},
          "execution_count": 58
        }
      ]
    },
    {
      "cell_type": "markdown",
      "source": [
        "# 9) Table Joins"
      ],
      "metadata": {
        "id": "Z8oxprKqcNIU"
      }
    },
    {
      "cell_type": "code",
      "source": [
        "# 9.1 Write a query using a join to determine which items were ordered by each of the customers in the customers table. Select the customerid, firstname, lastname, order_date, item, and price for everything each customer purchased in the items_ordered table."
      ],
      "metadata": {
        "id": "4CbZSSq9cUsX"
      },
      "execution_count": null,
      "outputs": []
    },
    {
      "cell_type": "code",
      "source": [
        "runSelect(\"select Cust.customerid, Cust.firstname, Cust.lastname, ord.orderdate, ord.item, ord.price from customers Cust, itemsordered ord where Cust.customerid = ord.customerid\")"
      ],
      "metadata": {
        "colab": {
          "base_uri": "https://localhost:8080/",
          "height": 1000
        },
        "id": "PbgTA9rmcr-q",
        "outputId": "5b9e64cc-70ec-4d47-d36d-868ba1681dad"
      },
      "execution_count": null,
      "outputs": [
        {
          "output_type": "execute_result",
          "data": {
            "text/plain": [
              "<pandas.io.formats.style.Styler at 0x7cd6fcb710f0>"
            ],
            "text/html": [
              "<style type=\"text/css\">\n",
              "</style>\n",
              "<table id=\"T_055fd\" class=\"dataframe\">\n",
              "  <thead>\n",
              "    <tr>\n",
              "      <th id=\"T_055fd_level0_col0\" class=\"col_heading level0 col0\" >customerid</th>\n",
              "      <th id=\"T_055fd_level0_col1\" class=\"col_heading level0 col1\" >firstname</th>\n",
              "      <th id=\"T_055fd_level0_col2\" class=\"col_heading level0 col2\" >lastname</th>\n",
              "      <th id=\"T_055fd_level0_col3\" class=\"col_heading level0 col3\" >orderdate</th>\n",
              "      <th id=\"T_055fd_level0_col4\" class=\"col_heading level0 col4\" >item</th>\n",
              "      <th id=\"T_055fd_level0_col5\" class=\"col_heading level0 col5\" >price</th>\n",
              "    </tr>\n",
              "  </thead>\n",
              "  <tbody>\n",
              "    <tr>\n",
              "      <td id=\"T_055fd_row0_col0\" class=\"data row0 col0\" >10330</td>\n",
              "      <td id=\"T_055fd_row0_col1\" class=\"data row0 col1\" >Shawn</td>\n",
              "      <td id=\"T_055fd_row0_col2\" class=\"data row0 col2\" >Dalton</td>\n",
              "      <td id=\"T_055fd_row0_col3\" class=\"data row0 col3\" >1999-06-30</td>\n",
              "      <td id=\"T_055fd_row0_col4\" class=\"data row0 col4\" >Pogo stick</td>\n",
              "      <td id=\"T_055fd_row0_col5\" class=\"data row0 col5\" >28.00</td>\n",
              "    </tr>\n",
              "    <tr>\n",
              "      <td id=\"T_055fd_row1_col0\" class=\"data row1 col0\" >10101</td>\n",
              "      <td id=\"T_055fd_row1_col1\" class=\"data row1 col1\" >John</td>\n",
              "      <td id=\"T_055fd_row1_col2\" class=\"data row1 col2\" >Gray</td>\n",
              "      <td id=\"T_055fd_row1_col3\" class=\"data row1 col3\" >1999-06-30</td>\n",
              "      <td id=\"T_055fd_row1_col4\" class=\"data row1 col4\" >Raft</td>\n",
              "      <td id=\"T_055fd_row1_col5\" class=\"data row1 col5\" >58.00</td>\n",
              "    </tr>\n",
              "    <tr>\n",
              "      <td id=\"T_055fd_row2_col0\" class=\"data row2 col0\" >10298</td>\n",
              "      <td id=\"T_055fd_row2_col1\" class=\"data row2 col1\" >Leroy</td>\n",
              "      <td id=\"T_055fd_row2_col2\" class=\"data row2 col2\" >Brown</td>\n",
              "      <td id=\"T_055fd_row2_col3\" class=\"data row2 col3\" >1999-07-01</td>\n",
              "      <td id=\"T_055fd_row2_col4\" class=\"data row2 col4\" >Skateboard</td>\n",
              "      <td id=\"T_055fd_row2_col5\" class=\"data row2 col5\" >33.00</td>\n",
              "    </tr>\n",
              "    <tr>\n",
              "      <td id=\"T_055fd_row3_col0\" class=\"data row3 col0\" >10101</td>\n",
              "      <td id=\"T_055fd_row3_col1\" class=\"data row3 col1\" >John</td>\n",
              "      <td id=\"T_055fd_row3_col2\" class=\"data row3 col2\" >Gray</td>\n",
              "      <td id=\"T_055fd_row3_col3\" class=\"data row3 col3\" >1999-07-01</td>\n",
              "      <td id=\"T_055fd_row3_col4\" class=\"data row3 col4\" >Life Vest</td>\n",
              "      <td id=\"T_055fd_row3_col5\" class=\"data row3 col5\" >125.00</td>\n",
              "    </tr>\n",
              "    <tr>\n",
              "      <td id=\"T_055fd_row4_col0\" class=\"data row4 col0\" >10299</td>\n",
              "      <td id=\"T_055fd_row4_col1\" class=\"data row4 col1\" >Elroy</td>\n",
              "      <td id=\"T_055fd_row4_col2\" class=\"data row4 col2\" >Keller</td>\n",
              "      <td id=\"T_055fd_row4_col3\" class=\"data row4 col3\" >1999-07-06</td>\n",
              "      <td id=\"T_055fd_row4_col4\" class=\"data row4 col4\" >Parachute</td>\n",
              "      <td id=\"T_055fd_row4_col5\" class=\"data row4 col5\" >1250.00</td>\n",
              "    </tr>\n",
              "    <tr>\n",
              "      <td id=\"T_055fd_row5_col0\" class=\"data row5 col0\" >10339</td>\n",
              "      <td id=\"T_055fd_row5_col1\" class=\"data row5 col1\" >Anthony</td>\n",
              "      <td id=\"T_055fd_row5_col2\" class=\"data row5 col2\" >Sanchez</td>\n",
              "      <td id=\"T_055fd_row5_col3\" class=\"data row5 col3\" >1999-07-27</td>\n",
              "      <td id=\"T_055fd_row5_col4\" class=\"data row5 col4\" >Umbrella</td>\n",
              "      <td id=\"T_055fd_row5_col5\" class=\"data row5 col5\" >4.50</td>\n",
              "    </tr>\n",
              "    <tr>\n",
              "      <td id=\"T_055fd_row6_col0\" class=\"data row6 col0\" >10449</td>\n",
              "      <td id=\"T_055fd_row6_col1\" class=\"data row6 col1\" >Isabela</td>\n",
              "      <td id=\"T_055fd_row6_col2\" class=\"data row6 col2\" >Moore</td>\n",
              "      <td id=\"T_055fd_row6_col3\" class=\"data row6 col3\" >1999-08-13</td>\n",
              "      <td id=\"T_055fd_row6_col4\" class=\"data row6 col4\" >Unicycle</td>\n",
              "      <td id=\"T_055fd_row6_col5\" class=\"data row6 col5\" >180.79</td>\n",
              "    </tr>\n",
              "    <tr>\n",
              "      <td id=\"T_055fd_row7_col0\" class=\"data row7 col0\" >10439</td>\n",
              "      <td id=\"T_055fd_row7_col1\" class=\"data row7 col1\" >Conrad</td>\n",
              "      <td id=\"T_055fd_row7_col2\" class=\"data row7 col2\" >Giles</td>\n",
              "      <td id=\"T_055fd_row7_col3\" class=\"data row7 col3\" >1999-08-14</td>\n",
              "      <td id=\"T_055fd_row7_col4\" class=\"data row7 col4\" >Ski Poles</td>\n",
              "      <td id=\"T_055fd_row7_col5\" class=\"data row7 col5\" >25.50</td>\n",
              "    </tr>\n",
              "    <tr>\n",
              "      <td id=\"T_055fd_row8_col0\" class=\"data row8 col0\" >10101</td>\n",
              "      <td id=\"T_055fd_row8_col1\" class=\"data row8 col1\" >John</td>\n",
              "      <td id=\"T_055fd_row8_col2\" class=\"data row8 col2\" >Gray</td>\n",
              "      <td id=\"T_055fd_row8_col3\" class=\"data row8 col3\" >1999-08-18</td>\n",
              "      <td id=\"T_055fd_row8_col4\" class=\"data row8 col4\" >Rain Coat</td>\n",
              "      <td id=\"T_055fd_row8_col5\" class=\"data row8 col5\" >18.30</td>\n",
              "    </tr>\n",
              "    <tr>\n",
              "      <td id=\"T_055fd_row9_col0\" class=\"data row9 col0\" >10449</td>\n",
              "      <td id=\"T_055fd_row9_col1\" class=\"data row9 col1\" >Isabela</td>\n",
              "      <td id=\"T_055fd_row9_col2\" class=\"data row9 col2\" >Moore</td>\n",
              "      <td id=\"T_055fd_row9_col3\" class=\"data row9 col3\" >1999-09-01</td>\n",
              "      <td id=\"T_055fd_row9_col4\" class=\"data row9 col4\" >Snow Shoes</td>\n",
              "      <td id=\"T_055fd_row9_col5\" class=\"data row9 col5\" >45.00</td>\n",
              "    </tr>\n",
              "    <tr>\n",
              "      <td id=\"T_055fd_row10_col0\" class=\"data row10 col0\" >10439</td>\n",
              "      <td id=\"T_055fd_row10_col1\" class=\"data row10 col1\" >Conrad</td>\n",
              "      <td id=\"T_055fd_row10_col2\" class=\"data row10 col2\" >Giles</td>\n",
              "      <td id=\"T_055fd_row10_col3\" class=\"data row10 col3\" >1999-09-18</td>\n",
              "      <td id=\"T_055fd_row10_col4\" class=\"data row10 col4\" >Tent</td>\n",
              "      <td id=\"T_055fd_row10_col5\" class=\"data row10 col5\" >88.00</td>\n",
              "    </tr>\n",
              "    <tr>\n",
              "      <td id=\"T_055fd_row11_col0\" class=\"data row11 col0\" >10298</td>\n",
              "      <td id=\"T_055fd_row11_col1\" class=\"data row11 col1\" >Leroy</td>\n",
              "      <td id=\"T_055fd_row11_col2\" class=\"data row11 col2\" >Brown</td>\n",
              "      <td id=\"T_055fd_row11_col3\" class=\"data row11 col3\" >1999-09-19</td>\n",
              "      <td id=\"T_055fd_row11_col4\" class=\"data row11 col4\" >Lantern</td>\n",
              "      <td id=\"T_055fd_row11_col5\" class=\"data row11 col5\" >29.00</td>\n",
              "    </tr>\n",
              "    <tr>\n",
              "      <td id=\"T_055fd_row12_col0\" class=\"data row12 col0\" >10410</td>\n",
              "      <td id=\"T_055fd_row12_col1\" class=\"data row12 col1\" >Mary Ann</td>\n",
              "      <td id=\"T_055fd_row12_col2\" class=\"data row12 col2\" >Howell</td>\n",
              "      <td id=\"T_055fd_row12_col3\" class=\"data row12 col3\" >1999-10-28</td>\n",
              "      <td id=\"T_055fd_row12_col4\" class=\"data row12 col4\" >Sleeping Bag</td>\n",
              "      <td id=\"T_055fd_row12_col5\" class=\"data row12 col5\" >89.22</td>\n",
              "    </tr>\n",
              "    <tr>\n",
              "      <td id=\"T_055fd_row13_col0\" class=\"data row13 col0\" >10438</td>\n",
              "      <td id=\"T_055fd_row13_col1\" class=\"data row13 col1\" >Kevin</td>\n",
              "      <td id=\"T_055fd_row13_col2\" class=\"data row13 col2\" >Smith</td>\n",
              "      <td id=\"T_055fd_row13_col3\" class=\"data row13 col3\" >1999-11-01</td>\n",
              "      <td id=\"T_055fd_row13_col4\" class=\"data row13 col4\" >Umbrella</td>\n",
              "      <td id=\"T_055fd_row13_col5\" class=\"data row13 col5\" >6.75</td>\n",
              "    </tr>\n",
              "    <tr>\n",
              "      <td id=\"T_055fd_row14_col0\" class=\"data row14 col0\" >10438</td>\n",
              "      <td id=\"T_055fd_row14_col1\" class=\"data row14 col1\" >Kevin</td>\n",
              "      <td id=\"T_055fd_row14_col2\" class=\"data row14 col2\" >Smith</td>\n",
              "      <td id=\"T_055fd_row14_col3\" class=\"data row14 col3\" >1999-11-02</td>\n",
              "      <td id=\"T_055fd_row14_col4\" class=\"data row14 col4\" >Pillow</td>\n",
              "      <td id=\"T_055fd_row14_col5\" class=\"data row14 col5\" >8.50</td>\n",
              "    </tr>\n",
              "    <tr>\n",
              "      <td id=\"T_055fd_row15_col0\" class=\"data row15 col0\" >10298</td>\n",
              "      <td id=\"T_055fd_row15_col1\" class=\"data row15 col1\" >Leroy</td>\n",
              "      <td id=\"T_055fd_row15_col2\" class=\"data row15 col2\" >Brown</td>\n",
              "      <td id=\"T_055fd_row15_col3\" class=\"data row15 col3\" >1999-12-01</td>\n",
              "      <td id=\"T_055fd_row15_col4\" class=\"data row15 col4\" >Helmet</td>\n",
              "      <td id=\"T_055fd_row15_col5\" class=\"data row15 col5\" >22.00</td>\n",
              "    </tr>\n",
              "    <tr>\n",
              "      <td id=\"T_055fd_row16_col0\" class=\"data row16 col0\" >10449</td>\n",
              "      <td id=\"T_055fd_row16_col1\" class=\"data row16 col1\" >Isabela</td>\n",
              "      <td id=\"T_055fd_row16_col2\" class=\"data row16 col2\" >Moore</td>\n",
              "      <td id=\"T_055fd_row16_col3\" class=\"data row16 col3\" >1999-12-15</td>\n",
              "      <td id=\"T_055fd_row16_col4\" class=\"data row16 col4\" >Bicycle</td>\n",
              "      <td id=\"T_055fd_row16_col5\" class=\"data row16 col5\" >380.50</td>\n",
              "    </tr>\n",
              "    <tr>\n",
              "      <td id=\"T_055fd_row17_col0\" class=\"data row17 col0\" >10449</td>\n",
              "      <td id=\"T_055fd_row17_col1\" class=\"data row17 col1\" >Isabela</td>\n",
              "      <td id=\"T_055fd_row17_col2\" class=\"data row17 col2\" >Moore</td>\n",
              "      <td id=\"T_055fd_row17_col3\" class=\"data row17 col3\" >1999-12-22</td>\n",
              "      <td id=\"T_055fd_row17_col4\" class=\"data row17 col4\" >Canoe</td>\n",
              "      <td id=\"T_055fd_row17_col5\" class=\"data row17 col5\" >280.00</td>\n",
              "    </tr>\n",
              "    <tr>\n",
              "      <td id=\"T_055fd_row18_col0\" class=\"data row18 col0\" >10101</td>\n",
              "      <td id=\"T_055fd_row18_col1\" class=\"data row18 col1\" >John</td>\n",
              "      <td id=\"T_055fd_row18_col2\" class=\"data row18 col2\" >Gray</td>\n",
              "      <td id=\"T_055fd_row18_col3\" class=\"data row18 col3\" >1999-12-30</td>\n",
              "      <td id=\"T_055fd_row18_col4\" class=\"data row18 col4\" >Hoola Hoop</td>\n",
              "      <td id=\"T_055fd_row18_col5\" class=\"data row18 col5\" >14.75</td>\n",
              "    </tr>\n",
              "    <tr>\n",
              "      <td id=\"T_055fd_row19_col0\" class=\"data row19 col0\" >10330</td>\n",
              "      <td id=\"T_055fd_row19_col1\" class=\"data row19 col1\" >Shawn</td>\n",
              "      <td id=\"T_055fd_row19_col2\" class=\"data row19 col2\" >Dalton</td>\n",
              "      <td id=\"T_055fd_row19_col3\" class=\"data row19 col3\" >2000-01-01</td>\n",
              "      <td id=\"T_055fd_row19_col4\" class=\"data row19 col4\" >Flashlight</td>\n",
              "      <td id=\"T_055fd_row19_col5\" class=\"data row19 col5\" >28.00</td>\n",
              "    </tr>\n",
              "    <tr>\n",
              "      <td id=\"T_055fd_row20_col0\" class=\"data row20 col0\" >10101</td>\n",
              "      <td id=\"T_055fd_row20_col1\" class=\"data row20 col1\" >John</td>\n",
              "      <td id=\"T_055fd_row20_col2\" class=\"data row20 col2\" >Gray</td>\n",
              "      <td id=\"T_055fd_row20_col3\" class=\"data row20 col3\" >2000-01-02</td>\n",
              "      <td id=\"T_055fd_row20_col4\" class=\"data row20 col4\" >Lantern</td>\n",
              "      <td id=\"T_055fd_row20_col5\" class=\"data row20 col5\" >16.00</td>\n",
              "    </tr>\n",
              "    <tr>\n",
              "      <td id=\"T_055fd_row21_col0\" class=\"data row21 col0\" >10299</td>\n",
              "      <td id=\"T_055fd_row21_col1\" class=\"data row21 col1\" >Elroy</td>\n",
              "      <td id=\"T_055fd_row21_col2\" class=\"data row21 col2\" >Keller</td>\n",
              "      <td id=\"T_055fd_row21_col3\" class=\"data row21 col3\" >2000-01-18</td>\n",
              "      <td id=\"T_055fd_row21_col4\" class=\"data row21 col4\" >Inflatable Mattress</td>\n",
              "      <td id=\"T_055fd_row21_col5\" class=\"data row21 col5\" >38.00</td>\n",
              "    </tr>\n",
              "    <tr>\n",
              "      <td id=\"T_055fd_row22_col0\" class=\"data row22 col0\" >10438</td>\n",
              "      <td id=\"T_055fd_row22_col1\" class=\"data row22 col1\" >Kevin</td>\n",
              "      <td id=\"T_055fd_row22_col2\" class=\"data row22 col2\" >Smith</td>\n",
              "      <td id=\"T_055fd_row22_col3\" class=\"data row22 col3\" >2000-01-18</td>\n",
              "      <td id=\"T_055fd_row22_col4\" class=\"data row22 col4\" >Tent</td>\n",
              "      <td id=\"T_055fd_row22_col5\" class=\"data row22 col5\" >79.99</td>\n",
              "    </tr>\n",
              "    <tr>\n",
              "      <td id=\"T_055fd_row23_col0\" class=\"data row23 col0\" >10413</td>\n",
              "      <td id=\"T_055fd_row23_col1\" class=\"data row23 col1\" >Donald</td>\n",
              "      <td id=\"T_055fd_row23_col2\" class=\"data row23 col2\" >Davids</td>\n",
              "      <td id=\"T_055fd_row23_col3\" class=\"data row23 col3\" >2000-01-19</td>\n",
              "      <td id=\"T_055fd_row23_col4\" class=\"data row23 col4\" >Lawnchair</td>\n",
              "      <td id=\"T_055fd_row23_col5\" class=\"data row23 col5\" >32.00</td>\n",
              "    </tr>\n",
              "    <tr>\n",
              "      <td id=\"T_055fd_row24_col0\" class=\"data row24 col0\" >10410</td>\n",
              "      <td id=\"T_055fd_row24_col1\" class=\"data row24 col1\" >Mary Ann</td>\n",
              "      <td id=\"T_055fd_row24_col2\" class=\"data row24 col2\" >Howell</td>\n",
              "      <td id=\"T_055fd_row24_col3\" class=\"data row24 col3\" >2000-01-30</td>\n",
              "      <td id=\"T_055fd_row24_col4\" class=\"data row24 col4\" >Unicycle</td>\n",
              "      <td id=\"T_055fd_row24_col5\" class=\"data row24 col5\" >192.50</td>\n",
              "    </tr>\n",
              "    <tr>\n",
              "      <td id=\"T_055fd_row25_col0\" class=\"data row25 col0\" >10315</td>\n",
              "      <td id=\"T_055fd_row25_col1\" class=\"data row25 col1\" >Lisa</td>\n",
              "      <td id=\"T_055fd_row25_col2\" class=\"data row25 col2\" >Jones</td>\n",
              "      <td id=\"T_055fd_row25_col3\" class=\"data row25 col3\" >2000-02-02</td>\n",
              "      <td id=\"T_055fd_row25_col4\" class=\"data row25 col4\" >Compass</td>\n",
              "      <td id=\"T_055fd_row25_col5\" class=\"data row25 col5\" >8.00</td>\n",
              "    </tr>\n",
              "    <tr>\n",
              "      <td id=\"T_055fd_row26_col0\" class=\"data row26 col0\" >10449</td>\n",
              "      <td id=\"T_055fd_row26_col1\" class=\"data row26 col1\" >Isabela</td>\n",
              "      <td id=\"T_055fd_row26_col2\" class=\"data row26 col2\" >Moore</td>\n",
              "      <td id=\"T_055fd_row26_col3\" class=\"data row26 col3\" >2000-02-29</td>\n",
              "      <td id=\"T_055fd_row26_col4\" class=\"data row26 col4\" >Flashlight</td>\n",
              "      <td id=\"T_055fd_row26_col5\" class=\"data row26 col5\" >4.50</td>\n",
              "    </tr>\n",
              "    <tr>\n",
              "      <td id=\"T_055fd_row27_col0\" class=\"data row27 col0\" >10101</td>\n",
              "      <td id=\"T_055fd_row27_col1\" class=\"data row27 col1\" >John</td>\n",
              "      <td id=\"T_055fd_row27_col2\" class=\"data row27 col2\" >Gray</td>\n",
              "      <td id=\"T_055fd_row27_col3\" class=\"data row27 col3\" >2000-03-08</td>\n",
              "      <td id=\"T_055fd_row27_col4\" class=\"data row27 col4\" >Sleeping Bag</td>\n",
              "      <td id=\"T_055fd_row27_col5\" class=\"data row27 col5\" >88.70</td>\n",
              "    </tr>\n",
              "    <tr>\n",
              "      <td id=\"T_055fd_row28_col0\" class=\"data row28 col0\" >10298</td>\n",
              "      <td id=\"T_055fd_row28_col1\" class=\"data row28 col1\" >Leroy</td>\n",
              "      <td id=\"T_055fd_row28_col2\" class=\"data row28 col2\" >Brown</td>\n",
              "      <td id=\"T_055fd_row28_col3\" class=\"data row28 col3\" >2000-03-18</td>\n",
              "      <td id=\"T_055fd_row28_col4\" class=\"data row28 col4\" >Pocket Knife</td>\n",
              "      <td id=\"T_055fd_row28_col5\" class=\"data row28 col5\" >22.38</td>\n",
              "    </tr>\n",
              "    <tr>\n",
              "      <td id=\"T_055fd_row29_col0\" class=\"data row29 col0\" >10449</td>\n",
              "      <td id=\"T_055fd_row29_col1\" class=\"data row29 col1\" >Isabela</td>\n",
              "      <td id=\"T_055fd_row29_col2\" class=\"data row29 col2\" >Moore</td>\n",
              "      <td id=\"T_055fd_row29_col3\" class=\"data row29 col3\" >2000-03-19</td>\n",
              "      <td id=\"T_055fd_row29_col4\" class=\"data row29 col4\" >Canoe paddle</td>\n",
              "      <td id=\"T_055fd_row29_col5\" class=\"data row29 col5\" >40.00</td>\n",
              "    </tr>\n",
              "    <tr>\n",
              "      <td id=\"T_055fd_row30_col0\" class=\"data row30 col0\" >10298</td>\n",
              "      <td id=\"T_055fd_row30_col1\" class=\"data row30 col1\" >Leroy</td>\n",
              "      <td id=\"T_055fd_row30_col2\" class=\"data row30 col2\" >Brown</td>\n",
              "      <td id=\"T_055fd_row30_col3\" class=\"data row30 col3\" >2000-04-01</td>\n",
              "      <td id=\"T_055fd_row30_col4\" class=\"data row30 col4\" >Ear Muffs</td>\n",
              "      <td id=\"T_055fd_row30_col5\" class=\"data row30 col5\" >12.50</td>\n",
              "    </tr>\n",
              "    <tr>\n",
              "      <td id=\"T_055fd_row31_col0\" class=\"data row31 col0\" >10330</td>\n",
              "      <td id=\"T_055fd_row31_col1\" class=\"data row31 col1\" >Shawn</td>\n",
              "      <td id=\"T_055fd_row31_col2\" class=\"data row31 col2\" >Dalton</td>\n",
              "      <td id=\"T_055fd_row31_col3\" class=\"data row31 col3\" >2000-04-19</td>\n",
              "      <td id=\"T_055fd_row31_col4\" class=\"data row31 col4\" >Shovel</td>\n",
              "      <td id=\"T_055fd_row31_col5\" class=\"data row31 col5\" >16.75</td>\n",
              "    </tr>\n",
              "  </tbody>\n",
              "</table>\n"
            ]
          },
          "metadata": {},
          "execution_count": 60
        }
      ]
    },
    {
      "cell_type": "code",
      "source": [
        "# 9.2 Repeat exercise #1, however display the results sorted by state in descending order."
      ],
      "metadata": {
        "id": "9iNs2OkSfPMM"
      },
      "execution_count": null,
      "outputs": []
    },
    {
      "cell_type": "code",
      "source": [
        "runSelect(\"select Cust.customerid, Cust.firstname, Cust.lastname, ord.orderdate, ord.item, ord.price from customers Cust, itemsordered ord where Cust.customerid = ord.customerid order by state desc \")"
      ],
      "metadata": {
        "colab": {
          "base_uri": "https://localhost:8080/",
          "height": 1000
        },
        "id": "cl39xkrOfKdo",
        "outputId": "ecaec73c-dcd8-47da-e8db-42a3867f6f9e"
      },
      "execution_count": null,
      "outputs": [
        {
          "output_type": "execute_result",
          "data": {
            "text/plain": [
              "<pandas.io.formats.style.Styler at 0x7cd6fcb720e0>"
            ],
            "text/html": [
              "<style type=\"text/css\">\n",
              "</style>\n",
              "<table id=\"T_bbe00\" class=\"dataframe\">\n",
              "  <thead>\n",
              "    <tr>\n",
              "      <th id=\"T_bbe00_level0_col0\" class=\"col_heading level0 col0\" >customerid</th>\n",
              "      <th id=\"T_bbe00_level0_col1\" class=\"col_heading level0 col1\" >firstname</th>\n",
              "      <th id=\"T_bbe00_level0_col2\" class=\"col_heading level0 col2\" >lastname</th>\n",
              "      <th id=\"T_bbe00_level0_col3\" class=\"col_heading level0 col3\" >orderdate</th>\n",
              "      <th id=\"T_bbe00_level0_col4\" class=\"col_heading level0 col4\" >item</th>\n",
              "      <th id=\"T_bbe00_level0_col5\" class=\"col_heading level0 col5\" >price</th>\n",
              "    </tr>\n",
              "  </thead>\n",
              "  <tbody>\n",
              "    <tr>\n",
              "      <td id=\"T_bbe00_row0_col0\" class=\"data row0 col0\" >10315</td>\n",
              "      <td id=\"T_bbe00_row0_col1\" class=\"data row0 col1\" >Lisa</td>\n",
              "      <td id=\"T_bbe00_row0_col2\" class=\"data row0 col2\" >Jones</td>\n",
              "      <td id=\"T_bbe00_row0_col3\" class=\"data row0 col3\" >2000-02-02</td>\n",
              "      <td id=\"T_bbe00_row0_col4\" class=\"data row0 col4\" >Compass</td>\n",
              "      <td id=\"T_bbe00_row0_col5\" class=\"data row0 col5\" >8.00</td>\n",
              "    </tr>\n",
              "    <tr>\n",
              "      <td id=\"T_bbe00_row1_col0\" class=\"data row1 col0\" >10101</td>\n",
              "      <td id=\"T_bbe00_row1_col1\" class=\"data row1 col1\" >John</td>\n",
              "      <td id=\"T_bbe00_row1_col2\" class=\"data row1 col2\" >Gray</td>\n",
              "      <td id=\"T_bbe00_row1_col3\" class=\"data row1 col3\" >1999-06-30</td>\n",
              "      <td id=\"T_bbe00_row1_col4\" class=\"data row1 col4\" >Raft</td>\n",
              "      <td id=\"T_bbe00_row1_col5\" class=\"data row1 col5\" >58.00</td>\n",
              "    </tr>\n",
              "    <tr>\n",
              "      <td id=\"T_bbe00_row2_col0\" class=\"data row2 col0\" >10101</td>\n",
              "      <td id=\"T_bbe00_row2_col1\" class=\"data row2 col1\" >John</td>\n",
              "      <td id=\"T_bbe00_row2_col2\" class=\"data row2 col2\" >Gray</td>\n",
              "      <td id=\"T_bbe00_row2_col3\" class=\"data row2 col3\" >2000-03-08</td>\n",
              "      <td id=\"T_bbe00_row2_col4\" class=\"data row2 col4\" >Sleeping Bag</td>\n",
              "      <td id=\"T_bbe00_row2_col5\" class=\"data row2 col5\" >88.70</td>\n",
              "    </tr>\n",
              "    <tr>\n",
              "      <td id=\"T_bbe00_row3_col0\" class=\"data row3 col0\" >10101</td>\n",
              "      <td id=\"T_bbe00_row3_col1\" class=\"data row3 col1\" >John</td>\n",
              "      <td id=\"T_bbe00_row3_col2\" class=\"data row3 col2\" >Gray</td>\n",
              "      <td id=\"T_bbe00_row3_col3\" class=\"data row3 col3\" >1999-07-01</td>\n",
              "      <td id=\"T_bbe00_row3_col4\" class=\"data row3 col4\" >Life Vest</td>\n",
              "      <td id=\"T_bbe00_row3_col5\" class=\"data row3 col5\" >125.00</td>\n",
              "    </tr>\n",
              "    <tr>\n",
              "      <td id=\"T_bbe00_row4_col0\" class=\"data row4 col0\" >10299</td>\n",
              "      <td id=\"T_bbe00_row4_col1\" class=\"data row4 col1\" >Elroy</td>\n",
              "      <td id=\"T_bbe00_row4_col2\" class=\"data row4 col2\" >Keller</td>\n",
              "      <td id=\"T_bbe00_row4_col3\" class=\"data row4 col3\" >1999-07-06</td>\n",
              "      <td id=\"T_bbe00_row4_col4\" class=\"data row4 col4\" >Parachute</td>\n",
              "      <td id=\"T_bbe00_row4_col5\" class=\"data row4 col5\" >1250.00</td>\n",
              "    </tr>\n",
              "    <tr>\n",
              "      <td id=\"T_bbe00_row5_col0\" class=\"data row5 col0\" >10101</td>\n",
              "      <td id=\"T_bbe00_row5_col1\" class=\"data row5 col1\" >John</td>\n",
              "      <td id=\"T_bbe00_row5_col2\" class=\"data row5 col2\" >Gray</td>\n",
              "      <td id=\"T_bbe00_row5_col3\" class=\"data row5 col3\" >1999-12-30</td>\n",
              "      <td id=\"T_bbe00_row5_col4\" class=\"data row5 col4\" >Hoola Hoop</td>\n",
              "      <td id=\"T_bbe00_row5_col5\" class=\"data row5 col5\" >14.75</td>\n",
              "    </tr>\n",
              "    <tr>\n",
              "      <td id=\"T_bbe00_row6_col0\" class=\"data row6 col0\" >10101</td>\n",
              "      <td id=\"T_bbe00_row6_col1\" class=\"data row6 col1\" >John</td>\n",
              "      <td id=\"T_bbe00_row6_col2\" class=\"data row6 col2\" >Gray</td>\n",
              "      <td id=\"T_bbe00_row6_col3\" class=\"data row6 col3\" >1999-08-18</td>\n",
              "      <td id=\"T_bbe00_row6_col4\" class=\"data row6 col4\" >Rain Coat</td>\n",
              "      <td id=\"T_bbe00_row6_col5\" class=\"data row6 col5\" >18.30</td>\n",
              "    </tr>\n",
              "    <tr>\n",
              "      <td id=\"T_bbe00_row7_col0\" class=\"data row7 col0\" >10101</td>\n",
              "      <td id=\"T_bbe00_row7_col1\" class=\"data row7 col1\" >John</td>\n",
              "      <td id=\"T_bbe00_row7_col2\" class=\"data row7 col2\" >Gray</td>\n",
              "      <td id=\"T_bbe00_row7_col3\" class=\"data row7 col3\" >2000-01-02</td>\n",
              "      <td id=\"T_bbe00_row7_col4\" class=\"data row7 col4\" >Lantern</td>\n",
              "      <td id=\"T_bbe00_row7_col5\" class=\"data row7 col5\" >16.00</td>\n",
              "    </tr>\n",
              "    <tr>\n",
              "      <td id=\"T_bbe00_row8_col0\" class=\"data row8 col0\" >10299</td>\n",
              "      <td id=\"T_bbe00_row8_col1\" class=\"data row8 col1\" >Elroy</td>\n",
              "      <td id=\"T_bbe00_row8_col2\" class=\"data row8 col2\" >Keller</td>\n",
              "      <td id=\"T_bbe00_row8_col3\" class=\"data row8 col3\" >2000-01-18</td>\n",
              "      <td id=\"T_bbe00_row8_col4\" class=\"data row8 col4\" >Inflatable Mattress</td>\n",
              "      <td id=\"T_bbe00_row8_col5\" class=\"data row8 col5\" >38.00</td>\n",
              "    </tr>\n",
              "    <tr>\n",
              "      <td id=\"T_bbe00_row9_col0\" class=\"data row9 col0\" >10410</td>\n",
              "      <td id=\"T_bbe00_row9_col1\" class=\"data row9 col1\" >Mary Ann</td>\n",
              "      <td id=\"T_bbe00_row9_col2\" class=\"data row9 col2\" >Howell</td>\n",
              "      <td id=\"T_bbe00_row9_col3\" class=\"data row9 col3\" >2000-01-30</td>\n",
              "      <td id=\"T_bbe00_row9_col4\" class=\"data row9 col4\" >Unicycle</td>\n",
              "      <td id=\"T_bbe00_row9_col5\" class=\"data row9 col5\" >192.50</td>\n",
              "    </tr>\n",
              "    <tr>\n",
              "      <td id=\"T_bbe00_row10_col0\" class=\"data row10 col0\" >10410</td>\n",
              "      <td id=\"T_bbe00_row10_col1\" class=\"data row10 col1\" >Mary Ann</td>\n",
              "      <td id=\"T_bbe00_row10_col2\" class=\"data row10 col2\" >Howell</td>\n",
              "      <td id=\"T_bbe00_row10_col3\" class=\"data row10 col3\" >1999-10-28</td>\n",
              "      <td id=\"T_bbe00_row10_col4\" class=\"data row10 col4\" >Sleeping Bag</td>\n",
              "      <td id=\"T_bbe00_row10_col5\" class=\"data row10 col5\" >89.22</td>\n",
              "    </tr>\n",
              "    <tr>\n",
              "      <td id=\"T_bbe00_row11_col0\" class=\"data row11 col0\" >10330</td>\n",
              "      <td id=\"T_bbe00_row11_col1\" class=\"data row11 col1\" >Shawn</td>\n",
              "      <td id=\"T_bbe00_row11_col2\" class=\"data row11 col2\" >Dalton</td>\n",
              "      <td id=\"T_bbe00_row11_col3\" class=\"data row11 col3\" >1999-06-30</td>\n",
              "      <td id=\"T_bbe00_row11_col4\" class=\"data row11 col4\" >Pogo stick</td>\n",
              "      <td id=\"T_bbe00_row11_col5\" class=\"data row11 col5\" >28.00</td>\n",
              "    </tr>\n",
              "    <tr>\n",
              "      <td id=\"T_bbe00_row12_col0\" class=\"data row12 col0\" >10330</td>\n",
              "      <td id=\"T_bbe00_row12_col1\" class=\"data row12 col1\" >Shawn</td>\n",
              "      <td id=\"T_bbe00_row12_col2\" class=\"data row12 col2\" >Dalton</td>\n",
              "      <td id=\"T_bbe00_row12_col3\" class=\"data row12 col3\" >2000-01-01</td>\n",
              "      <td id=\"T_bbe00_row12_col4\" class=\"data row12 col4\" >Flashlight</td>\n",
              "      <td id=\"T_bbe00_row12_col5\" class=\"data row12 col5\" >28.00</td>\n",
              "    </tr>\n",
              "    <tr>\n",
              "      <td id=\"T_bbe00_row13_col0\" class=\"data row13 col0\" >10330</td>\n",
              "      <td id=\"T_bbe00_row13_col1\" class=\"data row13 col1\" >Shawn</td>\n",
              "      <td id=\"T_bbe00_row13_col2\" class=\"data row13 col2\" >Dalton</td>\n",
              "      <td id=\"T_bbe00_row13_col3\" class=\"data row13 col3\" >2000-04-19</td>\n",
              "      <td id=\"T_bbe00_row13_col4\" class=\"data row13 col4\" >Shovel</td>\n",
              "      <td id=\"T_bbe00_row13_col5\" class=\"data row13 col5\" >16.75</td>\n",
              "    </tr>\n",
              "    <tr>\n",
              "      <td id=\"T_bbe00_row14_col0\" class=\"data row14 col0\" >10438</td>\n",
              "      <td id=\"T_bbe00_row14_col1\" class=\"data row14 col1\" >Kevin</td>\n",
              "      <td id=\"T_bbe00_row14_col2\" class=\"data row14 col2\" >Smith</td>\n",
              "      <td id=\"T_bbe00_row14_col3\" class=\"data row14 col3\" >1999-11-02</td>\n",
              "      <td id=\"T_bbe00_row14_col4\" class=\"data row14 col4\" >Pillow</td>\n",
              "      <td id=\"T_bbe00_row14_col5\" class=\"data row14 col5\" >8.50</td>\n",
              "    </tr>\n",
              "    <tr>\n",
              "      <td id=\"T_bbe00_row15_col0\" class=\"data row15 col0\" >10439</td>\n",
              "      <td id=\"T_bbe00_row15_col1\" class=\"data row15 col1\" >Conrad</td>\n",
              "      <td id=\"T_bbe00_row15_col2\" class=\"data row15 col2\" >Giles</td>\n",
              "      <td id=\"T_bbe00_row15_col3\" class=\"data row15 col3\" >1999-09-18</td>\n",
              "      <td id=\"T_bbe00_row15_col4\" class=\"data row15 col4\" >Tent</td>\n",
              "      <td id=\"T_bbe00_row15_col5\" class=\"data row15 col5\" >88.00</td>\n",
              "    </tr>\n",
              "    <tr>\n",
              "      <td id=\"T_bbe00_row16_col0\" class=\"data row16 col0\" >10439</td>\n",
              "      <td id=\"T_bbe00_row16_col1\" class=\"data row16 col1\" >Conrad</td>\n",
              "      <td id=\"T_bbe00_row16_col2\" class=\"data row16 col2\" >Giles</td>\n",
              "      <td id=\"T_bbe00_row16_col3\" class=\"data row16 col3\" >1999-08-14</td>\n",
              "      <td id=\"T_bbe00_row16_col4\" class=\"data row16 col4\" >Ski Poles</td>\n",
              "      <td id=\"T_bbe00_row16_col5\" class=\"data row16 col5\" >25.50</td>\n",
              "    </tr>\n",
              "    <tr>\n",
              "      <td id=\"T_bbe00_row17_col0\" class=\"data row17 col0\" >10438</td>\n",
              "      <td id=\"T_bbe00_row17_col1\" class=\"data row17 col1\" >Kevin</td>\n",
              "      <td id=\"T_bbe00_row17_col2\" class=\"data row17 col2\" >Smith</td>\n",
              "      <td id=\"T_bbe00_row17_col3\" class=\"data row17 col3\" >2000-01-18</td>\n",
              "      <td id=\"T_bbe00_row17_col4\" class=\"data row17 col4\" >Tent</td>\n",
              "      <td id=\"T_bbe00_row17_col5\" class=\"data row17 col5\" >79.99</td>\n",
              "    </tr>\n",
              "    <tr>\n",
              "      <td id=\"T_bbe00_row18_col0\" class=\"data row18 col0\" >10438</td>\n",
              "      <td id=\"T_bbe00_row18_col1\" class=\"data row18 col1\" >Kevin</td>\n",
              "      <td id=\"T_bbe00_row18_col2\" class=\"data row18 col2\" >Smith</td>\n",
              "      <td id=\"T_bbe00_row18_col3\" class=\"data row18 col3\" >1999-11-01</td>\n",
              "      <td id=\"T_bbe00_row18_col4\" class=\"data row18 col4\" >Umbrella</td>\n",
              "      <td id=\"T_bbe00_row18_col5\" class=\"data row18 col5\" >6.75</td>\n",
              "    </tr>\n",
              "    <tr>\n",
              "      <td id=\"T_bbe00_row19_col0\" class=\"data row19 col0\" >10298</td>\n",
              "      <td id=\"T_bbe00_row19_col1\" class=\"data row19 col1\" >Leroy</td>\n",
              "      <td id=\"T_bbe00_row19_col2\" class=\"data row19 col2\" >Brown</td>\n",
              "      <td id=\"T_bbe00_row19_col3\" class=\"data row19 col3\" >2000-04-01</td>\n",
              "      <td id=\"T_bbe00_row19_col4\" class=\"data row19 col4\" >Ear Muffs</td>\n",
              "      <td id=\"T_bbe00_row19_col5\" class=\"data row19 col5\" >12.50</td>\n",
              "    </tr>\n",
              "    <tr>\n",
              "      <td id=\"T_bbe00_row20_col0\" class=\"data row20 col0\" >10449</td>\n",
              "      <td id=\"T_bbe00_row20_col1\" class=\"data row20 col1\" >Isabela</td>\n",
              "      <td id=\"T_bbe00_row20_col2\" class=\"data row20 col2\" >Moore</td>\n",
              "      <td id=\"T_bbe00_row20_col3\" class=\"data row20 col3\" >1999-09-01</td>\n",
              "      <td id=\"T_bbe00_row20_col4\" class=\"data row20 col4\" >Snow Shoes</td>\n",
              "      <td id=\"T_bbe00_row20_col5\" class=\"data row20 col5\" >45.00</td>\n",
              "    </tr>\n",
              "    <tr>\n",
              "      <td id=\"T_bbe00_row21_col0\" class=\"data row21 col0\" >10449</td>\n",
              "      <td id=\"T_bbe00_row21_col1\" class=\"data row21 col1\" >Isabela</td>\n",
              "      <td id=\"T_bbe00_row21_col2\" class=\"data row21 col2\" >Moore</td>\n",
              "      <td id=\"T_bbe00_row21_col3\" class=\"data row21 col3\" >2000-03-19</td>\n",
              "      <td id=\"T_bbe00_row21_col4\" class=\"data row21 col4\" >Canoe paddle</td>\n",
              "      <td id=\"T_bbe00_row21_col5\" class=\"data row21 col5\" >40.00</td>\n",
              "    </tr>\n",
              "    <tr>\n",
              "      <td id=\"T_bbe00_row22_col0\" class=\"data row22 col0\" >10298</td>\n",
              "      <td id=\"T_bbe00_row22_col1\" class=\"data row22 col1\" >Leroy</td>\n",
              "      <td id=\"T_bbe00_row22_col2\" class=\"data row22 col2\" >Brown</td>\n",
              "      <td id=\"T_bbe00_row22_col3\" class=\"data row22 col3\" >1999-09-19</td>\n",
              "      <td id=\"T_bbe00_row22_col4\" class=\"data row22 col4\" >Lantern</td>\n",
              "      <td id=\"T_bbe00_row22_col5\" class=\"data row22 col5\" >29.00</td>\n",
              "    </tr>\n",
              "    <tr>\n",
              "      <td id=\"T_bbe00_row23_col0\" class=\"data row23 col0\" >10413</td>\n",
              "      <td id=\"T_bbe00_row23_col1\" class=\"data row23 col1\" >Donald</td>\n",
              "      <td id=\"T_bbe00_row23_col2\" class=\"data row23 col2\" >Davids</td>\n",
              "      <td id=\"T_bbe00_row23_col3\" class=\"data row23 col3\" >2000-01-19</td>\n",
              "      <td id=\"T_bbe00_row23_col4\" class=\"data row23 col4\" >Lawnchair</td>\n",
              "      <td id=\"T_bbe00_row23_col5\" class=\"data row23 col5\" >32.00</td>\n",
              "    </tr>\n",
              "    <tr>\n",
              "      <td id=\"T_bbe00_row24_col0\" class=\"data row24 col0\" >10449</td>\n",
              "      <td id=\"T_bbe00_row24_col1\" class=\"data row24 col1\" >Isabela</td>\n",
              "      <td id=\"T_bbe00_row24_col2\" class=\"data row24 col2\" >Moore</td>\n",
              "      <td id=\"T_bbe00_row24_col3\" class=\"data row24 col3\" >1999-08-13</td>\n",
              "      <td id=\"T_bbe00_row24_col4\" class=\"data row24 col4\" >Unicycle</td>\n",
              "      <td id=\"T_bbe00_row24_col5\" class=\"data row24 col5\" >180.79</td>\n",
              "    </tr>\n",
              "    <tr>\n",
              "      <td id=\"T_bbe00_row25_col0\" class=\"data row25 col0\" >10339</td>\n",
              "      <td id=\"T_bbe00_row25_col1\" class=\"data row25 col1\" >Anthony</td>\n",
              "      <td id=\"T_bbe00_row25_col2\" class=\"data row25 col2\" >Sanchez</td>\n",
              "      <td id=\"T_bbe00_row25_col3\" class=\"data row25 col3\" >1999-07-27</td>\n",
              "      <td id=\"T_bbe00_row25_col4\" class=\"data row25 col4\" >Umbrella</td>\n",
              "      <td id=\"T_bbe00_row25_col5\" class=\"data row25 col5\" >4.50</td>\n",
              "    </tr>\n",
              "    <tr>\n",
              "      <td id=\"T_bbe00_row26_col0\" class=\"data row26 col0\" >10449</td>\n",
              "      <td id=\"T_bbe00_row26_col1\" class=\"data row26 col1\" >Isabela</td>\n",
              "      <td id=\"T_bbe00_row26_col2\" class=\"data row26 col2\" >Moore</td>\n",
              "      <td id=\"T_bbe00_row26_col3\" class=\"data row26 col3\" >2000-02-29</td>\n",
              "      <td id=\"T_bbe00_row26_col4\" class=\"data row26 col4\" >Flashlight</td>\n",
              "      <td id=\"T_bbe00_row26_col5\" class=\"data row26 col5\" >4.50</td>\n",
              "    </tr>\n",
              "    <tr>\n",
              "      <td id=\"T_bbe00_row27_col0\" class=\"data row27 col0\" >10298</td>\n",
              "      <td id=\"T_bbe00_row27_col1\" class=\"data row27 col1\" >Leroy</td>\n",
              "      <td id=\"T_bbe00_row27_col2\" class=\"data row27 col2\" >Brown</td>\n",
              "      <td id=\"T_bbe00_row27_col3\" class=\"data row27 col3\" >1999-07-01</td>\n",
              "      <td id=\"T_bbe00_row27_col4\" class=\"data row27 col4\" >Skateboard</td>\n",
              "      <td id=\"T_bbe00_row27_col5\" class=\"data row27 col5\" >33.00</td>\n",
              "    </tr>\n",
              "    <tr>\n",
              "      <td id=\"T_bbe00_row28_col0\" class=\"data row28 col0\" >10298</td>\n",
              "      <td id=\"T_bbe00_row28_col1\" class=\"data row28 col1\" >Leroy</td>\n",
              "      <td id=\"T_bbe00_row28_col2\" class=\"data row28 col2\" >Brown</td>\n",
              "      <td id=\"T_bbe00_row28_col3\" class=\"data row28 col3\" >1999-12-01</td>\n",
              "      <td id=\"T_bbe00_row28_col4\" class=\"data row28 col4\" >Helmet</td>\n",
              "      <td id=\"T_bbe00_row28_col5\" class=\"data row28 col5\" >22.00</td>\n",
              "    </tr>\n",
              "    <tr>\n",
              "      <td id=\"T_bbe00_row29_col0\" class=\"data row29 col0\" >10449</td>\n",
              "      <td id=\"T_bbe00_row29_col1\" class=\"data row29 col1\" >Isabela</td>\n",
              "      <td id=\"T_bbe00_row29_col2\" class=\"data row29 col2\" >Moore</td>\n",
              "      <td id=\"T_bbe00_row29_col3\" class=\"data row29 col3\" >1999-12-15</td>\n",
              "      <td id=\"T_bbe00_row29_col4\" class=\"data row29 col4\" >Bicycle</td>\n",
              "      <td id=\"T_bbe00_row29_col5\" class=\"data row29 col5\" >380.50</td>\n",
              "    </tr>\n",
              "    <tr>\n",
              "      <td id=\"T_bbe00_row30_col0\" class=\"data row30 col0\" >10449</td>\n",
              "      <td id=\"T_bbe00_row30_col1\" class=\"data row30 col1\" >Isabela</td>\n",
              "      <td id=\"T_bbe00_row30_col2\" class=\"data row30 col2\" >Moore</td>\n",
              "      <td id=\"T_bbe00_row30_col3\" class=\"data row30 col3\" >1999-12-22</td>\n",
              "      <td id=\"T_bbe00_row30_col4\" class=\"data row30 col4\" >Canoe</td>\n",
              "      <td id=\"T_bbe00_row30_col5\" class=\"data row30 col5\" >280.00</td>\n",
              "    </tr>\n",
              "    <tr>\n",
              "      <td id=\"T_bbe00_row31_col0\" class=\"data row31 col0\" >10298</td>\n",
              "      <td id=\"T_bbe00_row31_col1\" class=\"data row31 col1\" >Leroy</td>\n",
              "      <td id=\"T_bbe00_row31_col2\" class=\"data row31 col2\" >Brown</td>\n",
              "      <td id=\"T_bbe00_row31_col3\" class=\"data row31 col3\" >2000-03-18</td>\n",
              "      <td id=\"T_bbe00_row31_col4\" class=\"data row31 col4\" >Pocket Knife</td>\n",
              "      <td id=\"T_bbe00_row31_col5\" class=\"data row31 col5\" >22.38</td>\n",
              "    </tr>\n",
              "  </tbody>\n",
              "</table>\n"
            ]
          },
          "metadata": {},
          "execution_count": 62
        }
      ]
    },
    {
      "cell_type": "markdown",
      "source": [
        "#Chronobooks <br>\n",
        "Two science fiction novels by Prithwis Mukerjee. A dystopian Earth. A technocratic society managed by artificial intelligence. Escape and epiphany on Mars. Can man and machine, carbon and silicon explore and escape into other dimensions of existence? An Indic perspective rooted in Advaita Vedanta and the Divine Feminine.  [More information](http://bit.ly/chronobooks) <br>\n",
        "![alt text](https://github.com/Praxis-QR/RDWH/raw/main/images/CTCYFooter-1.png)"
      ],
      "metadata": {
        "id": "_gNiZpyW3AzJ"
      }
    },
    {
      "cell_type": "code",
      "source": [
        "from datetime import datetime\n",
        "import pytz\n",
        "print('Last tested  ',datetime.now(pytz.timezone('Asia/Kolkata')))"
      ],
      "metadata": {
        "colab": {
          "base_uri": "https://localhost:8080/"
        },
        "id": "wjBXJVhM605H",
        "outputId": "084bfc0b-04dd-482d-d5cd-e5b550f4b89e"
      },
      "execution_count": null,
      "outputs": [
        {
          "output_type": "stream",
          "name": "stdout",
          "text": [
            "Last tested   2024-02-22 15:02:12.325162+05:30\n"
          ]
        }
      ]
    }
  ]
}